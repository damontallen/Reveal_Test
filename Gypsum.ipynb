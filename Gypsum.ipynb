{
 "cells": [
  {
   "cell_type": "markdown",
   "metadata": {
    "slideshow": {
     "slide_type": "slide"
    }
   },
   "source": [
    "# Gypsum"
   ]
  },
  {
   "cell_type": "markdown",
   "metadata": {
    "slideshow": {
     "slide_type": "-"
    }
   },
   "source": [
    "<p><iframe width=\"420\" height=\"315\" src=\"//www.youtube.com/embed/vyV0z8juoJs\" frameborder=\"0\" allowfullscreen></iframe></p>"
   ]
  },
  {
   "cell_type": "markdown",
   "metadata": {
    "slideshow": {
     "slide_type": "slide"
    }
   },
   "source": [
    "## Introduction"
   ]
  },
  {
   "cell_type": "markdown",
   "metadata": {},
   "source": [
    "\n",
    "<audio controls data-autoplay preload>\n",
    " <source src=\"https://github.com/damontallen/Construction-materials/raw/master/Lecture_Audio/Week_10/Gypsum/Gypsum-Introduction.mp3\"\n",
    "         type='audio/mp3'>\n",
    " <p>Your user agent does not support the HTML5 Audio element or the files is missing.</p>\n",
    "</audio>"
   ]
  },
  {
   "cell_type": "markdown",
   "metadata": {},
   "source": [
    "[Gypsum video](https://www.youtube.com/watch?v=3fYlKUUyj4M)\n",
    "\n",
    "<a href = \"https://en.wikipedia.org/wiki/Gypsum\"> <img src=\"https://upload.wikimedia.org/wikipedia/commons/thumb/2/29/Cristales_cueva_de_Naica.JPG/220px-Cristales_cueva_de_Naica.JPG\" alt = \"Gypsum cave crystals image\" Title=\"Gypsum Crystals\"  style=\"max-width:300px; max-height:300px; border:1px solid blue; float:right; margin-left:10px;\"/></a>Just in case the video won't play I'm going to go over a few basics to start with.  Firstly, [gypsum](https://en.wikipedia.org/wiki/Gypsum) is a mineral that is mined in many parts of the world.  In its pure form it is a white substance.  Much like with cements, in order to make gypsum useful it needs to be heated to drive off water contained within the structure.  Once it has been heat treated in a process known as calcining, it becomes a fine powder.  This powder can then have water added to it, and it will cure into a new shape.  This process reforms the crystalline structure that was present in the original mineral.\n",
    "\n",
    "<a href = \"https://en.wikipedia.org/wiki/Plaster\"> <img src=\"https://upload.wikimedia.org/wikipedia/commons/thumb/d/d2/John_Cranch_-_Plasterer_-_Google_Art_Project.jpg/250px-John_Cranch_-_Plasterer_-_Google_Art_Project.jpg\" alt = \"Plaster painting image\" Title=\"Historic Plasterer\"  style=\"max-width:200px; max-height:200px; border:1px solid blue; float:left; margin-right:10px;\"/></a>\n",
    "Relatively pure calcined gypsum is known as plaster of paris.  This comes from where it was mined at the beginning of the 20th century.  Gypsum is often combined with clays, limestone, and iron oxides which affect the initial color.  \n",
    "\n",
    "The use of gypsum to make plaster has been around since Egyptian times, and was used for coating walls.  Gypsum is not an especially hard mineral, so it is not a good substitute for concrete, but is can be worked like concrete creating a smooth finish.  This makes it useful for coating walls, and ceilings, but in order to have adequate working time, much like with concrete, additives need to be used.\n",
    "\n",
    "I'd like to take a moment to point out that [joint compound](https://en.wikipedia.org/wiki/Joint_compound) (made from gypsum dust) or drywall mud is not the same thing as plaster (aka anhydrite or calcined gypsum).  Plaster cures through a chemical process, while joint compound simply drys.  Joint compound is a bit easier to work with, in that it becomes a softer finished product, that is smoothed after it dries with the use of sandpaper.  Plaster must be smoothed when it is applied, do the the fact it is much harder when it has cured.  The differences in the two substances are reflected in the tools used in their applications.  I'll talk more about that later."
   ]
  },
  {
   "cell_type": "markdown",
   "metadata": {
    "slideshow": {
     "slide_type": "slide"
    }
   },
   "source": [
    "## Surface Applications"
   ]
  },
  {
   "cell_type": "markdown",
   "metadata": {},
   "source": [
    "\n",
    "<audio controls data-autoplay preload>\n",
    " <source src=\"https://github.com/damontallen/Construction-materials/raw/master/Lecture_Audio/Week_10/Gypsum/Gypsum-Surface-Applications.mp3\"\n",
    "         type='audio/mp3'>\n",
    " <p>Your user agent does not support the HTML5 Audio element or the files is missing.</p>\n",
    "</audio>"
   ]
  },
  {
   "cell_type": "markdown",
   "metadata": {},
   "source": [
    "<a href = \"https://en.wikipedia.org/wiki/Lath\"> <img src=\"https://upload.wikimedia.org/wikipedia/commons/thumb/6/6c/Lath.jpg/250px-Lath.jpg\" alt = \"Plaster on wooden lath image\" Title=\"Wooden Lath\"  style=\"max-width:300px; max-height:300px; border:1px solid blue; float:right; margin-left:10px;\"/></a>One of the most common ways gypsum is seen in modern construction is in the use of wall boards made from gypsum.  Sheetrock, drywall, and/or plaster board are made from various forms of gypsum.  These all make finishing the surfaces of walls a relatively rapid process.  Interestingly, though versions of these board have been around since the 1893 World's Fair in Chicago, it wasn't popular with contractors until the building boom after WWII.  Until then wall plaster was an extremely labor intensive process that required skilled labor.  A surface of either wood, or metal [lath](https://en.wikipedia.org/wiki/Lath) would be placed over walls, and ceilings, and several layers of plaster would be applied, in order to build up a thick, uniform surface.  The lath serves as a support for the plaster, being both surface, and providing gaps for it to ooze through, and hook behind.  The wall studs at the time were less uniform than today's material, and the plasterer would have to create a smooth surface by eye, and with several layers to reach the desired thickness.  Unlike with modern building techniques the walls were built up to the thickness required to match the window, and door jams.  This is as apposed to windows, and doors being adjusted to match the walls.\n",
    "\n",
    "<a href = \"https://en.wikipedia.org/wiki/Drywall\"> <img src=\"https://upload.wikimedia.org/wikipedia/commons/thumb/3/3e/Drywall.jpg/220px-Drywall.jpg\" alt = \"Taped drywall image\" Title=\"Gypsum Board\"  style=\"max-width:200px; max-height:200px; border:1px solid blue; float:left; margin-right:10px;\"/></a>\n",
    "Once hung, gypsum boards are covered with a relatively uniform layer of either plaster, or joint compound to create a smooth surface.  Textures can be applied in the finish coat of plaster for decorative purposes, but this is currently less fashionable.  \n",
    "\n",
    "Lath is still used in some applications today when the desired surface is sharply curved, or irregular in some other way.  It is still used in exterior applications as well, but this is becoming less common as new products are being developed to take its place.  Because lath is relatively uncommon (though not completely uncommon) I'm going to be focusing on gypsum wall boards."
   ]
  },
  {
   "cell_type": "markdown",
   "metadata": {
    "slideshow": {
     "slide_type": "slide"
    }
   },
   "source": [
    "## Fire Properties"
   ]
  },
  {
   "cell_type": "markdown",
   "metadata": {},
   "source": [
    "\n",
    "<audio controls data-autoplay preload>\n",
    " <source src=\"https://github.com/damontallen/Construction-materials/raw/master/Lecture_Audio/Week_10/Gypsum/Gypsum-Fire-Properties.mp3\"\n",
    "         type='audio/mp3'>\n",
    " <p>Your user agent does not support the HTML5 Audio element or the files is missing.</p>\n",
    "</audio>"
   ]
  },
  {
   "cell_type": "markdown",
   "metadata": {},
   "source": [
    "\n",
    "<a href = \"https://en.wikipedia.org/wiki/Fire\"> <img src=\"https://upload.wikimedia.org/wikipedia/commons/thumb/2/2a/Candle-light-animated.gif/170px-Candle-light-animated.gif\" alt = \"Lit candle gif image\" Title=\"Flame\"  style=\"max-width:300px; max-height:300px; border:1px solid blue; float:right; margin-left:10px;\"/></a>\n",
    "One of the other reasons that gypsum boards are used for walls, and ceilings is that is become relatively easy to create a fire barrier in a building.  To do this you can either use fire rated wall board, or multiple layers of regular gypsum board.  For safety reasons it is important to have fire rated walls in buildings that house more than one family, or business, or commercial buildings that have more than one floor, or are too close to a neighboring building, etc.  Suffice it to say there are regularly reasons to have firewalls.  These need to be made from material that can withstand an open flame, for a given period of time.  That period of time will depend on the purposes of the surrounding spaces.  These walls can be made from concrete, masonry, or gypsum.  Of the three, gypsum is by far the quickest, and cheapest, which is why it is so common. \n",
    "\n",
    "<a href = \"https://en.wikipedia.org/wiki/Structure_fire\"> <img src=\"https://upload.wikimedia.org/wikipedia/commons/thumb/9/95/FirePhotography.jpg/220px-FirePhotography.jpg\" alt = \"Structure fire image\" Title=\"Structure Fire\"  style=\"max-width:200px; max-height:200px; border:1px solid blue; float:left; margin-right:10px;\"/></a>The way gypsum resists fire is that when exposed to fire, gypsum will heat up to a point where the water in the mineral will start to be driven off.  This water will turn to steam at 212&nbsp;$^\\circ$F, and until all the water is driven off, the temperature of the gypsum will not rise above this.  Additionally, when the water is driven off in the surface layer of gypsum, the calcined gypsum will form an insulating layer that protects the inner layers from the heat.  The combination of these two processes work together such that an inch thick of gypsum wall board (properly installed) will burn for an hour before fire will penetrate the wall.  This hopefully gives the occupants of the building enough time to evacuate, and the fire department enough time to extinguish the blaze before it spreads."
   ]
  },
  {
   "cell_type": "markdown",
   "metadata": {
    "slideshow": {
     "slide_type": "slide"
    }
   },
   "source": [
    "## Finish Application"
   ]
  },
  {
   "cell_type": "markdown",
   "metadata": {},
   "source": [
    "\n",
    "<audio controls data-autoplay preload>\n",
    " <source src=\"https://github.com/damontallen/Construction-materials/raw/master/Lecture_Audio/Week_10/Gypsum/Gypsum-Finish-Application.mp3\"\n",
    "         type='audio/mp3'>\n",
    " <p>Your user agent does not support the HTML5 Audio element or the files is missing.</p>\n",
    "</audio>"
   ]
  },
  {
   "cell_type": "markdown",
   "metadata": {},
   "source": [
    "<a href = \"https://en.wikipedia.org/wiki/Plasterwork\"> <img src=\"https://upload.wikimedia.org/wikipedia/commons/thumb/a/af/Plasterer_at_work_on_a_wall_arp.jpg/220px-Plasterer_at_work_on_a_wall_arp.jpg\" alt = \"Plasterer image\" Title=\"Plasterer\"  style=\"max-width:300px; max-height:300px; border:1px solid blue; float:right; margin-left:10px;\"/></a>\n",
    "Depending on the method of plaster application, it will be necessary to apply either two, or three coats to get a finished surface.  The method used will determine some of the names for the various layers.  If a three coat method is used, the first layer is known as the scratch coat, followed by the brown coat, then the finish coat.  If a two layer method is used, then the layers are called base coat, and finish coat.  \n",
    "\n",
    "<a href = \"https://en.wikipedia.org/wiki/Hawk_%28plasterer%27s_tool%29\"> <img src=\"https://upload.wikimedia.org/wikipedia/en/thumb/3/32/Hawk001cropped.jpg/400px-Hawk001cropped.jpg\" alt = \"Hawk image\" Title=\"Hawk or Hod\"  style=\"max-width:200px; max-height:200px; border:1px solid blue; float:left; margin-right:10px;\"/></a>\n",
    "To put on plaster the tools you would use are a hawk, and a trowel.  The hawk is a flat board with a short handle that sticks perpendicularly out of the center of the bottom surface.  The hawk is used to carry plaster to the work area.  A trowel is the tool used to apply, and smooth the plaster.  Other application tools can be used, but the trowel has been the most commonly used.\n",
    "<a href = \"http://peobuilders.co.uk/plastering.html\"> <img src=\"http://peobuilders.co.uk/images/content/poze/plastering/IMG_4072.JPG\" alt = \"Trowel image\" Title=\"Trowel\"  style=\"max-width:200px; max-height:200px; border:1px solid blue; float:right; margin-left:10px;\"/></a>\n",
    "\n",
    "\n",
    "<a href = \"https://en.wikipedia.org/wiki/Putty_knife\"> <img src=\"http://i.imgur.com/xg37uoh.jpg\" alt = \"Knife and pan image\" Title=\"Mud Pan and 6 in Knife\"  style=\"max-width:200px; max-height:200px; border:1px solid blue; float:left; margin-right:10px;\"/></a>\n",
    "If you are using joint compound (also known as mud) then there can either two, or three coats, but they are called the embed coat, and the remaining coats are finish coats.  (Sanding occurs between each coat.)  The tools used to apply joint compound are the trough (or mud pan) and drywall knives for applying it.  The knives come in a variety of widths, from 4\" to 12\", and are used from shortest to longest in the mud application process."
   ]
  },
  {
   "cell_type": "markdown",
   "metadata": {
    "slideshow": {
     "slide_type": "slide"
    }
   },
   "source": [
    "## Ornamental"
   ]
  },
  {
   "cell_type": "markdown",
   "metadata": {},
   "source": [
    "\n",
    "<audio controls data-autoplay preload>\n",
    " <source src=\"https://github.com/damontallen/Construction-materials/raw/master/Lecture_Audio/Week_10/Gypsum/Gypsum-Ornamental.mp3\"\n",
    "         type='audio/mp3'>\n",
    " <p>Your user agent does not support the HTML5 Audio element or the files is missing.</p>\n",
    "</audio>"
   ]
  },
  {
   "cell_type": "markdown",
   "metadata": {},
   "source": [
    "<a href = \"https://en.wikipedia.org/wiki/Drywall\"> <img src=\"https://upload.wikimedia.org/wikipedia/commons/thumb/d/de/Drywall_material_handler.jpg/220px-Drywall_material_handler.jpg\" alt = \"Drywall delivery image\" Title=\"Direct Delivery\"  style=\"max-width:300px; max-height:300px; border:1px solid blue; float:left; margin-right:10px;\"/></a><a href = \"https://en.wikipedia.org/wiki/Oval_Office\"> <img src=\"https://upload.wikimedia.org/wikipedia/commons/thumb/7/75/OvalMedallion.jpg/230px-OvalMedallion.jpg\" alt = \"Plaster medallion in oval office image\" Title=\"Plaster Medallion\"  style=\"max-width:200px; max-height:200px; border:1px solid blue; float:right; margin-left:10px;\"/></a>\n",
    "Gypsum wall boards are fastened up in one of three ways, using nails, using screws, or the less common process of using adhesives.  Depending on the crew's experience, nailing can be slightly faster, though with new screw feeders this may no longer be the case.  Additionally, nailing is limited to fastening to wooden supports, while screws can be used to fasten off to both wood, and metal supports.  This leaves adhesive which can be good for fastening off to everything, including masonry, and concrete.  However, if furring strips are applied to the concrete and/or masonry, or a frame wall is built next to the concrete and/or masonry wall, then screws, or nails can work.  The additional framing costs may very possible be less than the additional labor, and costs of using a separate fastening system in a building where mechanical fasteners are primarily used.  The added benefit of using a secondary wall is that it provides a space where insulation can be installed.\n",
    "<a href = \"https://en.wikipedia.org/wiki/Drywall\"> <img src=\"https://upload.wikimedia.org/wikipedia/commons/thumb/c/c8/Drywall-screws-v1_%281%29.png/220px-Drywall-screws-v1_%281%29.png\" alt = \"Drywall screws image\" Title=\"Drywall Screws\"  style=\"max-width:200px; max-height:200px; border:1px solid blue; float:left; margin-right:10px;\"/></a>\n",
    "\n",
    "There is one situation where adhesive can be preferable, and that is in the application of ornamental elements made from gypsum.  It is best to refer to the manufacturers installation instructions for these decorative elements, but these can be heavy, and may cause mechanical fasteners to work loose over time."
   ]
  },
  {
   "cell_type": "markdown",
   "metadata": {
    "slideshow": {
     "slide_type": "slide"
    }
   },
   "source": [
    "## Wall Boards"
   ]
  },
  {
   "cell_type": "markdown",
   "metadata": {},
   "source": [
    "\n",
    "<audio controls data-autoplay preload>\n",
    " <source src=\"https://github.com/damontallen/Construction-materials/raw/master/Lecture_Audio/Week_10/Gypsum/Gypsum-Wall-Boards.mp3\"\n",
    "         type='audio/mp3'>\n",
    " <p>Your user agent does not support the HTML5 Audio element or the files is missing.</p>\n",
    "</audio>"
   ]
  },
  {
   "cell_type": "markdown",
   "metadata": {},
   "source": [
    "<a href = \"https://www.gypsum.org/technical/using-gypsum-board-for-walls-and-ceilings/using-gypsum-board-for-walls-and-ceilings-section-i/\"> <img src=\"http://www.gypsum.org/Section%201%20Table%20Version_files/image017.gif\" alt = \"Types of board edges image\" Title=\"Board Edges\"  style=\"max-width:300px; max-height:300px; border:1px solid blue; float:right; margin-left:10px;\"/></a>Gypsum wall boards have been using recycled content for some time in the manufacturing process.  How these wall boards are made is, paster is formed between two layers of paper, and then cut to lengths of either 8 ft or 12 ft, after it has cured sufficiently.  The majority of the paper that is used come from recycled paper, and cardboard.  The gypsum itself may come as a byproduct of coal power plant waste. \n",
    "\n",
    "I brought the manufacturing process up now because I wanted to talk a little about the various types of edges that can be formed on these boards.  There is rounded, where the edge of the board forms a quarter of a circle.  Tapered edged looks like a raised panel, in that they start thinner than the main board thickness, then gradually get thicker over a couple of inches, until the full thickness is reached.  When two tapered edged are placed together, they form a shallow valley.  Beveled edges look like a triangular section of the board was removed, making a V shape when two beveled edged are placed next to each other.  A square edge is present on every board at the ends.  However, unlike other edges, square edged boards have their long edges just form right angles (this is typically more difficult to finish).  There are tongue and groove boards that have mating profiles on opposing long edges.  These profiles, unlike with lumber, will generally be a simple V shape either protruding or recessed on the edge.\n",
    "\n",
    "In building interiors, the most common board edge is the tapered edge.  This edge provides a space for joining paper, or mesh tape, to be placed, and then covered, and still be flush with the surface of the body of the board.  This makes finishing of the long edges of the wall boards much simpler, because less work needs to be done to hide the seem.  Unfortunately, if the surface is larger than the wall board then there will be at least one place where there is an end (which is a square edge) meets either another end, or tapered edge.  It is generally preferable for the ends to meet, because it makes the treatment of the joint symmetrical."
   ]
  },
  {
   "cell_type": "markdown",
   "metadata": {
    "slideshow": {
     "slide_type": "slide"
    }
   },
   "source": [
    "## Corner Cases"
   ]
  },
  {
   "cell_type": "markdown",
   "metadata": {},
   "source": [
    "\n",
    "<audio controls data-autoplay preload>\n",
    " <source src=\"https://github.com/damontallen/Construction-materials/raw/master/Lecture_Audio/Week_10/Gypsum/Gypsum-Corner-Cases.mp3\"\n",
    "         type='audio/mp3'>\n",
    " <p>Your user agent does not support the HTML5 Audio element or the files is missing.</p>\n",
    "</audio>"
   ]
  },
  {
   "cell_type": "markdown",
   "metadata": {},
   "source": [
    "Where wall boards meet an outside corner (a corner that protrudes into the surrounding space) they typically need to be reinforced to protect edge.  Depending on whether wall boards are on both sides of the corner, or if the wall board simply ends at the corner, will determine the options that are available.  If two wall boards are meeting then the corner can be unreinforced, but this can generally only be done successfully with plaster, and by a skilled plasterer.  The other options are [corner tape](https://www.google.com/search?q=Corner+tape&client=ubuntu&hs=rNb&channel=fs&source=lnms&tbm=isch&sa=X&ved=0CAkQ_AUoA2oVChMI_OzFv9P_yAIViEYmCh2H6wYs&biw=1472&bih=713), or [cornerbead](https://www.google.com/search?q=corner+bead&client=ubuntu&hs=ROb&channel=fs&source=lnms&tbm=isch&sa=X&ved=0CAgQ_AUoAmoVChMI-LG10NP_yAIVCG4mCh12DgpW&biw=1472&bih=713).  Corner tape is a special reinforced tape that covers the corner, and forms a straight edge.  It is particularly useful when the edge is not close to forming a ninety degree corner.  Cornerbead can come in both metal, and plastic varieties.  Both serve the same purpose, to cover the raw edges of the wall boards, and form a straight edge.  Cornerbeads are stronger than corner tape, and will be less likely to suffer damage from an impact on the corner.\n",
    "\n",
    "If the wall board just ends, then there are a different variety of options.  These include [U bead](https://www.google.com/search?q=U+bead&client=ubuntu&hs=yOb&channel=fs&source=lnms&tbm=isch&sa=X&ved=0CAgQ_AUoAmoVChMIg8S74NP_yAIVQjUmCh0Xugd5&biw=1472&bih=713#channel=fs&tbm=isch&q=drywall+U+bead), [L bead](https://www.google.com/search?q=U+bead&client=ubuntu&hs=yOb&channel=fs&source=lnms&tbm=isch&sa=X&ved=0CAgQ_AUoAmoVChMIg8S74NP_yAIVQjUmCh0Xugd5&biw=1472&bih=713#channel=fs&tbm=isch&q=drywall+L+bead), [LK bead](https://www.google.com/search?q=U+bead&client=ubuntu&hs=yOb&channel=fs&source=lnms&tbm=isch&sa=X&ved=0CAgQ_AUoAmoVChMIg8S74NP_yAIVQjUmCh0Xugd5&biw=1472&bih=713#channel=fs&tbm=isch&q=+LK+bead), and [LC bead](https://www.google.com/search?q=U+bead&client=ubuntu&hs=yOb&channel=fs&source=lnms&tbm=isch&sa=X&ved=0CAgQ_AUoAmoVChMIg8S74NP_yAIVQjUmCh0Xugd5&biw=1472&bih=713#channel=fs&tbm=isch&q=drywall++Lc+bead).  All of these will have some part exposed as a finished surface, or as a surface that needs painting.  Because of the fact that plastic can be left unpainted, it is common for these beads to be formed from plastic.  Their names partially reflect aspects of the bead's appearance.  A U bead, for instance, forms a U shape at the exposed end, while the L bead does not wrap around to the opposite side of the wall board, but rather simply terminates at the end of the wall board, forming something of an L shape."
   ]
  },
  {
   "cell_type": "markdown",
   "metadata": {
    "slideshow": {
     "slide_type": "slide"
    }
   },
   "source": [
    "## Installation"
   ]
  },
  {
   "cell_type": "markdown",
   "metadata": {},
   "source": [
    "\n",
    "<audio controls data-autoplay preload>\n",
    " <source src=\"https://github.com/damontallen/Construction-materials/raw/master/Lecture_Audio/Week_10/Gypsum/Gypsum-Installation.mp3\"\n",
    "         type='audio/mp3'>\n",
    " <p>Your user agent does not support the HTML5 Audio element or the files is missing.</p>\n",
    "</audio>"
   ]
  },
  {
   "cell_type": "markdown",
   "metadata": {},
   "source": [
    "<a href = \"https://www.flickr.com/photos/bekathwia/451610674/\"> <img src=\"https://farm1.staticflickr.com/202/451610674_07d8ef2abc_o.jpg\" alt = \"Cutting drywall image\" Title=\"Cutting Drywall\"  style=\"max-width:200px; max-height:200px; border:1px solid blue; float:right; margin-left:10px;\"/></a>\n",
    "The installation of gypsum wall board requires cutting to fit the installation space.  This is one aspect of the wall boards which can be extremely fast.  With specialized tools, a board can be cut to fit in a mater of a few seconds.  This is accomplished by cutting the paper surface of the board, then bending, and breaking of the gypsum core, and finally cutting the back paper surface.  Cutting the paper surfaces is done by slicing with a razor knife across the surface.  Cutting out for electrical outlets, and openings, interior to the surface of the board, has been done with the use of a drywall saw, but it is increasingly common to use an electric zip saw, once the board is in place.  The benefit of a zip saw is the fact that only the general location of the opening needs to be marked on the board, rather than all the edges.  The zip saw is a rotary tool that will follow the edge of the opening behind the board, allowing for an exact cut being made rather than an approximation with extra space (for a margin for error).\n",
    "\n",
    "Finally, gypsum boards can be made part of a sound proofing system.  This is done with the aid of isolation elements like resilient channels, staggered studs, or double row construction.  The common theme of all of these construction techniques, is to limit the direct pathway for sound to travel from one side of a wall, or ceiling to the other side.  By separating both sides, you are limiting the frequencies that can be transmitted through that system.  The use of insulation to diffract sound, and cause [destructive interference](https://en.wikipedia.org/wiki/Interference_%28wave_propagation%29#Mechanism), is also a useful part of sound deadening."
   ]
  },
  {
   "cell_type": "markdown",
   "metadata": {
    "slideshow": {
     "slide_type": "slide"
    }
   },
   "source": [
    "# References"
   ]
  },
  {
   "cell_type": "markdown",
   "metadata": {},
   "source": [
    "[UF Class website](https://ufl.instructure.com/courses/) \n",
    "\n",
    "[Github.io version of course website](http://damontallen.github.io/Construction-materials/) *(Do not use this link if you are taking this course in Summer A or B.)*\n",
    "\n",
    "\n",
    "[IPython.org](http://ipython.org/) *(IPython is the opensource software used in the development of much of this course.)*\n",
    "\n",
    "[Complete Software List](http://nbviewer.ipython.org/github/damontallen/Construction-materials/blob/master/Resources.ipynb)\n",
    "\n",
    "## Report any problems\n",
    "\n",
    "[Issues](https://github.com/damontallen/Construction-materials/issues) Please report any problems that occurred during the viewing of this or any other lecture.\n",
    "\n",
    "Alternative Reporting - Email <a href=\"mailto:damontallen@gmail.com?Subject=Construction%20Materials%20Lecture%20Problems\" target=\"_top\">damontallen@gmail.com</a>"
   ]
  }
 ],
 "metadata": {
  "celltoolbar": "Slideshow",
  "kernelspec": {
   "display_name": "Python 3",
   "language": "python",
   "name": "python3"
  },
  "language_info": {
   "codemirror_mode": {
    "name": "ipython",
    "version": 3
   },
   "file_extension": ".py",
   "mimetype": "text/x-python",
   "name": "python",
   "nbconvert_exporter": "python",
   "pygments_lexer": "ipython3",
   "version": "3.4.3"
  }
 },
 "nbformat": 4,
 "nbformat_minor": 0
}
