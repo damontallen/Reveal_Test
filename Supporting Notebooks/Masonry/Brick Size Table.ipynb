{
 "cells": [
  {
   "cell_type": "markdown",
   "metadata": {},
   "source": [
    "Brick size [source](http://www.archtoolbox.com/materials-systems/masonry/bricksizes.html)."
   ]
  },
  {
   "cell_type": "code",
   "execution_count": 121,
   "metadata": {
    "collapsed": false
   },
   "outputs": [],
   "source": [
    "import csv\n",
    "from recordclass import recordclass\n",
    "\n",
    "Brick = recordclass(\"Brick\",\"type actual, nominal course\")\n",
    "Dimensions = namedtuple(\"Dimensions\",\"w W h H l L\")\n",
    "\n",
    "def dims(dim_txt):\n",
    "    \"Converts a text string dimension into numbers and returns a named tuple\"\n",
    "    dims = dim_txt.split('x')\n",
    "    if len(dims)!=3:\n",
    "        raise(ValueError(\"'%s' is not a set of dimensions\"%dim_txt))\n",
    "    D = [] # list of values in w, h, and l order\n",
    "    for dim in dims:\n",
    "        dim = dim.strip()\n",
    "        prts = dim.split()\n",
    "        val = 0\n",
    "        latex = \"\"\n",
    "        for x in prts:\n",
    "            if \"/\" in x:\n",
    "                fracs = x.split('/')\n",
    "                latex += r\"\\frac{%s}{%s} \"%(fracs[0],fracs[1])\n",
    "            else:\n",
    "                latex +=\"%s \"%x\n",
    "            val += eval(x)\n",
    "        D.append(val)\n",
    "        D.append(latex.strip()+\"''\")\n",
    "    return Dimensions(*D)\n",
    "\n",
    "def dim_to_txt(dim):\n",
    "    \"Converts a Dimension to a latex string\"\n",
    "    try:\n",
    "        txt = \"$\"\n",
    "        txt += dim.W +r\" \\times \"\n",
    "        txt += dim.H +r\" \\times \"\n",
    "        txt += dim.L + \"$\"\n",
    "    except AttributeError:\n",
    "        txt = dim\n",
    "    return txt\n",
    "\n",
    "def dims_test():\n",
    "    print(dims(bricks[0].actual))\n",
    "    dims(\"Not modular\")\n",
    "# dims_test()\n",
    "\n",
    "def brick_table(filename,caption):\n",
    "    with open(filename, 'r') as csvfile:\n",
    "        spamreader = csv.reader(csvfile, delimiter=',')\n",
    "    #     for row in spamreader:\n",
    "    #         print(', '.join(row))\n",
    "        bricks = [Brick(*brick) for brick in spamreader]\n",
    "\n",
    "    for brick in bricks:\n",
    "        try:\n",
    "            brick.actual = dims(brick.actual)\n",
    "        except AttributeError:\n",
    "            pass\n",
    "        try:\n",
    "            brick.nominal = dims(brick.nominal)\n",
    "        except ValueError:\n",
    "            pass\n",
    "        except AttributeError:\n",
    "            pass\n",
    "        prts = brick.course.replace('\"','').split(\" = \")\n",
    "        brick.course = r\"$%s'' \\approx$ %s\"%(prts[-1].strip(),prts[0].strip())\n",
    "    # bricks\n",
    "    tbl = \"\"\"<table width=\"550\">\n",
    "    <caption>{caption}</caption>\n",
    "    <tr><th>Brick Type</th><th>Specified Dimensions</th><th>Nominal Dimensions</th>\n",
    "    <th>Vertical Coursing</th></tr>\\n\"\"\".format(caption=caption)\n",
    "    row_txt = \"    <tr><td>type</td><td>actual</td>\\n    <td>nominal</td><td>course</td></tr>\\n\"\n",
    "    for brick in bricks:\n",
    "        row = row_txt.replace(\"type\",brick.type)\n",
    "        row = row.replace(\"actual\",dim_to_txt(brick.actual))\n",
    "        row = row.replace(\"nominal\",dim_to_txt(brick.nominal))\n",
    "        row = row.replace(\"course\",brick.course)\n",
    "        tbl+=row\n",
    "    tbl+=\"</table>\"\n",
    "    # print(tbl)\n",
    "    return tbl"
   ]
  },
  {
   "cell_type": "code",
   "execution_count": 124,
   "metadata": {
    "collapsed": false
   },
   "outputs": [
    {
     "name": "stdout",
     "output_type": "stream",
     "text": [
      "<table width=\"550\">\n",
      "    <caption>Brick Sizes for $\\frac{3}{8}''$ Mortor Joint</caption>\n",
      "    <tr><th>Brick Type</th><th>Specified Dimensions</th><th>Nominal Dimensions</th>\n",
      "    <th>Vertical Coursing</th></tr>\n",
      "    <tr><td>Standard</td><td>$3 \\frac{5}{8}'' \\times 2 \\frac{1}{4}'' \\times 8''$</td>\n",
      "    <td>Not modular</td><td>$8'' \\approx$ 3 courses</td></tr>\n",
      "    <tr><td>Modular</td><td>$3 \\frac{5}{8}'' \\times 2 \\frac{1}{4}'' \\times 7 \\frac{5}{8}''$</td>\n",
      "    <td>$4'' \\times 2 \\frac{2}{3}'' \\times 8''$</td><td>$8'' \\approx$ 3 courses</td></tr>\n",
      "    <tr><td>Norman</td><td>$3 \\frac{5}{8}'' \\times 2 \\frac{1}{4}'' \\times 11 \\frac{5}{8}''$</td>\n",
      "    <td>$4'' \\times 2 \\frac{2}{3}'' \\times 12''$</td><td>$8'' \\approx$ 3 courses</td></tr>\n",
      "    <tr><td>Roman</td><td>$3 \\frac{5}{8}'' \\times 1 \\frac{5}{8}'' \\times 11 \\frac{5}{8}''$</td>\n",
      "    <td>$4'' \\times 2'' \\times 12''$</td><td>$2'' \\approx$ 1 course</td></tr>\n",
      "    <tr><td>Jumbo</td><td>$3 \\frac{5}{8}'' \\times 2 \\frac{3}{4}'' \\times 8''$</td>\n",
      "    <td>$4'' \\times 3'' \\times 8''$</td><td>$3'' \\approx$ 1 course</td></tr>\n",
      "    <tr><td>Economy</td><td>$3 \\frac{5}{8}'' \\times 3 \\frac{5}{8}'' \\times 7 \\frac{5}{8}''$</td>\n",
      "    <td>$4'' \\times 4'' \\times 8''$</td><td>$4'' \\approx$ 1 course</td></tr>\n",
      "    <tr><td>Engineer</td><td>$3 \\frac{5}{8}'' \\times 2 \\frac{13}{16}'' \\times 7 \\frac{5}{8}''$</td>\n",
      "    <td>$4'' \\times 3 \\frac{1}{5}'' \\times 8''$</td><td>$16'' \\approx$ 5 courses</td></tr>\n",
      "    <tr><td>King</td><td>$2 \\frac{3}{4}'' \\times 2 \\frac{5}{8}'' \\times 9 \\frac{5}{8}''$</td>\n",
      "    <td>Not modular</td><td>$16'' \\approx$ 5 courses</td></tr>\n",
      "    <tr><td>Queen</td><td>$2 \\frac{3}{4}'' \\times 2 \\frac{3}{4}'' \\times 7 \\frac{5}{8}''$</td>\n",
      "    <td>Not modular</td><td>$16'' \\approx$ 5 courses</td></tr>\n",
      "    <tr><td>Utility</td><td>$3 \\frac{5}{8}'' \\times 3 \\frac{5}{8}'' \\times 11 \\frac{5}{8}''$</td>\n",
      "    <td>$4'' \\times 4'' \\times 12''$</td><td>$4'' \\approx$ 1 course</td></tr>\n",
      "</table>\n"
     ]
    }
   ],
   "source": [
    "a = ['1_2 mortor joints brick_sizes.csv',r\"Brick Sizes for $\\frac{1}{2}''$ Mortor Joint\"]\n",
    "b = ['3_8 mortor joints brick_sizes.csv',r\"Brick Sizes for $\\frac{3}{8}''$ Mortor Joint\"]\n",
    "c = b\n",
    "table = brick_table(c[0],c[1])\n",
    "print(table)"
   ]
  },
  {
   "cell_type": "code",
   "execution_count": 92,
   "metadata": {
    "collapsed": false
   },
   "outputs": [
    {
     "data": {
      "text/html": [
       "<table width=\"550\">\n",
       "        <caption>Brick Sizes for $\\frac{1}{2}''$ Mortor Joint</caption>\n",
       "        <tr><th>Brick Type</th><th>Actual Size</th><th>Nominal Size</th><th>Vertical Course</th></tr>\n",
       "        <tr><td>Standard</td><td>$3 \\frac{1}{2}'' \\times 2 \\frac{1}{4}'' \\times 8''$</td><td>Not modular</td><td>$8'' \\approx$ 3 courses</td></tr>\n",
       "    <tr><td>Modular</td><td>$3 \\frac{1}{2}'' \\times 2 \\frac{1}{4}'' \\times 7 \\frac{1}{2}''$</td><td>$4'' \\times 2 \\frac{2}{3}'' \\times 8''$</td><td>$8'' \\approx$ 3 courses</td></tr>\n",
       "    <tr><td>Norman</td><td>$3 \\frac{1}{2}'' \\times 2 \\frac{1}{4}'' \\times 11 \\frac{1}{2}''$</td><td>$4'' \\times 2 \\frac{2}{3}'' \\times 12''$</td><td>$8'' \\approx$ 3 courses</td></tr>\n",
       "    <tr><td>Roman</td><td>$3 \\frac{1}{2}'' \\times 1 \\frac{1}{2}'' \\times 11 \\frac{1}{2}''$</td><td>$4'' \\times 2'' \\times 12''$</td><td>$2'' \\approx$ 1 course</td></tr>\n",
       "    <tr><td>Jumbo</td><td>$3 \\frac{1}{2}'' \\times 2 \\frac{1}{2}'' \\times 8''$</td><td>$4'' \\times 3'' \\times 8''$</td><td>$3'' \\approx$ 1 course</td></tr>\n",
       "    <tr><td>Economy</td><td>$3 \\frac{1}{2}'' \\times 3 \\frac{1}{2}'' \\times 7 \\frac{1}{2}''$</td><td>$4'' \\times 4'' \\times 8''$</td><td>$4'' \\approx$ 1 course</td></tr>\n",
       "    <tr><td>Engineer</td><td>$3 \\frac{1}{2}'' \\times 2 \\frac{3}{4}'' \\times 7 \\frac{1}{2}''$</td><td>$4'' \\times 3 \\frac{1}{5}'' \\times 8''$</td><td>$16'' \\approx$ 5 courses</td></tr>\n",
       "    <tr><td>King</td><td>$3'' \\times 2 \\frac{3}{4}'' \\times 9 \\frac{3}{4}''$</td><td>Not modular</td><td>$16'' \\approx$ 5 courses</td></tr>\n",
       "    <tr><td>Queen</td><td>$3'' \\times 2 \\frac{3}{4}'' \\times 8''$</td><td>Not modular</td><td>$16'' \\approx$ 5 courses</td></tr>\n",
       "    <tr><td>Utility</td><td>$3 \\frac{1}{2}'' \\times 3 \\frac{1}{2}'' \\times 11 \\frac{1}{2}''$</td><td>$4'' \\times 4'' \\times 12''$</td><td>$4'' \\approx$ 1 course</td></tr>\n",
       "</table>"
      ],
      "text/plain": [
       "<IPython.core.display.HTML object>"
      ]
     },
     "execution_count": 92,
     "metadata": {},
     "output_type": "execute_result"
    }
   ],
   "source": [
    "from IPython.display import HTML\n",
    "HTML(table)"
   ]
  },
  {
   "cell_type": "code",
   "execution_count": null,
   "metadata": {
    "collapsed": true
   },
   "outputs": [],
   "source": []
  },
  {
   "cell_type": "markdown",
   "metadata": {},
   "source": [
    "<table width=\"550\">\n",
    "    <caption>caption</caption>\n",
    "    <tr><th>Brick Type</th><th>Actual Size</th><th>Nominal Size</th><th>Vertical Course</th></tr>\n",
    "    <tr><td>Standard</td><td>$3 \\frac{1}{2}'' \\times 2 \\frac{1}{4}'' \\times 8''$</td><td>Not modular</td><td>8\" $\\approx$ 3 courses</td></tr>\n",
    "    <tr><td>Modular</td><td>$3 \\frac{1}{2}'' \\times 2 \\frac{1}{4}'' \\times 7 \\frac{1}{2}''$</td><td>$4'' \\times 2 \\frac{2}{3}'' \\times 8''$</td><td>8\" $\\approx$ 3 courses</td></tr>\n",
    "    <tr><td>Norman</td><td>$3 \\frac{1}{2}'' \\times 2 \\frac{1}{4}'' \\times 11 \\frac{1}{2}''$</td><td>$4'' \\times 2 \\frac{2}{3}'' \\times 12''$</td><td>8\"  $\\approx$ 3 courses</td></tr>\n",
    "    <tr><td>Roman</td><td>$3 \\frac{1}{2}'' \\times 1 \\frac{1}{2}'' \\times 11 \\frac{1}{2}''$</td><td>$4'' \\times 2'' \\times 12''$</td><td>2\" $\\approx$ 1 course</td></tr>\n",
    "    <tr><td>Jumbo</td><td>$3 \\frac{1}{2}'' \\times 2 \\frac{1}{2}'' \\times 8''$</td><td>$4'' \\times 3'' \\times 8''$</td><td>3\" $\\approx$ 1 course</td></tr>\n",
    "    <tr><td>Economy</td><td>$3 \\frac{1}{2}'' \\times 3 \\frac{1}{2}'' \\times 7 \\frac{1}{2}''$</td><td>$4'' \\times 4'' \\times 8''$</td><td>4\" $\\approx$ 1 course</td></tr>\n",
    "    <tr><td>Engineer</td><td>$3 \\frac{1}{2}'' \\times 2 \\frac{3}{4}'' \\times 7 \\frac{1}{2}''$</td><td>$4'' \\times 3 \\frac{1}{5}'' \\times 8''$</td><td>16\" $\\approx$ 5 courses</td></tr>\n",
    "    <tr><td>King</td><td>$3'' \\times 2 \\frac{3}{4}'' \\times 9 \\frac{3}{4}''$</td><td>Not modular</td><td>16\" $\\approx$ 5 courses</td></tr>\n",
    "    <tr><td>Queen</td><td>$3'' \\times 2 \\frac{3}{4}'' \\times 8''$</td><td>Not modular</td><td>16\" $\\approx$ 5 courses</td></tr>\n",
    "    <tr><td>Utility</td><td>$3 \\frac{1}{2}'' \\times 3 \\frac{1}{2}'' \\times 11 \\frac{1}{2}''$</td><td>$4'' \\times 4'' \\times 12''$</td><td>4\" $\\approx$ 1 course</td></tr>\n",
    "</table>\n"
   ]
  }
 ],
 "metadata": {
  "kernelspec": {
   "display_name": "Python 3",
   "language": "python",
   "name": "python3"
  },
  "language_info": {
   "codemirror_mode": {
    "name": "ipython",
    "version": 3
   },
   "file_extension": ".py",
   "mimetype": "text/x-python",
   "name": "python",
   "nbconvert_exporter": "python",
   "pygments_lexer": "ipython3",
   "version": "3.4.0"
  }
 },
 "nbformat": 4,
 "nbformat_minor": 0
}
