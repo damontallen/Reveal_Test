{
 "cells": [
  {
   "cell_type": "code",
   "execution_count": 13,
   "metadata": {
    "collapsed": true
   },
   "outputs": [],
   "source": [
    "# <caption>Standard Types</caption>\n",
    "# <tr><th>Mortar Type</th><th>28 day Compressive Strength</th><th>Mix Ratio</th><th>Water Retention</th><th>Bond Strength</th></tr>\n",
    "text = \"\"\"<table>\n",
    "<tr><td style=\"text-align: center;\":>M</td><td style=\"text-align: center;\">2,500 psi</td><td style=\"text-align: center;\">1/1/6</td><td style=\"text-align: center;\">Low</td><td style=\"text-align: center;\">High</td></tr>\n",
    "<tr><td style=\"text-align: center;\">S</td><td style=\"text-align: center;\">1,800 psi</td><td style=\"text-align: center;\">3/1/12</td><td style=\"text-align: center;\">Medium</td><td style=\"text-align: center;\">High</td></tr>\n",
    "<tr><td style=\"text-align: center;\">N</td><td style=\"text-align: center;\">750 psi</td><td style=\"text-align: center;\">2/1/9</td><td style=\"text-align: center;\">High</td><td style=\"text-align: center;\">Medium</td></tr>\n",
    "<tr><td style=\"text-align: center;\">O</td><td style=\"text-align: center;\">350 psi</td><td style=\"text-align: center;\">1/2/9</td><td style=\"text-align: center;\">Very High</td><td style=\"text-align: center;\">Low</td></tr>\n",
    "<tr><td style=\"text-align: center;\">K</td><td style=\"text-align: center;\">75 psi</td><td style=\"text-align: center;\">1/3/10</td><td style=\"text-align: center;\">Very High</td><td style=\"text-align: center;\">Very Low</td></tr>\n",
    "</table>\"\"\""
   ]
  },
  {
   "cell_type": "code",
   "execution_count": 19,
   "metadata": {
    "collapsed": false
   },
   "outputs": [],
   "source": [
    "from html.parser import HTMLParser\n",
    "from recordclass import recordclass\n",
    "Mortar_i = recordclass(\"Mortar_i\",\"type strength mix retension bond_str\")\n",
    "mortars = []\n",
    "Data = []\n",
    "class MyHTMLParser(HTMLParser):\n",
    "    def __init__(self):\n",
    "        super().__init__()\n",
    "        self.Data = []\n",
    "    def handle_starttag(self, tag, attrs):\n",
    "        pass\n",
    "        #print(\"Encountered a start tag:\", tag)\n",
    "    def handle_endtag(self, tag):\n",
    "        pass\n",
    "        #print(\"Encountered an end tag :\", tag)\n",
    "    def handle_data(self, data):\n",
    "        #print(\"Encountered some data  :\", data)\n",
    "        if data.strip() != '':\n",
    "            self.Data.append(data)\n",
    "        if len(self.Data)==5:\n",
    "            mortars.append(Mortar_i(*self.Data))\n",
    "            self.Data = []\n",
    "        \n",
    "parser = MyHTMLParser()\n",
    "parser.feed(text)"
   ]
  },
  {
   "cell_type": "code",
   "execution_count": 20,
   "metadata": {
    "collapsed": false
   },
   "outputs": [
    {
     "data": {
      "text/plain": [
       "[Mortar_i(type='M', strength='2,500 psi', mix='1/1/6', retension='Low', bond_str='High'),\n",
       " Mortar_i(type='S', strength='1,800 psi', mix='3/1/12', retension='Medium', bond_str='High'),\n",
       " Mortar_i(type='N', strength='750 psi', mix='2/1/9', retension='High', bond_str='Medium'),\n",
       " Mortar_i(type='O', strength='350 psi', mix='1/2/9', retension='Very High', bond_str='Low'),\n",
       " Mortar_i(type='K', strength='75 psi', mix='1/3/10', retension='Very High', bond_str='Very Low')]"
      ]
     },
     "execution_count": 20,
     "metadata": {},
     "output_type": "execute_result"
    }
   ],
   "source": [
    "mortars"
   ]
  },
  {
   "cell_type": "code",
   "execution_count": 36,
   "metadata": {
    "collapsed": false
   },
   "outputs": [],
   "source": [
    "Mortar = recordclass(\"Mortar_i\",\"type strength mix retension bond_str bond_ext bond_dur leakage\")\n",
    "full_mortars = []\n",
    "for mortar in mortars:\n",
    "    M = mortar._asdict()\n",
    "    if mortar.type == \"M\":\n",
    "        M[\"bond_ext\"] = \"Low\"\n",
    "        M[\"bond_dur\"] = \"Very Low\"\n",
    "        M[\"leakage\"] = \"High\"\n",
    "    elif mortar.type == \"S\":\n",
    "        M[\"bond_ext\"] = \"High\"\n",
    "        M[\"bond_dur\"] = \"Moderate\"\n",
    "        M[\"leakage\"] = \"Moderate\"\n",
    "    elif mortar.type == \"N\":\n",
    "        M[\"bond_ext\"] = \"High\"\n",
    "        M[\"bond_dur\"] = \"High\"\n",
    "        M[\"leakage\"] = \"Low\"\n",
    "    elif mortar.type == \"O\":\n",
    "        M[\"bond_ext\"] = \"Very High\"\n",
    "        M[\"bond_dur\"] = \"Very High\"\n",
    "        M[\"leakage\"] = \"Low\"\n",
    "    elif mortar.type == \"K\":\n",
    "        M[\"bond_ext\"] = \"Very High\"\n",
    "        M[\"bond_dur\"] = \"Very High\"\n",
    "        M[\"leakage\"] = \"Low\"\n",
    "    m = Mortar(**M)\n",
    "#     print(m)\n",
    "    full_mortars.append(m)"
   ]
  },
  {
   "cell_type": "code",
   "execution_count": 42,
   "metadata": {
    "collapsed": false
   },
   "outputs": [
    {
     "name": "stdout",
     "output_type": "stream",
     "text": [
      "<table style=\"width:650px\">\n",
      "<caption>Standard Types</caption>\n",
      "<tr><th>Mortar Type</th><th>28 day Compressive Strength</th>\n",
      "<th>Mix Ratio</th><th>Water Retention</th>\n",
      "<th>Bond Strength</th><th>Extent of Bond</th>\n",
      "<th>Bond Durability</th><th>Permeability in Wall</th></tr>\n",
      "<tr><td>M</td><td>2,500 psi</td><td>1/1/6</td><td>Low</td><td>High</td><td>Low</td><td>Very Low</td><td>High</td></tr>\n",
      "<tr><td>S</td><td>1,800 psi</td><td>3/1/12</td><td>Medium</td><td>High</td><td>High</td><td>Moderate</td><td>Moderate</td></tr>\n",
      "<tr><td>N</td><td>750 psi</td><td>2/1/9</td><td>High</td><td>Medium</td><td>High</td><td>High</td><td>Low</td></tr>\n",
      "<tr><td>O</td><td>350 psi</td><td>1/2/9</td><td>Very High</td><td>Low</td><td>Very High</td><td>Very High</td><td>Low</td></tr>\n",
      "<tr><td>K</td><td>75 psi</td><td>1/3/10</td><td>Very High</td><td>Very Low</td><td>Very High</td><td>Very High</td><td>Low</td></tr>\n",
      "</table>\n"
     ]
    }
   ],
   "source": [
    "text = \"\"\"<table style=\"width:650px\">\n",
    "<caption>Standard Types</caption>\n",
    "<tr><th>Mortar Type</th><th>28 day Compressive Strength</th>\n",
    "<th>Mix Ratio</th><th>Water Retention</th>\n",
    "<th>Bond Strength</th><th>Extent of Bond</th>\n",
    "<th>Bond Durability</th><th>Permeability in Wall</th></tr>\n",
    "\"\"\"\n",
    "line_txt = \"<tr><td>_1</td><td>_2</td><td>_3</td><td>_4</td><td>_5</td><td>_6</td><td>_7</td><td>_8</td></tr>\"\n",
    "num = [\"_1\",\"_2\",\"_3\",\"_4\",\"_5\",\"_6\",\"_7\",\"_8\"]\n",
    "for m in full_mortars:\n",
    "    m_txt = line_txt\n",
    "    for  a,b in zip(num,m._asdict().keys()):\n",
    "        m_txt = m_txt.replace(a,m._asdict()[b])\n",
    "    text+=m_txt+\"\\n\"\n",
    "text+=\"</table>\"\n",
    "print(text)\n",
    "# text."
   ]
  },
  {
   "cell_type": "code",
   "execution_count": 41,
   "metadata": {
    "collapsed": false
   },
   "outputs": [
    {
     "data": {
      "text/html": [
       "<table>\n",
       "<caption>Standard Types</caption>\n",
       "<tr><th rowspan=\"2\">Mortar Type</th><th rowspan=\"2\">28 day Compressive Strength</th>\n",
       "<th rowspan=\"2\">Mix Ratio</th><th rowspan=\"2\">Water Retention</th>\n",
       "<th rowspan=\"2\">Bond Strength</th><th rowspan=\"2\">Extent of Bond</th>\n",
       "<th rowspan=\"2\">Bond Durability</th><th rowspan=\"2\">Permeability in Wall</th></tr>\n",
       "<tr><td>M</td><td>2,500 psi</td><td>1/1/6</td><td>Low</td><td>High</td><td>Low</td><td>Very Low</td><td>High</td></tr>\n",
       "<tr><td>S</td><td>1,800 psi</td><td>3/1/12</td><td>Medium</td><td>High</td><td>High</td><td>Moderate</td><td>Moderate</td></tr>\n",
       "<tr><td>N</td><td>750 psi</td><td>2/1/9</td><td>High</td><td>Medium</td><td>High</td><td>High</td><td>Low</td></tr>\n",
       "<tr><td>O</td><td>350 psi</td><td>1/2/9</td><td>Very High</td><td>Low</td><td>Very High</td><td>Very High</td><td>Low</td></tr>\n",
       "<tr><td>K</td><td>75 psi</td><td>1/3/10</td><td>Very High</td><td>Very Low</td><td>Very High</td><td>Very High</td><td>Low</td></tr>\n",
       "</table>"
      ],
      "text/plain": [
       "<IPython.core.display.HTML object>"
      ]
     },
     "execution_count": 41,
     "metadata": {},
     "output_type": "execute_result"
    }
   ],
   "source": [
    "from IPython.display import HTML\n",
    "HTML(text)"
   ]
  },
  {
   "cell_type": "markdown",
   "metadata": {},
   "source": [
    "<table>\n",
    "<caption>Standard Types</caption>\n",
    "<tr>\n",
    "<th rowspan=\"2\">Mortar Type</th>\n",
    "<th rowspan=\"2\">28 day Compressive Strength</th>\n",
    "<th rowspan=\"2\">Mix Ratio</th>\n",
    "<th rowspan=\"2\">Water Retention</th>\n",
    "<th rowspan=\"2\">Bond Strength</th>\n",
    "<th rowspan=\"2\">Extent of Bond</th>\n",
    "<th rowspan=\"2\">Bond Durability</th>\n",
    "<th rowspan=\"2\">Permeability in Wall</th>\n",
    "</tr>\n",
    "<tr></tr>\n",
    "<tr><td>M</td><td>2,500 psi</td><td>1/1/6</td><td>Low</td><td>High</td><td>Low</td><td>Very Low</td><td>High</td></tr>\n",
    "<tr><td>S</td><td>1,800 psi</td><td>3/1/12</td><td>Medium</td><td>High</td><td>High</td><td>Moderate</td><td>Moderate</td></tr>\n",
    "<tr><td>N</td><td>750 psi</td><td>2/1/9</td><td>High</td><td>Medium</td><td>High</td><td>High</td><td>Low</td></tr>\n",
    "<tr><td>O</td><td>350 psi</td><td>1/2/9</td><td>Very High</td><td>Low</td><td>Very High</td><td>Very High</td><td>Low</td></tr>\n",
    "<tr><td>K</td><td>75 psi</td><td>1/3/10</td><td>Very High</td><td>Very Low</td><td>Very High</td><td>Very High</td><td>Low</td></tr>\n",
    "</table>\n",
    "\n"
   ]
  }
 ],
 "metadata": {
  "kernelspec": {
   "display_name": "Python 3",
   "language": "python",
   "name": "python3"
  },
  "language_info": {
   "codemirror_mode": {
    "name": "ipython",
    "version": 3
   },
   "file_extension": ".py",
   "mimetype": "text/x-python",
   "name": "python",
   "nbconvert_exporter": "python",
   "pygments_lexer": "ipython3",
   "version": "3.4.0"
  }
 },
 "nbformat": 4,
 "nbformat_minor": 0
}
