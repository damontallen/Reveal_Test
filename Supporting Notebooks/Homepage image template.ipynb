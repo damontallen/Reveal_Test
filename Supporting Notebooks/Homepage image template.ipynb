{
 "cells": [
  {
   "cell_type": "code",
   "execution_count": 1,
   "metadata": {
    "collapsed": false
   },
   "outputs": [
    {
     "name": "stdout",
     "output_type": "stream",
     "text": [
      "86.92307692307692\n"
     ]
    }
   ],
   "source": [
    "width = 1130\n",
    "n = 13\n",
    "Slice = width / n\n",
    "print(Slice)"
   ]
  },
  {
   "cell_type": "code",
   "execution_count": 2,
   "metadata": {
    "collapsed": false
   },
   "outputs": [
    {
     "name": "stdout",
     "output_type": "stream",
     "text": [
      "236.9230769230769\n",
      "802\n"
     ]
    }
   ],
   "source": [
    "x0, y0 = 150,460\n",
    "print(Slice+x0)\n",
    "print(y0+342)"
   ]
  },
  {
   "cell_type": "code",
   "execution_count": 4,
   "metadata": {
    "collapsed": false
   },
   "outputs": [
    {
     "name": "stdout",
     "output_type": "stream",
     "text": [
      "<rect\n",
      "       style=\"fill:#222b00;fill-opacity:0.20547946;stroke:#000000;stroke-width:3.5999999;stroke-linejoin:round;stroke-miterlimit:4;stroke-dasharray:none;stroke-opacity:0.88584475\"\n",
      "       id=\"rect3346\"\n",
      "       width=\"87\"\n",
      "       height=\"342\"\n",
      "       x=\"87\"\n",
      "       y=\"0\" />\n",
      "<rect\n",
      "       style=\"fill:#222b00;fill-opacity:0.20547946;stroke:#000000;stroke-width:3.5999999;stroke-linejoin:round;stroke-miterlimit:4;stroke-dasharray:none;stroke-opacity:0.88584475\"\n",
      "       id=\"rect3346\"\n",
      "       width=\"87\"\n",
      "       height=\"342\"\n",
      "       x=\"174\"\n",
      "       y=\"0\" />\n",
      "<rect\n",
      "       style=\"fill:#222b00;fill-opacity:0.20547946;stroke:#000000;stroke-width:3.5999999;stroke-linejoin:round;stroke-miterlimit:4;stroke-dasharray:none;stroke-opacity:0.88584475\"\n",
      "       id=\"rect3346\"\n",
      "       width=\"87\"\n",
      "       height=\"342\"\n",
      "       x=\"261\"\n",
      "       y=\"0\" />\n",
      "<rect\n",
      "       style=\"fill:#222b00;fill-opacity:0.20547946;stroke:#000000;stroke-width:3.5999999;stroke-linejoin:round;stroke-miterlimit:4;stroke-dasharray:none;stroke-opacity:0.88584475\"\n",
      "       id=\"rect3346\"\n",
      "       width=\"87\"\n",
      "       height=\"342\"\n",
      "       x=\"348\"\n",
      "       y=\"0\" />\n",
      "<rect\n",
      "       style=\"fill:#222b00;fill-opacity:0.20547946;stroke:#000000;stroke-width:3.5999999;stroke-linejoin:round;stroke-miterlimit:4;stroke-dasharray:none;stroke-opacity:0.88584475\"\n",
      "       id=\"rect3346\"\n",
      "       width=\"87\"\n",
      "       height=\"342\"\n",
      "       x=\"435\"\n",
      "       y=\"0\" />\n",
      "<rect\n",
      "       style=\"fill:#222b00;fill-opacity:0.20547946;stroke:#000000;stroke-width:3.5999999;stroke-linejoin:round;stroke-miterlimit:4;stroke-dasharray:none;stroke-opacity:0.88584475\"\n",
      "       id=\"rect3346\"\n",
      "       width=\"87\"\n",
      "       height=\"342\"\n",
      "       x=\"522\"\n",
      "       y=\"0\" />\n",
      "<rect\n",
      "       style=\"fill:#222b00;fill-opacity:0.20547946;stroke:#000000;stroke-width:3.5999999;stroke-linejoin:round;stroke-miterlimit:4;stroke-dasharray:none;stroke-opacity:0.88584475\"\n",
      "       id=\"rect3346\"\n",
      "       width=\"87\"\n",
      "       height=\"342\"\n",
      "       x=\"609\"\n",
      "       y=\"0\" />\n",
      "<rect\n",
      "       style=\"fill:#222b00;fill-opacity:0.20547946;stroke:#000000;stroke-width:3.5999999;stroke-linejoin:round;stroke-miterlimit:4;stroke-dasharray:none;stroke-opacity:0.88584475\"\n",
      "       id=\"rect3346\"\n",
      "       width=\"87\"\n",
      "       height=\"342\"\n",
      "       x=\"696\"\n",
      "       y=\"0\" />\n",
      "<rect\n",
      "       style=\"fill:#222b00;fill-opacity:0.20547946;stroke:#000000;stroke-width:3.5999999;stroke-linejoin:round;stroke-miterlimit:4;stroke-dasharray:none;stroke-opacity:0.88584475\"\n",
      "       id=\"rect3346\"\n",
      "       width=\"87\"\n",
      "       height=\"342\"\n",
      "       x=\"783\"\n",
      "       y=\"0\" />\n",
      "<rect\n",
      "       style=\"fill:#222b00;fill-opacity:0.20547946;stroke:#000000;stroke-width:3.5999999;stroke-linejoin:round;stroke-miterlimit:4;stroke-dasharray:none;stroke-opacity:0.88584475\"\n",
      "       id=\"rect3346\"\n",
      "       width=\"87\"\n",
      "       height=\"342\"\n",
      "       x=\"870\"\n",
      "       y=\"0\" />\n",
      "<rect\n",
      "       style=\"fill:#222b00;fill-opacity:0.20547946;stroke:#000000;stroke-width:3.5999999;stroke-linejoin:round;stroke-miterlimit:4;stroke-dasharray:none;stroke-opacity:0.88584475\"\n",
      "       id=\"rect3346\"\n",
      "       width=\"87\"\n",
      "       height=\"342\"\n",
      "       x=\"957\"\n",
      "       y=\"0\" />\n",
      "<rect\n",
      "       style=\"fill:#222b00;fill-opacity:0.20547946;stroke:#000000;stroke-width:3.5999999;stroke-linejoin:round;stroke-miterlimit:4;stroke-dasharray:none;stroke-opacity:0.88584475\"\n",
      "       id=\"rect3346\"\n",
      "       width=\"87\"\n",
      "       height=\"342\"\n",
      "       x=\"1044\"\n",
      "       y=\"0\" />\n"
     ]
    }
   ],
   "source": [
    "txt = \"\"\"<rect\n",
    "       style=\"fill:#222b00;fill-opacity:0.20547946;stroke:#000000;stroke-width:3.5999999;stroke-linejoin:round;stroke-miterlimit:4;stroke-dasharray:none;stroke-opacity:0.88584475\"\n",
    "       id=\"rect3346\"\n",
    "       width=\"87\"\n",
    "       height=\"342\"\n",
    "       x=\"_x\"\n",
    "       y=\"0\" />\"\"\"\n",
    "\n",
    "for i in range(12):\n",
    "    rec = txt.replace(\"_x\",\"{}\".format((i*87)+87))\n",
    "    print(rec)"
   ]
  }
 ],
 "metadata": {
  "kernelspec": {
   "display_name": "Python 3",
   "language": "python",
   "name": "python3"
  },
  "language_info": {
   "codemirror_mode": {
    "name": "ipython",
    "version": 3
   },
   "file_extension": ".py",
   "mimetype": "text/x-python",
   "name": "python",
   "nbconvert_exporter": "python",
   "pygments_lexer": "ipython3",
   "version": "3.4.0"
  }
 },
 "nbformat": 4,
 "nbformat_minor": 0
}
