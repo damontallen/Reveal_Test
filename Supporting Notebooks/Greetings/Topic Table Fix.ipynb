{
 "cells": [
  {
   "cell_type": "code",
   "execution_count": 24,
   "metadata": {
    "collapsed": true
   },
   "outputs": [],
   "source": [
    "text=\"\"\"<table>\n",
    "<tr>\n",
    "    <td >\n",
    "        <ul>\n",
    "            <li>Sustainability <a href=\"http://www.usgbc.org/leed\"><img src=\"http://upload.wikimedia.org/wikipedia/commons/6/6a/LEED_platinum_grey.jpg\" alt=\"LEED icon\" title=\"U.S. Green Building Council\" style=\"max-width:20px; max-height:20px; border:1px solid blue; float:right; margin-left:10px;\"/></a></li>\n",
    "            <li>Steel <a href=\"http://pixabay.com/static/uploads/photo/2014/08/09/11/34/architecture-414035_640.jpg?attachment/\"><img src=\"http://t0.gstatic.com/images?q=tbn:ANd9GcR41eNnvFfIBPY8GB4HLOr3Z59szHTx7hzbmoMwL1y7ZR2zl_HL6g\" alt=\"Steel building image\" title=\"Steel Building\" style=\"max-width:20px; max-height:20px; border:1px solid blue; float:right; margin-left:10px;\"/></a></li>\n",
    "            <li>Aluminum <a href=\"https://en.wikipedia.org/wiki/Aluminium\"><img src=\"https://upload.wikimedia.org/wikipedia/commons/thumb/5/5d/Aluminium-4.jpg/440px-Aluminium-4.jpg\" alt=\"Aluminum chunk section\" title=\"Aluminum\" style=\"max-width:20px; max-height:20px; border:1px solid blue; float:right; margin-left:10px;\"/></a></li>\n",
    "            <li>Wood <a href=\"http://en.wikipedia.org/wiki/User:Vermont.timber/Bent_%28structural%29\"><img src=\"http://upload.wikimedia.org/wikipedia/commons/thumb/5/5d/Stack_of_Timber_Bents.jpg/440px-Stack_of_Timber_Bents.jpg\" alt=\"Wood framing\" title=\"Wood Framing\" style=\"max-width:20px; max-height:20px; border:1px solid blue; float:right; margin-left:10px;\"/></a></li>\n",
    "            <li>Asphalt <a href=\"http://en.wikipedia.org/wiki/Asphalt\"><img src=\"http://upload.wikimedia.org/wikipedia/commons/4/45/Refined_bitumen.JPG\" alt=\"Refined asphalt/bitumen image\" title=\"Fractured Asphalt\" style=\"max-width:20px; max-height:20px; border:1px solid blue; float:right; margin-left:10px;\"/></a></li>\n",
    "            <li>Concrete <a href=\"http://www.pexels.com/photo/building-construction-building-site-constructing-2469/\"><img src=\"https://static.pexels.com/photos/2469/building-construction-building-site-constructing.jpg\" alt=\"Image of concrete chute\" title=\"Concrete Pour\" style=\"max-width:20px; max-height:20px; border:1px solid blue; float:right; margin-left:10px;\"/></a></li>\n",
    "            <li>Masonry <a href=\"http://en.wikipedia.org/wiki/Masonry\"><img src=\"http://upload.wikimedia.org/wikipedia/commons/thumb/8/83/CMUs.jpg/440px-CMUs.jpg\" alt=\"Concrete block wall image\" title=\"Masonry Wall\" style=\"max-width:20px; max-height:20px; border:1px solid blue; float:right; margin-left:10px;\"/></a></li>\n",
    "        </ul>\n",
    "    </td>\n",
    "    <td >\n",
    "        <ul>\n",
    "            <li>Effects of Moisture <a href=\"http://en.wikipedia.org/wiki/Rust\"><img src=\"http://upload.wikimedia.org/wikipedia/commons/thumb/8/80/Rust_wedge.jpg/440px-Rust_wedge.jpg\" alt=\"Rust wedge image\" title=\"Concrete Damage Demonstration\" style=\"max-width:20px; max-height:20px; border:1px solid blue; float:right; margin-left:10px;\"/></a></li>\n",
    "            <li>Solid Flooring <a href=\"http://en.wikipedia.org/wiki/Wood_flooring\"><img src=\"http://upload.wikimedia.org/wikipedia/commons/thumb/1/1d/Custom_Showroom.jpg/440px-Custom_Showroom.jpg\" alt=\"Sample wood flooring image\" title=\"Sample Flooring\" style=\"max-width:20px; max-height:20px; border:1px solid blue; float:right; margin-left:10px;\"/></a></li>\n",
    "            <li>Carpet <a href=\"http://en.wikipedia.org/wiki/Carpet\"><img src=\"http://upload.wikimedia.org/wikipedia/commons/thumb/a/a5/Swatches_of_carpet_1.jpg/440px-Swatches_of_carpet_1.jpg\" alt=\"Carpet sample image\" title=\"Carpet Samples\" style=\"max-width:20px; max-height:20px; border:1px solid blue; float:right; margin-left:10px;\"/></a></li>\n",
    "            <li>Gypsum <a href=\"http://en.wikipedia.org/wiki/Drywall\"><img src=\"http://upload.wikimedia.org/wikipedia/commons/3/3e/Drywall.jpg\" alt=\"Drywall image\" title=\"Gypsum Board\" style=\"max-width:20px; max-height:20px; border:1px solid blue; float:right; margin-left:10px;\"/></a></li>\n",
    "            <li>Protective Coatings (i.e. Paint) <a href=\"https://www.flickr.com/photos/86639298@N02/9073902720\"><img src=\"http://www.google.com/url?sa=i&source=imgres&cd=&ved=0CAkQjBwwAGoVChMIxunb8uaDxgIVClqSCh0PJQCn&url=https%3A%2F%2Ffarm3.staticflickr.com%2F2810%2F9073902720_cc002c58c1_o_d.jpg&ei=5nt3VcbeMoq0yQSPyoC4Cg&psig=AFQjCNE_MUS-arozztg_qPmcuF5uBw3arw&ust=1433980263004017\" alt=\"Sample paint colors\" title=\"Paint Colors\" style=\"max-width:20px; max-height:20px; border:1px solid blue; float:right; margin-left:10px;\"/></a></li>\n",
    "            <li>Glass <a href=\"http://en.wikipedia.org/wiki/Buen_Retiro_Park\"><img src=\"http://upload.wikimedia.org/wikipedia/commons/thumb/c/c6/Palacio_de_Cristal_-_Parque_del_Buen_Retiro.jpg/440px-Palacio_de_Cristal_-_Parque_del_Buen_Retiro.jpg\" alt=\"Glass roof image\" title=\"Crystal Palace\" style=\"max-width:20px; max-height:20px; border:1px solid blue; float:right; margin-left:10px;\"/></a></li>\n",
    "            <li>Plastic <a href=\"http://en.wikipedia.org/wiki/Electrical_conduit\"><img src=\"http://upload.wikimedia.org/wikipedia/commons/thumb/2/23/Plastic_tubing.jpg/440px-Plastic_tubing.jpg\" alt=\"Electrical conduit image\" title=\"Plastic Piping\" style=\"max-width:20px; max-height:20px; border:1px solid blue; float:right; margin-left:10px;\"/></a></li>\n",
    "        </ul>\n",
    "    </td>\n",
    "</tr>\n",
    "</table>\"\"\"\n",
    "lines = text.splitlines()"
   ]
  },
  {
   "cell_type": "code",
   "execution_count": 26,
   "metadata": {
    "collapsed": false
   },
   "outputs": [],
   "source": [
    "import re\n",
    "# from recordclass import record\n",
    "from recordclass import recordclass\n",
    "label = re.compile(\">[^<]+<\")\n",
    "image = re.compile(\"<a.*</a>\")\n",
    "Entry = recordclass(\"Entry\",\"label image\")\n",
    "entries = []\n",
    "for line in lines:\n",
    "    im = image.findall(line)\n",
    "    if len(im)==0:\n",
    "        continue\n",
    "    txt = label.findall(line)[0].strip('<').strip('>')\n",
    "    entries.append(Entry(txt,im[0]))"
   ]
  },
  {
   "cell_type": "code",
   "execution_count": 31,
   "metadata": {
    "collapsed": false
   },
   "outputs": [
    {
     "name": "stdout",
     "output_type": "stream",
     "text": [
      "<a href=\"https://www.flickr.com/photos/86639298@N02/9073902720\"><img src=\"http://www.google.com/url?sa=i&source=imgres&cd=&ved=0CAkQjBwwAGoVChMIxunb8uaDxgIVClqSCh0PJQCn&url=https%3A%2F%2Ffarm3.staticflickr.com%2F2810%2F9073902720_cc002c58c1_o_d.jpg&ei=5nt3VcbeMoq0yQSPyoC4Cg&psig=AFQjCNE_MUS-arozztg_qPmcuF5uBw3arw&ust=1433980263004017\" alt=\"Sample paint colors\" title=\"Paint Colors\" style=\"max-width:20px; max-height:20px; border:1px solid blue; float:right; margin-left:10px;\"/></a>\n"
     ]
    }
   ],
   "source": [
    "print(entries[-3].image)"
   ]
  },
  {
   "cell_type": "code",
   "execution_count": 32,
   "metadata": {
    "collapsed": true
   },
   "outputs": [],
   "source": [
    "entries[-3].image = \"\"\"<a href=\"https://www.flickr.com/photos/dougww/2453670430\"><img src=\"//c2.staticflickr.com/4/3267/2453670430_a453c127af_z.jpg?zz=1\" alt=\"Sample paint colors\" title=\"Paint Colors\" style=\"max-width:20px; max-height:20px; border:1px solid blue; float:right; margin-left:10px;\"/></a>\"\"\""
   ]
  },
  {
   "cell_type": "markdown",
   "metadata": {},
   "source": [
    "<img width=\"640\" height=\"502\" src=\"//c2.staticflickr.com/4/3267/2453670430_a453c127af_z.jpg?zz=1\" class=\"main-photo\" alt=\"Rainbow samples (355) | by Doug Waldron\">\n",
    "\n",
    "<a href=\"https://www.flickr.com/photos/dougww/2453670430\"><img src=\"//c2.staticflickr.com/4/3267/2453670430_a453c127af_z.jpg?zz=1\" alt=\"Sample paint colors\" title=\"Paint Colors\" style=\"max-width:20px; max-height:20px; border:1px solid blue; float:right; margin-left:10px;\"/></a>\n"
   ]
  },
  {
   "cell_type": "code",
   "execution_count": 56,
   "metadata": {
    "collapsed": false
   },
   "outputs": [
    {
     "data": {
      "text/html": [
       "<table border=\"0\">\n",
       "  <col width=\"190\">\n",
       "  <col width=\"50\">\n",
       "  <col width=\"10\">\n",
       "  <col width=\"190\">\n",
       "  <col width=\"50\">\n",
       "<tr style=\"border:0\"><td style=\"border:0\"><ul><li>Sustainability </li></ul></td><td style=\"border:0\"><a href=\"http://www.usgbc.org/leed\"><img src=\"http://upload.wikimedia.org/wikipedia/commons/6/6a/LEED_platinum_grey.jpg\" alt=\"LEED icon\" title=\"U.S. Green Building Council\" style=\"max-width:20px; max-height:20px; border:1px solid blue; float:left; \"/></a></td>\n",
       "<td style=\"border:0\"></td>\n",
       "<td style=\"border:0\"><ul><li>Steel </li></ul></td><td style=\"border:0\"><a href=\"http://pixabay.com/static/uploads/photo/2014/08/09/11/34/architecture-414035_640.jpg?attachment/\"><img src=\"http://t0.gstatic.com/images?q=tbn:ANd9GcR41eNnvFfIBPY8GB4HLOr3Z59szHTx7hzbmoMwL1y7ZR2zl_HL6g\" alt=\"Steel building image\" title=\"Steel Building\" style=\"max-width:20px; max-height:20px; border:1px solid blue; float:left; \"/></a></td>\n",
       "</tr>\n",
       "<tr style=\"border:0\"><td style=\"border:0\"><ul><li>Aluminum </li></ul></td><td style=\"border:0\"><a href=\"https://en.wikipedia.org/wiki/Aluminium\"><img src=\"https://upload.wikimedia.org/wikipedia/commons/thumb/5/5d/Aluminium-4.jpg/440px-Aluminium-4.jpg\" alt=\"Aluminum chunk section\" title=\"Aluminum\" style=\"max-width:20px; max-height:20px; border:1px solid blue; float:left; \"/></a></td>\n",
       "<td style=\"border:0\"></td>\n",
       "<td style=\"border:0\"><ul><li>Wood </li></ul></td><td style=\"border:0\"><a href=\"http://en.wikipedia.org/wiki/User:Vermont.timber/Bent_%28structural%29\"><img src=\"http://upload.wikimedia.org/wikipedia/commons/thumb/5/5d/Stack_of_Timber_Bents.jpg/440px-Stack_of_Timber_Bents.jpg\" alt=\"Wood framing\" title=\"Wood Framing\" style=\"max-width:20px; max-height:20px; border:1px solid blue; float:left; \"/></a></td>\n",
       "</tr>\n",
       "<tr style=\"border:0\"><td style=\"border:0\"><ul><li>Asphalt </li></ul></td><td style=\"border:0\"><a href=\"http://en.wikipedia.org/wiki/Asphalt\"><img src=\"http://upload.wikimedia.org/wikipedia/commons/4/45/Refined_bitumen.JPG\" alt=\"Refined asphalt/bitumen image\" title=\"Fractured Asphalt\" style=\"max-width:20px; max-height:20px; border:1px solid blue; float:left; \"/></a></td>\n",
       "<td style=\"border:0\"></td>\n",
       "<td style=\"border:0\"><ul><li>Concrete </li></ul></td><td style=\"border:0\"><a href=\"http://www.pexels.com/photo/building-construction-building-site-constructing-2469/\"><img src=\"https://static.pexels.com/photos/2469/building-construction-building-site-constructing.jpg\" alt=\"Image of concrete chute\" title=\"Concrete Pour\" style=\"max-width:20px; max-height:20px; border:1px solid blue; float:left; \"/></a></td>\n",
       "</tr>\n",
       "<tr style=\"border:0\"><td style=\"border:0\"><ul><li>Masonry </li></ul></td><td style=\"border:0\"><a href=\"http://en.wikipedia.org/wiki/Masonry\"><img src=\"http://upload.wikimedia.org/wikipedia/commons/thumb/8/83/CMUs.jpg/440px-CMUs.jpg\" alt=\"Concrete block wall image\" title=\"Masonry Wall\" style=\"max-width:20px; max-height:20px; border:1px solid blue; float:left; \"/></a></td>\n",
       "<td style=\"border:0\"></td>\n",
       "<td style=\"border:0\"><ul><li>Effects of Moisture </li></ul></td><td style=\"border:0\"><a href=\"http://en.wikipedia.org/wiki/Rust\"><img src=\"http://upload.wikimedia.org/wikipedia/commons/thumb/8/80/Rust_wedge.jpg/440px-Rust_wedge.jpg\" alt=\"Rust wedge image\" title=\"Concrete Damage Demonstration\" style=\"max-width:20px; max-height:20px; border:1px solid blue; float:left; \"/></a></td>\n",
       "</tr>\n",
       "<tr style=\"border:0\"><td style=\"border:0\"><ul><li>Solid Flooring </li></ul></td><td style=\"border:0\"><a href=\"http://en.wikipedia.org/wiki/Wood_flooring\"><img src=\"http://upload.wikimedia.org/wikipedia/commons/thumb/1/1d/Custom_Showroom.jpg/440px-Custom_Showroom.jpg\" alt=\"Sample wood flooring image\" title=\"Sample Flooring\" style=\"max-width:20px; max-height:20px; border:1px solid blue; float:left; \"/></a></td>\n",
       "<td style=\"border:0\"></td>\n",
       "<td style=\"border:0\"><ul><li>Carpet </li></ul></td><td style=\"border:0\"><a href=\"http://en.wikipedia.org/wiki/Carpet\"><img src=\"http://upload.wikimedia.org/wikipedia/commons/thumb/a/a5/Swatches_of_carpet_1.jpg/440px-Swatches_of_carpet_1.jpg\" alt=\"Carpet sample image\" title=\"Carpet Samples\" style=\"max-width:20px; max-height:20px; border:1px solid blue; float:left; \"/></a></td>\n",
       "</tr>\n",
       "<tr style=\"border:0\"><td style=\"border:0\"><ul><li>Gypsum </li></ul></td><td style=\"border:0\"><a href=\"http://en.wikipedia.org/wiki/Drywall\"><img src=\"http://upload.wikimedia.org/wikipedia/commons/3/3e/Drywall.jpg\" alt=\"Drywall image\" title=\"Gypsum Board\" style=\"max-width:20px; max-height:20px; border:1px solid blue; float:left; \"/></a></td>\n",
       "<td style=\"border:0\"></td>\n",
       "<td style=\"border:0\"><ul><li>Protective Coatings (i.e. Paint) </li></ul></td><td style=\"border:0\"><a href=\"https://www.flickr.com/photos/dougww/2453670430\"><img src=\"//c2.staticflickr.com/4/3267/2453670430_a453c127af_z.jpg?zz=1\" alt=\"Sample paint colors\" title=\"Paint Colors\" style=\"max-width:20px; max-height:20px; border:1px solid blue; float:left; \"/></a></td>\n",
       "</tr>\n",
       "<tr style=\"border:0\"><td style=\"border:0\"><ul><li>Glass </li></ul></td><td style=\"border:0\"><a href=\"http://en.wikipedia.org/wiki/Buen_Retiro_Park\"><img src=\"http://upload.wikimedia.org/wikipedia/commons/thumb/c/c6/Palacio_de_Cristal_-_Parque_del_Buen_Retiro.jpg/440px-Palacio_de_Cristal_-_Parque_del_Buen_Retiro.jpg\" alt=\"Glass roof image\" title=\"Crystal Palace\" style=\"max-width:20px; max-height:20px; border:1px solid blue; float:left; \"/></a></td>\n",
       "<td style=\"border:0\"></td>\n",
       "<td style=\"border:0\"><ul><li>Plastic </li></ul></td><td style=\"border:0\"><a href=\"http://en.wikipedia.org/wiki/Electrical_conduit\"><img src=\"http://upload.wikimedia.org/wikipedia/commons/thumb/2/23/Plastic_tubing.jpg/440px-Plastic_tubing.jpg\" alt=\"Electrical conduit image\" title=\"Plastic Piping\" style=\"max-width:20px; max-height:20px; border:1px solid blue; float:left; \"/></a></td>\n",
       "</tr>\n",
       "</table>"
      ],
      "text/plain": [
       "<IPython.core.display.HTML object>"
      ]
     },
     "execution_count": 56,
     "metadata": {},
     "output_type": "execute_result"
    }
   ],
   "source": [
    "import numpy as np\n",
    "from IPython.display import HTML\n",
    "table = \"\"\"<table border=\"0\">\n",
    "  <col width=\"190\">\n",
    "  <col width=\"50\">\n",
    "  <col width=\"10\">\n",
    "  <col width=\"190\">\n",
    "  <col width=\"50\">\"\"\"\n",
    "table_row = \"<tr><td>Lab_1</td><td>Img_1</td><td></td><td>Lab_2</td><td>Img_2</td></tr>\"\n",
    "rows = int(np.ceil(len(entries)/2))\n",
    "for row in range(rows):\n",
    "    try:\n",
    "        Row = entries[row*2:row*2+2]\n",
    "#         print(\"no error\")\n",
    "    except IndexError:\n",
    "        Row = entries[row*2]\n",
    "    table +='\\n<tr style=\"border:0\">'\n",
    "    for index, entry in enumerate(Row):\n",
    "#         print(entry.label)\n",
    "#         img = entry.image.replace()\n",
    "        txt = '<td style=\"border:0\"><ul><li>{Lab}</li></ul></td><td style=\"border:0\">{Img}</td>\\n'.format(Lab=entry.label,Img=entry.image)\n",
    "        table += txt\n",
    "        if index==0:\n",
    "            table +='<td style=\"border:0\"></td>\\n'\n",
    "    table +=\"</tr>\"\n",
    "table += \"\\n</table>\"\n",
    "table = table.replace(\"float:right; margin-left:10px;\",\"float:left; \")\n",
    "HTML(table)"
   ]
  },
  {
   "cell_type": "code",
   "execution_count": 57,
   "metadata": {
    "collapsed": false
   },
   "outputs": [
    {
     "name": "stdout",
     "output_type": "stream",
     "text": [
      "<table border=\"0\">\n",
      "  <col width=\"190\">\n",
      "  <col width=\"50\">\n",
      "  <col width=\"10\">\n",
      "  <col width=\"190\">\n",
      "  <col width=\"50\">\n",
      "<tr style=\"border:0\"><td style=\"border:0\"><ul><li>Sustainability </li></ul></td><td style=\"border:0\"><a href=\"http://www.usgbc.org/leed\"><img src=\"http://upload.wikimedia.org/wikipedia/commons/6/6a/LEED_platinum_grey.jpg\" alt=\"LEED icon\" title=\"U.S. Green Building Council\" style=\"max-width:20px; max-height:20px; border:1px solid blue; float:left; \"/></a></td>\n",
      "<td style=\"border:0\"></td>\n",
      "<td style=\"border:0\"><ul><li>Steel </li></ul></td><td style=\"border:0\"><a href=\"http://pixabay.com/static/uploads/photo/2014/08/09/11/34/architecture-414035_640.jpg?attachment/\"><img src=\"http://t0.gstatic.com/images?q=tbn:ANd9GcR41eNnvFfIBPY8GB4HLOr3Z59szHTx7hzbmoMwL1y7ZR2zl_HL6g\" alt=\"Steel building image\" title=\"Steel Building\" style=\"max-width:20px; max-height:20px; border:1px solid blue; float:left; \"/></a></td>\n",
      "</tr>\n",
      "<tr style=\"border:0\"><td style=\"border:0\"><ul><li>Aluminum </li></ul></td><td style=\"border:0\"><a href=\"https://en.wikipedia.org/wiki/Aluminium\"><img src=\"https://upload.wikimedia.org/wikipedia/commons/thumb/5/5d/Aluminium-4.jpg/440px-Aluminium-4.jpg\" alt=\"Aluminum chunk section\" title=\"Aluminum\" style=\"max-width:20px; max-height:20px; border:1px solid blue; float:left; \"/></a></td>\n",
      "<td style=\"border:0\"></td>\n",
      "<td style=\"border:0\"><ul><li>Wood </li></ul></td><td style=\"border:0\"><a href=\"http://en.wikipedia.org/wiki/User:Vermont.timber/Bent_%28structural%29\"><img src=\"http://upload.wikimedia.org/wikipedia/commons/thumb/5/5d/Stack_of_Timber_Bents.jpg/440px-Stack_of_Timber_Bents.jpg\" alt=\"Wood framing\" title=\"Wood Framing\" style=\"max-width:20px; max-height:20px; border:1px solid blue; float:left; \"/></a></td>\n",
      "</tr>\n",
      "<tr style=\"border:0\"><td style=\"border:0\"><ul><li>Asphalt </li></ul></td><td style=\"border:0\"><a href=\"http://en.wikipedia.org/wiki/Asphalt\"><img src=\"http://upload.wikimedia.org/wikipedia/commons/4/45/Refined_bitumen.JPG\" alt=\"Refined asphalt/bitumen image\" title=\"Fractured Asphalt\" style=\"max-width:20px; max-height:20px; border:1px solid blue; float:left; \"/></a></td>\n",
      "<td style=\"border:0\"></td>\n",
      "<td style=\"border:0\"><ul><li>Concrete </li></ul></td><td style=\"border:0\"><a href=\"http://www.pexels.com/photo/building-construction-building-site-constructing-2469/\"><img src=\"https://static.pexels.com/photos/2469/building-construction-building-site-constructing.jpg\" alt=\"Image of concrete chute\" title=\"Concrete Pour\" style=\"max-width:20px; max-height:20px; border:1px solid blue; float:left; \"/></a></td>\n",
      "</tr>\n",
      "<tr style=\"border:0\"><td style=\"border:0\"><ul><li>Masonry </li></ul></td><td style=\"border:0\"><a href=\"http://en.wikipedia.org/wiki/Masonry\"><img src=\"http://upload.wikimedia.org/wikipedia/commons/thumb/8/83/CMUs.jpg/440px-CMUs.jpg\" alt=\"Concrete block wall image\" title=\"Masonry Wall\" style=\"max-width:20px; max-height:20px; border:1px solid blue; float:left; \"/></a></td>\n",
      "<td style=\"border:0\"></td>\n",
      "<td style=\"border:0\"><ul><li>Effects of Moisture </li></ul></td><td style=\"border:0\"><a href=\"http://en.wikipedia.org/wiki/Rust\"><img src=\"http://upload.wikimedia.org/wikipedia/commons/thumb/8/80/Rust_wedge.jpg/440px-Rust_wedge.jpg\" alt=\"Rust wedge image\" title=\"Concrete Damage Demonstration\" style=\"max-width:20px; max-height:20px; border:1px solid blue; float:left; \"/></a></td>\n",
      "</tr>\n",
      "<tr style=\"border:0\"><td style=\"border:0\"><ul><li>Solid Flooring </li></ul></td><td style=\"border:0\"><a href=\"http://en.wikipedia.org/wiki/Wood_flooring\"><img src=\"http://upload.wikimedia.org/wikipedia/commons/thumb/1/1d/Custom_Showroom.jpg/440px-Custom_Showroom.jpg\" alt=\"Sample wood flooring image\" title=\"Sample Flooring\" style=\"max-width:20px; max-height:20px; border:1px solid blue; float:left; \"/></a></td>\n",
      "<td style=\"border:0\"></td>\n",
      "<td style=\"border:0\"><ul><li>Carpet </li></ul></td><td style=\"border:0\"><a href=\"http://en.wikipedia.org/wiki/Carpet\"><img src=\"http://upload.wikimedia.org/wikipedia/commons/thumb/a/a5/Swatches_of_carpet_1.jpg/440px-Swatches_of_carpet_1.jpg\" alt=\"Carpet sample image\" title=\"Carpet Samples\" style=\"max-width:20px; max-height:20px; border:1px solid blue; float:left; \"/></a></td>\n",
      "</tr>\n",
      "<tr style=\"border:0\"><td style=\"border:0\"><ul><li>Gypsum </li></ul></td><td style=\"border:0\"><a href=\"http://en.wikipedia.org/wiki/Drywall\"><img src=\"http://upload.wikimedia.org/wikipedia/commons/3/3e/Drywall.jpg\" alt=\"Drywall image\" title=\"Gypsum Board\" style=\"max-width:20px; max-height:20px; border:1px solid blue; float:left; \"/></a></td>\n",
      "<td style=\"border:0\"></td>\n",
      "<td style=\"border:0\"><ul><li>Protective Coatings (i.e. Paint) </li></ul></td><td style=\"border:0\"><a href=\"https://www.flickr.com/photos/dougww/2453670430\"><img src=\"//c2.staticflickr.com/4/3267/2453670430_a453c127af_z.jpg?zz=1\" alt=\"Sample paint colors\" title=\"Paint Colors\" style=\"max-width:20px; max-height:20px; border:1px solid blue; float:left; \"/></a></td>\n",
      "</tr>\n",
      "<tr style=\"border:0\"><td style=\"border:0\"><ul><li>Glass </li></ul></td><td style=\"border:0\"><a href=\"http://en.wikipedia.org/wiki/Buen_Retiro_Park\"><img src=\"http://upload.wikimedia.org/wikipedia/commons/thumb/c/c6/Palacio_de_Cristal_-_Parque_del_Buen_Retiro.jpg/440px-Palacio_de_Cristal_-_Parque_del_Buen_Retiro.jpg\" alt=\"Glass roof image\" title=\"Crystal Palace\" style=\"max-width:20px; max-height:20px; border:1px solid blue; float:left; \"/></a></td>\n",
      "<td style=\"border:0\"></td>\n",
      "<td style=\"border:0\"><ul><li>Plastic </li></ul></td><td style=\"border:0\"><a href=\"http://en.wikipedia.org/wiki/Electrical_conduit\"><img src=\"http://upload.wikimedia.org/wikipedia/commons/thumb/2/23/Plastic_tubing.jpg/440px-Plastic_tubing.jpg\" alt=\"Electrical conduit image\" title=\"Plastic Piping\" style=\"max-width:20px; max-height:20px; border:1px solid blue; float:left; \"/></a></td>\n",
      "</tr>\n",
      "</table>\n"
     ]
    }
   ],
   "source": [
    "print(table)"
   ]
  },
  {
   "cell_type": "markdown",
   "metadata": {},
   "source": [
    "<img width=\"640\" height=\"502\" src=\"//c2.staticflickr.com/4/3267/2453670430_a453c127af_z.jpg?zz=1\" class=\"main-photo\" alt=\"Rainbow samples (355) | by Doug Waldron\">"
   ]
  },
  {
   "cell_type": "markdown",
   "metadata": {},
   "source": [
    "<table border=\"0\">\n",
    "  <col width=\"150\">\n",
    "  <col width=\"80\">\n",
    "  <col width=\"0\">\n",
    "  <col width=\"150\">\n",
    "  <col width=\"80\">\n",
    "<tr><td>Sustainability </td><td><a href=\"http://www.usgbc.org/leed\"><img src=\"http://upload.wikimedia.org/wikipedia/commons/6/6a/LEED_platinum_grey.jpg\" alt=\"LEED icon\" title=\"U.S. Green Building Council\" style=\"max-width:20px; max-height:20px; border:1px solid blue; \"/></a></td><td></td><td>Steel </td><td><a href=\"http://pixabay.com/static/uploads/photo/2014/08/09/11/34/architecture-414035_640.jpg?attachment/\"><img src=\"http://t0.gstatic.com/images?q=tbn:ANd9GcR41eNnvFfIBPY8GB4HLOr3Z59szHTx7hzbmoMwL1y7ZR2zl_HL6g\" alt=\"Steel building image\" title=\"Steel Building\" style=\"max-width:20px; max-height:20px; border:1px solid blue; \"/></a></td></tr>\n",
    "<tr><td>Aluminum </td><td><a href=\"https://en.wikipedia.org/wiki/Aluminium\"><img src=\"https://upload.wikimedia.org/wikipedia/commons/thumb/5/5d/Aluminium-4.jpg/440px-Aluminium-4.jpg\" alt=\"Aluminum chunk section\" title=\"Aluminum\" style=\"max-width:20px; max-height:20px; border:1px solid blue; \"/></a></td><td></td><td>Wood </td><td><a href=\"http://en.wikipedia.org/wiki/User:Vermont.timber/Bent_%28structural%29\"><img src=\"http://upload.wikimedia.org/wikipedia/commons/thumb/5/5d/Stack_of_Timber_Bents.jpg/440px-Stack_of_Timber_Bents.jpg\" alt=\"Wood framing\" title=\"Wood Framing\" style=\"max-width:20px; max-height:20px; border:1px solid blue; \"/></a></td></tr>\n",
    "<tr><td>Asphalt </td><td><a href=\"http://en.wikipedia.org/wiki/Asphalt\"><img src=\"http://upload.wikimedia.org/wikipedia/commons/4/45/Refined_bitumen.JPG\" alt=\"Refined asphalt/bitumen image\" title=\"Fractured Asphalt\" style=\"max-width:20px; max-height:20px; border:1px solid blue; \"/></a></td><td></td><td>Concrete </td><td><a href=\"http://www.pexels.com/photo/building-construction-building-site-constructing-2469/\"><img src=\"https://static.pexels.com/photos/2469/building-construction-building-site-constructing.jpg\" alt=\"Image of concrete chute\" title=\"Concrete Pour\" style=\"max-width:20px; max-height:20px; border:1px solid blue; \"/></a></td></tr>\n",
    "<tr><td>Masonry </td><td><a href=\"http://en.wikipedia.org/wiki/Masonry\"><img src=\"http://upload.wikimedia.org/wikipedia/commons/thumb/8/83/CMUs.jpg/440px-CMUs.jpg\" alt=\"Concrete block wall image\" title=\"Masonry Wall\" style=\"max-width:20px; max-height:20px; border:1px solid blue; \"/></a></td><td></td><td>Effects of Moisture </td><td><a href=\"http://en.wikipedia.org/wiki/Rust\"><img src=\"http://upload.wikimedia.org/wikipedia/commons/thumb/8/80/Rust_wedge.jpg/440px-Rust_wedge.jpg\" alt=\"Rust wedge image\" title=\"Concrete Damage Demonstration\" style=\"max-width:20px; max-height:20px; border:1px solid blue; \"/></a></td></tr>\n",
    "<tr><td>Solid Flooring </td><td><a href=\"http://en.wikipedia.org/wiki/Wood_flooring\"><img src=\"http://upload.wikimedia.org/wikipedia/commons/thumb/1/1d/Custom_Showroom.jpg/440px-Custom_Showroom.jpg\" alt=\"Sample wood flooring image\" title=\"Sample Flooring\" style=\"max-width:20px; max-height:20px; border:1px solid blue; \"/></a></td><td></td><td>Carpet </td><td><a href=\"http://en.wikipedia.org/wiki/Carpet\"><img src=\"http://upload.wikimedia.org/wikipedia/commons/thumb/a/a5/Swatches_of_carpet_1.jpg/440px-Swatches_of_carpet_1.jpg\" alt=\"Carpet sample image\" title=\"Carpet Samples\" style=\"max-width:20px; max-height:20px; border:1px solid blue; \"/></a></td></tr>\n",
    "<tr><td>Gypsum </td><td><a href=\"http://en.wikipedia.org/wiki/Drywall\"><img src=\"http://upload.wikimedia.org/wikipedia/commons/3/3e/Drywall.jpg\" alt=\"Drywall image\" title=\"Gypsum Board\" style=\"max-width:20px; max-height:20px; border:1px solid blue; \"/></a></td><td></td><td>Protective Coatings (i.e. Paint) </td><td><a href=\"https://www.flickr.com/photos/86639298@N02/9073902720\"><img src=\"http://www.google.com/url?sa=i&source=imgres&cd=&ved=0CAkQjBwwAGoVChMIxunb8uaDxgIVClqSCh0PJQCn&url=https%3A%2F%2Ffarm3.staticflickr.com%2F2810%2F9073902720_cc002c58c1_o_d.jpg&ei=5nt3VcbeMoq0yQSPyoC4Cg&psig=AFQjCNE_MUS-arozztg_qPmcuF5uBw3arw&ust=1433980263004017\" alt=\"Sample paint colors\" title=\"Paint Colors\" style=\"max-width:20px; max-height:20px; border:1px solid blue; \"/></a></td></tr>\n",
    "<tr><td>Glass </td><td><a href=\"http://en.wikipedia.org/wiki/Buen_Retiro_Park\"><img src=\"http://upload.wikimedia.org/wikipedia/commons/thumb/c/c6/Palacio_de_Cristal_-_Parque_del_Buen_Retiro.jpg/440px-Palacio_de_Cristal_-_Parque_del_Buen_Retiro.jpg\" alt=\"Glass roof image\" title=\"Crystal Palace\" style=\"max-width:20px; max-height:20px; border:1px solid blue; \"/></a></td><td></td><td>Plastic </td><td><a href=\"http://en.wikipedia.org/wiki/Electrical_conduit\"><img src=\"http://upload.wikimedia.org/wikipedia/commons/thumb/2/23/Plastic_tubing.jpg/440px-Plastic_tubing.jpg\" alt=\"Electrical conduit image\" title=\"Plastic Piping\" style=\"max-width:20px; max-height:20px; border:1px solid blue; \"/></a></td></tr>\n",
    "</table>"
   ]
  }
 ],
 "metadata": {
  "kernelspec": {
   "display_name": "Python 3",
   "language": "python",
   "name": "python3"
  },
  "language_info": {
   "codemirror_mode": {
    "name": "ipython",
    "version": 3
   },
   "file_extension": ".py",
   "mimetype": "text/x-python",
   "name": "python",
   "nbconvert_exporter": "python",
   "pygments_lexer": "ipython3",
   "version": "3.4.0"
  }
 },
 "nbformat": 4,
 "nbformat_minor": 0
}
