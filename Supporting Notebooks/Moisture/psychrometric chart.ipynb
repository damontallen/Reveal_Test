{
 "cells": [
  {
   "cell_type": "markdown",
   "metadata": {},
   "source": [
    "Trying to make a $^\\circ$F version of the chart below.\n",
    "\n",
    "<a href = \"https://en.wikipedia.org/wiki/Psychrometrics#Psychrometric_charts\"> <img src=\"https://upload.wikimedia.org/wikipedia/commons/9/9d/PsychrometricChart.SeaLevel.SI.svg\" alt = \"Psychrometric chart image\" Title=\"Psychrometric Chart (SI)\"  style=\"max-width:800px; max-height:800px; border:1px solid blue;  \"/></a>\n"
   ]
  },
  {
   "cell_type": "markdown",
   "metadata": {},
   "source": [
    "##Starting with the RH curves"
   ]
  },
  {
   "cell_type": "code",
   "execution_count": 214,
   "metadata": {
    "collapsed": false
   },
   "outputs": [
    {
     "data": {
      "text/plain": [
       "6.569648659951357"
      ]
     },
     "execution_count": 214,
     "metadata": {},
     "output_type": "execute_result"
    }
   ],
   "source": [
    "T = range(-10,60,5)\n",
    "\n",
    "def X(t):\n",
    "    \"X location in pixels based on temperature\"\n",
    "    x = (t+10.5712164925)/0.0869477992\n",
    "    return x\n",
    "X(-10)"
   ]
  },
  {
   "cell_type": "code",
   "execution_count": 95,
   "metadata": {
    "collapsed": false
   },
   "outputs": [
    {
     "data": {
      "text/plain": [
       "'140, 144, 147'"
      ]
     },
     "execution_count": 95,
     "metadata": {},
     "output_type": "execute_result"
    }
   ],
   "source": [
    "#For copying the pixel data\n",
    "txt=\"\"\"140\n",
    "144\n",
    "147\"\"\"\n",
    "', '.join(txt.splitlines())"
   ]
  },
  {
   "cell_type": "code",
   "execution_count": 215,
   "metadata": {
    "collapsed": false
   },
   "outputs": [],
   "source": [
    "\n",
    "# temp = [-10, -5, 0, 5, 10, 15, 20, 25, 30, 35, 40, 45, 50, 55]\n",
    "rh = [10, 20, 30, 40, 50, 60, 70, 80, 90, 100] # RH values looked at\n",
    "y_max = 471 #Maximum height of the chart in pixels\n",
    "# Δ = Vertical spacing between RH curves at each temperature\n",
    "Δ ={-10:'2, 2, 2, 3, 2, 3, 2, 3, 2, 2',\n",
    "    -5:'3, 3, 4, 3.5, 3.5, 3, 3.5, 4, 3, 4.5',\n",
    "    0:'4, 5, 6.5, 5.5, 4.5, 4.5, 5.5, 5.5, 4.5, 7.5',\n",
    "    5:'6, 7.5, 9.5, 7, 7, 7.5, 7.5, 9, 7, 9',\n",
    "    10:'9, 10.5, 12.5, 10, 10.5, 11.5, 10.5, 12, 10.5, 13',\n",
    "    15:'13, 15, 16.5, 14.5, 15, 16, 15, 16, 16, 16',\n",
    "    20:'19, 21, 21, 22, 20, 21, 21, 22, 22, 23',\n",
    "    25:'26, 29, 27.5, 30.5, 29, 27, 29, 30, 30, 29',\n",
    "    30:'36, 39, 37, 41, 38, 38, 39, 39, 42, 42',\n",
    "    35:'48, 51, 50, 54, 50, 53, 53, 53, 56',\n",
    "    40:'64, 66, 67, 71, 67, 72',\n",
    "    45:'83.5, 86.5, 88, 92, 91',\n",
    "    50:'109, 112, 115, 120',\n",
    "    55:'140, 144, 147'} \n",
    "\n",
    "def _d(d_txt):\n",
    "    \"Convert Δ text into numbers\"\n",
    "    d = d_txt.split(', ')\n",
    "    d = [float(d_) for d_ in d]\n",
    "    return d\n",
    "\n",
    "def y(C,RH):\n",
    "    \"Height in pixels from the bottom of the graph at temperature C for humidity RH\"\n",
    "    if C not in T:\n",
    "        er = \"{} is not a value temperature\".format(C)\n",
    "        raise(ValueError(er))\n",
    "    else:\n",
    "        d = _d(Δ[C])\n",
    "#     print(d)\n",
    "    RH_ = rh[:len(d)]\n",
    "#     print(RH_)\n",
    "    slope, intercept, r_value, p_value, std_err = stats.linregress(RH_,d)\n",
    "#     print((slope, intercept, r_value))\n",
    "    \n",
    "    y_ = (slope*(RH+10)+intercept*2)/20*(RH)\n",
    "    if y_>y_max:\n",
    "        er = \"This is outside of the bound.\"\n",
    "        raise(RuntimeError(er))\n",
    "    return y_\n",
    "# 501-y(40,70)"
   ]
  },
  {
   "cell_type": "code",
   "execution_count": 188,
   "metadata": {
    "collapsed": false
   },
   "outputs": [
    {
     "data": {
      "text/plain": [
       "[23.0,\n",
       " 35.0,\n",
       " 53.0,\n",
       " 77.0,\n",
       " 110.00000000000001,\n",
       " 153.0,\n",
       " 211.99999999999997,\n",
       " 287.0,\n",
       " 391.0]"
      ]
     },
     "execution_count": 188,
     "metadata": {},
     "output_type": "execute_result"
    }
   ],
   "source": [
    "# txt_y_100 = '24, 36, 54, 78, 110, 154, 212, 288, 392'\n",
    "# txt_y_70 = '17, 24.5, 36.5, 53, 76, 106, 146, 199, 269, 359'\n",
    "# txt_y_40 = '10, 15, 21.5, 31, 43, 60, 83, 114, 154, 204, 269, 351, 457'\n",
    "# txt_y_20 = '5, 7, 10, 14.5, 20.5, 29, 41, 36, 75.5, 100, 132.5, 172.5, 222, 286'\n",
    "# txt_y_10 = '3, 4, 5, 7, 10, 14, 20, 27, 37, 49, 65, 85, 110, 141'\n",
    "def Y(RH):\n",
    "    \"Generate a list of vertical locations for curve fitting\"\n",
    "    y_ = []\n",
    "    for t in temp:\n",
    "        try:\n",
    "            y__ = y(t, RH)\n",
    "            y_.append(y__)\n",
    "        except RuntimeError:\n",
    "            break\n",
    "    return y_\n",
    "\n",
    "def log_Y(RH):\n",
    "    \"Using a log fit\"\n",
    "    y = Y(RH)\n",
    "    y_ = [np.log10(y_) for y_ in y]\n",
    "    return y_\n",
    "Y(100)"
   ]
  },
  {
   "cell_type": "markdown",
   "metadata": {},
   "source": [
    "Assumed function of RH curves.\n",
    "\n",
    "$$Y = 10^{a x^2 +b x +c}$$\n",
    "\n",
    "$$Y = C 10^{a x^2 + b x}$$"
   ]
  },
  {
   "cell_type": "code",
   "execution_count": 211,
   "metadata": {
    "collapsed": false
   },
   "outputs": [
    {
     "name": "stdout",
     "output_type": "stream",
     "text": [
      "Coeff(a=-9.250512969367285e-07, b=0.0031179040587332135, c=0.3145977020986204)\n",
      "Coeff(a=-9.111862315980408e-07, b=0.0031091700092078208, c=0.6204025340992709)\n",
      "Coeff(a=-8.976295958044022e-07, b=0.003100636313262496, c=0.8012077723685274)\n",
      "Coeff(a=-9.097805266394754e-07, b=0.0031069497362675473, c=0.929596910999797)\n",
      "Coeff(a=-9.45873122872502e-07, b=0.0031246807967751345, c=1.0291755274929153)\n",
      "Coeff(a=-9.88165328267249e-07, b=0.003143417064663358, c=1.1110817842765233)\n",
      "Coeff(a=-1.061268614808797e-06, b=0.003173793132327919, c=1.1801476820406356)\n",
      "Coeff(a=-1.0774121259150998e-06, b=0.003179225031601445, c=1.2417317212022807)\n",
      "Coeff(a=-1.093327589032915e-06, b=0.0031845985065241888, c=1.2964385539158862)\n",
      "Coeff(a=-1.2173977724630225e-06, b=0.003232471874166154, c=1.3434315288932808)\n"
     ]
    }
   ],
   "source": [
    "from scipy.optimize import leastsq\n",
    "from numpy import exp\n",
    "import numpy as np\n",
    "from scipy import stats\n",
    "from collections import namedtuple\n",
    "Coeff_1 = namedtuple(\"Coeff_1\",\"a b\")\n",
    "Coeff = namedtuple(\"Coeff\",\"a b c\")\n",
    "Coeff_3 = namedtuple(\"Coeff_3\",\"a b c d\")\n",
    "\n",
    "def fit(RH):\n",
    "    T_ = T[:len(Y(RH))]\n",
    "    cof = np.polyfit([X(t) for t in T_], log_Y(RH) , deg=2)\n",
    "    coff = Coeff(*[float(co) for co in cof])\n",
    "#     print(coff)\n",
    "    return coff\n",
    " \n",
    "c = [fit(RH) for RH in rh]\n",
    "for C_ in c:\n",
    "    print(C_)"
   ]
  },
  {
   "cell_type": "markdown",
   "metadata": {},
   "source": [
    "Coeff(a=-1.0744257747223274e-06, b=0.0031308808364933723, c=1.3604178818352384)\n",
    "Coeff(a=-9.167266993577851e-07, b=0.0030540081353169716, c=1.2038119714629498)\n",
    "Coeff(a=-7.490756999530651e-07, b=0.0029196207343187577, c=0.9855328916528928)\n",
    "Coeff(a=-4.211367493712049e-07, b=0.002684476616864855, c=0.6817789666629894)\n",
    "Coeff(a=-3.5782964394378004e-07, b=0.0025757820514518545, c=0.4252206326163717)"
   ]
  },
  {
   "cell_type": "markdown",
   "metadata": {},
   "source": [
    "* $a$ seems to be a 3$^{\\text{rd}}$ order function with RH\n",
    "* $b$ seems to be a 3$^{\\text{rd}}$ order function with RH\n",
    "* $c$ seems to be a logrithmic function of RH"
   ]
  },
  {
   "cell_type": "code",
   "execution_count": 216,
   "metadata": {
    "collapsed": false
   },
   "outputs": [],
   "source": [
    "cx = [RH for RH in rh]\n",
    "# np.polyfit(cx, [C.a for C in c], deg=2)\n",
    "c_a = Coeff_3(*[float(co) for co in np.polyfit(cx, [C.a for C in c], deg=3)])\n",
    "c_b = Coeff_3(*[float(co) for co in np.polyfit(cx, [C.b for C in c], deg=3)])\n",
    "slope, intercept, r_value, p_value, std_err = stats.linregress(cx,[10**C.c for C in c])\n",
    "c_c = Coeff_1(slope, intercept)\n",
    "\n",
    "def aa_2(RH):\n",
    "    \"Return coefficents for 2nd order function used in the RH log curve\"\n",
    "    aa = c_a.a*RH**3 +c_a.b*RH**2+c_a.c*RH+c_a.d\n",
    "    ab = c_b.a*RH**3 +c_b.b*RH**2+c_b.c*RH+c_b.d\n",
    "    ac = np.log10(c_c.a*RH +c_c.b)\n",
    "    re = Coeff(aa,ab,ac)\n",
    "    print(re)\n",
    "    return re"
   ]
  },
  {
   "cell_type": "code",
   "execution_count": 213,
   "metadata": {
    "collapsed": false
   },
   "outputs": [
    {
     "name": "stdout",
     "output_type": "stream",
     "text": [
      "Coeff_3(a=3.4332804658978364e-13, b=-1.0359530598417374e-10, c=4.563607924634942e-09, d=-9.587224623430847e-07)\n",
      "Coeff_3(a=-2.5092003664316415e-10, b=6.016359515430105e-08, c=-2.657346845678339e-06, d=0.003137712198605732)\n",
      "Coeff_1(a=0.22238915394137665, b=-0.32088482933889928)\n"
     ]
    }
   ],
   "source": [
    "print(c_a)\n",
    "print(c_b)\n",
    "print(c_c)"
   ]
  },
  {
   "cell_type": "markdown",
   "metadata": {},
   "source": [
    "##Testing fitness"
   ]
  },
  {
   "cell_type": "markdown",
   "metadata": {},
   "source": [
    "$$Y = 10^{a x^2 +b x +c}$$\n",
    "\n",
    "$$Y = C 10^{a x^2 + b x}$$"
   ]
  },
  {
   "cell_type": "code",
   "execution_count": 209,
   "metadata": {
    "collapsed": false
   },
   "outputs": [
    {
     "name": "stdout",
     "output_type": "stream",
     "text": [
      "Coeff(a=-9.061418018713372e-07, b=0.0031066233394607405, c=0.61562376128585528)\n"
     ]
    },
    {
     "data": {
      "text/plain": [
       "223.59561619139492"
      ]
     },
     "execution_count": 209,
     "metadata": {},
     "output_type": "execute_result"
    }
   ],
   "source": [
    "C = fit(10)\n",
    "C = aa_2(20)\n",
    "x = X(55)\n",
    "501-10**(C.a*x**2+C.b*x+C.c)"
   ]
  },
  {
   "cell_type": "markdown",
   "metadata": {},
   "source": [
    "**It is close but can vary as much at 6 pixels, so not good enough.**\n",
    "\n",
    "Conclusion: Use the SI version."
   ]
  }
 ],
 "metadata": {
  "kernelspec": {
   "display_name": "Python 3",
   "language": "python",
   "name": "python3"
  },
  "language_info": {
   "codemirror_mode": {
    "name": "ipython",
    "version": 3
   },
   "file_extension": ".py",
   "mimetype": "text/x-python",
   "name": "python",
   "nbconvert_exporter": "python",
   "pygments_lexer": "ipython3",
   "version": "3.4.0"
  }
 },
 "nbformat": 4,
 "nbformat_minor": 0
}
