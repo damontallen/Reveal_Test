{
 "cells": [
  {
   "cell_type": "markdown",
   "metadata": {},
   "source": [
    "The equations that model the change in pressure with respect to depth in pavement (shown below) were found on page 6 in a presentation on \"[Stresses and Strains in flexible Pavements](http://www.civil.iitb.ac.in/~kvkrao/CE%20742%20Pavement%20Systems%20Engineering/CE742LEC3.pdf)\" on an Indian Institute of Technology Bombay website.  The equation for a circular pressure load were found on page 22.  The disuccion of the vaiable meanings were found in lecture notes [here](https://wollocivil.files.wordpress.com/2014/04/chapter-2-stresses-in-pavements.pdf) from \"Chapter 2 Stresses in Pavements\" in this [series of notes](https://wollocivil.wordpress.com/).  Those notes were prepared by an AAU engineering graduate based on [Pavement Analysis and Design](https://wollocivil.files.wordpress.com/2014/04/pavement-analysis-and-design-second-edition-2004-latest-b.pdf) (see page 63 of the pdf) by Yang H. Huang.\n",
    "\n",
    ">* Boussinesq equations are developed for computing stresses in a\n",
    "homogeneous, isotropic and elastic media due to a point load at the\n",
    "surface.\n",
    "\n",
    "$$K = \\frac{3}{2 \\pi}\\frac{1}{[1+(r/z)^2]^{5/2}}$$\n",
    "\n",
    "$$\\sigma_z = K \\frac{P}{z^2} \\text{ (for point loads)}$$\n",
    "\n",
    "$$\\sigma_z = p \\left[1- \\frac{z^3}{(a^2+z^2)^{3/2}}\\right] \\text{ (for circular pressure load)}$$\n",
    "\n",
    "Where:\n",
    "\n",
    "* $a$ - radius of circular load\n",
    "* $p$ - pressure\n",
    "* $z$ - depth below center of load"
   ]
  },
  {
   "cell_type": "code",
   "execution_count": 15,
   "metadata": {
    "collapsed": true
   },
   "outputs": [],
   "source": [
    "from numpy import pi\n",
    "\n",
    "def K(z,r):\n",
    "    k = 3/(2*pi)*1/((1+(r/z)**2)**(5/2))\n",
    "    return k\n",
    "\n",
    "# def σ(P,z,r=0):\n",
    "#     \"Assuming point load\"\n",
    "#     s = K(z,r)*P/z**2\n",
    "#     return s\n",
    "\n",
    "def σ(p,z,a):\n",
    "    \"Assuming circular pressure load\"\n",
    "    s = p*(1-z**3/(a**2+z**2)**(3/2))\n",
    "    return s"
   ]
  },
  {
   "cell_type": "code",
   "execution_count": 32,
   "metadata": {
    "collapsed": false
   },
   "outputs": [
    {
     "data": {
      "image/png": "[encoded data removed]",
      "text/plain": [
       "<matplotlib.figure.Figure at 0x7f341be0d7f0>"
      ]
     },
     "metadata": {},
     "output_type": "display_data"
    }
   ],
   "source": [
    "import numpy as np\n",
    "import matplotlib\n",
    "# matplotlib.use('Agg')\n",
    "import matplotlib.pyplot as plt\n",
    "%matplotlib inline\n",
    "\n",
    "fig, ax = plt.subplots()\n",
    "\n",
    "p = 60\n",
    "a = 2\n",
    "z = np.linspace(0, 180)/10\n",
    "line = ax.plot(σ(p,z,a), -z,  linewidth=2)\n",
    "\n",
    "#dashes = [10, 5, 100, 5] # 10 points on, 5 off, 100 on, 5 off\n",
    "#line.set_dashes(dashes)\n",
    "\n",
    "\n",
    "# ax.set_aspect('equal')\n",
    "fig.set_figwidth(7)\n",
    "fig.set_figheight(7)\n",
    "\n",
    "plt.show()"
   ]
  },
  {
   "cell_type": "code",
   "execution_count": 33,
   "metadata": {
    "collapsed": false
   },
   "outputs": [],
   "source": [
    "fig.savefig('plot.svg')"
   ]
  }
 ],
 "metadata": {
  "kernelspec": {
   "display_name": "Python 3",
   "language": "python",
   "name": "python3"
  },
  "language_info": {
   "codemirror_mode": {
    "name": "ipython",
    "version": 3
   },
   "file_extension": ".py",
   "mimetype": "text/x-python",
   "name": "python",
   "nbconvert_exporter": "python",
   "pygments_lexer": "ipython3",
   "version": "3.4.0"
  }
 },
 "nbformat": 4,
 "nbformat_minor": 0
}
