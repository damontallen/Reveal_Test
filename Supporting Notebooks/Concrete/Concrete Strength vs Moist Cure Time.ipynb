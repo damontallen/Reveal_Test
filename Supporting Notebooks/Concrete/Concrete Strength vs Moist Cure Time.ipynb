{
 "cells": [
  {
   "cell_type": "markdown",
   "metadata": {},
   "source": [
    "<img src=\"http://www.cement.org/images/default-source/contech/curing_fig1.jpg?sfvrsn=2\"/>"
   ]
  },
  {
   "cell_type": "markdown",
   "metadata": {},
   "source": [
    "#Goal\n",
    "\n",
    "Try to recreate the plot above using plot below to figure out the function.\n",
    "\n",
    "<img src=\"http://www.ce.memphis.edu/1101/notes/concrete/graphics/conc3.gif\"/>"
   ]
  },
  {
   "cell_type": "markdown",
   "metadata": {},
   "source": [
    "Note that the plot's x-axis is log.  Additionally after the 90 day mark in the first plot it seems to be linear, ergo piecewise. \n",
    "\n",
    "$$x = \\frac{-b \\pm \\sqrt{b^2 - 4 a c}}{2 a}$$"
   ]
  },
  {
   "cell_type": "markdown",
   "metadata": {},
   "source": [
    "$$y = c(1 - e^{a t +b})$$\n",
    "\n",
    "$$Y = \\frac{y}{c}$$\n",
    "\n",
    "$$Y =1 - e^{a t +b}$$\n",
    "\n",
    "$$1 - Y = e^{a t +b}$$\n",
    "\n",
    "$$\\log(1 -Y) = \\log( e^{a t +b})$$\n",
    "\n",
    "$$\\log(1 -Y) = a t +b$$"
   ]
  },
  {
   "cell_type": "markdown",
   "metadata": {},
   "source": [
    "$$x = a \\log(t) + b$$"
   ]
  },
  {
   "cell_type": "markdown",
   "metadata": {},
   "source": [
    "## Going from moist cure to air\n",
    "\n",
    "This should be a second order curve that is tangent at the beginning and goes flat after 7 days.\n",
    "\n",
    "$$\\frac{dy}{dt} =  \\frac{d (c(1 - e^{a t +b}))}{dt}$$\n",
    "\n",
    "$$\\frac{dy}{dt} =  -a c e^{a t +b}$$\n",
    "\n",
    "$$y_1 = a_1 t^2 + b_1 t + c_1$$\n",
    "\n",
    "$$\\frac{d y_1}{dt} = 2 a_1 t + b_1$$\n",
    "\n",
    "$$\\therefore$$\n",
    "\n",
    "$$y' = -a c e^{a t_1 +b} = 2 a_1 t_1 + b_1$$\n",
    "\n",
    "$$y = c(1 - e^{a t_1 +b}) = a_1 t_1^2 + b_1 t_1 +c_1$$\n",
    "\n",
    "$$\\text{also...}$$\n",
    "\n",
    "$$2 a_1 (t_1 +7) + b_1 = 0$$\n",
    "\n",
    "$$X = \\left[\\begin{array}{ccc} 2 t_1 & 1 & 0 \\\\ t_1^2 & t_1 & 1\\\\2 (t_1 +7) & 1 &0 \\\\ \\end{array} \\right]$$\n",
    "$$C = \\left[\\begin{array}{c}a_1  \\\\ b_1  \\\\ c_1 \\\\ \\end{array} \\right]$$\n",
    "$$Y = \\left[\\begin{array}{c}y'  \\\\ y \\\\ 0 \\\\ \\end{array} \\right]$$\n",
    "\n",
    "$$C = X^{-1} Y$$"
   ]
  },
  {
   "cell_type": "code",
   "execution_count": 129,
   "metadata": {
    "collapsed": false
   },
   "outputs": [
    {
     "data": {
      "image/png": "[encoded data removed]",
      "text/latex": [
       "$$- a c e^{a t + b}$$"
      ],
      "text/plain": [
       "      a⋅t + b\n",
       "-a⋅c⋅ℯ       "
      ]
     },
     "execution_count": 129,
     "metadata": {},
     "output_type": "execute_result"
    }
   ],
   "source": [
    "import sympy as sp\n",
    "sp.init_printing(use_unicode=True)\n",
    "c, a, b, t = sp.symbols(\"c a b t\")\n",
    "sp.diff(c*(1-sp.exp(a*t+b)),t)"
   ]
  },
  {
   "cell_type": "code",
   "execution_count": 3,
   "metadata": {
    "collapsed": true
   },
   "outputs": [],
   "source": [
    "from scipy.optimize import leastsq\n",
    "from numpy import exp"
   ]
  },
  {
   "cell_type": "code",
   "execution_count": 29,
   "metadata": {
    "collapsed": false
   },
   "outputs": [],
   "source": [
    "def residuals(p, y, t):\n",
    "    a, b = p\n",
    "    err = y - (a*t+b)\n",
    "    return err"
   ]
  },
  {
   "cell_type": "code",
   "execution_count": 132,
   "metadata": {
    "collapsed": false
   },
   "outputs": [
    {
     "name": "stdout",
     "output_type": "stream",
     "text": [
      "[0.0030672566, 0.3765289809, 0.5975573484, 0.8795590586, 1.0015057441, 1.0243707477]\n",
      "(-0.13588856055418194, -0.0058187419741078106, -0.99939896558043961, 1.7686573978521226e-05, 0.0027213398331038994)\n"
     ]
    }
   ],
   "source": [
    "import numpy as np\n",
    "from scipy import stats\n",
    "t = [0,3,7,14,28,41]#365]\n",
    "scale = 2\n",
    "txt = \"\"\"0.0030672566\n",
    "0.3765289809\n",
    "0.5975573484\n",
    "0.8795590586\n",
    "1.0015057441\n",
    "1.0243707477\"\"\"\n",
    "y = [float(x.strip()) for x in txt.split('\\n')]\n",
    "# C = len(y)\n",
    "# Y = []\n",
    "# for i, x in enumerate(y):\n",
    "#     mag = (i+1)/(C+1)*scale\n",
    "#     print(mag)\n",
    "#     Y.append(x*mag)\n",
    "# y = Y\n",
    "# y.append(1.0243707477*scale)\n",
    "print(y)\n",
    "c = y[-1]\n",
    "y = [x / c for x in y]\n",
    "Y = [np.log(1-x) for x in y[:-1]]\n",
    "# len(Y)\n",
    "\n",
    "slope, intercept, r_value, p_value, std_err = stats.linregress(t[:-1],Y)\n",
    "print((slope, intercept, r_value, p_value, std_err))\n",
    "\n",
    "a, b = slope, intercept"
   ]
  },
  {
   "cell_type": "code",
   "execution_count": 156,
   "metadata": {
    "collapsed": false
   },
   "outputs": [
    {
     "data": {
      "image/png": "[encoded data removed]",
      "text/latex": [
       "$$-0.135888560554$$"
      ],
      "text/plain": [
       "-0.135888560554"
      ]
     },
     "execution_count": 156,
     "metadata": {},
     "output_type": "execute_result"
    }
   ],
   "source": [
    "a"
   ]
  },
  {
   "cell_type": "markdown",
   "metadata": {},
   "source": [
    "\n",
    "$$X = \\left[\\begin{array}{ccc} 2 t_1 & 1 & 0 \\\\ t_1^2 & t_1 & 1\\\\2 (t_1 +7) & 1 &0 \\\\ \\end{array} \\right]$$\n",
    "$$C = \\left[\\begin{array}{c}a_1  \\\\ b_1  \\\\ c_1 \\\\ \\end{array} \\right]$$\n",
    "$$Y = \\left[\\begin{array}{c}y'  \\\\ y \\\\ 0 \\\\ \\end{array} \\right]$$\n",
    "\n",
    "$$C = X^{-1} Y$$"
   ]
  },
  {
   "cell_type": "code",
   "execution_count": 185,
   "metadata": {
    "collapsed": false
   },
   "outputs": [
    {
     "name": "stdout",
     "output_type": "stream",
     "text": [
      "[0.0059432412044351061, 0.34691151708017826, 0.63098324717090826, 0.87241714807164972, 1.0016986416416453, 1.020495598855012]\n"
     ]
    },
    {
     "data": {
      "image/png": "[encoded data removed]",
      "text/latex": [
       "$$0.00594324120444$$"
      ],
      "text/plain": [
       "0.00594324120444"
      ]
     },
     "execution_count": 185,
     "metadata": {},
     "output_type": "execute_result"
    }
   ],
   "source": [
    "Tr = 7 #drying out time in days\n",
    "\n",
    "def moist(t, C = c, A=a):\n",
    "    y = C*(1-np.exp(A*t+b))\n",
    "    return y\n",
    "\n",
    "def dry(t, t_0, C = c, A=a, tr = Tr):\n",
    "    y = C*(1-np.exp(A*t_0+b))\n",
    "    y_ = -C*A*np.exp(A*t_0+b)\n",
    "    Y = np.matrix([[y_],[y],[0]])\n",
    "    X = np.matrix([[2*t_0, 1,0],[t_0**2, t_0, 1],[2*(t_0+tr), 1, 0]])\n",
    "    cof = np.linalg.inv(X)*Y\n",
    "    a_1, b_1, c_1 = map(float,cof)\n",
    "    y_1 = a_1*t**2+b_1*t+c_1\n",
    "    return y_1\n",
    "\n",
    "def f_c(t, C = c, A=a,t_0 = None, tr = Tr):\n",
    "    if t_0==None:\n",
    "        y=moist(t, C, A)\n",
    "    elif t<=t_0:\n",
    "        y=moist(t, C, A)\n",
    "    elif t_0<t<=t_0+tr:\n",
    "        y=dry(t, t_0, C, A, tr)\n",
    "    else:\n",
    "        y=dry(t_0+tr, t_0, C, A, tr)\n",
    "    return y\n",
    "\n",
    "\n",
    "\n",
    "print([f_c(x) for x in t])\n",
    "f_c(0)"
   ]
  },
  {
   "cell_type": "code",
   "execution_count": 140,
   "metadata": {
    "collapsed": false
   },
   "outputs": [
    {
     "name": "stdout",
     "output_type": "stream",
     "text": [
      "(0.0059432412044351061, 1.0243707476999999)\n"
     ]
    }
   ],
   "source": [
    "print((f_c(0),f_c(365)))"
   ]
  },
  {
   "cell_type": "code",
   "execution_count": 196,
   "metadata": {
    "collapsed": false
   },
   "outputs": [
    {
     "data": {
      "image/png": "[encoded data removed]",
      "text/plain": [
       "<matplotlib.figure.Figure at 0x7f6032cb2b00>"
      ]
     },
     "metadata": {},
     "output_type": "display_data"
    }
   ],
   "source": [
    "import numpy as np\n",
    "import matplotlib.pyplot as plt\n",
    "%matplotlib inline\n",
    "fig,ax=plt.subplots(nrows=1, ncols=1, figsize=(8,6))\n",
    "x = np.linspace(0, 56)\n",
    "m = 1.30\n",
    "def a_m(t,t_0):\n",
    "    if t_0>0:\n",
    "        bb = t_0/28 if t>t_0 else 1\n",
    "    else:\n",
    "        bb=1\n",
    "    am = 1/((2)*m)\n",
    "    return am\n",
    "y = [f_c(X,m,a*a_m(X,28), 25) for X in x]\n",
    "\n",
    "y_1 = [f_c(X,m,a*a_m(X,7),17) for X in x]\n",
    "\n",
    "y_2 = [f_c(X,m,a*a_m(X,90)) for X in x]\n",
    "\n",
    "y_3 = [f_c(X,m,a*a_m(X,7),3, tr=17) for X in x]\n",
    "ax.plot(x, y,  'b',label=\"28 day Moist Cure\")\n",
    "ax.plot(x, y_1, marker=5, color='r',label=\"7 day Moist Cure\")\n",
    "ax.plot(x, y_2, 'g--',label=\"Continous Moist Cure\")\n",
    "ax.plot(x, y_3, '+',color=\"black\",label=\"Lab Air Cure\")\n",
    "ax.grid(True)\n",
    "\n",
    "ax.set_xlabel(\"Time (days)\")\n",
    "# ax.set_xscale('log')\n",
    "ax.set_xticks(ticks=[1,3,7,14,28,56])\n",
    "ax.set_xticklabels([1,3,7,14,28,56])\n",
    "# ax.xaxis.\n",
    "ax.set_ylabel(\"Percentage 28 day Strength\")\n",
    "ax.legend(bbox_to_anchor=(1.05, 1), loc=2, borderaxespad=0.)\n",
    "\n",
    "\n",
    "# ax.show()\n",
    "fig.savefig(\"Strength_vs_time.svg\",bbox_inches='tight')"
   ]
  },
  {
   "cell_type": "code",
   "execution_count": 86,
   "metadata": {
    "collapsed": false
   },
   "outputs": [
    {
     "data": {
      "text/plain": [
       "1.2656249999999998"
      ]
     },
     "execution_count": 86,
     "metadata": {},
     "output_type": "execute_result"
    }
   ],
   "source": [
    "8.1/6.4"
   ]
  }
 ],
 "metadata": {
  "kernelspec": {
   "display_name": "Python 3",
   "language": "python",
   "name": "python3"
  },
  "language_info": {
   "codemirror_mode": {
    "name": "ipython",
    "version": 3
   },
   "file_extension": ".py",
   "mimetype": "text/x-python",
   "name": "python",
   "nbconvert_exporter": "python",
   "pygments_lexer": "ipython3",
   "version": "3.4.0"
  }
 },
 "nbformat": 4,
 "nbformat_minor": 0
}
