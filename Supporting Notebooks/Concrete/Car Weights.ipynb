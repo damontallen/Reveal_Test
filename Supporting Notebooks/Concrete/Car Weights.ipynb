{
 "cells": [
  {
   "cell_type": "markdown",
   "metadata": {},
   "source": [
    "Information found [here](http://cars.lovetoknow.com/List_of_Car_Weights)."
   ]
  },
  {
   "cell_type": "code",
   "execution_count": 3,
   "metadata": {
    "collapsed": false
   },
   "outputs": [
    {
     "data": {
      "text/plain": [
       "[Car(year=2012, model='Toyota Camry', weight=3190),\n",
       " Car(year=2012, model='Toyota Prius', weight=3042),\n",
       " Car(year=2012, model='Toyota Avalon', weight=3572),\n",
       " Car(year=2013, model='Toyota Matrix', weight=2888),\n",
       " Car(year=2013, model='Chevrolet Equinox LS', weight=3777),\n",
       " Car(year=2013, model='Chevrolet Corvette', weight=3208),\n",
       " Car(year=2013, model='Chevrolet Malibu', weight=3393),\n",
       " Car(year=2012, model='Chrysler Town and Country', weight=4652),\n",
       " Car(year=2012, model='Subaru Outback', weight=3495),\n",
       " Car(year=2014, model='Subaru Impreza', weight=3208),\n",
       " Car(year=2013, model='BMW 740i Sedan', weight=4344),\n",
       " Car(year=2012, model='Honda Civic LX Coupe', weight=2617),\n",
       " Car(year=2012, model='Cadillac Escalade EXT', weight=5949),\n",
       " Car(year=2012, model='MINI Cooper Hatchback', weight=2535),\n",
       " Car(year=2013, model='Dodge Durango', weight=4756),\n",
       " Car(year=2013, model='Hyundai Accent', weight=2396),\n",
       " Car(year=2013, model='Hyundai Elantra', weight=2701),\n",
       " Car(year=2012, model='Scion xB', weight=3084),\n",
       " Car(year=2012, model='Scion TC', weight=3102),\n",
       " Car(year=2013, model='Buick Regal', weight=3600),\n",
       " Car(year=2014, model='Buick LaCrosse', weight=3756),\n",
       " Car(year=2014, model='Buick Verano', weight=3300),\n",
       " Car(year=2013, model='Kia Optima Hybrid', weight=3496),\n",
       " Car(year=2014, model='Kia Cadenza', weight=3668),\n",
       " Car(year=2012, model='Lexus IS-F', weight=3780),\n",
       " Car(year=2013, model='Audi A6', weight=3682),\n",
       " Car(year=2014, model='BMW 5-Series', weight=3814),\n",
       " Car(year=2012, model='Nissan Cube', weight=2768),\n",
       " Car(year=2012, model='Nissan Maxima', weight=3540),\n",
       " Car(year=2014, model='Nissan Versa', weight=2354),\n",
       " Car(year=2013, model='Ford Focus', weight=2935),\n",
       " Car(year=2013, model='Ford Taurus', weight=4037),\n",
       " Car(year=2012, model='Smart Fortwo', weight=1808),\n",
       " Car(year=2013, model='Mazda MAZDA6', weight=3323),\n",
       " Car(year=2014, model='Porsche Panamera', weight=3968)]"
      ]
     },
     "execution_count": 3,
     "metadata": {},
     "output_type": "execute_result"
    }
   ],
   "source": [
    "txt = \"\"\"2012 Toyota Camry \t3,190 pounds\n",
    "2012 Toyota Prius \t3,042 pounds\n",
    "2012 Toyota Avalon \t3,572 pounds\n",
    "2013 Toyota Matrix\t2,888 pounds\n",
    "2013 Chevrolet Equinox LS \t3,777 pounds\n",
    "2013 Chevrolet Corvette \t3,208 pounds\n",
    "2013 Chevrolet Malibu \t3,393 pounds\n",
    "2012 Chrysler Town and Country \t4,652 pounds\n",
    "2012 Subaru Outback \t3,495 pounds\n",
    "2014 Subaru Impreza \t3,208 pounds\n",
    "2013 BMW 740i Sedan \t4,344 pounds\n",
    "2012 Honda Civic LX Coupe \t2,617 pounds\n",
    "2012 Cadillac Escalade EXT \t5,949 pounds\n",
    "2012 MINI Cooper Hatchback \t2.535 pounds\n",
    "2013 Dodge Durango \t4,756 pounds\n",
    "2013 Hyundai Accent \t2,396 pounds\n",
    "2013 Hyundai Elantra\t2,701 pounds\n",
    "2012 Scion xB \t3,084 pounds\n",
    "2012 Scion TC \t3,102 pounds\n",
    "2013 Buick Regal \t3,600 pounds\n",
    "2014 Buick LaCrosse \t3,756 pounds\n",
    "2014 Buick Verano\t3,300 pounds\n",
    "2013 Kia Optima Hybrid\t3,496 pounds\n",
    "2014 Kia Cadenza \t3,668 pounds\n",
    "2012 Lexus IS-F \t3,780 pounds\n",
    "2013 Audi A6 \t3,682 pounds\n",
    "2014 BMW 5-Series \t3,814 pounds\n",
    "2012 Nissan Cube \t2,768 pounds\n",
    "2012 Nissan Maxima \t3,540 pounds\n",
    "2014 Nissan Versa\t2,354 pounds\n",
    "2013 Ford Focus \t2,935 pounds\n",
    "2013 Ford Taurus \t4,037 pounds\n",
    "2012 Smart Fortwo \t1,808 pounds\n",
    "2013 Mazda MAZDA6 \t3,323 pounds\n",
    "2014 Porsche Panamera \t3,968 pounds\"\"\"\n",
    "from collections import namedtuple\n",
    "import re\n",
    "Weight = re.compile(r'\\d.\\d\\d\\d')\n",
    "Car = namedtuple(\"Car\",\"year model weight\")\n",
    "cars = []\n",
    "for line in txt.splitlines():\n",
    "    year = int(line[0:4])\n",
    "    model = line[5:].split('\\t')[0].strip()\n",
    "    weight = Weight.findall(line)[0]\n",
    "    weight = int(weight[0]+weight[2:])\n",
    "    cars.append(Car(year,model,weight))\n",
    "cars"
   ]
  },
  {
   "cell_type": "code",
   "execution_count": 17,
   "metadata": {
    "collapsed": false
   },
   "outputs": [
    {
     "name": "stdout",
     "output_type": "stream",
     "text": [
      "3421.08571429\n",
      "Car(year=2013, model='Chevrolet Malibu', weight=3393)\n",
      "6 Chevrolet Malibus supprted on a square of concrete measuring 15/16 inches on ech side.\n"
     ]
    }
   ],
   "source": [
    "import numpy as np\n",
    "w_ave = np.average([c.weight for c in cars])\n",
    "print(w_ave)\n",
    "closest = cars[0]\n",
    "for c in cars:\n",
    "    if np.abs(c.weight-w_ave) < np.abs(closest.weight-w_ave):\n",
    "        closest = c\n",
    "print(closest)\n",
    "cnt = int(np.ceil(19000/closest.weight))\n",
    "size = 19000/(cnt*closest.weight)\n",
    "side = int(round(np.sqrt(size)*16))\n",
    "print(\"{} {}s supprted on a square of concrete measuring {}/16 inches on ech side.\".format(cnt,closest.model,side))"
   ]
  }
 ],
 "metadata": {
  "kernelspec": {
   "display_name": "Python 3",
   "language": "python",
   "name": "python3"
  },
  "language_info": {
   "codemirror_mode": {
    "name": "ipython",
    "version": 3
   },
   "file_extension": ".py",
   "mimetype": "text/x-python",
   "name": "python",
   "nbconvert_exporter": "python",
   "pygments_lexer": "ipython3",
   "version": "3.4.3"
  }
 },
 "nbformat": 4,
 "nbformat_minor": 0
}
