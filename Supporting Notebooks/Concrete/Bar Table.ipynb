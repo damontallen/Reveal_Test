{
 "cells": [
  {
   "cell_type": "code",
   "execution_count": 16,
   "metadata": {
    "collapsed": false
   },
   "outputs": [
    {
     "data": {
      "text/plain": [
       "[['#2', 0.25, 0.05],\n",
       " ['#3', 0.375, 0.11],\n",
       " ['#4', 0.5, 0.2],\n",
       " ['#5', 0.625, 0.31],\n",
       " ['#6', 0.75, 0.44],\n",
       " ['#7', 0.875, 0.6],\n",
       " ['#8', 1.0, 0.79],\n",
       " ['#9', 1.128, 1.0],\n",
       " ['#10', 1.27, 1.27],\n",
       " ['#11', 1.41, 1.56],\n",
       " ['#14', 1.693, 2.25],\n",
       " ['#18', 2.257, 4.0]]"
      ]
     },
     "execution_count": 16,
     "metadata": {},
     "output_type": "execute_result"
    }
   ],
   "source": [
    "with open(\"Bar Sizes.csv\",'r')as f:\n",
    "    txt = f.read()\n",
    "bars = txt.splitlines()\n",
    "Bars = []\n",
    "for bar in bars:\n",
    "    if \"#18J\" in bar:\n",
    "        break\n",
    "    val = bar.split(\",\")\n",
    "    Bars.append([val[0],float(val[4].split(\"=\")[0].strip()),float(val[6])])\n",
    "Bars"
   ]
  },
  {
   "cell_type": "code",
   "execution_count": 26,
   "metadata": {
    "collapsed": false
   },
   "outputs": [
    {
     "name": "stdout",
     "output_type": "stream",
     "text": [
      "<table>\n",
      "    <tr><th>Bar No.</th><th>Diameter (in)</th><th>Area (in$^2$)</th></tr>\n",
      "    <tr><td style=\"text-align: right;\">#2</td><td style=\"text-align: left;\">0.250 = 2/8\"</td><td style=\"text-align: left;\">0.05</td></tr>\n",
      "    <tr><td style=\"text-align: right;\">#3</td><td style=\"text-align: left;\">0.375 = 3/8\"</td><td style=\"text-align: left;\">0.11</td></tr>\n",
      "    <tr><td style=\"text-align: right;\">#4</td><td style=\"text-align: left;\">0.500 = 4/8\"</td><td style=\"text-align: left;\"> 0.2</td></tr>\n",
      "    <tr><td style=\"text-align: right;\">#5</td><td style=\"text-align: left;\">0.625 = 5/8\"</td><td style=\"text-align: left;\">0.31</td></tr>\n",
      "    <tr><td style=\"text-align: right;\">#6</td><td style=\"text-align: left;\">0.750 = 6/8\"</td><td style=\"text-align: left;\">0.44</td></tr>\n",
      "    <tr><td style=\"text-align: right;\">#7</td><td style=\"text-align: left;\">0.875 = 7/8\"</td><td style=\"text-align: left;\"> 0.6</td></tr>\n",
      "    <tr><td style=\"text-align: right;\">#8</td><td style=\"text-align: left;\">1.000 = 8/8\"</td><td style=\"text-align: left;\">0.79</td></tr>\n",
      "    <tr><td style=\"text-align: right;\">#9</td><td style=\"text-align: left;\">1.128 = 9.02/8\"</td><td style=\"text-align: left;\"> 1.0</td></tr>\n",
      "    <tr><td style=\"text-align: right;\">#10</td><td style=\"text-align: left;\">1.270 = 10.16/8\"</td><td style=\"text-align: left;\">1.27</td></tr>\n",
      "    <tr><td style=\"text-align: right;\">#11</td><td style=\"text-align: left;\">1.410 = 11.28/8\"</td><td style=\"text-align: left;\">1.56</td></tr>\n",
      "    <tr><td style=\"text-align: right;\">#14</td><td style=\"text-align: left;\">1.693 = 13.54/8\"</td><td style=\"text-align: left;\">2.25</td></tr>\n",
      "    <tr><td style=\"text-align: right;\">#18</td><td style=\"text-align: left;\">2.257 = 18.06/8\"</td><td style=\"text-align: left;\"> 4.0</td></tr>\n",
      "</table>\n"
     ]
    }
   ],
   "source": [
    "txt = \"\"\"<table>\n",
    "    <tr><th>Bar No.</th><th>Diameter (in)</th><th>Area (in$^2$)</th></tr>\\n\"\"\"\n",
    "line = ('    <tr><td style=\"text-align: right;\">no</td>'\n",
    "        '<td style=\"text-align: left;\">dia</td>'\n",
    "        '<td style=\"text-align: left;\">A</td></tr>\\n')\n",
    "for bar in Bars:\n",
    "    line_txt = line.replace(\"no\",bar[0])\n",
    "    dia = bar[1]\n",
    "    dia_8 = round(dia*800)/100\n",
    "    if dia_8==round(dia_8):\n",
    "        dia_8=int(dia_8)\n",
    "#     else:\n",
    "    Dia = '{:0.3f} = {}/8\"'.format(dia,dia_8)\n",
    "    line_txt = line_txt.replace(\"dia\",Dia)\n",
    "    line_txt = line_txt.replace(\"A\",\"{}\".format(bar[2]).rjust(4))\n",
    "    txt += line_txt\n",
    "txt+=\"</table>\"\n",
    "print(txt)"
   ]
  },
  {
   "cell_type": "code",
   "execution_count": 21,
   "metadata": {
    "collapsed": false
   },
   "outputs": [
    {
     "data": {
      "text/plain": [
       "' 123'"
      ]
     },
     "execution_count": 21,
     "metadata": {},
     "output_type": "execute_result"
    }
   ],
   "source": [
    "a = \"123\"\n",
    "a.rjust(4)"
   ]
  }
 ],
 "metadata": {
  "kernelspec": {
   "display_name": "Python 3",
   "language": "python",
   "name": "python3"
  },
  "language_info": {
   "codemirror_mode": {
    "name": "ipython",
    "version": 3
   },
   "file_extension": ".py",
   "mimetype": "text/x-python",
   "name": "python",
   "nbconvert_exporter": "python",
   "pygments_lexer": "ipython3",
   "version": "3.4.0"
  }
 },
 "nbformat": 4,
 "nbformat_minor": 0
}
