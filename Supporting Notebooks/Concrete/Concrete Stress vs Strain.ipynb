{
 "cells": [
  {
   "cell_type": "code",
   "execution_count": 1,
   "metadata": {
    "collapsed": true
   },
   "outputs": [],
   "source": [
    "import numpy as np\n",
    "# from numpy import sqrt\n",
    "f_c = 3000\n",
    "E_c = 57000*np.sqrt(f_c)"
   ]
  },
  {
   "cell_type": "code",
   "execution_count": 2,
   "metadata": {
    "collapsed": false
   },
   "outputs": [],
   "source": [
    "from collections import namedtuple\n",
    "Point = namedtuple(\"Point\",\"strain stress\")\n",
    "points = []\n",
    "point = Point((f_c/2)/E_c, f_c/2)\n",
    "points.append(point)\n",
    "point = Point(0.0016, f_c)\n",
    "points.append(point)\n",
    "point = Point(0.003, 0.75*f_c)\n",
    "points.append(point)"
   ]
  },
  {
   "cell_type": "markdown",
   "metadata": {},
   "source": [
    "* Assume: The stress strain plot can be broken up into three functions.\n",
    "* Assume: $f_0$ is a 1st order polynomial.\n",
    "* Assume: $f_1$ is a 3nd order polynomial. \n",
    "* Assume: $f_2$ is a 2nd order polynomial.\n",
    "\n",
    "$$f_0 = E_c x$$\n",
    "\n",
    "$$f_1 = d_1 x^3 + a_1 x^2 +b_1 x +c_1$$\n",
    "\n",
    "$$f_2 = a_2 x^2 +b_2 x +c_2$$\n",
    "\n",
    "At point 0:\n",
    "$$\\frac{df_1}{dx} = 2 a_1 x + b_1$$\n",
    "\n",
    "$$ 3 d_1 x_0^2 + 2 a_1 x_0 + b_1 = E_c$$\n",
    "\n",
    "$$d_1 x_0^3 + a_1 x_0^2 +b_1 x_0 +c_1 = y_0$$\n",
    "\n",
    "At point 1:\n",
    "$$\\frac{df_1}{dx} = \\frac{df_2}{dx} $$\n",
    "$$3 d_1 x_0^2 + 2 a_1 x_1 + b_1 = 2 a_2 x_1 + b_2= 0$$\n",
    "\n",
    "$$d_1 x_0^3 + a_1 x_1^2 +b_1 x_1 +c_1 = a_2 x_1^2 +b_2 x_1 +c_2 = y_1$$\n",
    "\n",
    "At point 2:\n",
    "$$a_2 x_2^2 +b_2 x_2 +c_2 =  y_2$$\n"
   ]
  },
  {
   "cell_type": "markdown",
   "metadata": {},
   "source": [
    "Combining:\n",
    "$$d_1 x_0^3 + a_1 x_0^2 +b_1 x_0 +c_1 = y_0$$\n",
    "\n",
    "$$2 a_1 x_0 + b_1 = E_c$$\n",
    "\n",
    "$$2 a_1 x_1 + b_1 =  0$$\n",
    "\n",
    "$$d_1 x_1^3 + a_1 x_1^2 +b_1 x_1 +c_1 = y_1$$\n",
    "\n",
    "$$A_1 = \\left[\\begin{array}{cccc}x_0^3 &x_0^2 & x_0 & 1 \\\\ 3 x_0^2 & 2 x_0 & 1 & 0 \\\\3 x_1^2 & 2 x_1 & 1 & 0 \\\\ x_1^3 & x_1^2 & x_1 & 1 \\\\ \\end{array}\\right]$$\n",
    "$$C_1 = \\left[\\begin{array}{c}d_1 \\\\ a_1 \\\\ b_1 \\\\ c_1\\\\ \\end{array}\\right]$$\n",
    "$$Y_1 = \\left[\\begin{array}{c}0.5 f_c \\\\E_c \\\\ 0 \\\\ f_c\\\\\\end{array}\\right]$$\n",
    "\n",
    "$$A_1 C_1 = Y_1$$\n",
    "$$\\therefore$$\n",
    "$$ C_1 = A_1^{-1} Y_1$$\n"
   ]
  },
  {
   "cell_type": "code",
   "execution_count": 3,
   "metadata": {
    "collapsed": false
   },
   "outputs": [
    {
     "data": {
      "text/plain": [
       "matrix([[  3.52927888e+11],\n",
       "        [ -2.49570663e+09],\n",
       "        [  5.27577503e+06],\n",
       "        [ -4.97823708e+02]])"
      ]
     },
     "execution_count": 3,
     "metadata": {},
     "output_type": "execute_result"
    }
   ],
   "source": [
    "from numpy.linalg import inv\n",
    "x_0, y_0 = points[0]\n",
    "x_1, y_1 = points[1]\n",
    "A_1 = np.matrix([[x_0**3,  x_0**2, x_0, 1],\n",
    "                 [3*x_0**2,2*x_0,  1,   0],\n",
    "                 [3*x_1**2,2*x_1,  1,   0],\n",
    "                 [x_1**3,  x_1**2, x_1, 1]])\n",
    "Y_1 = np.matrix([[y_0],[E_c],[0],[y_1]])\n",
    "C_1 = inv(A_1)*Y_1\n",
    "C_1"
   ]
  },
  {
   "cell_type": "code",
   "execution_count": 4,
   "metadata": {
    "collapsed": false
   },
   "outputs": [
    {
     "data": {
      "text/plain": [
       "False"
      ]
     },
     "execution_count": 4,
     "metadata": {},
     "output_type": "execute_result"
    }
   ],
   "source": [
    "np.allclose(A_1*C_1,Y_1)"
   ]
  },
  {
   "cell_type": "code",
   "execution_count": 5,
   "metadata": {
    "collapsed": false
   },
   "outputs": [
    {
     "name": "stdout",
     "output_type": "stream",
     "text": [
      "(352927888358.18945, -2495706628.680458, 5275775.029186586, -497.82370799169666)\n"
     ]
    }
   ],
   "source": [
    "d_1, a_1, b_1, c_1 = map(float,C_1)\n",
    "print((d_1, a_1, b_1, c_1))"
   ]
  },
  {
   "cell_type": "markdown",
   "metadata": {},
   "source": [
    "    >>> from numpy.linalg import inv\n",
    "    >>> np.matrix([[1, 2], [3, 4]])\n",
    "    matrix([[1, 2],\n",
    "            [3, 4]])\n",
    "            \n",
    "    Solve the system of equations 3 * x0 + x1 = 9 and x0 + 2 * x1 = 8:\n",
    "    >>>\n",
    "\n",
    "    >>> a = np.array([[3,1], [1,2]])\n",
    "    >>> b = np.array([9,8])\n",
    "    >>> x = np.linalg.solve(a, b)\n",
    "    >>> x\n",
    "    array([ 2.,  3.])\n",
    "\n"
   ]
  },
  {
   "cell_type": "markdown",
   "metadata": {},
   "source": [
    "At point 1:\n",
    "$$ 2 a_2 x_1 + b_2= 0$$\n",
    "\n",
    "$$a_2 x_1^2 +b_2 x_1 +c_2 = y_1$$\n",
    "\n",
    "At point 2:\n",
    "$$a_2 x_2^2 +b_2 x_2 +c_2 =  y_2$$\n",
    "\n",
    "$$A_2 = \\left[\\begin{array}{ccc}0 & 2 x_1 &1 \\\\ x_1^2 & x_1 &1 \\\\ x_2^2 & x_2 &1 \\\\ \\end{array} \\right]$$\n",
    "$$C_2 = \\left[\\begin{array}{c}a  \\\\ b \\\\ c \\\\ \\end{array} \\right]$$\n",
    "$$Y_2 = \\left[\\begin{array}{c}0  \\\\ f_c \\\\ 0.75 f_c \\\\ \\end{array} \\right]$$\n",
    "\n",
    "$$A_2 C_2 = Y_2$$\n",
    "$$\\therefore$$\n",
    "$$ C_2 = A_2^{-1} Y_2$$"
   ]
  },
  {
   "cell_type": "code",
   "execution_count": 6,
   "metadata": {
    "collapsed": false
   },
   "outputs": [
    {
     "data": {
      "text/plain": [
       "[Point(strain=0.00048045838377646147, stress=1500.0),\n",
       " Point(strain=0.0016, stress=3000),\n",
       " Point(strain=0.003, stress=2250.0)]"
      ]
     },
     "execution_count": 6,
     "metadata": {},
     "output_type": "execute_result"
    }
   ],
   "source": [
    "points"
   ]
  },
  {
   "cell_type": "code",
   "execution_count": 7,
   "metadata": {
    "collapsed": false
   },
   "outputs": [
    {
     "data": {
      "text/plain": [
       "matrix([[ -3.82653061e+08],\n",
       "        [  1.22448980e+06],\n",
       "        [  2.02040816e+03]])"
      ]
     },
     "execution_count": 7,
     "metadata": {},
     "output_type": "execute_result"
    }
   ],
   "source": [
    "x_1, y_1 = points[1]\n",
    "x_2, y_2 = points[2]\n",
    "A_2 = np.matrix([[2*x_1, 1,0],[x_1**2, x_1, 1],[x_2**2, x_2, 1]])\n",
    "Y_2 = np.matrix([[0],[y_1],[y_2]])\n",
    "C_2 = inv(A_2)*Y_2\n",
    "C_2"
   ]
  },
  {
   "cell_type": "code",
   "execution_count": 8,
   "metadata": {
    "collapsed": false
   },
   "outputs": [
    {
     "data": {
      "text/plain": [
       "True"
      ]
     },
     "execution_count": 8,
     "metadata": {},
     "output_type": "execute_result"
    }
   ],
   "source": [
    "np.allclose(A_2*C_2,Y_2)"
   ]
  },
  {
   "cell_type": "code",
   "execution_count": 9,
   "metadata": {
    "collapsed": false
   },
   "outputs": [
    {
     "name": "stdout",
     "output_type": "stream",
     "text": [
      "(-382653061.2244899, 1224489.7959183673, 2020.4081632653056)\n"
     ]
    }
   ],
   "source": [
    "a_2, b_2, c_2 = map(float,C_2)\n",
    "print((a_2, b_2, c_2))"
   ]
  },
  {
   "cell_type": "code",
   "execution_count": 15,
   "metadata": {
    "collapsed": false
   },
   "outputs": [
    {
     "data": {
      "image/png": "[encoded data removed]",
      "text/plain": [
       "<matplotlib.figure.Figure at 0x7f67869812b0>"
      ]
     },
     "metadata": {},
     "output_type": "display_data"
    }
   ],
   "source": [
    "import matplotlib\n",
    "import matplotlib.pyplot as plt\n",
    "%matplotlib inline\n",
    "\n",
    "def σ(ɛ):\n",
    "    if ɛ < x_0:\n",
    "        s = E_c * ɛ\n",
    "    elif x_0 <= ɛ < x_1:\n",
    "        s = d_1 * ɛ**3 + a_1 * ɛ**2 + b_1 * ɛ + c_1\n",
    "    elif x_1 <= ɛ :\n",
    "        s = a_2 * ɛ**2 + b_2 * ɛ + c_2\n",
    "    return s\n",
    "\n",
    "x = np.linspace(0, 300) / 100000\n",
    "y = [σ(ɛ) for ɛ in x]\n",
    "\n",
    "plt.plot(x, y)\n",
    "plt.grid(True)\n",
    "plt.ylim(0,y_1+500)\n",
    "plt.xlim(0,0.0035)\n",
    "plt.ylabel(\"Stress (psi)\")\n",
    "plt.xlabel(\"Srain (in/in)\")\n",
    "plt.savefig(\"Stress-Strain.svg\")\n",
    "plt.show()"
   ]
  },
  {
   "cell_type": "code",
   "execution_count": 14,
   "metadata": {
    "collapsed": false
   },
   "outputs": [
    {
     "data": {
      "text/plain": [
       "<matplotlib.figure.Figure at 0x7f67625ef828>"
      ]
     },
     "metadata": {},
     "output_type": "display_data"
    }
   ],
   "source": [
    "plt.savefig(\"Stress-Strain.png\")"
   ]
  }
 ],
 "metadata": {
  "kernelspec": {
   "display_name": "Python 3",
   "language": "python",
   "name": "python3"
  },
  "language_info": {
   "codemirror_mode": {
    "name": "ipython",
    "version": 3
   },
   "file_extension": ".py",
   "mimetype": "text/x-python",
   "name": "python",
   "nbconvert_exporter": "python",
   "pygments_lexer": "ipython3",
   "version": "3.4.0"
  }
 },
 "nbformat": 4,
 "nbformat_minor": 0
}
