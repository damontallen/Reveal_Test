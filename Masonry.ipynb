{
 "cells": [
  {
   "cell_type": "markdown",
   "metadata": {
    "slideshow": {
     "slide_type": "slide"
    }
   },
   "source": [
    "# Masonry"
   ]
  },
  {
   "cell_type": "markdown",
   "metadata": {
    "slideshow": {
     "slide_type": "-"
    }
   },
   "source": [
    "<p>\n",
    "<iframe width=\"420\" height=\"315\" src=\"//www.youtube.com/embed/N0bprpxS8mA\" frameborder=\"0\" allowfullscreen></iframe>\n",
    "</p>"
   ]
  },
  {
   "cell_type": "markdown",
   "metadata": {
    "slideshow": {
     "slide_type": "slide"
    }
   },
   "source": [
    "## Introduction"
   ]
  },
  {
   "cell_type": "markdown",
   "metadata": {
    "slideshow": {
     "slide_type": "-"
    }
   },
   "source": [
    "<audio controls data-autoplay preload>\n",
    " <source src=\"https://github.com/damontallen/Construction-materials/raw/master/Lecture_Audio/Week_6/Masonry/Masonry-Introduction.mp3\"\n",
    "         type='audio/mp3'>\n",
    " <p>Your user agent does not support the HTML5 Audio element or the files is missing.</p>\n",
    "</audio>"
   ]
  },
  {
   "cell_type": "markdown",
   "metadata": {},
   "source": [
    "The term masonry covers concrete blocks, bricks, stone work, and even glass block.  To generalize it is any work done where elements are assembled by means of laying with the application of mortar.  Mortar is a mixture of a cementitious product and well-graded sand.  There are a variety types of mortar, and numerous sizes, and styles of blocks, and bricks.  I've shown just a small sample of brick sizes below. You should note that this is actually broken into two tables and both tables are dependant upon the mortor joint size.  A more complete list is available at \"[Dimensioning and Estimating Brick Masonry](http://www.gobrick.com/Portals/25/docs/Technical%20Notes/TN10.pdf)\".\n",
    "\n",
    "<a href = \"https://en.wikipedia.org/wiki/Brickwork\"><img src=\"https://upload.wikimedia.org/wikipedia/commons/b/bc/Brickpositions.PNG\" alt = \"Brick position terms image\" Title=\"Non-Modular Brick Positions\"  style=\"max-width:250px; max-height:250px; border:1px solid blue; float:left; margin-right:10px;\"/></a><a href=\"https://upload.wikimedia.org/wikipedia/commons/e/e2/Brick_terms.jpg\"><img src=\"https://upload.wikimedia.org/wikipedia/commons/e/e2/Brick_terms.jpg\" alt = \"Bricks in wall labeled image\" Title=\"Labeled Bricks in Wall\"  style=\"max-width:300px; max-height:300px; border:1px solid blue; float:right; margin-left:10px; margin-bottom:10px;\"/></a><table width=\"550\" style=\"float:left; margin-right:10px;\">\n",
    "    <caption>Brick Sizes for $\\frac{3}{8}''$ Mortor Joint</caption>\n",
    "    <tr><th>Brick Type</th><th>Specified Dimensions</th><th>Nominal Dimensions</th>\n",
    "    <th>Vertical Coursing</th></tr>\n",
    "    <tr><td>Standard</td><td>$3 \\frac{5}{8}'' \\times 2 \\frac{1}{4}'' \\times 8''$</td>\n",
    "    <td>Not modular</td><td>$8'' \\approx$ 3 courses</td></tr>\n",
    "    <tr><td>Modular</td><td>$3 \\frac{5}{8}'' \\times 2 \\frac{1}{4}'' \\times 7 \\frac{5}{8}''$</td>\n",
    "    <td>$4'' \\times 2 \\frac{2}{3}'' \\times 8''$</td><td>$8'' \\approx$ 3 courses</td></tr>\n",
    "    <tr><td>Norman</td><td>$3 \\frac{5}{8}'' \\times 2 \\frac{1}{4}'' \\times 11 \\frac{5}{8}''$</td>\n",
    "    <td>$4'' \\times 2 \\frac{2}{3}'' \\times 12''$</td><td>$8'' \\approx$ 3 courses</td></tr>\n",
    "    <tr><td>Roman</td><td>$3 \\frac{5}{8}'' \\times 1 \\frac{5}{8}'' \\times 11 \\frac{5}{8}''$</td>\n",
    "    <td>$4'' \\times 2'' \\times 12''$</td><td>$2'' \\approx$ 1 course</td></tr>\n",
    "    <tr><td>Jumbo</td><td>$3 \\frac{5}{8}'' \\times 2 \\frac{3}{4}'' \\times 8''$</td>\n",
    "    <td>$4'' \\times 3'' \\times 8''$</td><td>$3'' \\approx$ 1 course</td></tr>\n",
    "    <tr><td>Economy</td><td>$3 \\frac{5}{8}'' \\times 3 \\frac{5}{8}'' \\times 7 \\frac{5}{8}''$</td>\n",
    "    <td>$4'' \\times 4'' \\times 8''$</td><td>$4'' \\approx$ 1 course</td></tr>\n",
    "    <tr><td>Engineer</td><td>$3 \\frac{5}{8}'' \\times 2 \\frac{13}{16}'' \\times 7 \\frac{5}{8}''$</td>\n",
    "    <td>$4'' \\times 3 \\frac{1}{5}'' \\times 8''$</td><td>$16'' \\approx$ 5 courses</td></tr>\n",
    "    <tr><td>King</td><td>$2 \\frac{3}{4}'' \\times 2 \\frac{5}{8}'' \\times 9 \\frac{5}{8}''$</td>\n",
    "    <td>Not modular</td><td>$16'' \\approx$ 5 courses</td></tr>\n",
    "    <tr><td>Queen</td><td>$2 \\frac{3}{4}'' \\times 2 \\frac{3}{4}'' \\times 7 \\frac{5}{8}''$</td>\n",
    "    <td>Not modular</td><td>$16'' \\approx$ 5 courses</td></tr>\n",
    "    <tr><td>Utility</td><td>$3 \\frac{5}{8}'' \\times 3 \\frac{5}{8}'' \\times 11 \\frac{5}{8}''$</td>\n",
    "    <td>$4'' \\times 4'' \\times 12''$</td><td>$4'' \\approx$ 1 course</td></tr>\n",
    "</table>\n",
    "\n",
    "\n",
    "There are also different terms for the same type of brick (or block) depending on its orientation in a wall.  It is important to be familiar with terms like Stretcher, Header, Soldier, Sailor, Rowlock and Shiner ([detailed description](https://en.wikipedia.org/wiki/Brickwork#Orientation)).  Additionally a modular brick has holes in it to allow for more even firing vs. non-modular (or common) which is a solid brick.  \n",
    "\n",
    "Unfortunately we do not have time to cover all of the detail of masonry or even all the details about blocks or bricks.  There are entire classes taught on this subject.  What we are going to try to cover about masonry is a similar level of details that we have covered for the other materials.  \n",
    "\n",
    "Let's start with a little history.  Brick construction has been around since at least 6,000 B.C. in the form of sun-dried bricks and some sources put that date closer to 7,500 B.C.  It was the discovery of fired brick which allowed for the creation of a more durable product.  The process of firing actually fuses the clay particles that make up the brick together.\n",
    "\n",
    "<a href = \"https://en.wikipedia.org/wiki/Concrete_masonry_unit\"> <img src=\"https://upload.wikimedia.org/wikipedia/commons/0/0d/Concreteblocks.jpg\" alt = \"Stack of CMUs image\" Title=\"CMU Cube\"  style=\"max-width:200px; max-height:200px; border:1px solid blue; float:right; margin-left:10px; margin-top:10px;\"/></a>In contrast concrete masonry units (CMU), also known as cinder blocks, were first patented in 1900 by Harold S. Palmer.  These consist of portland cement, water, aggregates and admixtures, in some cases.  Once consolidated and unmolded these are commonly steam cured.  This allows for rapid gaining of strength.  A listing of the sizes and shapes that are commonly available can be found [here](http://www.alliedconcrete.com/wp-content/uploads/2010/04/CMU-Catalog.pdf).\n",
    "\n",
    "I'm not going to cover stone masonry and I'll touch on glass blocks in a later lecture.  For now we are going to move on to looking at the sustainability aspects of masonry."
   ]
  },
  {
   "cell_type": "markdown",
   "metadata": {
    "slideshow": {
     "slide_type": "-"
    }
   },
   "source": [
    "\n",
    "<table width=\"550\" style=\"float:right; margin-left:10px;\">\n",
    "    <caption>Brick Sizes for $\\frac{1}{2}''$ Mortor Joint</caption>\n",
    "    <tr><th>Brick Type</th><th>Specified Dimensions</th><th>Nominal Dimensions</th>\n",
    "    <th>Vertical Coursing</th></tr>\n",
    "    <tr><td>Standard</td><td>$3 \\frac{1}{2}'' \\times 2 \\frac{1}{4}'' \\times 8''$</td>\n",
    "    <td>Not modular</td><td>$8'' \\approx$ 3 courses</td></tr>\n",
    "    <tr><td>Modular</td><td>$3 \\frac{1}{2}'' \\times 2 \\frac{1}{4}'' \\times 7 \\frac{1}{2}''$</td>\n",
    "    <td>$4'' \\times 2 \\frac{2}{3}'' \\times 8''$</td><td>$8'' \\approx$ 3 courses</td></tr>\n",
    "    <tr><td>Norman</td><td>$3 \\frac{1}{2}'' \\times 2 \\frac{1}{4}'' \\times 11 \\frac{1}{2}''$</td>\n",
    "    <td>$4'' \\times 2 \\frac{2}{3}'' \\times 12''$</td><td>$8'' \\approx$ 3 courses</td></tr>\n",
    "    <tr><td>Roman</td><td>$3 \\frac{1}{2}'' \\times 1 \\frac{1}{2}'' \\times 11 \\frac{1}{2}''$</td>\n",
    "    <td>$4'' \\times 2'' \\times 12''$</td><td>$2'' \\approx$ 1 course</td></tr>\n",
    "    <tr><td>Jumbo</td><td>$3 \\frac{1}{2}'' \\times 2 \\frac{1}{2}'' \\times 8''$</td>\n",
    "    <td>$4'' \\times 3'' \\times 8''$</td><td>$3'' \\approx$ 1 course</td></tr>\n",
    "    <tr><td>Economy</td><td>$3 \\frac{1}{2}'' \\times 3 \\frac{1}{2}'' \\times 7 \\frac{1}{2}''$</td>\n",
    "    <td>$4'' \\times 4'' \\times 8''$</td><td>$4'' \\approx$ 1 course</td></tr>\n",
    "    <tr><td>Engineer</td><td>$3 \\frac{1}{2}'' \\times 2 \\frac{3}{4}'' \\times 7 \\frac{1}{2}''$</td>\n",
    "    <td>$4'' \\times 3 \\frac{1}{5}'' \\times 8''$</td><td>$16'' \\approx$ 5 courses</td></tr>\n",
    "    <tr><td>King</td><td>$3'' \\times 2 \\frac{3}{4}'' \\times 9 \\frac{3}{4}''$</td>\n",
    "    <td>Not modular</td><td>$16'' \\approx$ 5 courses</td></tr>\n",
    "    <tr><td>Queen</td><td>$3'' \\times 2 \\frac{3}{4}'' \\times 8''$</td>\n",
    "    <td>Not modular</td><td>$16'' \\approx$ 5 courses</td></tr>\n",
    "    <tr><td>Utility</td><td>$3 \\frac{1}{2}'' \\times 3 \\frac{1}{2}'' \\times 11 \\frac{1}{2}''$</td>\n",
    "    <td>$4'' \\times 4'' \\times 12''$</td><td>$4'' \\approx$ 1 course</td></tr>\n",
    "</table>\n",
    "\n",
    "\n",
    "* *([Brick Factory Tour - video](https://www.youtube.com/watch?v=cK1XhhxsYYA))*\n",
    "* *([Flyash Bricks - video](https://www.youtube.com/watch?v=Y73M7d0hwFo))*\n",
    "\n",
    "### Update\n",
    "\n",
    "New work in robotics has lead to the development of a [robot that can lay masonry units](http://www.phillyvoice.com/robot-builder-designed-for-construction-sites/).  This could lead to changes in the available sizes of brick and blocks since they would no longer need to be light enough to be easily lifted by a mason."
   ]
  },
  {
   "cell_type": "markdown",
   "metadata": {
    "slideshow": {
     "slide_type": "slide"
    }
   },
   "source": [
    "## Sustainability"
   ]
  },
  {
   "cell_type": "markdown",
   "metadata": {},
   "source": [
    "\n",
    "<audio controls data-autoplay preload>\n",
    " <source src=\"https://github.com/damontallen/Construction-materials/raw/master/Lecture_Audio/Week_6/Masonry/Masonry-Sustainability.mp3\"\n",
    "         type='audio/mp3'>\n",
    " <p>Your user agent does not support the HTML5 Audio element or the files is missing.</p>\n",
    "</audio>"
   ]
  },
  {
   "cell_type": "markdown",
   "metadata": {},
   "source": [
    "The Brick Industry Association released a Technical Note with the title [Sustainability and Brick](http://gobrick.com/Portals/25/docs/Technical%20Notes/TN48.pdf) in June of 2009.  In the Summary Of Recommendations they listed following seven points to move the industry towards sustainability.\n",
    "\n",
    ">1. Sustainable design balances environmental, economic and societal goals. It is more than just a certification from a rating system\n",
    ">2. Brick is made from abundant natural resources (clay and shale) and is readily recycled for use in the manufacturing process or other uses\n",
    ">3. Brick manufacturers address sustainability by locating plants in close proximity to mines; incorporating waste products and recycled materials into brick; reducing energy use, water use and atmospheric emissions; and utilizing landfill gas and other wastes for fuel\n",
    ">4. Brickwork used in sustainable designs can provide structure, finish, acoustic comfort, thermal comfort, good indoor air quality, fire resistance, impact resistance and durability, all in one product\n",
    ">5. Brickwork can help meet requirements of many certification rating systems in the areas of development density, storm water management, heat island effect, improved energy performance, building reuse, construction waste management, materials reuse, recycled content and regional materials\n",
    ">6. Brickwork can contribute to improved indoor air quality by eliminating the need for paints and the resulting volatile organic compounds (VOCs) and by eliminating a food source for mold\n",
    ">7. Brickwork is durable, having a life expectancy of hundreds of years. Brick buildings can be and are reused, thereby distributing their environmental impact over an extended life span\n",
    "\n",
    "Of these seven, number seven is one of the best arguments for for sustainability.  Reuse of existing structures does effectively reduce their environmental impact.  This argument can also be made for other structures, and as some of you are future contractors, this should be something you should keep in that back of your mind when trying to get a project certified as sustainable.\n",
    "\n",
    "The North West Concrete Masonry Association (NWCMA) published a technical note (TEK) on [Concrete Masonry and Sustainable Design are a Natural Fit](http://www.nwcma.org/pdfs/concrete-masony-and-sustainable-design.pdf) in 2010.  In it there were seven points arguing for the sustainable aspects of concrete masonry units on the following topics.\n",
    "\n",
    ">1. Longevity and Durability\n",
    ">2. Resource Efficiency\n",
    ">3. Byproduct Utilization\n",
    ">4. Energy Efficiency\n",
    ">5. Safety and Protection\n",
    ">6. Aesthetics\n",
    ">7. Enclosure and Finish\n",
    "\n",
    "In the sections relating to each of these points they layout how CMUs can be used in a LEED certified project.  In the final point in the paper they site a quote that echos back to the Brick Industry Association's final point,\n",
    "\n",
    ">“It is likely the environmental impact is much less if we build one 75-year building rather than three 25-year buildings.”\n",
    "\n",
    "The point being that a built structure embodies a lot of energy and by building for the long term the impact can be minimized."
   ]
  },
  {
   "cell_type": "markdown",
   "metadata": {
    "slideshow": {
     "slide_type": "subslide"
    }
   },
   "source": [
    "### Mud Bricks"
   ]
  },
  {
   "cell_type": "markdown",
   "metadata": {},
   "source": [
    "\n",
    "<audio controls data-autoplay preload>\n",
    " <source src=\"https://github.com/damontallen/Construction-materials/raw/master/Lecture_Audio/Week_6/Masonry/Masonry-Mud%20Bricks.mp3\"\n",
    "         type='audio/mp3'>\n",
    " <p>Your user agent does not support the HTML5 Audio element or the files is missing.</p>\n",
    "</audio>"
   ]
  },
  {
   "cell_type": "markdown",
   "metadata": {},
   "source": [
    "<a href = \"https://en.wikipedia.org/wiki/Mudbrick\"> <img src=\"https://upload.wikimedia.org/wikipedia/commons/thumb/6/6d/Mudbricks_in_Palestine_2011.jpg/1200px-Mudbricks_in_Palestine_2011.jpg\" alt = \"Mud bricks\" Title=\"Mud Bricks\"  style=\"max-width:200px; max-height:200px; border:1px solid blue; float:right; margin-left:10px;\"/></a>\n",
    "During the first semester I taught Construction Materials I received a request to discuss mud brick construction.  This was reasonable since it is one of the oldest forms of masonry construction, and, in some parts of the world, it is still in use.  The process of making these types of bricks involves the use of soil mixed with a fibrous material like straw, or loam.  The soil typically contains some sand and silt, but its most important component is clay.  The clay acts as a binder holding the rest of the soil together and it sticks the rest of the material to the straw.  It is important that the type of clay used is not an expansive clay since it would lead to uneven drying and result in cracking (in Florida this is sometimes called shrink-swell clay).  The straw in the brick acts like rebar in concrete; it carries the tension.\n",
    "\n",
    "The soil and straw (and sometimes dung) are mixed together, then formed into brick shapes either with a mold or by hand, then left to dry in the sun for at least two weeks or more.  Once laid into a wall the surface is typically plastered over with mud.  This acts as a sacrificial coating that will protect the bricks when it rains.  This coating needs to be periodically replaced to prevent erosion of the bricks.\n",
    "\n",
    "Though a more permanent cementitious coating can be applied, this moisture protection requirement almost uniformly relegates the use of mud bricks to dry climates.  It is also a very labor intensive process and is only cost effective where labor is abundant and cheap and the local clays usable in the making of mud bricks."
   ]
  },
  {
   "cell_type": "markdown",
   "metadata": {
    "slideshow": {
     "slide_type": "slide"
    }
   },
   "source": [
    "## Toxicity and the Environment"
   ]
  },
  {
   "cell_type": "markdown",
   "metadata": {},
   "source": [
    "\n",
    "<audio controls data-autoplay preload>\n",
    " <source src=\"https://github.com/damontallen/Construction-materials/raw/master/Lecture_Audio/Week_6/Masonry/Masonry-Toxicity%20and%20the%20Environment.mp3\"\n",
    "         type='audio/mp3'>\n",
    " <p>Your user agent does not support the HTML5 Audio element or the files is missing.</p>\n",
    "</audio>"
   ]
  },
  {
   "cell_type": "markdown",
   "metadata": {},
   "source": [
    "Both brick and CMUs are basically non-toxic.  Since brick is made from naturally occurring clay or [shale](https://en.wikipedia.org/wiki/Shale) even it's raw materials are non-toxic.  The ingredients that make up CMUs include cement so there is the potential impact from that but by the time the CMUs arrive on the job they have already cured.\n",
    "\n",
    "The only product in a masonry wall that has a potential for toxic effects is the mortar.  Most modern mortars include some portland cement.  This means that the same toxicity problems that were a concern with concrete also apply to mortar."
   ]
  },
  {
   "cell_type": "markdown",
   "metadata": {
    "slideshow": {
     "slide_type": "slide"
    }
   },
   "source": [
    "## Recycling and Reuse"
   ]
  },
  {
   "cell_type": "markdown",
   "metadata": {},
   "source": [
    "\n",
    "<audio controls data-autoplay preload>\n",
    " <source src=\"https://github.com/damontallen/Construction-materials/raw/master/Lecture_Audio/Week_6/Masonry/Masonry-Recycling.mp3\"\n",
    "         type='audio/mp3'>\n",
    " <p>Your user agent does not support the HTML5 Audio element or the files is missing.</p>\n",
    "</audio>"
   ]
  },
  {
   "cell_type": "markdown",
   "metadata": {},
   "source": [
    "Bricks and blocks can be recycled, if care is taken when disassembling the old structure and the new application does not require the material to have special properties.  Some brick is not capable of withstanding longterm exposure to the elements.  Because, in most cases, the quality of the brick is unknown when it is being reused, you must assume that it is of the lowest durability.  Low durability can still be used in interior applications that have low, or no load requirements.  Bricks damaged too much for reuse in structures can be recycled in landscaping and/or crushed to become aggregate.\n",
    "\n",
    "Blocks can also be reused in a similar fashion but they are much more likely to break apart during dismantling.  The damaged ones can be broken down and used as aggregate in concrete."
   ]
  },
  {
   "cell_type": "markdown",
   "metadata": {
    "slideshow": {
     "slide_type": "slide"
    }
   },
   "source": [
    "## Material Properties"
   ]
  },
  {
   "cell_type": "markdown",
   "metadata": {},
   "source": [
    "\n",
    "<audio controls data-autoplay preload>\n",
    " <source src=\"https://github.com/damontallen/Construction-materials/raw/master/Lecture_Audio/Week_6/Masonry/Masonry-Material%20Properties.mp3\"\n",
    "         type='audio/mp3'>\n",
    " <p>Your user agent does not support the HTML5 Audio element or the files is missing.</p>\n",
    "</audio>"
   ]
  },
  {
   "cell_type": "markdown",
   "metadata": {},
   "source": [
    "Bricks and blocks have high thermal mass and are fire resistant.  They typically do not require painting and as such reduce the cost of maintenance.  If constructed appropriately masonry walls can have similar resistance to wind borne debris as concrete walls.  \n",
    "\n",
    "Masonry however can be susceptible to freeze thaw cycles and it is a labor intensive process.  Probably the most critical property of plain masonry is the fact that it is a brittle material.  This can be made worse if mortar joints are incorrectly constructed leading to poor bonding.  \n",
    "\n",
    "Modern brick walls are typically not structural.  Rather brick is simply a veneer attached to the skeleton of the structure.  Block walls can be more easily made structural with the addition of steel reinforcing and grout which is a type of concrete.  The grout is poured around the steel inside cavities in the block wall; bonding the steel and block together.\n",
    "\n",
    "### Bricks\n",
    "\n",
    "<a href = \"https://en.wikipedia.org/wiki/Brick\"> <img src=\"https://upload.wikimedia.org/wikipedia/commons/thumb/d/d1/Brick_wall_close-up_view.jpg/330px-Brick_wall_close-up_view.jpg\" alt = \"Brick wall image\" Title=\"Brick Wall\"  style=\"max-width:200px; max-height:200px; border:1px solid blue; float:right; margin-left:10px;\"/></a>Bricks can come in a variety of types that affect their durability.  [Fire brick](https://en.wikipedia.org/wiki/Fire_brick) is a type of brick that was manufactured specifically to resist high temperatures.  Some of these bricks can resist temperatures of up to 3,000 $^\\circ$F.  Chemical resistant brick or [acid brick](https://en.wikipedia.org/wiki/Acid_brick) is a type of brick specifically created to resist damage from acids.  It must be laid with the use of a special mortar that does not contain portland cement and the mortar joints are typically much smaller than regular brick construction.  It is used in environments where acid vapors are present or as a lining of tanks and piping.  These types of environments can show up in paper mills, power plants, waste treatment facilities, etc.  \n",
    "\n",
    "### Blocks\n",
    "\n",
    "<a href = \"https://en.wikipedia.org/wiki/Concrete_masonry_unit\"> <img src=\"https://upload.wikimedia.org/wikipedia/commons/thumb/3/38/Painted_breeze-cinder_block_wall.jpg/330px-Painted_breeze-cinder_block_wall.jpg\" alt = \"Block wall image\" Title=\"Block Wall\"  style=\"max-width:200px; max-height:200px; border:1px solid blue; float:right; margin-left:10px;\"/></a>Blocks are usually only vary in size and color.  Because concrete blocks are mostly made from portland cement and aggregate there is potential to vary the mixture of the block to obtain different properties.  However this is not typically done and any change in strength requirements is generally dealt with via changing the block size, or addition of grout and steel.\n",
    "\n",
    "### Grout\n",
    "\n",
    "Grout is not the same thing as mortar and the two can not be used interchangeably.  Grout needs to be rather thin (high fluidity) in order to flow into the narrow spaces surrounding the reinforcing steel in masonry walls.  It should have a slump around 8-10 inches to do this.  The strength of grout typically runs between 600 and 2,500 psi though it can exceed this if water is absorbed from it into the surrounding masonry.  \n",
    "\n",
    "### Mortar\n",
    "\n",
    "Mortar is typically made from a combination of three ingredients, portland cement, hydrated lime, and sand. When a mortar mix is described it can be called out as a volumetric ratio of each of those components, in that order.  For instance if the mix specified was 2/1/5 it would contain two (2) shovels full of portland cement, one (1) shovel full of hydrated lime, and five (5) shovels full of sand.\n",
    "\n",
    "Though there are many possible combinations of mixes possible there are only four or five mixes typically specified.  These are known as the standard types and can be remembered with the phrase MaSoNwOrK.\n",
    "\n",
    "<table style=\"width:650px\">\n",
    "<caption>Standard Types</caption>\n",
    "<tr><th>Mortar Type</th><th>28 day Compressive Strength</th><th>Mix Ratio</th>\n",
    "<th>Water Retention</th><th>Bond Strength</th><th>Extent of Bond</th>\n",
    "<th>Bond Durability</th><th>Permeability in Wall</th></tr>\n",
    "<tr><td>M</td><td>2,500 psi</td><td>1/1/6</td><td>Low</td><td>High</td><td>Low</td><td>Very Low</td><td>High</td></tr>\n",
    "<tr><td>S</td><td>1,800 psi</td><td>3/1/12</td><td>Medium</td><td>High</td><td>High</td><td>Moderate</td><td>Moderate</td></tr>\n",
    "<tr><td>N</td><td>750 psi</td><td>2/1/9</td><td>High</td><td>Medium</td><td>High</td><td>High</td><td>Low</td></tr>\n",
    "<tr><td>O</td><td>350 psi</td><td>1/2/9</td><td>Very High</td><td>Low</td><td>Very High</td><td>Very High</td><td>Low</td></tr>\n",
    "<tr><td>K</td><td>75 psi</td><td>1/3/10</td><td>Very High</td><td>Very Low</td><td>Very High</td><td>Very High</td><td>Low</td></tr>\n",
    "</table>\n",
    "\n",
    "*K - only used for Historic Preservation Projects*\n",
    "\n",
    "*(Sources: [NCMA TEK](http://www.ce.udel.edu/courses/CIEG407/TEK%2009-01A.pdf), [RibMC2.com](http://www.ribmc2.com/estref/popular_conversion_files/masonry/mortar.htm))*\n",
    "\n",
    "\n",
    "### Prisms\n",
    "\n",
    "<a href = \"http://www.masonrysociety.org/html/resources/TMS_E-Newsletter/E-Newsletter_2012-02.htm\"> <img src=\"http://www.masonrysociety.org/html/resources/TMS_E-Newsletter/BrickPrism.jpg\" alt = \"Brick prism image\" Title=\"Brick Prism\"  style=\"max-width:200px; max-height:200px; border:1px solid blue; float:right; margin-left:10px;\"/></a>If mortar is specified by properties instead of proportions it will need to have samples sent away for testing.  Strength test mortar samples are not cylindrical in shape but rather [small cubes](http://ncma-br.org/pdfs/68/TEK%2018-05B.pdf) measuring 2\" on each side.  Samples may need to be taken if water retention, air content, or even bond strength is specified.  \n",
    "\n",
    "However if the wall strength is specified ($f'_m$) it is more likely that a prism will be used to determine the strength of the wall composite.  A prism is a small built up unit that is made from the masonry units, mortared together and filled with grout.  This whole unit is then tested in compression. \n",
    "\n",
    "The reason for using a prism, instead of testing the individual components, is that if you test the components you would need to account for the differing Poison's ratios' effect on the strength of the system.  Additionally you would need to account for the bond strengths' contribution to the wall strength.  Finally using a prism incorporates the effect of the mason's skill in assembly.\n",
    "\n",
    "\n",
    "\n"
   ]
  },
  {
   "cell_type": "markdown",
   "metadata": {
    "slideshow": {
     "slide_type": "slide"
    }
   },
   "source": [
    "## Strength"
   ]
  },
  {
   "cell_type": "markdown",
   "metadata": {
    "slideshow": {
     "slide_type": "-"
    }
   },
   "source": [
    "<audio controls data-autoplay preload>\n",
    " <source src=\"https://github.com/damontallen/Construction-materials/raw/master/Lecture_Audio/Week_6/Masonry/Masonry-Strength.mp3\"\n",
    "         type='audio/mp3'>\n",
    " <p>Your user agent does not support the HTML5 Audio element or the files is missing.</p>\n",
    "</audio>"
   ]
  },
  {
   "cell_type": "markdown",
   "metadata": {
    "slideshow": {
     "slide_type": "-"
    }
   },
   "source": [
    "Strength will vary greatly based on the type of units, mortar, grout, reinforcing steel, how the mortar is placed (bedding), how much grout is used, and how much steel is used.  There are empirical relationships that can be used to estimate strength but this is beyond the scope of this class.  \n",
    "\n",
    "That being said there are tables in your textbook that contain examples of strengths for specific combinations of masonry components."
   ]
  },
  {
   "cell_type": "markdown",
   "metadata": {
    "slideshow": {
     "slide_type": "slide"
    }
   },
   "source": [
    "## Structural Failure Modes"
   ]
  },
  {
   "cell_type": "markdown",
   "metadata": {},
   "source": [
    "\n",
    "<audio controls data-autoplay preload>\n",
    " <source src=\"https://github.com/damontallen/Construction-materials/raw/master/Lecture_Audio/Week_6/Masonry/Masonry-Structural%20Failure%20Modes.mp3\"\n",
    "         type='audio/mp3'>\n",
    " <p>Your user agent does not support the HTML5 Audio element or the files is missing.</p>\n",
    "</audio>"
   ]
  },
  {
   "cell_type": "markdown",
   "metadata": {},
   "source": [
    "Unreinforced masonry will fail if it is subjected to moderate lateral loading.  The reason for this is the same as for unreinforced concrete; as the wall is put into bending one side will develop tension.  Being a brittle material either the bonds between mortar and unit break, or the mortar or units will themselves break.  This leads to the inevitable collapse.  \n",
    "\n",
    "For reinforced masonry it is desirable that the units rather than the mortar fails.  This does not mean using the highest strength mortar available though since the interaction of the Poisson's ratios' of the unit and mortar will have a substantial impact on $f'_m$.  If the mortar strength it too high it will actually fail first due to this interaction.  However if the wall is designed properly there will be substantial yielding of the steel reinforcement and cracking showing before the collapse of a wall."
   ]
  },
  {
   "cell_type": "markdown",
   "metadata": {
    "slideshow": {
     "slide_type": "slide"
    }
   },
   "source": [
    "## Environment Induced Failure Modes"
   ]
  },
  {
   "cell_type": "markdown",
   "metadata": {},
   "source": [
    "\n",
    "<audio controls data-autoplay preload>\n",
    " <source src=\"https://github.com/damontallen/Construction-materials/raw/master/Lecture_Audio/Week_6/Masonry/Masonry-Environment%20Induced%20Failure%20Modes.mp3\"\n",
    "         type='audio/mp3'>\n",
    " <p>Your user agent does not support the HTML5 Audio element or the files is missing.</p>\n",
    "</audio>"
   ]
  },
  {
   "cell_type": "markdown",
   "metadata": {},
   "source": [
    "Masonry can be damaged by repeated exposure to moisture, and/or a freeze thaw cycle.  If too stiff of mortar is used then there will be insufficient bonding and the voids left in the joint will allow water to penetrate unprotected surfaces.  Moisture infiltration can lead to mold and thus is a form of failure.  \n",
    "\n",
    "Other failure modes can occur due to abrasion of mortar or masonry units, spalling due to excessive heat, or corrosion of reinforcement.  All of which depend on the type of wall construction used.\n",
    "\n",
    "A critically important failure mode is caused by the lack of control joints.  These are gaps in walls filled with a flexible material where the sections of a wall can expand or contract from in a controlled manor.  Since brick will expand over time due to moisture absorption and CMUs will contract due to shrinkage of the concrete these gaps are extremely important.  Even the expansion and contraction of a wall due to temperature changes from day to night could cause a continuous wall to tear itself apart.  These control joint are typically from 15 to 25 feet apart and will be closer in walls with openings.  These joints will be both in the vertical and horizontal directions.\n",
    "\n",
    "One last thing to consider, masonry under construction is much more susceptible to failure due to wind.  Until the structure is complete masonry walls need to be supported with temporary braces."
   ]
  },
  {
   "cell_type": "markdown",
   "metadata": {
    "slideshow": {
     "slide_type": "slide"
    }
   },
   "source": [
    "## Chemical Weaknesses"
   ]
  },
  {
   "cell_type": "markdown",
   "metadata": {},
   "source": [
    "\n",
    "<audio controls data-autoplay preload>\n",
    " <source src=\"https://github.com/damontallen/Construction-materials/raw/master/Lecture_Audio/Week_6/Masonry/Masonry-Chemical%20Weaknesses.mp3\"\n",
    "         type='audio/mp3'>\n",
    " <p>Your user agent does not support the HTML5 Audio element or the files is missing.</p>\n",
    "</audio>"
   ]
  },
  {
   "cell_type": "markdown",
   "metadata": {},
   "source": [
    "In the assemblies that contain portland cement, all the chemical attacks that effected concrete will effect the masonry assembly.  It should also be noted that even acid brick is not resistant against hydrofluoric acid and is susceptible to a strong alkali attack."
   ]
  },
  {
   "cell_type": "markdown",
   "metadata": {
    "slideshow": {
     "slide_type": "slide"
    }
   },
   "source": [
    "## Safe Operating Temperatures"
   ]
  },
  {
   "cell_type": "markdown",
   "metadata": {},
   "source": [
    "\n",
    "<audio controls data-autoplay preload>\n",
    " <source src=\"https://github.com/damontallen/Construction-materials/raw/master/Lecture_Audio/Week_6/Masonry/Masonry-Safe%20Operating%20Temperatures.mp3\"\n",
    "         type='audio/mp3'>\n",
    " <p>Your user agent does not support the HTML5 Audio element or the files is missing.</p>\n",
    "</audio>"
   ]
  },
  {
   "cell_type": "markdown",
   "metadata": {},
   "source": [
    "If fire brick is used masonry construction, then it can be exposed to temperatures up to 3,000 $^\\circ$F.  However masonry is fire resistant regardless of the type used."
   ]
  },
  {
   "cell_type": "markdown",
   "metadata": {
    "slideshow": {
     "slide_type": "slide"
    }
   },
   "source": [
    "## Residential Applications"
   ]
  },
  {
   "cell_type": "markdown",
   "metadata": {},
   "source": [
    "\n",
    "<audio controls data-autoplay preload>\n",
    " <source src=\"https://github.com/damontallen/Construction-materials/raw/master/Lecture_Audio/Week_6/Masonry/Masonry-Residential%20Applications.mp3\"\n",
    "         type='audio/mp3'>\n",
    " <p>Your user agent does not support the HTML5 Audio element or the files is missing.</p>\n",
    "</audio>"
   ]
  },
  {
   "cell_type": "markdown",
   "metadata": {},
   "source": [
    "Masonry is common in residential construction.  It can be in the foundation wall, landscaping, fireplaces, or the main construction as a veneer or even solid walls.  It is popular due to its perceived warmth due to its thermal mass, and the character associated with historic construction.  It is generally thought of as a quality construction material."
   ]
  },
  {
   "cell_type": "markdown",
   "metadata": {
    "slideshow": {
     "slide_type": "slide"
    }
   },
   "source": [
    "## Commercial Applications"
   ]
  },
  {
   "cell_type": "markdown",
   "metadata": {},
   "source": [
    "\n",
    "<audio controls data-autoplay preload>\n",
    " <source src=\"https://github.com/damontallen/Construction-materials/raw/master/Lecture_Audio/Week_6/Masonry/Masonry-Commercial%20Applications.mp3\"\n",
    "         type='audio/mp3'>\n",
    " <p>Your user agent does not support the HTML5 Audio element or the files is missing.</p>\n",
    "</audio>"
   ]
  },
  {
   "cell_type": "markdown",
   "metadata": {},
   "source": [
    "In commercial buildings masonry is often used to add a sense of worth and importance to the establishment.  Now though it is often imitated with the use of precast concrete.  This is done due to the fact that precast is typically less expensive than the equivalent labor intensive masonry.  For brick however, the look is actually accomplished with the use of thin slices of brick embedded into the concrete."
   ]
  },
  {
   "cell_type": "markdown",
   "metadata": {
    "slideshow": {
     "slide_type": "slide"
    }
   },
   "source": [
    "## Industrial Applications"
   ]
  },
  {
   "cell_type": "markdown",
   "metadata": {},
   "source": [
    "\n",
    "<audio controls data-autoplay preload>\n",
    " <source src=\"https://github.com/damontallen/Construction-materials/raw/master/Lecture_Audio/Week_6/Masonry/Masonry-Industrial%20Applications.mp3\"\n",
    "         type='audio/mp3'>\n",
    " <p>Your user agent does not support the HTML5 Audio element or the files is missing.</p>\n",
    "</audio>"
   ]
  },
  {
   "cell_type": "markdown",
   "metadata": {},
   "source": [
    "In an industrial setting acid bricks can be critical in low pH environments.  Additionally fire bricks can play a very important role in smelting operations.  Masonry is a very durable material for harsh environments in general so it can be useful if the need is there."
   ]
  },
  {
   "cell_type": "markdown",
   "metadata": {
    "slideshow": {
     "slide_type": "slide"
    }
   },
   "source": [
    "## Material Sources"
   ]
  },
  {
   "cell_type": "markdown",
   "metadata": {},
   "source": [
    "\n",
    "<audio controls data-autoplay preload>\n",
    " <source src=\"https://github.com/damontallen/Construction-materials/raw/master/Lecture_Audio/Week_6/Masonry/Masonry-Material%20Sources.mp3\"\n",
    "         type='audio/mp3'>\n",
    " <p>Your user agent does not support the HTML5 Audio element or the files is missing.</p>\n",
    "</audio>"
   ]
  },
  {
   "cell_type": "markdown",
   "metadata": {},
   "source": [
    "Most masonry will be bought directly from a masonry supplier or retailer.  Grout may come from concrete batch plants but the masonry supplier will be your main contact point."
   ]
  },
  {
   "cell_type": "markdown",
   "metadata": {
    "slideshow": {
     "slide_type": "slide"
    }
   },
   "source": [
    "## Examples of Installation Tools"
   ]
  },
  {
   "cell_type": "markdown",
   "metadata": {},
   "source": [
    "\n",
    "<audio controls data-autoplay preload>\n",
    " <source src=\"https://github.com/damontallen/Construction-materials/raw/master/Lecture_Audio/Week_6/Masonry/Masonry-Examples%20of%20Installation%20Tools.mp3\"\n",
    "         type='audio/mp3'>\n",
    " <p>Your user agent does not support the HTML5 Audio element or the files is missing.</p>\n",
    "</audio>"
   ]
  },
  {
   "cell_type": "markdown",
   "metadata": {},
   "source": [
    "If you decide to build something out of brick, block or stone, you will need a way to mix the mortar, trowels to apply it and level the units, and levels and strings to establish a layout."
   ]
  },
  {
   "cell_type": "markdown",
   "metadata": {
    "slideshow": {
     "slide_type": "slide"
    }
   },
   "source": [
    "## Famous Failures"
   ]
  },
  {
   "cell_type": "markdown",
   "metadata": {},
   "source": [
    "\n",
    "<audio controls data-autoplay preload>\n",
    " <source src=\"https://github.com/damontallen/Construction-materials/raw/master/Lecture_Audio/Week_6/Masonry/Masonry-Famous%20Failures.mp3\"\n",
    "         type='audio/mp3'>\n",
    " <p>Your user agent does not support the HTML5 Audio element or the files is missing.</p>\n",
    "</audio>"
   ]
  },
  {
   "cell_type": "markdown",
   "metadata": {},
   "source": [
    "Masonry is one of the oldest forms of construction.  As such the skills necessary to master the craft have been pretty well established.  Unless a masonry structure is damaged it can stand for hundreds of years.\n",
    "\n",
    "### CSI MasterFormat Divisions\n",
    "\n",
    "Division 4 - Masonry\n",
    "\n",
    "* 04050 \t\tBasic Masonry Materials and Methods\n",
    "* 04200 \t\tMasonry Units\n",
    "* 04400 \t\tStone\n",
    "* 04500 \t\tRefractories\n",
    "* 04600 \t\tCorrosion-Resistant Masonry\n",
    "* 04700 \t\tSimulated Masonry\n",
    "* 04800 \t\tMasonry Assemblies\n",
    "* 04900 \t\tMasonry Restoration and Cleaning\n",
    "\n"
   ]
  },
  {
   "cell_type": "markdown",
   "metadata": {
    "slideshow": {
     "slide_type": "slide"
    }
   },
   "source": [
    "# References"
   ]
  },
  {
   "cell_type": "markdown",
   "metadata": {},
   "source": [
    "[UF Class website](https://ufl.instructure.com/courses/) \n",
    "\n",
    "[Github.io version of course website](http://damontallen.github.io/Construction-materials/) *(Do not use this link if you are taking this course in Summer A or B.)*\n",
    "\n",
    "\n",
    "[IPython.org](http://ipython.org/) *(IPython is the opensource software used in the development of much of this course.)*\n",
    "\n",
    "[Complete Software List](http://nbviewer.ipython.org/github/damontallen/Construction-materials/blob/master/Resources.ipynb)\n",
    "\n",
    "## Report any problems\n",
    "\n",
    "[Issues](https://github.com/damontallen/Construction-materials/issues) Please report any problems that occurred during the viewing of this or any other lecture.\n",
    "\n",
    "Alternative Reporting - Email <a href=\"mailto:damontallen@gmail.com?Subject=Construction%20Materials%20Lecture%20Problems\" target=\"_top\">damontallen@gmail.com</a>"
   ]
  },
  {
   "cell_type": "markdown",
   "metadata": {
    "slideshow": {
     "slide_type": "skip"
    }
   },
   "source": [
    "### Additional References\n",
    "\n",
    "#### Wikipedia\n",
    "* [Masonry](https://en.wikipedia.org/wiki/Masonry)\n",
    "* [Brick](https://en.wikipedia.org/wiki/Brick)\n",
    "* [Mortar](https://en.wikipedia.org/wiki/Mortar_%28masonry%29)\n",
    "* [Grout](https://en.wikipedia.org/wiki/Grout)\n",
    "* [Concrete Block](https://en.wikipedia.org/wiki/Concrete_masonry_unit)\n",
    "\n",
    "\n",
    "\n",
    "#### Others\n",
    "* [Allied Concrete - CMU Catalog](http://www.alliedconcrete.com/wp-content/uploads/2010/04/CMU-Catalog.pdf)\n",
    "* [RecycleNation.com - How to Recycle Bricks](http://recyclenation.com/2014/06/how-to-recycle-bricks)\n",
    "* [eHow.com - How to Recycle Concrete Blocks](http://www.ehow.com/how_6921294_recycle-concrete-blocks.html)\n",
    "* [The Brick Industry Association - Technical Notes](http://www.gobrick.com/Technical-Notes)\n",
    "* [NCMA - Resources](http://ncma-br.org/member.asp)\n",
    "* [NCMA - Masonry Mortar Testing](http://ncma-br.org/pdfs/68/TEK%2018-05B.pdf)\n",
    "* [ArchToolbox.com - Masonry Mortar Types ](http://www.archtoolbox.com/materials-systems/masonry/masonry-mortar-types.html)\n",
    "* [Section Properties Of Concrete Masonry Walls](http://www.ce.udel.edu/courses/CIEG407/TEK%2014-01A.pdf)\n",
    "* []()"
   ]
  },
  {
   "cell_type": "code",
   "execution_count": 1,
   "metadata": {
    "collapsed": false
   },
   "outputs": [
    {
     "data": {
      "text/plain": [
       "'Section Properties Of Concrete Masonry Walls'"
      ]
     },
     "execution_count": 1,
     "metadata": {},
     "output_type": "execute_result"
    }
   ],
   "source": [
    "t = \"SECTION PROPERTIES OF CONCRETE MASONRY WALLS\"\n",
    "t.title()"
   ]
  }
 ],
 "metadata": {
  "celltoolbar": "Slideshow",
  "kernelspec": {
   "display_name": "Python 3",
   "language": "python",
   "name": "python3"
  },
  "language_info": {
   "codemirror_mode": {
    "name": "ipython",
    "version": 3
   },
   "file_extension": ".py",
   "mimetype": "text/x-python",
   "name": "python",
   "nbconvert_exporter": "python",
   "pygments_lexer": "ipython3",
   "version": "3.4.3+"
  }
 },
 "nbformat": 4,
 "nbformat_minor": 0
}
