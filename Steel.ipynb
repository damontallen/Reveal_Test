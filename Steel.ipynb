{
 "cells": [
  {
   "cell_type": "markdown",
   "metadata": {
    "slideshow": {
     "slide_type": "slide"
    }
   },
   "source": [
    "# Steel\n"
   ]
  },
  {
   "cell_type": "markdown",
   "metadata": {
    "slideshow": {
     "slide_type": "-"
    }
   },
   "source": [
    "<p><iframe width=\"420\" height=\"315\" src=\"//www.youtube.com/embed/Uzp9ia3Qmm0\" frameborder=\"0\" allowfullscreen></iframe></p>"
   ]
  },
  {
   "cell_type": "markdown",
   "metadata": {
    "slideshow": {
     "slide_type": "slide"
    }
   },
   "source": [
    "## Introduction"
   ]
  },
  {
   "cell_type": "markdown",
   "metadata": {
    "slideshow": {
     "slide_type": "-"
    }
   },
   "source": [
    "<audio controls data-autoplay preload>\n",
    " <source src=\"https://github.com/damontallen/Construction-materials/raw/master/Lecture_Audio/Week_2/Steel/Steel-Introduction.mp3\"\n",
    "         type='audio/mp3'>\n",
    " Your user agent does not support the HTML5 Audio element or the files is missing.\n",
    "</audio>"
   ]
  },
  {
   "cell_type": "markdown",
   "metadata": {
    "slideshow": {
     "slide_type": "-"
    }
   },
   "source": [
    "<a href = \"https://www.flickr.com/photos/fsnorthernregion/5209455273\"><img src=\"https://c2.staticflickr.com/6/5286/5209455273_8d601c1c93_b.jpg\" alt = \"Steel frame image\" Title=\"Steel Skeleton\" style=\"max-width:300px; max-height:300px; border:1px solid blue; float:right; margin-left:10px;\"/></a>Steel is made up of mainly iron, carbon and other trace elements.  Carbon usually is less than 2% by weight of steel.  Rather than cover the history of steel myself I'm just providing links to a couple of videos that do a pretty good job.\n",
    "\n",
    "[History of Steel (video)](https://www.youtube.com/watch?v=nTLcA8sNUkY&list=PL5dzbOMJw6Gc_tZGMxoeTQQLK79Qvxwbd) (This ends with a commercial for a steel manufacturer but it is still good.)\n",
    "\n",
    "[Manufacturing (video)](https://www.youtube.com/watch?v=9l7JqonyoKA)\n",
    "\n",
    "Steel is also a pretty advanced building material.  This [link](http://mx3d.com/projects/bridge/) is to a Dutch firm that is going to use 3D-printing to make a bridge out of steel.\n",
    "\n",
    "One last think before you click onto the 3D printed bridge, the organization that writes the portion of the building code that relates to steel construction is the [American Institute of Steel Construction](https://www.aisc.org/) (AISC)."
   ]
  },
  {
   "cell_type": "markdown",
   "metadata": {
    "slideshow": {
     "slide_type": "slide"
    }
   },
   "source": [
    "## Sustainability"
   ]
  },
  {
   "cell_type": "markdown",
   "metadata": {},
   "source": [
    "\n",
    "<audio controls data-autoplay preload>\n",
    " <source src=\"https://github.com/damontallen/Construction-materials/raw/master/Lecture_Audio/Week_2/Steel/Steel-Sustainability.mp3\"\n",
    "         type='audio/mp3'>\n",
    " <p>Your user agent does not support the HTML5 Audio element or the files is missing.</p>\n",
    "</audio>"
   ]
  },
  {
   "cell_type": "markdown",
   "metadata": {},
   "source": [
    "\n",
    "<a href = \"https://en.wikipedia.org/wiki/I-beam\"><img src=\"https://upload.wikimedia.org/wikipedia/commons/thumb/0/09/I-BeamCrossSection.svg/440px-I-BeamCrossSection.svg.png\" alt = \"I-beam image\" Title=\"Steel I-beam Diagram\" style=\"max-width:200px; max-height:200px; border:1px solid blue; float:right; margin-left:10px;\"/></a>In order to make steel sustainability it needs to be recycled.  Fortunately steel is one of the more recycled metals on the planet.\n",
    "\n",
    ">The steel industry has been recycling steel scrap for more than 150 years, using electric arc furnaces (EAF), which accounted for about 60% of the total raw steel produced in 2012. ([source](http://minerals.usgs.gov/minerals/pubs/commodity/iron_&_steel_scrap/myb1-2012-fescr.pdf))\n",
    "\n",
    "Since recycling steel uses much less energy than refining iron ore into steel, about 88% of the steel produced in the United States in 2012 was recycled.  The energy savings were equivalent to 1 years of electrical consumption by 18 million houses.  By recycling, it also reduces the need for new landfill facilities.  \n",
    "\n",
    "Generally steel is one of the more sustainable building products.  In the construction industry it shows up in many forms, steel beams, joists, decking, fasteners, reinforcement, etc.  Additionally, in some forms, it is readily deconstructible and ready to be recycled."
   ]
  },
  {
   "cell_type": "markdown",
   "metadata": {
    "slideshow": {
     "slide_type": "slide"
    }
   },
   "source": [
    "## Toxicity and the Environment"
   ]
  },
  {
   "cell_type": "markdown",
   "metadata": {},
   "source": [
    "\n",
    "<audio controls data-autoplay preload>\n",
    " <source src=\"https://github.com/damontallen/Construction-materials/raw/master/Lecture_Audio/Week_2/Steel/Steel-Toxicity%20and%20the%20Environment.mp3\"\n",
    "         type='audio/mp3'>\n",
    " <p>Your user agent does not support the HTML5 Audio element or the files is missing.</p>\n",
    "</audio>"
   ]
  },
  {
   "cell_type": "markdown",
   "metadata": {},
   "source": [
    "Steel is generally nontoxic to the environment.  It simply reverts to iron oxide which occurs naturally as iron ore.  Some steel alloys do contain toxic elements, however these are generally very low and exposure is typically limited to workers in the manufacturing process.  Overall steel is safe material to work with in regards to toxicity and the environment.\n",
    "\n",
    "Working with steel however can involve cutting, and/or grinding it.  During these processes small particles of steel and its coating can become airborne.  These airborne particles do have some associated health risks.  These include allergies which irritate the lungs, skin, and/or eyes.  There can be problems if you consume large quantities of this steel dust, but this is exceedingly rare.  (source - [Material Safety Data Sheet (MSDS)](http://www.russelmetals.com/en/Locations/Documents/Material%20Safety%20Data%20Sheets/MSDS%20-%20Steel.pdf))\n",
    "\n",
    "One thing you should be made aware of is that some steel may be coated with paint containing lead.  ([Lead: The Original Artificial Sweetener (video)](https://www.youtube.com/watch?v=CM1u29BeqC0) - note this refers to household paint.) The reason why it is included in the initial coat of paint, is that lead is improves coverage and durability.  This can present a problem if you have to cutting it with a torch, or grind off the surface, to do some welding.  Cutting will release lead vapors, which are toxic, and grinding the paint away will create a fine dust that is also toxic.  Special measures may have to be taken to prevent toxic exposure depending on the amount of exposure."
   ]
  },
  {
   "cell_type": "markdown",
   "metadata": {
    "slideshow": {
     "slide_type": "slide"
    }
   },
   "source": [
    "## Recycling"
   ]
  },
  {
   "cell_type": "markdown",
   "metadata": {},
   "source": [
    "\n",
    "<audio controls data-autoplay preload>\n",
    " <source src=\"https://github.com/damontallen/Construction-materials/raw/master/Lecture_Audio/Week_2/Steel/Steel-Recycling.mp3\"\n",
    "         type='audio/mp3'>\n",
    " <p>Your user agent does not support the HTML5 Audio element or the files is missing.</p>\n",
    "</audio>"
   ]
  },
  {
   "cell_type": "markdown",
   "metadata": {},
   "source": [
    "\n",
    "<a href = \"https://en.wikipedia.org/wiki/Vehicle_recycling\"><img src=\"https://upload.wikimedia.org/wikipedia/commons/thumb/c/cd/Auto_scrapyard_1.jpg/440px-Auto_scrapyard_1.jpg\" alt = \"Image of crushed cars\" Title=\"Vehicle Recycling\" style=\"max-width:300px; max-height:300px; border:1px solid blue; float:right; margin-left:10px;\"/></a>As mentioned previously steel can be recycled very easily and steel scrap is currently in high demand.  Recycled steel comes from cars, buildings, bridges, cans, appliances, any thing made from steel has the potential to be recycled.  Recycling provides an added benefit in that modern high strength steels have only become possible due to the high quality raw material from recycling.  Making high strength steel requires delicate control over the ingredients used in its manufacturing.  It has only been in the last few decades that the highly refined raw material used in making high strength steel has become available.\n"
   ]
  },
  {
   "cell_type": "markdown",
   "metadata": {
    "slideshow": {
     "slide_type": "slide"
    }
   },
   "source": [
    "## Reuse"
   ]
  },
  {
   "cell_type": "markdown",
   "metadata": {},
   "source": [
    "\n",
    "<audio controls data-autoplay preload>\n",
    " <source src=\"https://github.com/damontallen/Construction-materials/raw/master/Lecture_Audio/Week_2/Steel/Steel-Reuse.mp3\"\n",
    "         type='audio/mp3'>\n",
    " <p>Your user agent does not support the HTML5 Audio element or the files is missing.</p>\n",
    "</audio>"
   ]
  },
  {
   "cell_type": "markdown",
   "metadata": {},
   "source": [
    "Though reuse is even simpler than recycling, there are a lot potential difficulties with reusing steel.  Though it is not unheard in the automotive industry, in construction it is far less common.  Firstly, finding a specified size or shape, for a new building, may not be possible if you are reusing parts from older structures.\n",
    "\n",
    "<a href = \"https://en.wikipedia.org/wiki/Fatigue_limit\"><img src=\"https://upload.wikimedia.org/wikipedia/commons/3/30/S-N_curves.PNG\" alt = \"Fatigue limit example graph\" Title=\"Graph of Fatigue Limit\" style=\"max-width:300px; max-height:300px; border:1px solid blue; float:right; margin-left:10px;\"/></a>Additionally, though I have not said anything about it before, the loading history of the material can be important.  There is a failure mode, that I have not previously mentioned, known as fatigue.  Fatigue is caused by repeated loading of a material, at a level below the yield stress. This repeated loading causes the growth of microfractures, and can eventually lead to a fracture failure.  This is known as the endurance limit and can occur with loading even lower than half the maximum strength (depending on the material), as long as the loading cycle is repeated enough times.  With steel, however, there is a lower limit of loading (the ultimate endurance limit) at which a part can be repeatedly loaded and unloaded, forever, with no risk of fatigue.  The ultimate endurance limit is just found by extrapolating the endurance limit at an infinite number of cycles.  Also, if a part can be reheated or annealed then the atoms of the material surrounding the microfractures can move around enough to reform the previously broken bonds.  Unfortunately, this is a process that is impractical when a part is in place inside a building.\n",
    "\n",
    "Another potential problem with reusing steel is that the part needed may have some type of surface contamination.  This coating would need to be removed prior to using the part in the new application.  There are other concerns as well but I think you get the idea. For these reasons steel is typically recycled rather than reused.  It is not always the case with other construction material, but for metals structural components it happens more often than not."
   ]
  },
  {
   "cell_type": "markdown",
   "metadata": {
    "slideshow": {
     "slide_type": "slide"
    }
   },
   "source": [
    "## Material Properties"
   ]
  },
  {
   "cell_type": "markdown",
   "metadata": {},
   "source": [
    "\n",
    "<audio controls data-autoplay preload>\n",
    " <source src=\"https://github.com/damontallen/Construction-materials/raw/master/Lecture_Audio/Week_2/Steel/Steel-Material%20Properties.mp3\"\n",
    "         type='audio/mp3'>\n",
    " <p>Your user agent does not support the HTML5 Audio element or the files is missing.</p>\n",
    "</audio>"
   ]
  },
  {
   "cell_type": "markdown",
   "metadata": {},
   "source": [
    "continuous\n",
    "<a href = \"https://en.wikipedia.org/wiki/Steelmaking\"><img src=\"https://upload.wikimedia.org/wikipedia/commons/thumb/5/54/SteelMill_interior.jpg/440px-SteelMill_interior.jpg\" alt = \"Image of steel manufacturing\" Title=\"Making Steel\" style=\"max-width:200px; max-height:200px; border:1px solid blue; float:right; margin-left:10px;\"/></a>Steel is a solid metal at room temperature.  It is mainly comprised of iron and carbon atoms (a maximum of 2.0% by weight) arranged in a series of interlocking grains formed from metallic crystals.  Steel alloys may contain other elements like tungsten, cobalt, nickel, chromium, manganese and even (more recently) aluminum.  These alloys result in modifications in the strength, stiffness, density, corrosion resistance, hardness, and/or the attraction to magnets among other properties.  There have been thousands of varieties of steel developed to meet specific needs.\n",
    "\n",
    "In the construction industry we are mainly interested in the steel used in bars, beams, girders, trusses, fasteners and cables.  These are item used to resist the loads present in structures, and the building construction process.  Most structural steel sections are formed from large castings and are then reduced in size, elongated, and shaped by rolling.  The temperature at which these rollings take place has an effect on the final properties of the element.  As for the chemistry, the structural steel that we concern ourselves with will have carbon content that is generally less than 0.30%.\n",
    "\n",
    "\n",
    "<a href = \"https://commons.wikimedia.org/wiki/File:Welding_Steel_Plate.JPG\"><img src=\"https://upload.wikimedia.org/wikipedia/commons/3/35/Welding_Steel_Plate.JPG\" alt = \"Welding image\" Title=\"Welding Steel\" style=\"max-width:200px; max-height:200px; border:1px solid blue; float:left; margin-right:10px;\"/></a>One of the reasons steel is so popular for construction is that not only can it be fastened together by bolting, but two pieces can be joined in a process known as welding that effectively creates one continuous piece.  Welding can create connections that are stronger than are possible using traditional fasteners such as bolts or [rivets](https://en.wikipedia.org/wiki/Rivet).  It also reduces the size of the members at these connections by eliminating the need for overlapping pieces.  Welding allows for the creations of structures that would otherwise be impossible to produce.\n",
    "\n",
    "Lastly, steel is also resistant to combustion.  Not saying that heat does have an effect, it can have a very important effect (discussed later) but in a lot structures, steel does not even need to be protected against fire exposure."
   ]
  },
  {
   "cell_type": "markdown",
   "metadata": {
    "slideshow": {
     "slide_type": "slide"
    }
   },
   "source": [
    "### Temperature Effects:"
   ]
  },
  {
   "cell_type": "markdown",
   "metadata": {
    "slideshow": {
     "slide_type": "-"
    }
   },
   "source": [
    "<audio controls data-autoplay preload>\n",
    " <source src=\"https://github.com/damontallen/Construction-materials/raw/master/Lecture_Audio/Week_2/Steel/Steel-Temperature%20Effects.mp3\"\n",
    "         type='audio/mp3'>\n",
    " <p>Your user agent does not support the HTML5 Audio element or the files is missing.</p>\n",
    "</audio>"
   ]
  },
  {
   "cell_type": "markdown",
   "metadata": {
    "slideshow": {
     "slide_type": "-"
    }
   },
   "source": [
    "<a href = \"https://en.wikipedia.org/wiki/Expansion_joint\"><img src=\"https://upload.wikimedia.org/wikipedia/commons/thumb/2/20/BridgeExpansionJoint.jpg/401px-BridgeExpansionJoint.jpg\" alt = \"Image of bridge expansion joint\" Title=\"Expansion Joint\" style=\"max-width:200px; max-height:200px; border:1px solid blue; float:right; margin-left:10px;\"/></a>Aside from the affect that temperature has on the material properties themselves, which I will be covering in a little bit, temperature also has an effect on a part's geometry.  Steel will increase or decrease in size based on the change in temperature from when the element was installed.  This change in size is generally rather small and at times can be ignored but this is not always the case.  \n",
    "\n",
    "Bridges need to account for this change in length due to temperature, otherwise the bridge can tear itself apart.  This is not only true for steel but numerous other types of construction material.  The way these changes in size are allowed for is the use of expansion joints."
   ]
  },
  {
   "cell_type": "markdown",
   "metadata": {
    "slideshow": {
     "slide_type": "slide"
    }
   },
   "source": [
    "## Strength"
   ]
  },
  {
   "cell_type": "markdown",
   "metadata": {},
   "source": [
    "\n",
    "<audio controls data-autoplay preload>\n",
    " <source src=\"https://github.com/damontallen/Construction-materials/raw/master/Lecture_Audio/Week_2/Steel/Steel-Strength.mp3\"\n",
    "         type='audio/mp3'>\n",
    " <p>Your user agent does not support the HTML5 Audio element or the files is missing.</p>\n",
    "</audio>"
   ]
  },
  {
   "cell_type": "code",
   "execution_count": 1,
   "metadata": {
    "collapsed": true,
    "slideshow": {
     "slide_type": "skip"
    }
   },
   "outputs": [],
   "source": [
    "%matplotlib inline\n",
    "%run Modulus.py"
   ]
  },
  {
   "cell_type": "markdown",
   "metadata": {},
   "source": [
    "<a href = \"https://en.wikipedia.org/wiki/Ultimate_tensile_strength\"><img src=\"https://upload.wikimedia.org/wikipedia/commons/thumb/f/f1/Stress_v_strain_A36_2.svg/580px-Stress_v_strain_A36_2.svg.png\" alt = \"Image of steel stress strain curve\" Title=\"Steel Ultimate Strength\" style=\"max-width:300px; max-height:300px; border:1px solid blue; float:right; margin-left:10px;\"/></a>\n",
    "As we have seen previously, the ability of steel to resist strain can depend on the amount of strain the steel has previously undergone.  The red curve is more representative of the behavior of an actual sample vs. an what is seen in idealized graph.  The plotted behavior is also called the \"engineering\" stress-strain relationship.  It is called that since it reflects the engineering properties of a particular sample instead of the actual properties.  \n",
    "\n",
    "OK, that isn't really clear.  The engineering stress-strain relationship is typically found by taking a cylindrical sample of the material (steel in this case) and first measuring the cross sectional area of the sample, then applying a tension force to it, and recording the resulting strain.  The stress is calculated by dividing the applied force, by the original cross sectional area of the sample.  This is as apposed to the instantaneous cross section of the sample. Using the instantaneous cross section results in the dark blue line which represents the true stress-strain relationship.\n",
    "\n",
    "<a href = \"https://en.wikipedia.org/wiki/Ductility\"><img src=\"https://upload.wikimedia.org/wikipedia/commons/thumb/6/6f/Al_tensile_test.jpg/440px-Al_tensile_test.jpg\" alt = \"Image of steel sample necking\" Title=\"Steel Necking\" style=\"max-width:200px; max-height:200px; border:1px solid blue; float:left; margin-right:10px;\"/></a>Alright, that still isn't clear.  The reason there is a difference between the true and engineering stress-strain curves is due to something called necking.  As tension is applied to a ductile sample it starts to pull apart, like taffy or gum.  This causes a reduction in the diameter of the sample, and a reduction of the instantaneous cross sectional area.  The \"true\" stress-strain curve has its stress calculated by dividing the tension force by the cross sectional area continuously throughout the test.  When the reduction in area is accounted for, then the strength of steel will generally only go up with additional straining.  This is actually one process that is used to create high strength wire.  The steel is drawn through a small dye, and the resulting staining results in a wire that has higher strength than the original steel.\n",
    "\n",
    "Back to the engineering stress-strain curve.  The reason why we look at the engineering curve is that it is representative of the behavior of an installed steel element.  We see that the yield point (#2) is slightly higher that the curve just to the right.  This means that once the yield point is reached, the effective strength of the element drops, and it must immediately strain much more to reach the stain hardening portion of the curve.  This is the reason that idealized curves have a straight line across in the plastic section. If a continuous force is applied to the element it will rapidly lengthen until it starts to strain harden.  This is what you see in the next section of the curve (#4).  The ultimate strength is reached at point #1, if the force remains constant after that the element lengths and fractures.  However if the force is not constant, but rather it is simply a function of displacement (like during testing) then the element will have a reduction in carrying capacity until it reaches point #3, the fracture point.  The section of the curve where the strength is falling (#5) is where the majority of necking occurs.\n",
    "\n",
    "Below is the idealized engineering stress-strain curve for A36 steel.  The 36 in the designation refers to the $36,000 ksi$ at the yield point on the stress-strain curve.  Additionally, since you cannot rely on any strength beyond the ultimate strength, it is often not shown on the curve."
   ]
  },
  {
   "cell_type": "code",
   "execution_count": 2,
   "metadata": {
    "collapsed": false
   },
   "outputs": [
    {
     "data": {
      "image/png": "[encoded data removed]",
      "text/plain": [
       "<matplotlib.figure.Figure at 0x7f2d6f84ea58>"
      ]
     },
     "metadata": {},
     "output_type": "display_data"
    }
   ],
   "source": [
    "modulus('ultimate')"
   ]
  },
  {
   "cell_type": "markdown",
   "metadata": {},
   "source": [
    "I haven't mentioned this prior to now but most curves just show the response to a sample being placed in tension (the notable exception being concrete).  The reason for this is that there are established relationships between the strength of a material in tension, and other failure modes.  In this way a single value, like the $58 ksi$ ultimate tensions strength of A36 steel, can be converted into $43.5 ksi$ ultimate shear strength.  These relationships vary from one material to the next based on the internal structure of the material, but a simple conversion factor is almost always available.\n",
    "\n",
    "There is an additional wrinkle when we look at compression, due to the possibility of either local or global buckling.  Though if buckling does not occur then the statement I made about a simple conversion factor holds true.  It should also be noted that both shear and bending cause compression in an element, and so both of these can result in local buckling.  This must be accounted for with a series of rather complicated equations that vary depending on the size and shape of the element that you are using.  We won't be looking at those equations now; they're for another class.\n",
    "\n",
    "*Note that conversion factors do not necessarily have to be the same when looking at yielding vs. ultimate failure.*"
   ]
  },
  {
   "cell_type": "markdown",
   "metadata": {
    "slideshow": {
     "slide_type": "slide"
    }
   },
   "source": [
    "## Structural Failure Modes"
   ]
  },
  {
   "cell_type": "markdown",
   "metadata": {},
   "source": [
    "\n",
    "<audio controls data-autoplay preload>\n",
    " <source src=\"https://github.com/damontallen/Construction-materials/raw/master/Lecture_Audio/Week_2/Steel/Steel-Structural%20Failure%20Modes.mp3\"\n",
    "         type='audio/mp3'>\n",
    " <p>Your user agent does not support the HTML5 Audio element or the files is missing.</p>\n",
    "</audio>"
   ]
  },
  {
   "cell_type": "markdown",
   "metadata": {},
   "source": [
    "Steel will fail if it is subjected to excessive tension, shear, compression, or torsion.  However, the loads at which failure will occur are dependent upon other considerations, like the duration of the load, the temperature of the material, electrical activity in the material, and the chemistry of the surrounding environment. If the wrong type of steel is used in a caustic environment, it will begin to dissolve, and thereby reduce the cross section available to resist the applied load.  \n",
    "\n",
    "<a href = \"https://www.finedininglovers.com/blog/out-of-the-blue/art-liquid-nitrogen-flowers/\"><img src=\"http://finedininglovers.cdn.crosscast-system.com/BlogPost/l_2801_flowers--1-.jpg\" alt = \"Image of shattered flower\" Title=\"Shattered Flower\" style=\"max-width:200px; max-height:200px; border:1px solid blue; float:right; margin-left:10px;\"/></a>Load duration having an effect is something that might be a surprise to you. The reason is that the longer a load is applied the greater the likelihood that small defects will grow in response to the additional stress, and eventually lead to a failure.  In other words, the longer a load remains on a structure, the more time the atoms in the material have rearrange in response.  \n",
    "\n",
    "If that isn't clear think about it this way; when atoms are cold they move more slowly.  It is like time is passes more slowly for them.  Now imagine that a fresh flower is laying on a table.  If you place a weight on it, like a hammer, it will flatten.  Since the flower is at room temperature, it is the same as having a load applied over a long period of time.  Now if that same flower were frozen solid, just laying the hammer down on it wouldn't do much.  Since the atoms are moving more slowly, the flower behaves like time is moving more slowly.  To the frozen flower the weight of the hammer is now just a short term load.  In order to crush the frozen flower, the hammer has to smash down on it with much greater force.  This translates to the flower being able to resist greater shorter duration loads than long duration loads.\n",
    "\n",
    "This is actually a valid analogy, and this property of atoms moving more slowly when they're cold is used in [elastomeric](https://en.wikipedia.org/wiki/Elastomer) research."
   ]
  },
  {
   "cell_type": "markdown",
   "metadata": {
    "slideshow": {
     "slide_type": "slide"
    }
   },
   "source": [
    "## Environment Induced Failure Modes"
   ]
  },
  {
   "cell_type": "markdown",
   "metadata": {},
   "source": [
    "\n",
    "<audio controls data-autoplay preload>\n",
    " <source src=\"https://github.com/damontallen/Construction-materials/raw/master/Lecture_Audio/Week_2/Steel/Steel-Environment%20Induced%20Failure%20Modes.mp3\"\n",
    "         type='audio/mp3'>\n",
    " <p>Your user agent does not support the HTML5 Audio element or the files is missing.</p>\n",
    "</audio>"
   ]
  },
  {
   "cell_type": "markdown",
   "metadata": {},
   "source": [
    "\n",
    "\n",
    "<a href = \"https://simple.wikipedia.org/wiki/Rust\"><img src=\"https://upload.wikimedia.org/wikipedia/commons/thumb/9/95/Rust.rost.JPG/250px-Rust.rost.JPG\" alt = \"Image of rusting train\" Title=\"Rust\" style=\"max-width:300px; max-height:300px; border:1px solid blue; float:right; margin-left:10px;\"/></a>Depending on the type of steel, it may be damaged by repeated exposure to salt water, chlorine, oxygen, or anything that serves as an oxidizer.  An oxidizer is any substance that will remove electrons in a chemical reaction from the substance that is being oxidized.  This is actually really useful to know since it means that the corrosion of steel is actually an electrical reaction. This means it can be prevented with the proper application of electricity.  Some bridges and buildings are protected from corrosion simply by applying a low level current to the steel in the structure.  The way it works is that the electrons required by the chemistry are supplied by a power cord instead from the corroding steel.  \n",
    "\n",
    "<a href = \"https://commons.wikimedia.org/wiki/File:Anode_sacrificielle_en_zinc_%282%29.JPG\"> <img src=\"https://upload.wikimedia.org/wikipedia/commons/thumb/a/aa/Anode_sacrificielle_en_zinc_%282%29.JPG/800px-Anode_sacrificielle_en_zinc_%282%29.JPG\" alt = \"Zinc anode image\" Title=\"Zinc Anode\"  style=\"max-width:200px; max-height:200px; border:1px solid blue; float:left; margin-right:10px;\"/></a>This is not often practical so other sources of electrons are sometimes used.  Anodes made of zinc or other sacrificial are installed and periodically replaced.  As long as the zinc is electrically connected to steel, it will corrode first instead of the steel.  The while the zinc is corroding it supplies electrons to the oxidation reaction, preventing a chemical reaction with the steel from taking place.  This will continue as long as there is enough zinc to provide the needed electrons.   \n",
    "\n",
    "Another way to prevent the corrosion of steel is to just protect it from the source of corrosion.  This could mean painting it, to seal it from the air, but is could also mean just keeping it dry.  In order for for the chemical reaction that causes rusting to occur (steel corroding) there must be a medium for ions to travel in.  In practice this medium is generally water.  Which means, if you keep steel dry, it generally won't corrode.\n",
    "\n"
   ]
  },
  {
   "cell_type": "markdown",
   "metadata": {
    "slideshow": {
     "slide_type": "slide"
    }
   },
   "source": [
    "## Safe Operating Temperatures"
   ]
  },
  {
   "cell_type": "markdown",
   "metadata": {},
   "source": [
    "\n",
    "<audio controls data-autoplay preload>\n",
    " <source src=\"https://github.com/damontallen/Construction-materials/raw/master/Lecture_Audio/Week_2/Steel/Steel-Safe%20Operating%20Temperatures.mp3\"\n",
    "         type='audio/mp3'>\n",
    " <p>Your user agent does not support the HTML5 Audio element or the files is missing.</p>\n",
    "</audio>"
   ]
  },
  {
   "cell_type": "markdown",
   "metadata": {},
   "source": [
    "<a href = \"https://en.wikipedia.org/wiki/Blacksmith\"> <img src=\"https://upload.wikimedia.org/wikipedia/commons/thumb/f/f7/Blacksmith_working.jpg/330px-Blacksmith_working.jpg\" alt = \"Hot steel image\" Title=\"Hot Steel\"  style=\"max-width:200px; max-height:200px; border:1px solid blue; float:right; margin-left:10px;\"/></a>\n",
    "Around $2,700 F^{\\circ}$ iron, which makes up the majority of steel, begins to melt.  However, due to not being pure iron, steel will melt around  $2,000 - 2,400 F^{\\circ}$, depending on its carbon content.  It will also begin to have reduced structural capacity at $1,000 - 1,300 F^{\\circ}$.  At this temperature the yield stress will only be about 60% of normal.  For this reason, critical elements of a structure need to be protected from fire exposure.  Those elements include beams and trusses that support floors, or critical columns in tall structures.  If there is a prolonged fire in a steel high-rise, and the collapse of the building will be due to the softening of the steel, not the steel actually burning.  The decision to fireproof a steel element, depends on the importance of the element, as defined in the building code.  I should point out though for high-rise structures made out of steel, most elements are important, and will be protected with some kind of insulation.  Concrete is often, but not always, used to fill this role, (it is relatively cheap but can be too heavy to be economically viable).\n",
    "\n",
    "At the other extreme, there is a lower temperature limit where steel can become too brittle.  For instance QT-100 (or A514) steel has a recommended lower limit of $-50 ^\\circ F$ for its safe use.  Below that it becomes brittle instead of ductile, and can be subject to failure without warning.  FYI unlike the relationship between yield and designation with A36 steel, A514 steel does not have a yield strength of $514 ksi$ but rather $100 ksi$.  Steel's designation generally does not indicate the yield strength of the material.  "
   ]
  },
  {
   "cell_type": "markdown",
   "metadata": {
    "slideshow": {
     "slide_type": "slide"
    }
   },
   "source": [
    "## Material Tests"
   ]
  },
  {
   "cell_type": "markdown",
   "metadata": {},
   "source": [
    "\n",
    "<audio controls data-autoplay preload>\n",
    " <source src=\"https://github.com/damontallen/Construction-materials/raw/master/Lecture_Audio/Week_2/Steel/Steel-Material%20Tests.mp3\"\n",
    "         type='audio/mp3'>\n",
    " <p>Your user agent does not support the HTML5 Audio element or the files is missing.</p>\n",
    "</audio>"
   ]
  },
  {
   "cell_type": "markdown",
   "metadata": {},
   "source": [
    "<a href = \"https://en.wikipedia.org/wiki/Ultimate_tensile_strength\"> <img src=\"https://upload.wikimedia.org/wikipedia/commons/thumb/2/22/Tensile_testing_on_a_coir_composite.jpg/330px-Tensile_testing_on_a_coir_composite.jpg\" alt = \"Tension testing image\" Title=\"Tension Testing\"  style=\"max-width:200px; max-height:200px; border:1px solid blue; float:right; margin-left:10px;\"/></a>\n",
    "The main material test that is relevant to steel is the tension test.  A test specimen is typically 0.5 inches in diameter and machined smooth.  The ends are larger and sometimes threaded for connection to the test equipment.  The tests are conducted at a controlled rate of displacement and the force is measured.  This way the portions of the test where the strength falls off can be accurately measured.  The samples typically are 2 inches long over the 0.5 inch diameter section.  The strain of the sample is calculated by,\n",
    "$$\\varepsilon = \\frac{\\Delta L}{L}=\\frac{\\Delta L}{2\"}$$\n",
    "And the internal stress is found by,\n",
    "$$\\sigma=\\frac{F}{A}=\\frac{F}{\\pi r^2}=\\frac{F}{\\pi (0.25\")^2}$$\n",
    "where $r=\\frac{\\text{diameter}}{2}$\n",
    "\n",
    "The yield stress is reported as $F_y$ and the ultimate stress is designated as $F_u$."
   ]
  },
  {
   "cell_type": "markdown",
   "metadata": {
    "slideshow": {
     "slide_type": "slide"
    }
   },
   "source": [
    "## Quality Levels"
   ]
  },
  {
   "cell_type": "markdown",
   "metadata": {},
   "source": [
    "\n",
    "<audio controls data-autoplay preload>\n",
    " <source src=\"https://github.com/damontallen/Construction-materials/raw/master/Lecture_Audio/Week_2/Steel/Steel-Quality%20Levels.mp3\"\n",
    "         type='audio/mp3'>\n",
    " <p>Your user agent does not support the HTML5 Audio element or the files is missing.</p>\n",
    "</audio>"
   ]
  },
  {
   "cell_type": "markdown",
   "metadata": {},
   "source": [
    "<a href = \"http://msc.aisc.org/globalassets/modern-steel/steelwise/022012_steelwise_spec.pdf\"> <img src=\"http://i.imgur.com/iQlHSuX.jpg\" alt = \"Steel types vs size image\" Title=\"Available Steel vs Size\"  style=\"max-width:200px; max-height:200px; border:1px solid blue; float:right; margin-left:10px;\"/></a>\n",
    "Steel can be found in many grades.  The table shown here (from [Are You Properly Specifying Materials?](http://msc.aisc.org/globalassets/modern-steel/steelwise/022012_steelwise_spec.pdf)) shows a sample of the available types for various sizes of plates and bars.  These range from A36 with a yield strength as low as $32 ksi$ to A514 with a yield strength of up to $100 ksi$ and an upper limit of ultimate strength of $130 ksi$.  When steel is specified it will be done so be the both the designation and the grade, i.e. A441 grade 46.  A441 is the ASTM (American Society for Testing and Materials) designation and the grade is the yield strength desired. \n",
    "\n",
    "Not all shapes of steel are available in all grades.  For instance A514 is only available in the form of flat plates.  While A36 is not only used for the manufacture of plates and bars but most other structural shapes like beams, channels, and angles (see Table 1 in the article). "
   ]
  },
  {
   "cell_type": "markdown",
   "metadata": {
    "slideshow": {
     "slide_type": "slide"
    }
   },
   "source": [
    "## Residential Applications"
   ]
  },
  {
   "cell_type": "markdown",
   "metadata": {},
   "source": [
    "\n",
    "<audio controls data-autoplay preload>\n",
    " <source src=\"https://github.com/damontallen/Construction-materials/raw/master/Lecture_Audio/Week_2/Steel/Steel-Residential%20Applications.mp3\"\n",
    "         type='audio/mp3'>\n",
    " <p>Your user agent does not support the HTML5 Audio element or the files is missing.</p>\n",
    "</audio>"
   ]
  },
  {
   "cell_type": "markdown",
   "metadata": {},
   "source": [
    "<a href = \"https://en.wikipedia.org/wiki/Shed#Metal_sheds\"> <img src=\"https://upload.wikimedia.org/wikipedia/commons/thumb/3/30/Corrugated_iron_shed.jpg/330px-Corrugated_iron_shed.jpg\" alt = \"Sheet metal image\" Title=\"Sheet Metal\"  style=\"max-width:200px; max-height:200px; border:1px solid blue; float:right; margin-left:10px;\"/></a>\n",
    "Steel is used in the residential arena most often as reinforcement for concrete, and fasteners for other materials.  Some residences have sheet steel used as roofing material or siding, but that is generally the limit of what you see used.  There is the exception of apartment buildings, which may incorporate steel studs in walls, or steel trusses in floors and/or roofs.  However though apartment buildings are considered residential structures in the building code, they are typically thought of and approached as more of a commercial structure due to their scale."
   ]
  },
  {
   "cell_type": "markdown",
   "metadata": {
    "slideshow": {
     "slide_type": "slide"
    }
   },
   "source": [
    "## Commercial Applications"
   ]
  },
  {
   "cell_type": "markdown",
   "metadata": {},
   "source": [
    "\n",
    "<audio controls data-autoplay preload>\n",
    " <source src=\"https://github.com/damontallen/Construction-materials/raw/master/Lecture_Audio/Week_2/Steel/Steel-Commercial%20Applications.mp3\"\n",
    "         type='audio/mp3'>\n",
    " <p>Your user agent does not support the HTML5 Audio element or the files is missing.</p>\n",
    "</audio>"
   ]
  },
  {
   "cell_type": "markdown",
   "metadata": {},
   "source": [
    "<a href = \"https://en.wikipedia.org/wiki/Structural_steel\"> <img src=\"https://upload.wikimedia.org/wikipedia/commons/thumb/e/ef/Owsj_deck_fireproofing.jpg/330px-Owsj_deck_fireproofing.jpg\" alt = \"Sheel building image\" Title=\"Sheel Building\"  style=\"max-width:200px; max-height:200px; border:1px solid blue; float:right; margin-left:10px;\"/></a>\n",
    "Steel is used in commercial buildings as reinforcement for concrete, floor decking, roof decking, siding, and structural framing.  It may also appear in the plumbing and electrical conduit.  Generally steel can show up in any portion of a commercial structure.  It all depends on what is the most economical solution for the design requirements.  Steel is very versatile, and relatively inexpensive in a lot of circumstances, and this results in its frequent use."
   ]
  },
  {
   "cell_type": "markdown",
   "metadata": {
    "slideshow": {
     "slide_type": "slide"
    }
   },
   "source": [
    "## Industrial Applications"
   ]
  },
  {
   "cell_type": "markdown",
   "metadata": {},
   "source": [
    "\n",
    "<audio controls data-autoplay preload>\n",
    " <source src=\"https://github.com/damontallen/Construction-materials/raw/master/Lecture_Audio/Week_2/Steel/Steel-Industrial%20Applications.mp3\"\n",
    "         type='audio/mp3'>\n",
    " <p>Your user agent does not support the HTML5 Audio element or the files is missing.</p>\n",
    "</audio>"
   ]
  },
  {
   "cell_type": "markdown",
   "metadata": {},
   "source": [
    "<a href = \"https://www.flickr.com/photos/telstar/4883861519\"> <img src=\"https://c1.staticflickr.com/5/4093/4883861519_c909bdebac_n.jpg\" alt = \"Sheel piping image\" Title=\"Sheel Piping\"  style=\"max-width:200px; max-height:200px; border:1px solid blue; float:right; margin-left:10px;\"/></a>\n",
    "Steel is used in the industrial setting, not only as structural elements and the same applications used in commercial structures, but also as the machinery of industry.  One of the big differences between the industrial settings and commercial ones is the use of steel piping.  It is used much more frequently in piping in industry settings, than commercial ones, because of both the added durability and strength.  Additionally, concerns about corrosion in steel piping are less because, in industrial settings, access is easier for replacement. "
   ]
  },
  {
   "cell_type": "markdown",
   "metadata": {
    "slideshow": {
     "slide_type": "slide"
    }
   },
   "source": [
    "## Cost Examples"
   ]
  },
  {
   "cell_type": "markdown",
   "metadata": {},
   "source": [
    "\n",
    "<audio controls data-autoplay preload>\n",
    " <source src=\"https://github.com/damontallen/Construction-materials/raw/master/Lecture_Audio/Week_2/Steel/Steel-Cost%20Examples.mp3\"\n",
    "         type='audio/mp3'>\n",
    " <p>Your user agent does not support the HTML5 Audio element or the files is missing.</p>\n",
    "</audio>"
   ]
  },
  {
   "cell_type": "markdown",
   "metadata": {},
   "source": [
    "Steel is generally sold by the piece, but the prices are strongly correlated with the weight of each piece.  For instance, if one I-beam has twice as much steel in it per unit length as another, its price will be roughly twice as much.  This is a way to do crude estimates of material pricing, though it should never be used in determining an estimate for an actual bid.\n",
    "\n",
    "As an example you can purchase a 10 ft long W4x13 beam for \\$146.20 at <a href=\"http://www.metalsdepot.com\">http://www.metalsdepot.com</a> as of June 17, 2015, and it weights 13 lbs per foot.  (Just to side track for a moment, W stands for \"wide flange section\", and the 4 is the approximate height of the section in inches.)  This means that it costs \\$14.62 per foot or \\$1.13 per pound.  A 10 ft long W12x22 which weights 22 pounds per foot costs \\$247.50 or \\$24.75 per foot, and it too is \\$1.13 per pound.  This is not alway the case depending on difficulty in manufacturing, or low demand of a particular shape, but it is practically just as easy to manufacture one shape as another so the main cost is simply the raw material that goes into it."
   ]
  },
  {
   "cell_type": "markdown",
   "metadata": {
    "slideshow": {
     "slide_type": "slide"
    }
   },
   "source": [
    "## Material Sources"
   ]
  },
  {
   "cell_type": "markdown",
   "metadata": {},
   "source": [
    "\n",
    "<audio controls data-autoplay preload>\n",
    " <source src=\"https://github.com/damontallen/Construction-materials/raw/master/Lecture_Audio/Week_2/Steel/Steel-Material%20Sources.mp3\"\n",
    "         type='audio/mp3'>\n",
    " <p>Your user agent does not support the HTML5 Audio element or the files is missing.</p>\n",
    "</audio>"
   ]
  },
  {
   "cell_type": "markdown",
   "metadata": {},
   "source": [
    "Depending on the quantity, you can purchase steel from a retailer like Lowes or Home Depot, a supplier like a local fabrication shop, or if you have a large enough quantity, you may be able to purchase directly from a steel mill like [Gerdau Long Steel of North America](http://www.gerdauameristeel.com/company/aboutga/).  Generally though, the steel supplied for constructing a building will be purchased from a fabrication shop ([Boone Welding](http://www.boonewelding.com/) in Gainesville for instance)."
   ]
  },
  {
   "cell_type": "markdown",
   "metadata": {
    "slideshow": {
     "slide_type": "slide"
    }
   },
   "source": [
    "## Examples of Installation Tools"
   ]
  },
  {
   "cell_type": "markdown",
   "metadata": {},
   "source": [
    "\n",
    "<audio controls data-autoplay preload>\n",
    " <source src=\"https://github.com/damontallen/Construction-materials/raw/master/Lecture_Audio/Week_2/Steel/Steel-Examples%20of%20Installation%20Tools.mp3\"\n",
    "         type='audio/mp3'>\n",
    " <p>Your user agent does not support the HTML5 Audio element or the files is missing.</p>\n",
    "</audio>"
   ]
  },
  {
   "cell_type": "markdown",
   "metadata": {},
   "source": [
    "<a href = \"https://en.wikipedia.org/wiki/I-beam\"><img src=\"https://upload.wikimedia.org/wikipedia/commons/thumb/0/09/I-BeamCrossSection.svg/440px-I-BeamCrossSection.svg.png\" alt = \"W-section image\" Title=\"Steel W-Section Diagram\" style=\"max-width:300px; max-height:300px; border:1px solid blue; float:right; margin-left:10px;\"/></a>Though you are unlikely to be installing any steel personally, if you did, you are likely to need wrenches for bolt up connections or a welding machine.  Depending on the size of the steel involved, you may also need access to a crane.  A relatively small beam like the 10 ft long W12x22 I mentioned previously weighs 220 lbs; at 20 ft in length it would be 440 lbs.  The physical dimensions of the be would be only 12.25\" in height (h), 4\" in width (w), less than 0.5\" in flange thickness (t), and about 0.25\" in web thickness (b).  This would seem to be fairly small and relative to a lot of beams it is.  W44x335 beams are available which stand 44\" tall (almost 4 ft) and weight 335 lbs for every foot of length.  Either way it should be clear that for a lot of usable sizes steel sections are practically impossible to move by hand.\n",
    "\n",
    "If you did use a crane you would also need a [spud wrench](https://www.google.com/search?q=%22spud+wrench%22&client=ubuntu&hs=Xsg&channel=fs&biw=1280&bih=619&source=univ&tbm=shop&tbo=u&sa=X&ei=DdyBVazPGMezggSxn4GgBQ&ved=0CB0Qsxg) or [drift pin](https://en.wikipedia.org/wiki/Drift_pin) to align holes when making bolted connections.  You'd also need a [torque wrench](https://en.wikipedia.org/wiki/Torque_wrench) to be able to properly tension the connecting bolts.  \n",
    "\n",
    "If you are using smaller pieces, using custom sizes, or needing stronger connections (which happens frequently) you would need other tools like cutting torches and welding machines.  A cutting torch uses hot gases to melt or burn away metal.  Other versions of cutting tools include automated saws and plasma torches.  A welding machine uses electricity to melt some filler metal, and the two pieces that are needing to be joined.  The resulting connection, if done correctly, is stronger than the original two pieces.  The filler metal will vary based on what types of metal that need to be connected, and the equipment can become expensive.  However, if you are using a crane to place steel, expensive does not mean the same thing as when you are just helping your buddy build something."
   ]
  },
  {
   "cell_type": "markdown",
   "metadata": {
    "slideshow": {
     "slide_type": "slide"
    }
   },
   "source": [
    "## Famous Failures"
   ]
  },
  {
   "cell_type": "markdown",
   "metadata": {},
   "source": [
    "\n",
    "<audio controls data-autoplay preload>\n",
    " <source src=\"https://github.com/damontallen/Construction-materials/raw/master/Lecture_Audio/Week_2/Steel/Steel-Famous%20Failures.mp3\"\n",
    "         type='audio/mp3'>\n",
    " <p>Your user agent does not support the HTML5 Audio element or the files is missing.</p>\n",
    "</audio>"
   ]
  },
  {
   "cell_type": "markdown",
   "metadata": {},
   "source": [
    "One of the more famous instances of a failure of a steel structure in recent history is the [I-35W Mississippi River Bridge](https://en.wikipedia.org/wiki/I-35W_Mississippi_River_bridge) ([video](https://www.youtube.com/watch?v=560KT65HSAY)).  The investigation into the bridge collapse revealed that it was a single element's failure in the structure that started the chain reaction.  The undersized [gusset plates](https://en.wikipedia.org/wiki/Gusset_plate), which had been working for 40 years, finally gave out.  These plates which should have been 1 inch thick, were specified to be only half of that.  The mode of failure that the gusset plates under went was a type of buckling.  Buckling strength is approximately proportional to the thickness in the direction of bending raise to the third power, so having half the thickness meant that the gusset plate only had an eighth of the expected resistance to buckling."
   ]
  },
  {
   "cell_type": "markdown",
   "metadata": {
    "slideshow": {
     "slide_type": "slide"
    }
   },
   "source": [
    "## Final Notes"
   ]
  },
  {
   "cell_type": "markdown",
   "metadata": {
    "slideshow": {
     "slide_type": "-"
    }
   },
   "source": [
    "<audio controls data-autoplay preload>\n",
    " <source src=\"https://github.com/damontallen/Construction-materials/raw/master/Lecture_Audio/Week_2/Steel/Steel-Final%20Notes.mp3\"\n",
    "         type='audio/mp3'>\n",
    " <p>Your user agent does not support the HTML5 Audio element or the files is missing.</p>\n",
    "</audio>"
   ]
  },
  {
   "cell_type": "markdown",
   "metadata": {
    "slideshow": {
     "slide_type": "-"
    }
   },
   "source": [
    "The CSI, (not that CSI) but rather the Construction Specifications Institute designates metals in the [MasterFormat](http://www.constructionnotebook.com/ipin2/CSIDivisions.asp) (steel included) under division 5.  The MasterFormat is used by the construction industry as a shorthand for specifications in construction contract documents.  The section numbers of the MasterFormat correspond to the section numbers in the contract specifications.  This provides a standard numbering system, and location uniformity from one set of constructions documents to the next as to where specific information will be found.  An example of this organization of information can be found in the [Sweets Catalog](http://sweets.construction.com/), which contains a wide range of building products all sorted by the MasterFormat designations.\n",
    "\n",
    "I'll try to include a reminder about this information with each new material that we cover."
   ]
  },
  {
   "cell_type": "markdown",
   "metadata": {
    "slideshow": {
     "slide_type": "slide"
    }
   },
   "source": [
    "# References"
   ]
  },
  {
   "cell_type": "markdown",
   "metadata": {},
   "source": [
    "[UF Class website](https://ufl.instructure.com/courses/) \n",
    "\n",
    "[Github.io version of course website](http://damontallen.github.io/Construction-materials/) *(Do not use this link if you are taking this course in Summer A or B.)*\n",
    "\n",
    "\n",
    "[IPython.org](http://ipython.org/) *(IPython is the opensource software used in the development of much of this course.)*\n",
    "\n",
    "[Complete Software List](http://nbviewer.ipython.org/github/damontallen/Construction-materials/blob/master/Resources.ipynb)\n",
    "\n",
    "## Report any problems\n",
    "\n",
    "[Issues](https://github.com/damontallen/Construction-materials/issues) Please report any problems that occurred during the viewing of this or any other lecture.\n",
    "\n",
    "Alternative Reporting - Email <a href=\"mailto:damontallen@gmail.com?Subject=Construction%20Materials%20Lecture%20Problems\" target=\"_top\">damontallen@gmail.com</a>"
   ]
  }
 ],
 "metadata": {
  "celltoolbar": "Slideshow",
  "kernelspec": {
   "display_name": "Python 3",
   "language": "python",
   "name": "python3"
  },
  "language_info": {
   "codemirror_mode": {
    "name": "ipython",
    "version": 3
   },
   "file_extension": ".py",
   "mimetype": "text/x-python",
   "name": "python",
   "nbconvert_exporter": "python",
   "pygments_lexer": "ipython3",
   "version": "3.4.3"
  }
 },
 "nbformat": 4,
 "nbformat_minor": 0
}
