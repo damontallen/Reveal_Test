{
 "cells": [
  {
   "cell_type": "markdown",
   "metadata": {
    "slideshow": {
     "slide_type": "slide"
    }
   },
   "source": [
    "# 3D Printing "
   ]
  },
  {
   "cell_type": "markdown",
   "metadata": {
    "slideshow": {
     "slide_type": "notes"
    }
   },
   "source": [
    "Be patient while the presentation loads and you may need to allow popups for the slide show (press s)."
   ]
  },
  {
   "cell_type": "markdown",
   "metadata": {
    "slideshow": {
     "slide_type": "fragment"
    }
   },
   "source": [
    "## The Sustainable Construction of <strike>the Future</strike> \n",
    "\n",
    "<img border=0 alt=\"TODAY (style missing)\" src=\"http://www.familylobby.com/common/tt10990415fltt.gif\">"
   ]
  },
  {
   "cell_type": "markdown",
   "metadata": {
    "slideshow": {
     "slide_type": "slide"
    }
   },
   "source": [
    "## Introduction\n",
    "\n",
    "<p><iframe width=\"700\" height=\"393\" src=\"//www.youtube.com/embed/VxPI0VK2YOo\" frameborder=\"0\" allowfullscreen></iframe></p>"
   ]
  },
  {
   "cell_type": "markdown",
   "metadata": {
    "slideshow": {
     "slide_type": "notes"
    }
   },
   "source": [
    "Focuses on Canal House but includes shots of 10 Houses in 24 hours, and Contour Crafting."
   ]
  },
  {
   "cell_type": "markdown",
   "metadata": {
    "slideshow": {
     "slide_type": "slide"
    }
   },
   "source": [
    "## Canal House\n",
    "\n",
    "<p><iframe src=\"https://player.vimeo.com/video/87843940\" width=\"700\" height=\"393\" frameborder=\"0\" webkitallowfullscreen mozallowfullscreen allowfullscreen></iframe></p> <p><a href=\"https://vimeo.com/87843940\">3D Print Canal House</a> from <a href=\"https://vimeo.com/user9732280\">3D Print Canal House</a> on <a href=\"https://vimeo.com\">Vimeo</a>.</p>\n",
    "\n",
    "[Canal House (site)](http://3dprintcanalhouse.com/)"
   ]
  },
  {
   "cell_type": "markdown",
   "metadata": {
    "slideshow": {
     "slide_type": "notes"
    }
   },
   "source": [
    "Her clothes change during the video (distracting) but good details about the project.  Substantial overlap with previous video.  Site link requires flash :(  There is information on it about:\n",
    "\n",
    "<ul>\n",
    "<li>eco-concrete</li>\n",
    "<li>printing material based on the potato starch from the leftovers of a french fries company</li>\n",
    "<li>printing material which is made from bamboo</li>\n",
    "</ul>"
   ]
  },
  {
   "cell_type": "markdown",
   "metadata": {
    "slideshow": {
     "slide_type": "slide"
    }
   },
   "source": [
    "## 10 Houses in 24 hours\n",
    "\n",
    "<p><iframe width=\"700\" height=\"393\" src=\"//www.youtube.com/embed/SObzNdyRTBs\" frameborder=\"0\" allowfullscreen></iframe></p>\n"
   ]
  },
  {
   "cell_type": "markdown",
   "metadata": {
    "slideshow": {
     "slide_type": "notes"
    }
   },
   "source": [
    "This is a news report from China English-language news channel about a private company (WinSun Decoration Design Engineering Co.) that printed buildings that are being used as offices.  They refer to them as houses and in the western sense of the word this is generous, but for a rapid construction process this is impressive.  Also buildings like these could easily be used as emergency shelters."
   ]
  },
  {
   "cell_type": "markdown",
   "metadata": {
    "slideshow": {
     "slide_type": "slide"
    }
   },
   "source": [
    "## 5 Story Printed Apartment\n",
    "\n",
    "<p><iframe width=\"700\" height=\"393\" src=\"//www.youtube.com/embed/UkQSaM43nNw\" frameborder=\"0\" allowfullscreen></iframe></p>\n",
    "\n"
   ]
  },
  {
   "cell_type": "markdown",
   "metadata": {
    "slideshow": {
     "slide_type": "notes"
    }
   },
   "source": [
    "Associated Press (AP) news reporting about the same company (WinSun Decoration Design Engineering Co.) building other projects. FYI 1100 m<sup>2</sup> is the same as 11840 ft<sup>2</sup>."
   ]
  },
  {
   "cell_type": "markdown",
   "metadata": {
    "slideshow": {
     "slide_type": "subslide"
    }
   },
   "source": [
    "[5 Story Printed Apartment (article + video)](http://3dprint.com/38144/3d-printed-apartment-building/)\n",
    "\n",
    "<p><iframe src=\"http://3dprint.com/38144/3d-printed-apartment-building/\"; width=\"800\"; height=\"800\"; scrolling=\"yes\"></iframe></p>"
   ]
  },
  {
   "cell_type": "markdown",
   "metadata": {
    "slideshow": {
     "slide_type": "notes"
    }
   },
   "source": [
    "Click through if iframe does not show to see some of the assembly process."
   ]
  },
  {
   "cell_type": "markdown",
   "metadata": {
    "slideshow": {
     "slide_type": "slide"
    }
   },
   "source": [
    "## Contour Crafting\n",
    "\n",
    "<p><iframe width=\"700\" height=\"393\" src=\"//www.youtube.com/embed/JdbJP8Gxqog\" frameborder=\"0\" allowfullscreen></iframe></p>\n"
   ]
  },
  {
   "cell_type": "markdown",
   "metadata": {
    "slideshow": {
     "slide_type": "notes"
    }
   },
   "source": [
    "When this was filmed the speaker (Behrokh Khoshnevis) was a professor of Industrial & Systems Engineering.  This was filmed back in 2012 but it is the most impressive project in that it displays some of the most advanced techniques.  These include on site robotic assembly of parts of the structure.\n",
    "\n",
    "He was also Director of Manufacturing Engineering Graduate Program at the University of Southern California (USC).  "
   ]
  },
  {
   "cell_type": "markdown",
   "metadata": {
    "slideshow": {
     "slide_type": "subslide"
    }
   },
   "source": [
    "[Contour Crafting (site)](http://www.contourcrafting.org/)\n",
    "\n",
    "<p> <iframe src=\"http://www.contourcrafting.org/\" width=800 height=800 scrolling=\"yes\"></iframe> </p>"
   ]
  },
  {
   "cell_type": "markdown",
   "metadata": {
    "slideshow": {
     "slide_type": "notes"
    }
   },
   "source": [
    "The scrolling banner includes a picture of three students supported by a printed concrete truss structure.  It also has infomation about NASA's interest in using of 3D printing of stuctures."
   ]
  },
  {
   "cell_type": "markdown",
   "metadata": {
    "slideshow": {
     "slide_type": "slide"
    }
   },
   "source": [
    "## Build Your Own Castle\n",
    "\n",
    "<p><iframe width=\"700\" height=\"393\" src=\"//www.youtube.com/embed/XENDSqp-Oss\" frameborder=\"0\" allowfullscreen></iframe></p>\n",
    "\n"
   ]
  },
  {
   "cell_type": "markdown",
   "metadata": {
    "slideshow": {
     "slide_type": "notes"
    }
   },
   "source": [
    "A contractor that just built his own 3D printer.  In early 2014 he was moving forward with printing a full size house."
   ]
  },
  {
   "cell_type": "markdown",
   "metadata": {
    "slideshow": {
     "slide_type": "slide"
    }
   },
   "source": [
    "## Printing with Steel\n",
    "\n",
    "<p><iframe width=\"700\" height=\"393\" src=\"//www.youtube.com/embed/pZNTzkAR1Ho\" frameborder=\"0\" allowfullscreen></iframe></p>\n",
    "\n",
    "[Steel Bridge (site)](http://mx3d.com/projects/bridge/)"
   ]
  },
  {
   "cell_type": "markdown",
   "metadata": {
    "slideshow": {
     "slide_type": "notes"
    }
   },
   "source": [
    "Not just concrete and plastic.  Very organic design since you don't need to include the parts of the structure that are not needed."
   ]
  },
  {
   "cell_type": "markdown",
   "metadata": {
    "slideshow": {
     "slide_type": "subslide"
    }
   },
   "source": [
    "[Steel Bridge (article)](http://gizmodo.com/the-plan-to-3d-print-a-steel-bridge-in-mid-air-1710882593)\n",
    "\n",
    "<p> <iframe src=\"http://gizmodo.com/the-plan-to-3d-print-a-steel-bridge-in-mid-air-1710882593\" width=800 height=800 scrolling=\"yes\"></iframe> </p>"
   ]
  },
  {
   "cell_type": "markdown",
   "metadata": {
    "slideshow": {
     "slide_type": "notes"
    }
   },
   "source": [
    "Includes an artist's image of printing a bridge in a park (I think) but also includes some shots of 3D printed material close up."
   ]
  },
  {
   "cell_type": "markdown",
   "metadata": {
    "slideshow": {
     "slide_type": "slide"
    }
   },
   "source": [
    "## 25-100 x Faster 3D Printing (1000 x Faster?)\n",
    "\n",
    "<p><iframe width=\"700\" height=\"393\" src=\"//www.youtube.com/embed/ihR9SX7dgRo\" frameborder=\"0\" allowfullscreen></iframe></p>\n",
    "\n",
    "[Rapid Printing - Carbon3D (site)](http://carbon3d.com/)"
   ]
  },
  {
   "cell_type": "markdown",
   "metadata": {
    "slideshow": {
     "slide_type": "notes"
    }
   },
   "source": [
    "More material, more properties, much much faster."
   ]
  },
  {
   "cell_type": "markdown",
   "metadata": {
    "slideshow": {
     "slide_type": "slide"
    }
   },
   "source": [
    "## Now Glass Printing\n",
    "\n",
    "<p><iframe width=\"700\" height=\"393\" src=\"//www.youtube.com/embed/_Lx2loldi6o\" frameborder=\"0\" allowfullscreen></iframe></p>\n"
   ]
  },
  {
   "cell_type": "markdown",
   "metadata": {
    "slideshow": {
     "slide_type": "notes"
    }
   },
   "source": [
    "This is slow but it is a new process.  There will be refinements and the speed will improve."
   ]
  },
  {
   "cell_type": "markdown",
   "metadata": {
    "slideshow": {
     "slide_type": "slide"
    }
   },
   "source": [
    "## UF's 3D printing - A$^2$ Fab Lab\n",
    "\n",
    "[A$^2$ Fab Lab - University of Florida](http://legacy.arts.ufl.edu/aafablab/)\n",
    "\n",
    "<p> <iframe src=\"http://legacy.arts.ufl.edu/aafablab/\" width=800 height=800 scrolling=\"yes\"></iframe> </p>"
   ]
  },
  {
   "cell_type": "markdown",
   "metadata": {
    "slideshow": {
     "slide_type": "notes"
    }
   },
   "source": [
    "Our very own 3D printing lab, complete with laser cutters too.  There is a fee that will give you access for more than a little more than a semester at a time.  They are currently looking into aquiring a 3D printer that extrudes ceramic material (still small though).  \n",
    "\n",
    "Maybe your professor (Ravi) can help with some grant applications to develop a 3D printer so we can print our own castles here?"
   ]
  },
  {
   "cell_type": "markdown",
   "metadata": {
    "slideshow": {
     "slide_type": "skip"
    }
   },
   "source": [
    "## Resources\n",
    "\n",
    "[3D Printing Intro (video)](https://www.youtube.com/watch?v=VxPI0VK2YOo)\n",
    "\n",
    "[Canal House (site)](http://3dprintcanalhouse.com/)\n",
    "\n",
    "[Canal House (video)](https://vimeo.com/87843940)\n",
    "\n",
    "[10 Houses in 24 hours](https://www.youtube.com/watch?v=SObzNdyRTBs)\n",
    "\n",
    "[6 Story Printed Apartment (article + video)](http://3dprint.com/38144/3d-printed-apartment-building/)\n",
    "\n",
    "[Contour Crafting (site)](http://www.contourcrafting.org/)\n",
    "\n",
    "[Contour Crafting (TED talk)](https://www.youtube.com/watch?v=JdbJP8Gxqog)\n",
    "\n",
    "[Castle (news video)](https://www.youtube.com/watch?v=XENDSqp-Oss)\n",
    "\n",
    "[Castle (site)](http://www.totalkustom.com/)\n",
    "\n",
    "[Steel Bridge (article)](http://gizmodo.com/the-plan-to-3d-print-a-steel-bridge-in-mid-air-1710882593)\n",
    "\n",
    "[Steel Bridge (site)](http://mx3d.com/projects/bridge/ )\n",
    "\n",
    "[Steel Bridge (video)](https://www.youtube.com/watch?v=pZNTzkAR1Ho)\n",
    "\n",
    "[Rapid Printing (video + demo)](https://www.youtube.com/watch?v=ihR9SX7dgRo)\n",
    "\n",
    "[Rapid Printing - Carbon3D (site)](http://carbon3d.com/)\n",
    "\n",
    "[MIT Glass Printing (video)](https://www.youtube.com/watch?v=_Lx2loldi6o)\n",
    "\n",
    "[UF's Fab Lab](http://legacy.arts.ufl.edu/aafablab/)\n"
   ]
  }
 ],
 "metadata": {
  "celltoolbar": "Slideshow",
  "kernelspec": {
   "display_name": "Python 3",
   "language": "python",
   "name": "python3"
  },
  "language_info": {
   "codemirror_mode": {
    "name": "ipython",
    "version": 3
   },
   "file_extension": ".py",
   "mimetype": "text/x-python",
   "name": "python",
   "nbconvert_exporter": "python",
   "pygments_lexer": "ipython3",
   "version": "3.4.3+"
  }
 },
 "nbformat": 4,
 "nbformat_minor": 0
}
