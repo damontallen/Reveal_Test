{
 "cells": [
  {
   "cell_type": "markdown",
   "metadata": {},
   "source": [
    "## How to be successful in a course with online lectures."
   ]
  },
  {
   "cell_type": "markdown",
   "metadata": {},
   "source": [
    "Now that you have become failure with how to navigate the online lectures of this course, I'm going to give you a few tips to allow you to be successful in this and other courses with online lecture material.\n",
    "\n",
    "<ol>\n",
    "<li>Take notes</li>\n",
    "    <ul>\n",
    "    <li>Taking notes in a notebook is how you have learned throughout your entire academic career and on-line courses are no different.  You brain has now been trained to equate note taking with learning; if you don't take notes you will be at a significant disadvantage.</li>\n",
    "    </ul>\n",
    "<li>Keep a schedule</li>\n",
    "    <ul>\n",
    "    <li>Do not let the fact that you can view the lectures at anytime lull you into a false sense of security.  You need to maintain the self discipline necessary to not fall behind in the course.  This could have also fit under the <strong>Take notes</strong> point since it is also important that you be able to remember the information from the lectures without access to the internet.</li>\n",
    "    </ul>\n",
    "<li>Show up to class</li>\n",
    "    <ul>\n",
    "    <li>You will find, as in many portions of life, if you simple show up you have accomplished 50% of the job.  When ever we are scheduled to meet you need to be there.  For the web only section that means goto the class website daily to check for additional notes, announcements, and discussions. If you don't show up you will not have an opportunity to ask questions.</li>\n",
    "    </ul>\n",
    "<li>Stay active in the class</li>\n",
    "    <ul>\n",
    "    <li>There is a temptation to simply hide behind the screen and only do what you are told.  The students that do well in courses with on-line content make a point to engage other students in discussions.  There is a class discussion page and it is a good idea to post questions, answer other peoples questions, and read the comments there frequently.  I'm not saying to post the solution to assignments there but if you have any tips or hints for other students who might be struggling make sure you share.  You might have questions of your own in the future and someone you help today may help you tomorrow.</li>\n",
    "    <li>I will frequent the discussion board and make sure the language, tone and information are all appropriate for university students.  In a web only section this will come into play in the class participation part of your grade.</li>\n",
    "    </ul>\n",
    "</ol>"
   ]
  },
  {
   "cell_type": "markdown",
   "metadata": {},
   "source": [
    "# References"
   ]
  },
  {
   "cell_type": "markdown",
   "metadata": {},
   "source": [
    "[UF Class website](https://ufl.instructure.com/courses/) \n",
    "\n",
    "[Github.io version of course website](http://damontallen.github.io/Construction-materials/) *(Do not use this link if you are taking this course in Summer A or B.)*\n",
    "\n",
    "\n",
    "[IPython.org](http://ipython.org/) *(IPython is the opensource software used in the development of much of this course.)*\n",
    "\n",
    "[Complete Software List](http://nbviewer.ipython.org/github/damontallen/Construction-materials/blob/master/Resources.ipynb)\n",
    "\n",
    "## Report any problems\n",
    "\n",
    "[Issues](https://github.com/damontallen/Construction-materials/issues) Please report any problems that occurred during the viewing of this or any other lecture.\n",
    "\n",
    "Alternative Reporting - Email <a href=\"mailto:damontallen@gmail.com?Subject=Construction%20Materials%20Lecture%20Problems\" target=\"_top\">damontallen@gmail.com</a>"
   ]
  }
 ],
 "metadata": {
  "kernelspec": {
   "display_name": "Python 3",
   "language": "python",
   "name": "python3"
  },
  "language_info": {
   "codemirror_mode": {
    "name": "ipython",
    "version": 3
   },
   "file_extension": ".py",
   "mimetype": "text/x-python",
   "name": "python",
   "nbconvert_exporter": "python",
   "pygments_lexer": "ipython3",
   "version": "3.4.0"
  }
 },
 "nbformat": 4,
 "nbformat_minor": 0
}
