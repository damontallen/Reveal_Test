{
 "cells": [
  {
   "cell_type": "markdown",
   "metadata": {},
   "source": [
    "# Software Resources"
   ]
  },
  {
   "cell_type": "markdown",
   "metadata": {},
   "source": [
    "In the process of developing this course I have used the following open source programs:\n",
    "\n",
    "* [IPython](http://ipython.org/index.html) (versions 3.1)\n",
    "    * Notebook to develop all the software and documentation.\n",
    "    * NBConvert to make slides, convert to LaTeX, and create pdfs.\n",
    "* Damián Avila's IPython extension for [spell checking](http://www.damian.oquanta.info/posts/a-poor-man-spell-checker-for-the-ipython-notebook.html)\n",
    "* [Audacity](http://audacity.sourceforge.net/) (version 2.05)\n",
    "    * Used to record all the audio files.\n",
    "* [Openshot](http://www.openshot.org/) (version 1.4.3)\n",
    "    * Used to edit the videos.\n",
    "* [GTK UVC](http://guvcview.sourceforge.net/) (version 1.7.1-1)\n",
    "    * Used to record most of the video files.\n",
    "* [LibreOffice](https://www.libreoffice.org/) (version 4.4.3.2)\n",
    "    * Writer to develop the original version of my lecture notes.\n",
    "    * Calc to develop the spreadsheet homework assignments.\n",
    "    * Draw to create illustrations for the slideshows.\n",
    "* [Shutter](https://apps.ubuntu.com/cat/applications/shutter/) (version 0.90.1)\n",
    "    * Used for quick screen captures.\n",
    "* [Gummi](http://dev.midnightcoding.org/projects/gummi) (version 0.6.5)\n",
    "    * For editing LaTeX files and creating pdfs.\n",
    "* [Ubuntu](http://www.ubuntu.com/) (version 14.04)\n",
    "    * The opensource operating system in which I was able to quickly find and install most of the software listed above.\n",
    "    * Firefox, used to view IPython Notebooks.\n",
    "    * Chrome, used to view IPython Notebooks.\n",
    "    * Chromium, used to view IPython Notebooks.\n",
    "\n",
    "\n",
    "I also used the free resources available from the following web sites:\n",
    "\n",
    "* [GitHub](https://github.com/): For version control an online hosting of the slideshows, notebook files, and audio files.\n",
    "* [YouTube](https://www.youtube.com/): For hosting the video files in a variety of formats to allow for easy streaming.\n",
    "* [Imgur](https://imgur.com/): For hosting image files.\n",
    "* [NBViewer](http://nbviewer.ipython.org/): For displaying static versions of the notebooks hosted on GitHub.\n",
    "\n",
    "To the best of my knowledge, this is a complete list of all the software I used in the development of this course.  They are listed in relative importance to my work-flow, but all have been critical are one point or another.  Thanks to all the hard work of these software developers, I have been able to do my job with relative ease."
   ]
  },
  {
   "cell_type": "markdown",
   "metadata": {
    "collapsed": false
   },
   "source": [
    "## Previously Used Programs in Other Course Development"
   ]
  },
  {
   "cell_type": "markdown",
   "metadata": {},
   "source": [
    "* [Blender](http://www.blender.org/) (version 2.69)\n",
    "    * Used to render some of the more complicated 3D images.\n",
    "* [InkScape](http://www.inkscape.org/en/) (version 0.91)\n",
    "    * Used to create some of the diagrams in the slideshows.\n",
    "* [GIMP](http://www.gimp.org/) (version 2.8.10)\n",
    "    * Used for some image conversion."
   ]
  }
 ],
 "metadata": {
  "kernelspec": {
   "display_name": "Python 3",
   "language": "python",
   "name": "python3"
  },
  "language_info": {
   "codemirror_mode": {
    "name": "ipython",
    "version": 3
   },
   "file_extension": ".py",
   "mimetype": "text/x-python",
   "name": "python",
   "nbconvert_exporter": "python",
   "pygments_lexer": "ipython3",
   "version": "3.4.0"
  }
 },
 "nbformat": 4,
 "nbformat_minor": 0
}