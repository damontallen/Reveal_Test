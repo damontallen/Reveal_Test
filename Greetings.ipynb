{
 "cells": [
  {
   "cell_type": "markdown",
   "metadata": {
    "slideshow": {
     "slide_type": "slide"
    }
   },
   "source": [
    "# Greetings"
   ]
  },
  {
   "cell_type": "markdown",
   "metadata": {
    "slideshow": {
     "slide_type": "-"
    }
   },
   "source": [
    "<strong style=\"color:red\">If you don't see a Youtube video below, download, install and view this lecture using the free Google web browser Chrome (http://www.google.com/chrome/).</strong>\n",
    "\n",
    "<p><iframe width=\"420\" height=\"315\" src=\"//www.youtube.com/embed/Ix9glcVwTb4\" frameborder=\"0\" allowfullscreen alt=\"YouTube video - download, install and view using Chrome\"></iframe></p>\n",
    "\n",
    "Trouble Shooting Tips:\n",
    "\n",
    "* View lectures using [Chrome](http://www.google.com/chrome/)\n",
    "* Disable any installed flash blocker during the lectures\n",
    "* After following the instructions in the video:\n",
    "     * a) Press the spacebar to advance to the next slide\n",
    "     * b) Or click on the dark blue down arrow at the bottom left  <img src=\"http://i.imgur.com/ydq7pq4.jpg\" title=\"Down Arrow\" alt = \"Error - missing down arrow\" height = \"5%\" width = \"5%\"/> \n",
    "\n",
    "\n",
    "If all else fails try the [UF Computing Help Desk](http://helpdesk.ufl.edu/).\n",
    "\n",
    "*(Note: you made need to tell them that you are using a \"reveal.js\" presentation)*"
   ]
  },
  {
   "cell_type": "markdown",
   "metadata": {
    "slideshow": {
     "slide_type": "subslide"
    }
   },
   "source": [
    "## You Made It!"
   ]
  },
  {
   "cell_type": "markdown",
   "metadata": {},
   "source": [
    "<audio controls preload>\n",
    " <source src=\"https://github.com/damontallen/Construction-materials/raw/master/Lecture_Audio/Week_0/Greetings/You_Made_It.mp3\"\n",
    "         type='audio/mp3'>\n",
    " <p>Your user agent does not support the HTML5 Audio element or the files is missing.</p>\n",
    "</audio>"
   ]
  },
  {
   "cell_type": "markdown",
   "metadata": {},
   "source": [
    "<a href = \"http://upload.wikimedia.org/wikipedia/commons/0/04/So_happy_smiling_cat.jpg\"><img src=\"http://upload.wikimedia.org/wikipedia/commons/0/04/So_happy_smiling_cat.jpg\" alt = \"Hover Image Test Picture\"style=\"max-width:75px; max-height:75px; border:1px solid blue; float:right; margin-left:10px;\"/></a>\n",
    "\n",
    "Great!  This is the only manually play audio control that you'll see in this class.  In the upper right corner of the screen you should see a small image of a cat.  That is because this is an on-line slide show and everyone knows the internet is made of cats.\n",
    "\n",
    "Actually that is a demonstration image for testing the browser add-ons I've listed below.  \n",
    "\n",
    "### Browser Add-ons\n",
    "\n",
    "If you use Firefox or Chrome then installing one of the following extensions will make the viewing of images in this class much easier.\n",
    "\n",
    "* Firefox - [Thumbnail Zoom Plus](https://addons.mozilla.org/en-US/firefox/addon/thumbnail-zoom-plus/?src=search) *(Not all bordered images will have a zoomed version with this extension, but most will.)*\n",
    "* Chrome - [Imagus](https://chrome.google.com/webstore/detail/imagus/immpkjjlgappgfkkfieppnmlhakdmaab?hl=en-US) *(This works better than the Firefox extension.)*\n",
    "\n",
    "Once you install one of those add-ons you should be able to hover your mouse over the cat and see a much larger view.  This is useful in conserving screen space and I will use this technique to provide detailed images that are too big to fit on the screen along side of text descriptions.  Go ahead and install the appropriate addon once I have finished talking and then come back and test it out on this slide.\n",
    "\n",
    "In addition to that useful feature you should notice that there is a scroll bar on the right side of the screen.  This is the second major difference that between other slide shows and this style.  That scroll bar will appear if the content of the slide is too big to fit on your screen.  In this case I have included the text of what I'm saying to fill up the screen.  I will try to avoid having content that goes past the bottom of the screen but sometimes it will be unavoidable and in those cases it is useful for you to be able to scroll down to the bottom and get the full picture.  \n",
    "\n",
    "### Useful Tip:\n",
    "\n",
    "I recommend viewing these lectures in the browser [Chrome](http://www.google.com/chrome/).  It has had the best ratings passing the [HTML5 Test](http://html5test.com/) (526 out of 555 points) and as such it has been the most compatible and reliable in displaying web content correctly.  I've listed some other popular browser scores below.\n",
    "\n",
    "* Opera - 525 as of release version 31\n",
    "* Chromium - 506 as of release version 43.0 \n",
    "* Firefox - 466 as of release version 40.0\n",
    "* Edge - 402 as of initial release\n",
    "* Safari - 400 as of release version 9.0\n",
    "* Internet Explorer - 336 as of release version 11.0\n",
    "\n",
    "\n",
    "*More browser scores are available at this list's [source](https://html5test.com/results/desktop.html).*\n",
    "\n",
    "Either press pause or wait until the audio is done playing before continuing on.\n",
    "\n",
    "*(Press the blue arrow to the right at the bottom right of the screen to move on the the Additional Slide Show Information.)*"
   ]
  },
  {
   "cell_type": "markdown",
   "metadata": {
    "slideshow": {
     "slide_type": "slide"
    }
   },
   "source": [
    "## Additional Slide Show Information"
   ]
  },
  {
   "cell_type": "markdown",
   "metadata": {},
   "source": [
    "<audio controls data-autoplay preload>\n",
    " <source src=\"https://github.com/damontallen/Construction-materials/raw/master/Lecture_Audio/Week_0/Greetings/Additional_Slide_Show_Information.mp3\"\n",
    "         type='audio/mp3'>\n",
    " <p>Your user agent does not support the HTML5 Audio element or the files is missing.</p>\n",
    "</audio>"
   ]
  },
  {
   "cell_type": "markdown",
   "metadata": {},
   "source": [
    "<a href = \"http://en.wikipedia.org/wiki/Advice_%28opinion%29\"><img src=\"http://upload.wikimedia.org/wikipedia/commons/thumb/b/bf/Le_bon_conseil.jpg/500px-Le_bon_conseil.jpg\" alt = \"The good advice - image\" title=\"Good Advice\" style=\"max-width:300px; max-height:300px; border:1px solid blue; float:right; margin-left:10px;\"/></a>\n",
    "\n",
    "\n",
    "I have a few more useful tips about the lectures.  \n",
    "\n",
    "1. Firstly, each slide in a slide show has its own unique web address.  As such you can bookmark / favorite a particular slide to be able to come right back to it.  \n",
    "    * Additionally, each heading or title has an associated link with it which allows you to jump right back to a particular point on a slide.  I actually try to limit the number of heading on each slide to one but sometimes there may be something I am trying to call attention to which requires it's own heading. \n",
    "2. Secondly, all the text in a slide show is selectable.  This is particularly useful if you happen to want to copy part of an equation.  \n",
    "3. The third tip you might have already noticed; the audio will auto play whenever you first view a new slide.  The exceptions are the first slide in a slide show, which usually contains a video, and the previous slide in this presentation.  In addition to this any slide that automatically started talking it will automatically stop once you leave it for a different slide.  It will also pickup right where it left off if you come back to it, (as long as you are not re-opening the lecture).\n",
    "4. You will not be able to directly view these lectures in [Canvas](https://ufl.instructure.com/) (UF's course management system).  Once you click a link to a lecture it will open up a page and display the message below.  In order to view the lecture you need to click on the lecture title just below the message and then it should open up a new tab.\n",
    "    * \"You are trying to launch insecure content from within a secure site (canvas). Some web browsers may prevent this content from loading.\"  \n",
    "    \n",
    "5. These slide shows can each be viewed as a single long web page.  These web pages can be found at the [main github site](https://github.com/damontallen/Construction-materials#construction-materials) for this course.  I don't recommend viewing them like this initially since the audio does not automatically play when viewed as a single page and sometimes I will say things that do not appear in writing."
   ]
  },
  {
   "cell_type": "markdown",
   "metadata": {
    "slideshow": {
     "slide_type": "slide"
    }
   },
   "source": [
    "## Course Description"
   ]
  },
  {
   "cell_type": "markdown",
   "metadata": {},
   "source": [
    "<audio controls data-autoplay preload>\n",
    " <source src=\"https://github.com/damontallen/Construction-materials/raw/master/Lecture_Audio/Week_0/Greetings/Course_Description.mp3\"\n",
    "         type='audio/mp3'>\n",
    " <p>Your user agent does not support the HTML5 Audio element or the files is missing.</p>\n",
    "</audio>"
   ]
  },
  {
   "cell_type": "markdown",
   "metadata": {},
   "source": [
    "During this course I am going to cover the following construction materials topics.\n",
    "\n",
    "<table border=\"0\">\n",
    "  <col width=\"190\">\n",
    "  <col width=\"50\">\n",
    "  <col width=\"10\">\n",
    "  <col width=\"190\">\n",
    "  <col width=\"50\">\n",
    "<tr style=\"border:0\"><td style=\"border:0\"><ul><li>Sustainability </li></ul></td><td style=\"border:0\"><a href=\"http://www.usgbc.org/leed\"><img src=\"http://upload.wikimedia.org/wikipedia/commons/6/6a/LEED_platinum_grey.jpg\" alt=\"LEED icon\" title=\"U.S. Green Building Council\" style=\"max-width:20px; max-height:20px; border:1px solid blue; float:left; \"/></a></td>\n",
    "<td style=\"border:0\"></td>\n",
    "<td style=\"border:0\"><ul><li>Steel </li></ul></td><td style=\"border:0\"><a href=\"http://pixabay.com/static/uploads/photo/2014/08/09/11/34/architecture-414035_640.jpg?attachment/\"><img src=\"http://t0.gstatic.com/images?q=tbn:ANd9GcR41eNnvFfIBPY8GB4HLOr3Z59szHTx7hzbmoMwL1y7ZR2zl_HL6g\" alt=\"Steel building image\" title=\"Steel Building\" style=\"max-width:20px; max-height:20px; border:1px solid blue; float:left; \"/></a></td>\n",
    "</tr>\n",
    "<tr style=\"border:0\"><td style=\"border:0\"><ul><li>Aluminum </li></ul></td><td style=\"border:0\"><a href=\"https://en.wikipedia.org/wiki/Aluminium\"><img src=\"https://upload.wikimedia.org/wikipedia/commons/thumb/5/5d/Aluminium-4.jpg/440px-Aluminium-4.jpg\" alt=\"Aluminum chunk section\" title=\"Aluminum\" style=\"max-width:20px; max-height:20px; border:1px solid blue; float:left; \"/></a></td>\n",
    "<td style=\"border:0\"></td>\n",
    "<td style=\"border:0\"><ul><li>Wood </li></ul></td><td style=\"border:0\"><a href=\"http://en.wikipedia.org/wiki/User:Vermont.timber/Bent_%28structural%29\"><img src=\"http://upload.wikimedia.org/wikipedia/commons/thumb/5/5d/Stack_of_Timber_Bents.jpg/440px-Stack_of_Timber_Bents.jpg\" alt=\"Wood framing\" title=\"Wood Framing\" style=\"max-width:20px; max-height:20px; border:1px solid blue; float:left; \"/></a></td>\n",
    "</tr>\n",
    "<tr style=\"border:0\"><td style=\"border:0\"><ul><li>Asphalt </li></ul></td><td style=\"border:0\"><a href=\"http://en.wikipedia.org/wiki/Asphalt\"><img src=\"http://upload.wikimedia.org/wikipedia/commons/4/45/Refined_bitumen.JPG\" alt=\"Refined asphalt/bitumen image\" title=\"Fractured Asphalt\" style=\"max-width:20px; max-height:20px; border:1px solid blue; float:left; \"/></a></td>\n",
    "<td style=\"border:0\"></td>\n",
    "<td style=\"border:0\"><ul><li>Concrete </li></ul></td><td style=\"border:0\"><a href=\"http://www.pexels.com/photo/building-construction-building-site-constructing-2469/\"><img src=\"https://static.pexels.com/photos/2469/building-construction-building-site-constructing.jpg\" alt=\"Image of concrete chute\" title=\"Concrete Pour\" style=\"max-width:20px; max-height:20px; border:1px solid blue; float:left; \"/></a></td>\n",
    "</tr>\n",
    "<tr style=\"border:0\"><td style=\"border:0\"><ul><li>Masonry </li></ul></td><td style=\"border:0\"><a href=\"http://en.wikipedia.org/wiki/Masonry\"><img src=\"http://upload.wikimedia.org/wikipedia/commons/thumb/8/83/CMUs.jpg/440px-CMUs.jpg\" alt=\"Concrete block wall image\" title=\"Masonry Wall\" style=\"max-width:20px; max-height:20px; border:1px solid blue; float:left; \"/></a></td>\n",
    "<td style=\"border:0\"></td>\n",
    "<td style=\"border:0\"><ul><li>Effects of Moisture </li></ul></td><td style=\"border:0\"><a href=\"http://en.wikipedia.org/wiki/Rust\"><img src=\"http://upload.wikimedia.org/wikipedia/commons/thumb/8/80/Rust_wedge.jpg/440px-Rust_wedge.jpg\" alt=\"Rust wedge image\" title=\"Concrete Damage Demonstration\" style=\"max-width:20px; max-height:20px; border:1px solid blue; float:left; \"/></a></td>\n",
    "</tr>\n",
    "<tr style=\"border:0\"><td style=\"border:0\"><ul><li>Solid Flooring </li></ul></td><td style=\"border:0\"><a href=\"http://en.wikipedia.org/wiki/Wood_flooring\"><img src=\"http://upload.wikimedia.org/wikipedia/commons/thumb/1/1d/Custom_Showroom.jpg/440px-Custom_Showroom.jpg\" alt=\"Sample wood flooring image\" title=\"Sample Flooring\" style=\"max-width:20px; max-height:20px; border:1px solid blue; float:left; \"/></a></td>\n",
    "<td style=\"border:0\"></td>\n",
    "<td style=\"border:0\"><ul><li>Carpet </li></ul></td><td style=\"border:0\"><a href=\"http://en.wikipedia.org/wiki/Carpet\"><img src=\"http://upload.wikimedia.org/wikipedia/commons/thumb/a/a5/Swatches_of_carpet_1.jpg/440px-Swatches_of_carpet_1.jpg\" alt=\"Carpet sample image\" title=\"Carpet Samples\" style=\"max-width:20px; max-height:20px; border:1px solid blue; float:left; \"/></a></td>\n",
    "</tr>\n",
    "<tr style=\"border:0\"><td style=\"border:0\"><ul><li>Gypsum </li></ul></td><td style=\"border:0\"><a href=\"http://en.wikipedia.org/wiki/Drywall\"><img src=\"http://upload.wikimedia.org/wikipedia/commons/3/3e/Drywall.jpg\" alt=\"Drywall image\" title=\"Gypsum Board\" style=\"max-width:20px; max-height:20px; border:1px solid blue; float:left; \"/></a></td>\n",
    "<td style=\"border:0\"></td>\n",
    "<td style=\"border:0\"><ul><li>Protective Coatings (i.e. Paint) </li></ul></td><td style=\"border:0\"><a href=\"https://www.flickr.com/photos/dougww/2453670430\"><img src=\"//c2.staticflickr.com/4/3267/2453670430_a453c127af_z.jpg?zz=1\" alt=\"Sample paint colors\" title=\"Paint Colors\" style=\"max-width:20px; max-height:20px; border:1px solid blue; float:left; \"/></a></td>\n",
    "</tr>\n",
    "<tr style=\"border:0\"><td style=\"border:0\"><ul><li>Glass </li></ul></td><td style=\"border:0\"><a href=\"http://en.wikipedia.org/wiki/Buen_Retiro_Park\"><img src=\"http://upload.wikimedia.org/wikipedia/commons/thumb/c/c6/Palacio_de_Cristal_-_Parque_del_Buen_Retiro.jpg/440px-Palacio_de_Cristal_-_Parque_del_Buen_Retiro.jpg\" alt=\"Glass roof image\" title=\"Crystal Palace\" style=\"max-width:20px; max-height:20px; border:1px solid blue; float:left; \"/></a></td>\n",
    "<td style=\"border:0\"></td>\n",
    "<td style=\"border:0\"><ul><li>Plastic </li></ul></td><td style=\"border:0\"><a href=\"http://en.wikipedia.org/wiki/Electrical_conduit\"><img src=\"http://upload.wikimedia.org/wikipedia/commons/thumb/2/23/Plastic_tubing.jpg/440px-Plastic_tubing.jpg\" alt=\"Electrical conduit image\" title=\"Plastic Piping\" style=\"max-width:20px; max-height:20px; border:1px solid blue; float:left; \"/></a></td>\n",
    "</tr>\n",
    "</table>\n",
    "\n",
    "\n",
    "\n",
    "I will try to cover the following apects for each materials either in lecture or in the assigned reading.\n",
    "\n",
    "* Sustainability\n",
    "* Material properties\n",
    "* Applicable tests\n",
    "* Examples installation methods and equipment (if difficult)\n",
    "* Examples of famous failures and safe construction practices (if applicable) \n",
    "\n",
    "I'll cover more details about this course in the course description presentation.\n"
   ]
  },
  {
   "cell_type": "markdown",
   "metadata": {
    "slideshow": {
     "slide_type": "slide"
    }
   },
   "source": [
    "## Textbooks"
   ]
  },
  {
   "cell_type": "markdown",
   "metadata": {},
   "source": [
    "<audio controls data-autoplay preload>\n",
    " <source src=\"https://github.com/damontallen/Construction-materials/raw/master/Lecture_Audio/Week_0/Greetings/Textbooks.mp3\"\n",
    "         type='audio/mp3'>\n",
    " <p>Your user agent does not support the HTML5 Audio element or the files is missing.</p>\n",
    "</audio>"
   ]
  },
  {
   "cell_type": "markdown",
   "metadata": {},
   "source": [
    "<a href=\"http://www.wiley.com/WileyCDA/WileyTitle/productCd-0470547405.html\"><img src=\"http://media.wiley.com/product_data/coverImage300/05/04705474/0470547405.jpg\" alt=\"Image of Olin's Construction textbook\" title=\"Olin's Construction\" style=\"max-width:200px; max-height:200px; border:1px solid blue; float:right; margin-left:10px;\"/></a>\n",
    "\n",
    "This semester I am only going to be requiring that you use \"Olin's Construction: Principles, Materials, and Methods Ninth Edition\".  The ISBN number is:\n",
    "\n",
    "* ISBN: 978-0-470-54740-3\n",
    "\n",
    "It can be found on its publisher's site ([Wiley](http://www.wiley.com/WileyCDA/WileyTitle/productCd-0470547405.html)) for \\$145 new.  [Additional searches](http://www.bookfinder.com/search/?keywords=978-0-470-54740-3&new_used=*&lang=en&st=sh&ac=qr&submit=) may result in lower prices, though this is not an endorsement of any particular online store.  I recommend that you get a printed copy instead of a digital one; the reason for this is book is going to be used in the construction techniques class and you may need it as a reference book during an exam.\n",
    "\n",
    "I addition to Olin's Construction, I used the following texts in this course's development.\n",
    "\n",
    "* Basic Construction Materials - 7<sup>th</sup> edition\n",
    "* Sustainable Construction - 3<sup>rd</sup> edition\n",
    "* Green Building: Project Planning & Cost Estimating - 2<sup>nd</sup> edition\n",
    "\n",
    "These texts are not required but if you need additional information, they are recommended reading.\n",
    "\n",
    "At various points throughout the course I may reference additional material such as conference lectures or even websites.  I will cite or link to these when they appear."
   ]
  },
  {
   "cell_type": "markdown",
   "metadata": {
    "slideshow": {
     "slide_type": "slide"
    }
   },
   "source": [
    "## Using Canvas\n",
    "\n",
    "<p><audio controls data-autoplay preload>\n",
    " <source src=\"https://github.com/damontallen/Construction-materials/raw/master/Lecture_Audio/Week_0/Greetings/Using_Canvas.mp3\"\n",
    "         type='audio/mp3'>\n",
    " <p>Your user agent does not support the HTML5 Audio element or the files is missing.</p>\n",
    "</audio></p>\n",
    "\n",
    "For those of you who are not familiar with UF's e-learning site Canvas, the video below covers the basic use of the site for this course.  This video was made while the class Canvas website was still under development so the actual site may not look the same as what you see.  That being said, you should pay attention to the locations on the web page to where the links are located.\n",
    "\n",
    "<p><iframe width=\"560\" height=\"315\" src=\"//www.youtube.com/embed/vLlRWNO8Aqk\" frameborder=\"0\" allowfullscreen></iframe></p>"
   ]
  },
  {
   "cell_type": "markdown",
   "metadata": {
    "slideshow": {
     "slide_type": "slide"
    }
   },
   "source": [
    "## Final Thoughts"
   ]
  },
  {
   "cell_type": "markdown",
   "metadata": {},
   "source": [
    "<audio controls data-autoplay preload>\n",
    " <source src=\"https://github.com/damontallen/Construction-materials/raw/master/Lecture_Audio/Week_0/Greetings/Final_Thoughts.mp3\"\n",
    "         type='audio/mp3'>\n",
    " <p>Your user agent does not support the HTML5 Audio element or the files is missing.</p>\n",
    "</audio>"
   ]
  },
  {
   "cell_type": "markdown",
   "metadata": {},
   "source": [
    "<a href=\"http://noramorrison.deviantart.com/art/Advice-478625985\"><img src=\"http://orig12.deviantart.net/1b97/f/2014/239/b/2/advice_by_noramorrison-d7wym69.jpg\" alt=\"Advice Comic\" title=\"Advice Comic\" style=\"max-width:300px; max-height:300px; border:1px solid blue; float:right; margin-left:10px;\"/></a>\n",
    "Lastly I'm going to leave you with some words of advice.  Since this course is early in your college education career I am not expecting you to know everything.  Some of you are even still taking Physics.  I do, however, expect you to do what I ask of you.  If you follow instructions, participate, take notes, and submit your completed assignments on time you should do very well in this course (this goes for all your courses really).  This is not high-school where you can not do anything then walk into class and expect to pass.  This class is not covering thing you already know so you will have to study.\n",
    "\n",
    "Some of you are taking this course since it has a reputation for an easy $A$.  I cannot speak to this since this is the first time I have taught it.  However I have been given different guidelines than the previous instructor used and I expect it will be more difficult than it was in the past.  This is not to say that you will not make an $A$ but don't use any previous semester notes, quizses or homework solutions.\n",
    "\n",
    "I have prepared some [additional information](http://nbviewer.ipython.org/github/damontallen/Construction-materials/blob/master/Online%20course%20success.ipynb) that is specific to using on-line lectures based on this courses format.  This is not the first course that I have taught using on-line lectures and I have learned a few thing from my more successful students.  I am hoping that by you reading what I found out I can save you a lot of stress and frustration.\n",
    "\n",
    "Welcome to college and welcome to my class."
   ]
  },
  {
   "cell_type": "markdown",
   "metadata": {
    "slideshow": {
     "slide_type": "slide"
    }
   },
   "source": [
    "# References"
   ]
  },
  {
   "cell_type": "markdown",
   "metadata": {},
   "source": [
    "[UF Class website](https://ufl.instructure.com/courses/) \n",
    "\n",
    "[Github.io version of course website](http://damontallen.github.io/Construction-materials/) *(Do not use this link if you are taking this course in Summer A or B.)*\n",
    "\n",
    "\n",
    "[IPython.org](http://ipython.org/) *(IPython is the opensource software used in the development of much of this course.)*\n",
    "\n",
    "[Complete Software List](http://nbviewer.ipython.org/github/damontallen/Construction-materials/blob/master/Resources.ipynb)\n",
    "\n",
    "## Report any problems\n",
    "\n",
    "[Issues](https://github.com/damontallen/Construction-materials/issues) Please report any problems that occurred during the viewing of this or any other lecture.\n",
    "\n",
    "Alternative Reporting - Email <a href=\"mailto:damontallen@gmail.com?Subject=Construction%20Materials%20Lecture%20Problems\" target=\"_top\">damontallen@gmail.com</a>"
   ]
  }
 ],
 "metadata": {
  "celltoolbar": "Slideshow",
  "kernelspec": {
   "display_name": "Python 3",
   "language": "python",
   "name": "python3"
  },
  "language_info": {
   "codemirror_mode": {
    "name": "ipython",
    "version": 3
   },
   "file_extension": ".py",
   "mimetype": "text/x-python",
   "name": "python",
   "nbconvert_exporter": "python",
   "pygments_lexer": "ipython3",
   "version": "3.4.3+"
  }
 },
 "nbformat": 4,
 "nbformat_minor": 0
}
