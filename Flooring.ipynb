{
 "cells": [
  {
   "cell_type": "markdown",
   "metadata": {
    "slideshow": {
     "slide_type": "slide"
    }
   },
   "source": [
    "# Flooring"
   ]
  },
  {
   "cell_type": "markdown",
   "metadata": {
    "slideshow": {
     "slide_type": "-"
    }
   },
   "source": [
    "<p><iframe width=\"420\" height=\"315\" src=\"//www.youtube.com/embed/6cnkvxPn-FE\" frameborder=\"0\" allowfullscreen></iframe>\n",
    "</p>"
   ]
  },
  {
   "cell_type": "markdown",
   "metadata": {
    "slideshow": {
     "slide_type": "slide"
    }
   },
   "source": [
    "## Introduction"
   ]
  },
  {
   "cell_type": "markdown",
   "metadata": {},
   "source": [
    "<audio controls data-autoplay preload>\n",
    " <source src=\"https://github.com/damontallen/Construction-materials/raw/master/Lecture_Audio/Week_8/Flooring/Introduction.mp3\"\n",
    "         type='audio/mp3'>\n",
    " <p>Your user agent does not support the HTML5 Audio element or the files is missing.</p>\n",
    "</audio>"
   ]
  },
  {
   "cell_type": "markdown",
   "metadata": {},
   "source": [
    "<a href = \"https://en.wikipedia.org/wiki/Parquetry\"> <img src=\"https://upload.wikimedia.org/wikipedia/commons/thumb/1/12/De_Notelaer_%28048%29.jpg/220px-De_Notelaer_%28048%29.jpg\" alt = \"Wooden parquetry flooring image\" Title=\"Parquetry Flooring\"  style=\"max-width:200px; max-height:200px; border:1px solid blue; float:right; margin-left:10px;\"/></a>Flooring is a subset of finishes and we are going to be covering a subset of flooring today.  Specifically we are going to be covering tile, wood flooring, and resilient flooring (vinyl, cork and the like).  The tile we are looking at is ceramic tile as apposed to natural stone tile.  The installation technique is very similar but the usage specifics will vary based on which type of stone is being used.\n",
    "\n",
    "Before we get too far along we should cover the sustainability aspects of flooring.  Since we are focusing on ceramic tile to start with, I can say that the manufacturing process is similar to brick except that tile are much thinner.  That mean the embodied energy is proportional, and durability is similar.  As such, tile can be recycled if it can be removed without breaking.  Depending on your local recycling center, they can be mixed in with brick, or concrete recycling, and their reuse (in a ruble form) would be similar to concrete and brick.\n",
    "\n",
    "<a href = \"https://commons.wikimedia.org/wiki/File:HK_TST_Royal_Pacific_Hotel_%E7%9A%87%E5%AE%B6%E5%A4%AA%E5%B9%B3%E6%B4%8B%E9%85%92%E5%BA%97_lobby_hall_interior_flooring_Jan-2013.JPG\"> <img src=\"https://upload.wikimedia.org/wikipedia/commons/thumb/5/58/HK_TST_Royal_Pacific_Hotel_%E7%9A%87%E5%AE%B6%E5%A4%AA%E5%B9%B3%E6%B4%8B%E9%85%92%E5%BA%97_lobby_hall_interior_flooring_Jan-2013.JPG/800px-HK_TST_Royal_Pacific_Hotel_%E7%9A%87%E5%AE%B6%E5%A4%AA%E5%B9%B3%E6%B4%8B%E9%85%92%E5%BA%97_lobby_hall_interior_flooring_Jan-2013.JPG\" alt = \"Decorative stone tile flooring image\" Title=\"Stone Tile Flooring\"  style=\"max-width:200px; max-height:200px; border:1px solid blue; float:left; margin-right:10px;\"/></a>\n",
    "Real wood flooring has something of a market, particularly if it is antique.  It is not unusual to find people, contractors, or companies, that will come in and remove the old flooring for you, if there is a resale market for it.  Otherwise it can be recycled just like other wood components.  \n",
    "\n",
    "Though I'm not going to be covering it much, flooring made from rapid growing plants such as bamboo is available, and because of its rapid growth, it can be more sustainable than new growth wood flooring.\n",
    "\n",
    "There is a smaller market for resilient flooring and as such the sustainability aspects of it comes from its source.  There are floorings that are commercially available made from recycled content, like flooring made from recycled tires and other scrap rubber."
   ]
  },
  {
   "cell_type": "markdown",
   "metadata": {
    "slideshow": {
     "slide_type": "slide"
    }
   },
   "source": [
    "## Tile"
   ]
  },
  {
   "cell_type": "markdown",
   "metadata": {},
   "source": [
    "\n",
    "<audio controls data-autoplay preload>\n",
    " <source src=\"https://github.com/damontallen/Construction-materials/raw/master/Lecture_Audio/Week_8/Flooring/Tile.mp3\"\n",
    "         type='audio/mp3'>\n",
    " <p>Your user agent does not support the HTML5 Audio element or the files is missing.</p>\n",
    "</audio>"
   ]
  },
  {
   "cell_type": "markdown",
   "metadata": {},
   "source": [
    "<a href = \"https://en.wikipedia.org/wiki/Tile\"> <img src=\"https://upload.wikimedia.org/wikipedia/commons/thumb/2/20/Israel-2013-Jerusalem-Temple_Mount-Dome_of_the_Rock-Detail_01.jpg/520px-Israel-2013-Jerusalem-Temple_Mount-Dome_of_the_Rock-Detail_01.jpg\" alt = \"Decorative tile image\" Title=\"Mid-16th-century Decorative Tilework\"  style=\"max-width:200px; max-height:200px; border:1px solid blue; float:right; margin-left:10px;\"/></a>\n",
    "On to tiles.  We are going to be discussing glazed wall tiles, ceramic mosaic tiles, quarry tiles, and paver tiles.  All tiles are abrasion resistant and come in a variety of textures and colors.  Because of their firing process they also have a high resistance to moisture.  Some versions have additional properties making them chemical resistant and even electrically conductive (which is useful in certain applications).\n",
    "\n",
    "Tiles are relatively simple to install.  They are essentially “glued” in place using either a version of portland cement mortar, a resin based mortar, or an organic based mastic adhesive.  This makes them a popular finish for flooring.  Based on the type of tile, and fastening material, they can be used in both interior and exterior applications.\n",
    "\n",
    "The technology of tile (being equivalent to that of brick) dates back to around 5,000 B.C. to 3,000 B.C. (depending on your definition of tile).  Though some of the earliest decorative tile were found in Egypt, the technology was developed further in Greece, and later in Italy.  Glazes improved with the introduction of additional techniques using white clay ([source](http://rbctile.com/wp-content/uploads/2012/07/History-of-Tile-101-Part-1.pdf)) inspired by the Chinese in the 12th century.  In 1863 William Boulton patented a technique in England where he used clay dust to create multi-color tiles without the use of colored glazing.  This method was in use in the U.S. by the end of the 19th century.  \n",
    "\n",
    "Like with other materials, the tile industry has spawned an organization that promotes the use of tile and provides guidelines for its use.  The [Tile Council of America](http://www.tcnatile.com/about-us.html) (TCA) was established in 1945  and has actively sponsored research into adhesives and mortars.  This research has resulted in many of the most common tiling techniques used in the modern construction industry.  Information on these techniques can be found in the [Handbook for Ceramic Tile Installation](http://www.tcnatile.com/products-and-services/publications/218-english-publications/188-handbook.html).\n",
    "\n",
    "\n",
    "\n",
    "The types of adhesive or mortar used affect the level of moisture resistance of the finished surface.  The level of moisture resistance of the tiles themselves can be broken down into two groups and these have subcategories. \n",
    "\n",
    "1. Suitable for continuous water exposure and freeze thaw exposure.\n",
    "    * impervious – less than 0.5% moisture absorption. \n",
    "    * vitreous – from 0.5% -  3% moisture absorption.\n",
    "2. Not suitable for continuous water exposure nor freeze thaw exposure.\n",
    "    * semivitreous – from 3% – 7% moisture absorption.\n",
    "    * nonvitreous – from 7% - 18% moisture absorption.\n",
    "\n",
    "Lastly, tiles only come in two grades, standard and seconds.  Standard is the best quality available while seconds, though free from structural defects, can have cosmetic defects which are apparent while still at a distance greater than 3 feet."
   ]
  },
  {
   "cell_type": "markdown",
   "metadata": {
    "slideshow": {
     "slide_type": "slide"
    }
   },
   "source": [
    "### Wall tiles"
   ]
  },
  {
   "cell_type": "markdown",
   "metadata": {},
   "source": [
    "\n",
    "<audio controls data-autoplay preload>\n",
    " <source src=\"https://github.com/damontallen/Construction-materials/raw/master/Lecture_Audio/Week_8/Flooring/Wall%20tiles.mp3\"\n",
    "         type='audio/mp3'>\n",
    " <p>Your user agent does not support the HTML5 Audio element or the files is missing.</p>\n",
    "</audio>"
   ]
  },
  {
   "cell_type": "markdown",
   "metadata": {},
   "source": [
    "<a href = \"https://en.wikipedia.org/wiki/New_York_City_Subway_tiles\"> <img src=\"https://upload.wikimedia.org/wikipedia/commons/thumb/d/d1/NYC_Subway_Atlantic_Ave_Station_tile.jpg/220px-NYC_Subway_Atlantic_Ave_Station_tile.jpg\" alt = \"New York City subway tiles image\" Title=\"New York City Subway tiles\"  style=\"max-width:200px; max-height:200px; border:1px solid blue; float:left; margin-right:10px;\"/></a>\n",
    "Glazed wall tiles are typically square tiles with edges measuring 4 to 4 $\\frac{1}{4}$” and are from $\\frac{1}{4}$” to $\\frac{5}{16}$” in thickness.  The glazing on wall tiles can be purely decorative, but some variations of it can be durable enough that the tile could be used on the floor in light traffic situations.  The tiles that are capable of being used on the floor will have a heavier glaze with a crystalline, or matte finish.  To be clear, floor tile can also be used on the wall, but wall tile is typically lighter, and thus easier to place.\n",
    "\n",
    "The defining characteristic is that these tiles are not expected to withstand impact, nor be subjected to freeze thaw cycles.  Additionally, it is more common that the edges of these tiles are rounded over, or “cushioned edged” in order to reduce the risk of damage on the corners from impact due to concentrated stress."
   ]
  },
  {
   "cell_type": "markdown",
   "metadata": {
    "slideshow": {
     "slide_type": "slide"
    }
   },
   "source": [
    "### Ceramic Mosaic"
   ]
  },
  {
   "cell_type": "markdown",
   "metadata": {},
   "source": [
    "\n",
    "<audio controls data-autoplay preload>\n",
    " <source src=\"https://github.com/damontallen/Construction-materials/raw/master/Lecture_Audio/Week_8/Flooring/Ceramic-Mosaic.mp3\"\n",
    "         type='audio/mp3'>\n",
    " <p>Your user agent does not support the HTML5 Audio element or the files is missing.</p>\n",
    "</audio>"
   ]
  },
  {
   "cell_type": "markdown",
   "metadata": {},
   "source": [
    "<a href = \"https://commons.wikimedia.org/wiki/File:Monadnock_Mosaic_Tile_2010.jpg\"> <img src=\"https://upload.wikimedia.org/wikipedia/commons/thumb/5/59/Monadnock_Mosaic_Tile_2010.jpg/600px-Monadnock_Mosaic_Tile_2010.jpg\" alt = \"Mosaic tile image\" Title=\"Mosaic Tile\"  style=\"max-width:200px; max-height:200px; border:1px solid blue; float:right; margin-left:10px;\"/></a>\n",
    "Mosaic tiles generally are no bigger than 2”x2” and are commonly smaller, down to 1”x1”.  They also are typically only about $\\frac{1}{4}$” thick.  These tile can come in either porcelain or natural clay.  The surface of these tile can be either glazed or unglazed.\n",
    "\n",
    "The tiles may contain additives that effect the surface texture making them slip-resistant.  They may also contain [carbon black](https://en.wikipedia.org/wiki/Carbon_black), a material that results from incomplete combustion that is also electrically conductive.  This type of tile can be used in places where it is critical to reduce static electricity.\n",
    "\n",
    "Mosaic tile generally come in groups that are connected together for faster installation.  They can be face, or back mounted on paper, or connected at the edges with a flexible material.  If they are connected on the face with paper, then this paper will have to be removed before the joints between the tiles can be grouted.  Tiles back mounted with paper, will have the paper remain in place, but holes in the paper will allow the mortar to adhere to the tile.\n",
    "\n",
    "Finally, versions of mosaic tile are available that resist freeze thaw cycles."
   ]
  },
  {
   "cell_type": "markdown",
   "metadata": {
    "slideshow": {
     "slide_type": "slide"
    }
   },
   "source": [
    "### Quarry Tiles"
   ]
  },
  {
   "cell_type": "markdown",
   "metadata": {},
   "source": [
    "\n",
    "<audio controls data-autoplay preload>\n",
    " <source src=\"https://github.com/damontallen/Construction-materials/raw/master/Lecture_Audio/Week_8/Flooring/Quarry-Tiles.mp3\"\n",
    "         type='audio/mp3'>\n",
    " <p>Your user agent does not support the HTML5 Audio element or the files is missing.</p>\n",
    "</audio>"
   ]
  },
  {
   "cell_type": "markdown",
   "metadata": {},
   "source": [
    "<a href = \"https://www.flickr.com/photos/pikerslanefarm/3118698006\"> <img src=\"https://c2.staticflickr.com/4/3117/3118698006_48f972c09d_n.jpg\" alt = \"Quarry tiles image\" Title=\"Quarry Tile Floor\"  style=\"max-width:200px; max-height:200px; border:1px solid blue; float:right; margin-left:10px;\"/></a>\n",
    "Quarry tiles are typically made from natural clay, and are generally 6”x6”, or bigger, with thicknesses that range from $\\frac{1}{2}$” and up.  They are unglazed, and are made with either natural clay, or clay made from shale, with an extrusion process.  They can come in any shape that can be extruded, though square, rectangular, and hexagon shapes are typically the most common."
   ]
  },
  {
   "cell_type": "markdown",
   "metadata": {
    "slideshow": {
     "slide_type": "slide"
    }
   },
   "source": [
    "### Paver Tiles"
   ]
  },
  {
   "cell_type": "markdown",
   "metadata": {},
   "source": [
    "\n",
    "<audio controls data-autoplay preload>\n",
    " <source src=\"https://github.com/damontallen/Construction-materials/raw/master/Lecture_Audio/Week_8/Flooring/Paver-Tiles.mp3\"\n",
    "         type='audio/mp3'>\n",
    " <p>Your user agent does not support the HTML5 Audio element or the files is missing.</p>\n",
    "</audio>"
   ]
  },
  {
   "cell_type": "markdown",
   "metadata": {},
   "source": [
    "Paver tiles are similar to mosaic tile but range in size from 4”x4”, and larger.  Pavers, like quarry tiles, come in sizes that are $\\frac{1}{2}$” thick, but their composition is closer to that of mosaic tiles.  They are designed to be used in floor applications, and as such are extremely durable.  They get their name from their appearance; they generally look like brick pavers."
   ]
  },
  {
   "cell_type": "markdown",
   "metadata": {
    "slideshow": {
     "slide_type": "slide"
    }
   },
   "source": [
    "### Mortar"
   ]
  },
  {
   "cell_type": "markdown",
   "metadata": {},
   "source": [
    "\n",
    "<audio controls data-autoplay preload>\n",
    " <source src=\"https://github.com/damontallen/Construction-materials/raw/master/Lecture_Audio/Week_8/Flooring/Mortar.mp3\"\n",
    "         type='audio/mp3'>\n",
    " <p>Your user agent does not support the HTML5 Audio element or the files is missing.</p>\n",
    "</audio>"
   ]
  },
  {
   "cell_type": "markdown",
   "metadata": {},
   "source": [
    "Mortar is the “glue” that sticks the tile to the working surface.  Depending on the type of mortar used, the surface of the mortar may need to be textured.  This texture is achieved with the use of specialized tools, like a notched trowel.  It is important to match the texture of the mortar to the requirements of the tile.  Smaller tile will require a finer texture.  \n",
    "\n",
    "The mortar used for setting tile generally falls into one of the following seven types.\n",
    "\n",
    "* Portland cement mortar – needs to be in a layer about 1” thick for floors, and no less than $\\frac{3}{4}$” for walls.  If glazed tiles are used, they will typically need to be presoaked.  Because of the bed (short for mortar bed) thickness, it can be used to level, or smooth irregular surfaces.  However, it cannot be used by itself.  Rather mortar needs to include metal lath, or mesh for reinforcement, and it needs to be placed over a cleavage membrane.  Cleavage membranes are used to provide a shear break, allowing for independently movement during shrinkage.\n",
    "* Dry-set mortar – Though it needs to be moist cured for three days, is recommended for heavy duty floors.  It is impact resistant, and like the portland cement mortar, is fire resistant.  It needs to be in a layer, from 1/16” to $\\frac{1}{4}$” thick.  Unlike portaland cement mortar, if glazed tiles are used with it, they do not need to be presoaked.  Finally, it should not be place directly on wood.\n",
    "* Latex-portland cement mortar – Needs to be placed in a layer from $\\frac{1}{8}$” to $\\frac{1}{4}$” thick, and only can be used over concrete.  It does have an increased bond strength over plane portland cement mortar, due to the latex additive.\n",
    "* Epoxy mortar – This take skilled labor to use due to the limited work time, and care needed in mixing the chemicals that make up the epoxy.  It only needs to be placed in a layer from $\\frac{1}{16}$” to $\\frac{1}{8}$” thick, however it is not suitable for use on walls.  Prior to setting up, it can be cleaned up using water.  It can be placed over just about any rigid surface, including plywood.  Some of the other benefits include the fact that it is both chemical, and water resistant.\n",
    "* Epoxy adhesives – Though less expensive than epoxy mortar, it is more versicle, and it can be used on walls.  However, it does have the same drawbacks in terms of work time, and required skill.  It is also less chemical resistant than epoxy mortar, but it is still better than mastic.\n",
    "* Furan mortar – This has the same limitations as epoxy mortar, but it is more chemically resistant.  This means it is very useful in corrosive environments, or any place where there is going to be a lot of chemical exposure.\n",
    "* Organic (mastic adhesive) – Not good for external use, or anywhere in continuous contact with water, since it does not cure, but rather it hardens due to evaporation.  It is good for light duty floors, or walls, and comes in ready to use varieties.  It needs to be applied in a $\\frac{1}{16}$” layer over smooth backing.  It does have one key advantage, it remains more flexible than any of the previous mortars mentioned.  Making it less susceptible to failure due to differential movement.\n",
    "\n",
    "During the placement of tile in the mortar, it's important to maintain uniform joint widths.  The joints between the tiles will vary based on the type of tile used.  Some tile will have either built in spacers, like some glazed wall tiles, or will be held apart like mosaic.  If the spacing is not predefined by the tile, then it will be important to control the spacing.  There are rubber spacers available for this purpose, but they need to be removed once the tile have been placed. Alternatively, the tile can be placed using layout lines, and sighted, if using skilled labor.  Joint sizes are roughly $\\frac{1}{16}$”, for 2” and smaller tile, and increases about $\\frac{1}{16}$” for every 1” of tile size, give or take $\\frac{1}{8}$”.  A 4” tile should have a joint around $\\frac{3}{16}$” $\\pm \\frac{1}{8}$”.\n",
    "\n",
    "$$\\textit{In equation form...}$$\n",
    "\n",
    "$$\\text{Joint Width} \\approx \\frac{1}{16}\" + \\left(\\text{Tile size} - 2\" \\right)\\times \\frac{1}{16}$$\n",
    "$$\\text{Joint Width} \\approx \\frac{1}{16} \\times \\left(1\" + \\left(\\text{Tile size} - 2\" \\right)\\right)$$\n",
    "$$\\text{Joint Width} \\approx \\frac{1}{16} \\times \\left(\\text{Tile size} - 1\"\\right)$$"
   ]
  },
  {
   "cell_type": "markdown",
   "metadata": {
    "slideshow": {
     "slide_type": "slide"
    }
   },
   "source": [
    "### Grout"
   ]
  },
  {
   "cell_type": "markdown",
   "metadata": {},
   "source": [
    "\n",
    "<audio controls data-autoplay preload>\n",
    " <source src=\"https://github.com/damontallen/Construction-materials/raw/master/Lecture_Audio/Week_8/Flooring/Grout.mp3\"\n",
    "         type='audio/mp3'>\n",
    " <p>Your user agent does not support the HTML5 Audio element or the files is missing.</p>\n",
    "</audio>"
   ]
  },
  {
   "cell_type": "markdown",
   "metadata": {},
   "source": [
    "<a href = \"https://en.wikipedia.org/wiki/Grout\"> <img src=\"https://upload.wikimedia.org/wikipedia/commons/thumb/d/de/Applying_grout.jpg/220px-Applying_grout.jpg\" alt = \"Grout float image\" Title=\"Grout Float\"  style=\"max-width:200px; max-height:200px; border:1px solid blue; float:right; margin-left:10px;\"/></a>\n",
    "Grout is the material used to fill the joints between tiles after the mortar has set.  Aside from the fact that you should not use grout that is incompatible with the mortar used, i.e. don't use portland cement grout with furan mortar and still expect to have good chemical resistance, it is mainly picked for its aesthetics.  There is one other caveat, you need to have grout that is capable of filling the size of the joints between tiles without excessive shrinkage.  \n",
    "\n",
    "Grout is generally applied using a rubber float, and then the excess is wiped off.  The tile are then buffed clean of the remaining grout prior to the grout setting.\n",
    "\n",
    "Depending on the type of grout used, and the application, it may be necessary to seal the grout after it has set."
   ]
  },
  {
   "cell_type": "markdown",
   "metadata": {
    "slideshow": {
     "slide_type": "slide"
    }
   },
   "source": [
    "### Installation"
   ]
  },
  {
   "cell_type": "markdown",
   "metadata": {},
   "source": [
    "\n",
    "<audio controls data-autoplay preload>\n",
    " <source src=\"https://github.com/damontallen/Construction-materials/raw/master/Lecture_Audio/Week_8/Flooring/Installation.mp3\"\n",
    "         type='audio/mp3'>\n",
    " <p>Your user agent does not support the HTML5 Audio element or the files is missing.</p>\n",
    "</audio>"
   ]
  },
  {
   "cell_type": "markdown",
   "metadata": {
    "slideshow": {
     "slide_type": "-"
    }
   },
   "source": [
    "One more thing about tile.  Since tile comes in small units relative to the size of the floor, it is tempting to simply start laying tile in one corner, and working out from there.  This is technically possible to do, but it will often lead to the tile along one or two walls looking good, while where it meets all other walls it looks irregular, or even broken.  In order to provide the best final results tile needs to arranged from a centerline of the entire space to be covered.  For the final product, it is best to plan on having as close to half a tile at the edges as possible.  If you have an irregularly shaped space, pick the longest continuous edge to be parallel to the baseline. Next, pick the longest edge that is approximately perpendicular to that baseline.  This wall will be approximately parallel to the perpendicular baseline.\n",
    "\n",
    "These two baselines will be centered between the long edge, and the opposing dominate edge.  To determine which is the opposing dominate edge, you can simply determine the opposing edge with the largest dominance weight. This is found by dividing the lap length, by the distance from the long edge.\n",
    "\n",
    "$$w = \\frac{L_{lap}}{d}$$\n",
    "\n",
    "The lap length is the distance that an edge that apposes to the longest wall, directly faces the longest wall.  For instance in the example below the lap length of the longest opposing wall for the initial baseline is 21', and the distance from the long edge is 21' 10\".  This makes the weight of that wall,\n",
    "\n",
    "$$w_{base} = \\frac{21'}{21' 10''} =  \\frac{252''}{262''} = 0.96$$\n",
    "\n",
    "<img src=\"http://i.imgur.com/slWXf9C.jpg\"  alt = \"Tile baseline images\" Title=\"Tile Baselines\"  style=\"max-width:800px; max-height:400px; border:1px solid blue;\"/>\n",
    "\n",
    "The perpendicular baseline dominate wall weight is 1.05.  The key is to pick the largest value of all the ratios.  This will make the tile layout the most visually appealing.  \n",
    "\n",
    "It is only guaranteed that the baseline is parallel to the longest wall.  The perpendicular baseline only needs to be perpendicular to the baseline, and centered in the space between the longest perpendicular wall and its opposing dominate wall.  The reason this is the case is that unless you are working in a new building, and it has been erected perfectly, there is a strong possibility that the two longest walls will not be perpendicular to each other.  Since most tiles are arranged on a perpendicular grid you will need to establish perpendicular reference lines to lay the tile to.\n",
    "\n",
    "If neither baseline intersects the edge containing the entrance to the space, consider centering one of the baselines such that it does intersect that edge.  To do this you would need to redefine the longest wall as a shorter wall. The criteria for making this choice is to only do so if the length, of what would become the new longest wall, is no more than 10% shorter than the original longest wall choice.  Since this is a compromise from the optimal choice, use your best judgment, or contact the architect, or owner to see which of the two choices would be most visually prominent."
   ]
  },
  {
   "cell_type": "code",
   "execution_count": 10,
   "metadata": {
    "collapsed": false,
    "slideshow": {
     "slide_type": "skip"
    }
   },
   "outputs": [
    {
     "name": "stdout",
     "output_type": "stream",
     "text": [
      "Lap = 1.23 or 14'9\", dist = 1.17 or 14'0\", ratio = 1.0536\n",
      "Lap = 1.3 or 15'7\", dist = 4.22 or 50'8\", ratio = 0.3076\n",
      "Lap = 0.45 or 5'5\", dist = 1.3 or 15'7\", ratio = 0.3476\n",
      "Lap = 0.84 or 10'1\", dist = 2.47 or 29'8\", ratio = 0.3399\n",
      "Lap = 1.75 or 21'0\", dist = 1.82 or 21'10\", ratio = 0.9618\n"
     ]
    }
   ],
   "source": [
    "import numpy as np\n",
    "Lap = [1.23,1.3,0.45,0.84,1.75]\n",
    "d = [1.17,4.22,1.3,2.47,1.82]\n",
    "def test(l,D):\n",
    "    return l/D\n",
    "def ft_in(l):\n",
    "    ft = int(np.floor(l*12))\n",
    "    In = int(np.round((l*12-ft)*12))\n",
    "    val = ft+In/12\n",
    "    txt = \"{}'{}\\\"\".format(ft,In)\n",
    "    return (txt,val)\n",
    "for l,D in zip(Lap,d):\n",
    "    l_txt, l_val = ft_in(l)\n",
    "    D_txt, D_val = ft_in(D)\n",
    "    rat = test(l_val,D_val)\n",
    "    print(\"Lap = {} or {}, dist = {} or {}, ratio = {:.4f}\".format(l,l_txt,D,D_txt,rat))"
   ]
  },
  {
   "cell_type": "markdown",
   "metadata": {
    "slideshow": {
     "slide_type": "slide"
    }
   },
   "source": [
    "## Wood Flooring"
   ]
  },
  {
   "cell_type": "markdown",
   "metadata": {},
   "source": [
    "\n",
    "<audio controls data-autoplay preload>\n",
    " <source src=\"https://github.com/damontallen/Construction-materials/raw/master/Lecture_Audio/Week_8/Flooring/Wood-Flooring.mp3\"\n",
    "         type='audio/mp3'>\n",
    " <p>Your user agent does not support the HTML5 Audio element or the files is missing.</p>\n",
    "</audio>"
   ]
  },
  {
   "cell_type": "markdown",
   "metadata": {},
   "source": [
    "Wood flooring comes in two main varieties, hardwood and softwood.  Hardwood generally consists of oak, maple, beech and birch.  Softwood flooring is generally southern pine, douglas fir, or west coast hemlock.  The terms hardwood and softwood are not really descriptive of the material properties, but oak has been known to be more wear resistant. \n",
    "\n",
    "<a href = \"https://commons.wikimedia.org/wiki/File:Artificial_wood_grain_texture.jpg\"> <img src=\"https://upload.wikimedia.org/wikipedia/commons/thumb/7/78/Artificial_wood_grain_texture.jpg/800px-Artificial_wood_grain_texture.jpg\" alt = \"Flat sawn flooring image\" Title=\"Flat Sawn Flooring\"  style=\"max-width:200px; max-height:200px; border:1px solid blue; float:right; margin-left:10px;\"/></a>\n",
    "<a href = \"https://commons.wikimedia.org/wiki/File:Fraxinus_excelsior_wood_ray_section_beentree.jpg\"> <img src=\"https://upload.wikimedia.org/wikipedia/commons/thumb/d/df/Fraxinus_excelsior_wood_ray_section_beentree.jpg/800px-Fraxinus_excelsior_wood_ray_section_beentree.jpg\" alt = \"Quarter sawn lumber image\" Title=\"Quarter Sawn Lumber\"  style=\"max-width:200px; max-height:200px; border:1px solid blue; float:left; margin-right:10px;\"/></a>The appearance of the flooring, with regard to grain, depends on if the flooring was made from flat sawn, or quarter sawn lumber.  In quarter sawn the grain will be viewed from the edge on, and thus will appear to be a series of parallel (if not straight) lines.  Flat sawn will have grain patterns that appear to form loops, and large curves.  Aside from aesthetics, the only advantage of one over the other is that quarter sawn lumber will be more resistant to changes in humidity, though all wood flooring should be protected from moisture.\n",
    "\n",
    "<a href = \"https://en.wikipedia.org/wiki/Tongue_and_groove\"> <img src=\"https://upload.wikimedia.org/wikipedia/commons/thumb/8/82/Dusheme.jpg/220px-Dusheme.jpg\" alt = \"Tongue and groove image\" Title=\"Tongue and Groove\"  style=\"max-width:200px; max-height:200px; border:1px solid blue; float:right; margin-left:10px;\"/></a>\n",
    "Floor boards will interlock with the use of edge joints known as tongue-and-groove (T&G).  The tongue consists of a $\\frac{1}{4}$” protrusion in the middle third of the board, and the grove is a notch which is a little more than $\\frac{1}{4}$” deep in the middle third on the back of the board.  These two surfaces will mate, making the floor boards move together when subjected to a vertical load.  \n",
    "\n",
    "Traditional floor is fastened down by nailing at an angle through the tongue to conceal the fasteners.  This is known as blind nailing.  This technique allows for the wear surface to be sanded down, and refinished, if it becomes damaged.  Generally this can be done about three times before the nails begin to become exposed.  Floors that are face nailed instead of blind nailed cannot be refinished in the same way, without driving the nails further down.  Face nailing is just short hand of nailing directly throughout the face of the lumber.\n",
    "\n",
    "Wood flooring comes in a variety of sizes, especially if you include modern wood composite flooring.  Modern flooring generally comes prefinished, which means it can be used as soon as it is installed.  The application of these finishes are better controlled in factory settings, however there is generally a substantially reduction in the ability to refinish these types of floors.  \n",
    "\n",
    "The modern prefinished wood flooring is also installed differently.  The installation is generally quicker, and does not require as long to [acclimatize](http://www.yourflooringguy.com/how-long-should-i-keep-the-wood-inside-my-house-before-installing/), which also increases its popularity.\n",
    "\n",
    "Both types of flooring will generally have a 4 to 6 mil polyethylene film (or equivalent) under them to prevent moisture from causing warping, or buckling due to expansion.  Mil refers to the thickness of the film and is equivalent to $\\frac{1\"}{1000}$.  One other technique used to prevent buckling is that wood flooring is typically kept from $\\frac{1}{2}$” to $\\frac{3}{4}$” away from the surrounding walls.  This gap allows for movement due to temperature, and moisture content changes in the flooring."
   ]
  },
  {
   "cell_type": "markdown",
   "metadata": {
    "slideshow": {
     "slide_type": "slide"
    }
   },
   "source": [
    "## Resilient Flooring"
   ]
  },
  {
   "cell_type": "markdown",
   "metadata": {},
   "source": [
    "\n",
    "<audio controls data-autoplay preload>\n",
    " <source src=\"https://github.com/damontallen/Construction-materials/raw/master/Lecture_Audio/Week_8/Flooring/Resilient-Flooring.mp3\"\n",
    "         type='audio/mp3'>\n",
    " <p>Your user agent does not support the HTML5 Audio element or the files is missing.</p>\n",
    "</audio>"
   ]
  },
  {
   "cell_type": "markdown",
   "metadata": {},
   "source": [
    "Resilient flooring is a type of flooring that consists of dense, thin material that is nonabsorbent and resistant to damage from normal use.  Modern resilient flooring generally consists of vinyl tile, vinyl sheeting, rubber tile, cork tile, and linoleum though there are others.  \n",
    "\n",
    "<a href = \"https://en.wikipedia.org/wiki/Linoleum\"> <img src=\"https://upload.wikimedia.org/wikipedia/commons/thumb/3/34/Linoleum_003.jpg/240px-Linoleum_003.jpg\" alt = \"Linoleum image\" Title=\"Linoleum Flooring\"  style=\"max-width:200px; max-height:200px; border:1px solid blue; float:left; margin-right:10px;\"/></a>\n",
    "The oldest of these, linoleum, is actually the first type of resilient flooring developed.  It was invented by Englishman [Frederick Walton](https://en.wikipedia.org/wiki/Frederick_Walton) in 1855, but it wasn't until 1864 that the material became what it is today.  This is a sheet material made from oxidized linseed oil binders, and cork flour filler, bound to a burlap, or felt backing.  Being made from renewable products, it is considered a green material.\n",
    "\n",
    "<a href = \"https://en.wikipedia.org/wiki/Cork_%28material%29\"> <img src=\"https://upload.wikimedia.org/wikipedia/commons/thumb/5/57/1-Arraiolos-0050.jpg/600px-1-Arraiolos-0050.jpg\" alt = \"Cork oak bark image\" Title=\"Cork Oak Bark\"  style=\"max-width:300px; max-height:300px; border:1px solid blue; float:right; margin-left:10px;\"/></a>\n",
    "Cork tile is also considered green, since the majority of the material harvested from the cork oak does not involve the killing of the tree.  Cork just comes from the bark of the Cork Oak, and can be harvested once every 10 years.\n",
    "\n",
    "Vinyl is short for [polyvinyl chloride](https://en.wikipedia.org/wiki/Polyvinyl_chloride) (PVC) which is an artificial thermoplastic polymer.  Depending on how much plasticizer is used, it can be made very flexible, and is commonly used as a coating for wire.  It can be mixed with other materials to make tiles, or sheeting, like linoleum.  Vinyl can also be made clear, to act as a wear surface protecting the colored, or patterned layer.  Because of the durability of vinyl, it can have a wear surface as thin as 0.01” thick.  We'll talk more about PVC in the section on plastics.\n",
    "\n",
    "Rubber tile can be made from either natural, or synthetic rubber.  It is reinforced with clay, and fibrous talc.  Plasticizers, and pigments, are added to the rubber, along with chemicals to speed the curing process.  Once rolled to the correct thickness (approx. $\\frac{1}{8}$” to $\\frac{3}{16}$” thick) the ingredients are heat treated to vulcanize the material.  This changes the rubber from a gum like consistency to a much more resilient product. The result is a smooth glossy finish that is then cut into tiles.\n",
    "\n",
    "All resilient floorings are expected to be fastened with adhesives.  However, in some applications some resilient flooring can be fixed in place by simply fastening the edges down.  The reason for this is to speed future replacement.  This application process is known as a tension floor.  It is important that the surface the flooring applied over is stable, and free of moisture, and dust.  The adhesives used at the edges of the flooring need to be either epoxy, or solvent base mastics to be able to withstand the stresses place on the connections.  Additionally, if this method is used, then care must be taken when moving heavy objects since the flooring is not fully supported, and concentrated loading can lead to tearing.\n",
    "\n",
    "When using resilient flooring, you must make sure that the surface is adequately prepared.  This means that the floor must be smooth, clean, and stable.  This is because resilient flooring is flexible, and will contour to the subfloor.  If there are sharp edges, these will quickly become places where the flooring becomes damaged.  If the subfloor is not clean then the flooring adhesive may break loose, and dramatically reduce the floor's life expectancy.  \n",
    "\n",
    "One last note, back in the 1920s to 1980s some vinyl resilient flooring was made which contained asbestos.  If you are working on a project that dates from that period, and it has resilient flooring, be aware that [abatement](https://en.wikipedia.org/wiki/Asbestos_abatement) may be necessary, particularly if the floor is going to be disturbed."
   ]
  },
  {
   "cell_type": "markdown",
   "metadata": {
    "slideshow": {
     "slide_type": "slide"
    }
   },
   "source": [
    "# References"
   ]
  },
  {
   "cell_type": "markdown",
   "metadata": {},
   "source": [
    "[UF Class website](https://ufl.instructure.com/courses/) \n",
    "\n",
    "[Github.io version of course website](http://damontallen.github.io/Construction-materials/) *(Do not use this link if you are taking this course in Summer A or B.)*\n",
    "\n",
    "\n",
    "[IPython.org](http://ipython.org/) *(IPython is the opensource software used in the development of much of this course.)*\n",
    "\n",
    "[Complete Software List](http://nbviewer.ipython.org/github/damontallen/Construction-materials/blob/master/Resources.ipynb)\n",
    "\n",
    "## Report any problems\n",
    "\n",
    "[Issues](https://github.com/damontallen/Construction-materials/issues) Please report any problems that occurred during the viewing of this or any other lecture.\n",
    "\n",
    "Alternative Reporting - Email <a href=\"mailto:damontallen@gmail.com?Subject=Construction%20Materials%20Lecture%20Problems\" target=\"_top\">damontallen@gmail.com</a>"
   ]
  }
 ],
 "metadata": {
  "celltoolbar": "Slideshow",
  "kernelspec": {
   "display_name": "Python 3",
   "language": "python",
   "name": "python3"
  },
  "language_info": {
   "codemirror_mode": {
    "name": "ipython",
    "version": 3
   },
   "file_extension": ".py",
   "mimetype": "text/x-python",
   "name": "python",
   "nbconvert_exporter": "python",
   "pygments_lexer": "ipython3",
   "version": "3.4.3+"
  }
 },
 "nbformat": 4,
 "nbformat_minor": 0
}
