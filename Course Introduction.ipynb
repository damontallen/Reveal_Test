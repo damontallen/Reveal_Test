{
 "cells": [
  {
   "cell_type": "markdown",
   "metadata": {
    "slideshow": {
     "slide_type": "slide"
    }
   },
   "source": [
    "# Course Introduction"
   ]
  },
  {
   "cell_type": "markdown",
   "metadata": {
    "slideshow": {
     "slide_type": "-"
    }
   },
   "source": [
    "<p><iframe width=\"420\" height=\"315\" src=\"//www.youtube.com/embed/4VuPZb03tTU\" frameborder=\"0\" allowfullscreen></iframe></p>"
   ]
  },
  {
   "cell_type": "markdown",
   "metadata": {
    "slideshow": {
     "slide_type": "slide"
    }
   },
   "source": [
    "## What are construction materials?"
   ]
  },
  {
   "cell_type": "markdown",
   "metadata": {},
   "source": [
    "<audio controls data-autoplay preload>\n",
    " <source src=\"https://github.com/damontallen/Construction-materials/raw/master/Lecture_Audio/Week_0/Course%20Introduction/What_are_construction_materials.mp3\"\n",
    "         type='audio/mp3'>\n",
    " <p>Your user agent does not support the HTML5 Audio element or the files is missing.</p>\n",
    "</audio>"
   ]
  },
  {
   "cell_type": "markdown",
   "metadata": {},
   "source": [
    "You should have already gone through the Greetings lecture at this point and have been exposed to what materials I am covering in this course.  If you haven't I recommend you do that now.  \n",
    "\n",
    "<a href = \"https://commons.wikimedia.org/wiki/File:Rubble.jpg\"> <img src=\"https://upload.wikimedia.org/wikipedia/commons/thumb/0/01/Rubble.jpg/800px-Rubble.jpg\" alt = \"Rubble image\" Title=\"Construction Materials\"  style=\"max-width:200px; max-height:200px; border:1px solid blue; float:left; margin-right:10px;\"/></a>In general construction materials are products used in the construction process to build roads, bridges, or buildings.  These include structural components like steel and concrete as well as non structural components like plastics and paint.  Since this is such a broad category, this course is not going to be an exhaustive exploration of all construction materials.  For instance I am not going to be covering aggregate nor will I be covering any electrical equipment.  What I am going to be covering is the basic materials that are the most common on every job and you are certain to need to know about.  \n",
    "\n",
    "Even this limited scope is really too broad to cover in substantial depth in one class, so we will only be covering the background knowledge you should have about each topic.  As justification for the lack of depth covered in this course I need only to point out that half of both the \"Structures\" and \"Soils and Concrete\" courses are dedicated to an in depth discussion about concrete.  Not every topic gets a full semester of coverage in the undergraduate program but each of them are covered again in later classes.  \n",
    "\n",
    "My goal in this course is that by the end of the semester you should be able to recognize the common terms relating to each of the materials we cover and have an idea about their limitations.  I am also going to try to introduce new developments in the field of construction materials throughout the semester in anticipation of the commercial introduction of the new products."
   ]
  },
  {
   "cell_type": "markdown",
   "metadata": {
    "slideshow": {
     "slide_type": "slide"
    }
   },
   "source": [
    "## How is this course going to work?"
   ]
  },
  {
   "cell_type": "markdown",
   "metadata": {},
   "source": [
    "\n",
    "<audio controls data-autoplay preload>\n",
    " <source src=\"https://github.com/damontallen/Construction-materials/raw/master/Lecture_Audio/Week_0/Course%20Introduction/How_is_this_course_going_to_work.mp3\"\n",
    "         type='audio/mp3'>\n",
    " <p>Your user agent does not support the HTML5 Audio element or the files is missing.</p>\n",
    "</audio>"
   ]
  },
  {
   "cell_type": "markdown",
   "metadata": {},
   "source": [
    "<a href = \"https://commons.wikimedia.org/wiki/File:Men_at_work_sign_%28green%29.svg\"> <img src=\"https://upload.wikimedia.org/wikipedia/commons/thumb/6/68/Men_at_work_sign_%28green%29.svg/664px-Men_at_work_sign_%28green%29.svg.png\" alt = \"Men at work sign image\" Title=\"Work\"  style=\"max-width:200px; max-height:200px; border:1px solid blue; float:right; margin-left:10px;\"/></a>\n",
    "The content of this course is going to be presented in a combination of lectures, and reading assignments.  The lectures are going to serve as an introduction to the reading and most of the time will not contain the same material as the reading.  The length of each of the lectures will relate to the number of alternatives to the use of that particular material.  What I mean by that is if you are going to have a choice in using that material or substituting a different one to accomplish the same job I am going to spend more time talking about it.  For instance, you can build the main structural components of a building out of either wood, steel or concrete, therefore I'll spend a lot of time introducing those topics.  There aren't a lot of viable alternatives to paint other than paint so I don't spend nearly as much time covering paint.\n",
    "\n",
    "As of this semester, the topics I cover in this course are roughly arranged in order of the length of the introduction with the longest ones coming at the beginning of the semester.  This was not done on purpose.  I tried to arrange the topics in approximately the order of when they would show up on a construction site, i.e. the structural material need to be in place prior to the roof, and prior to the interior walls, etc.  The fact that the longer lectures are at the beginning of the semester is actually a good thing though.  Most classes get more complicated as the semester progresses and demand more and more of your time.  In the case of this course the amount of time you spend on each topic should decrease as the semester progresses allowing you time to focus on your other courses.  (Your welcome.)"
   ]
  },
  {
   "cell_type": "markdown",
   "metadata": {
    "slideshow": {
     "slide_type": "slide"
    }
   },
   "source": [
    "## Deliverables"
   ]
  },
  {
   "cell_type": "markdown",
   "metadata": {},
   "source": [
    "<audio controls data-autoplay preload>\n",
    " <source src=\"https://github.com/damontallen/Construction-materials/raw/master/Lecture_Audio/Week_0/Course%20Introduction/Deliverables.mp3\"\n",
    "         type='audio/mp3'>\n",
    " <p>Your user agent does not support the HTML5 Audio element or the files is missing.</p>\n",
    "</audio>"
   ]
  },
  {
   "cell_type": "markdown",
   "metadata": {},
   "source": [
    "<a href = \"https://commons.wikimedia.org/wiki/File:Gnome-emblem-package.svg\"> <img src=\"https://upload.wikimedia.org/wikipedia/commons/thumb/8/82/Gnome-emblem-package.svg/480px-Gnome-emblem-package.svg.png\" alt = \"Package image\" Title=\"Deliverable\"  style=\"max-width:200px; max-height:200px; border:1px solid blue; float:right; margin-left:10px;\"/></a>\n",
    "No matter what course you take you are going to need to turn in something.  In this course we will be having quizzes and possibly some short assignments and/or online discussions.  The quizzes will be timed and as of now, they will be on Canvas.  The quizzes will make up the majority of your final grade.  The reason for this has to do with the size of the class.  There are both sections that meet in the classroom and solely online sections.  All in all there are over 70 students enrolled in this course and that is a lot of grading for even simple assignments.\n",
    "\n",
    "Each quiz question is going to be worth 1 point.  As of now I am not sure if there will be any addition assignments other than quizzes, but you will be told the point value for each assignment when and if it is given.  At the end of the semester the total amount of points you made on all the quizzes and assignments will be divided by the number of possible points you could have made and that will comprise 80% of your score in this class.\n",
    "\n",
    "The remaining portion of your final grade will be based on class participation.  For the sections that meet in person this will be based on both attendance and participating in the class discussions.  For the online sections, that participation will be based on the online class discussions and your activities during them."
   ]
  },
  {
   "cell_type": "markdown",
   "metadata": {
    "slideshow": {
     "slide_type": "slide"
    }
   },
   "source": [
    "## Grading"
   ]
  },
  {
   "cell_type": "markdown",
   "metadata": {},
   "source": [
    "<audio controls data-autoplay preload>\n",
    " <source src=\"https://github.com/damontallen/Construction-materials/raw/master/Lecture_Audio/Week_0/Course%20Introduction/Grading.mp3\"\n",
    "         type='audio/mp3'>\n",
    " <p>Your user agent does not support the HTML5 Audio element or the files is missing.</p>\n",
    "</audio>"
   ]
  },
  {
   "cell_type": "markdown",
   "metadata": {},
   "source": [
    "The grading scale I am going to be using for this course is below.\n",
    "\n",
    "<Table  align=\"center\">\n",
    "<caption><strong>Grading Scale</strong></caption>\n",
    "<tr><td>A-: 90% - 92.9%</td><td colspan=\"2\">A: 93% - 100%</td></tr>\n",
    "<tr><td>B-: 80% - 82.9%</td><td>B: 83% - 86.9%</td><td>B+: 87% - 89.9%</td></tr>\n",
    "<tr><td>C-: 70% - 72.9%</td><td>C: 73% - 76.9%</td><td>C+: 77% - 79.9%</td></tr>\n",
    "<tr><td>D-: 60% - 62.9%</td><td>D: 63% - 66.9%</td><td>D+: 67% - 69.9%</td></tr>\n",
    "<tr><td colspan=\"3\">E-: &lt; 60%</td></tr>\n",
    "</Table>"
   ]
  },
  {
   "cell_type": "markdown",
   "metadata": {
    "slideshow": {
     "slide_type": "slide"
    }
   },
   "source": [
    "## New Course Information"
   ]
  },
  {
   "cell_type": "markdown",
   "metadata": {},
   "source": [
    "\n",
    "<audio controls data-autoplay preload>\n",
    " <source src=\"https://github.com/damontallen/Construction-materials/raw/master/Lecture_Audio/Week_0/Course%20Introduction/New_Course_Information.mp3\"\n",
    "         type='audio/mp3'>\n",
    " <p>Your user agent does not support the HTML5 Audio element or the files is missing.</p>\n",
    "</audio>"
   ]
  },
  {
   "cell_type": "markdown",
   "metadata": {},
   "source": [
    "<a href = \"https://en.wikipedia.org/wiki/Blacksmith\"> <img src=\"https://upload.wikimedia.org/wikipedia/commons/thumb/f/f7/Blacksmith_working.jpg/1200px-Blacksmith_working.jpg\" alt = \"Blacksmith image\" Title=\"Forging\"  style=\"max-width:200px; max-height:200px; border:1px solid blue; float:left; margin-right:10px;\"/></a>I would like to take this opportunity to let you know a few things about this course in general.  Firstly this is the first time I am teaching this course (Fall 2015) and as such there are quite likely to be typos and minor errors in the presentations.  This is also the reason I am unsure about assigning additional assignments.  Additionally though I have taught many courses this is the first one that has had freshmen enrolled in it.  The combination of those two facts means that I may not have gotten the difficulty curve right yet; so due dates are subject to change based on feedback.  I will not be changing a due date based on a single person's input and it may not even be possible to change a due date while still covering all the course material.  That being said, if you are having difficulty finishing an assignment, you can turn it in late for a small penalty.  If enough students are having a problem with an assignment I may waive the penalty and move the due date, but don't rely on that.  \n",
    "\n",
    "The way the penalty will work is if you are a day late you will have 25% taken off of your score, two days, 50% off, three days, 75% off, and you will receive no credit by the fourth day.\n",
    "\n",
    "Be aware that this deduction will not automatically be done with quizzes.  Canvas does not support the gradation of late submissions.  These deductions will be applied manually periodically throughout the semester which means if you submit a late quiz your grade will not immediately reflect the deduction. \n",
    "\n",
    "<a href = \"https://en.wikipedia.org/wiki/Copyright\"> <img src=\"https://upload.wikimedia.org/wikipedia/commons/thumb/b/b0/Copyright.svg/197px-Copyright.svg.png\" alt = \"Copyright Symbol image\" Title=\"Copyright\"  style=\"max-width:200px; max-height:200px; border:1px solid blue; float:right; margin-left:10px;\"/></a>\n",
    "Since this course is still new to me, I am interested in hearing about improvements you would like to see.  If you have an idea about additional information on one of the course topics that you think should be included, you can send me an email about it or post it as an issue on github.  If it is something that I can incorporate into the class, I will award you extra credit.  The amount of extra credit depends on how easily incorporated and useful the idea would be to this course.  It is not out of the realm of possibility for you to improve your final grade by a half letter grade, if you come up will enough additional course content.  An individual idea will not be worth more than three points of your final grade and again that depends on how well it can be incorporated into the course.  This is something new I'm trying and I'm likely to be generous if you submit anything.\n",
    "\n",
    "It is incredibly important that any information that you submit for extra credit not violate Copyright law.  Be sure to attribute all quotes to their sources, as well as any source that you reviewed prior to writing.  I do expect text, not just links to material.  If you have reviewed content, then you can quickly write a paragraph or two on what you discovered and a sentence or two on why it should be included in the course.  \n",
    "\n",
    "It should go without saying that if you receive the extra credit then what you have written may end up being included in the course.  If you wish to have your contact information included in the lecture, please let me know when you submit your text.\n",
    "\n",
    "If you are interested in getting this extra credit, email me a request for submission guidelines on your topic.\n"
   ]
  },
  {
   "cell_type": "markdown",
   "metadata": {
    "slideshow": {
     "slide_type": "slide"
    }
   },
   "source": [
    "## Additional Course Information"
   ]
  },
  {
   "cell_type": "markdown",
   "metadata": {},
   "source": [
    "<audio controls data-autoplay preload>\n",
    " <source src=\"https://github.com/damontallen/Construction-materials/raw/master/Lecture_Audio/Week_0/Course%20Introduction/Additional_Course_Information.mp3\"\n",
    "         type='audio/mp3'>\n",
    " <p>Your user agent does not support the HTML5 Audio element or the files is missing.</p>\n",
    "</audio>"
   ]
  },
  {
   "cell_type": "markdown",
   "metadata": {},
   "source": [
    "The lectures for this course are hosted on my github account.  You can view each lecture as one scrollable website [here](https://github.com/damontallen/Construction-materials) and the slide show versions hosted are [here](http://damontallen.github.io/Construction-materials/).  Github is a social media platform for programmers and software developers.  The reason I am hosting the lectures there is that I am using git for version control of my lectures and github is available for free public hosting.  You can create an account on github for free at [github.com](https://github.com/).  Do you need to know all of this?  No.  However I am going to get up on my soapbox for a minute or two, to talk about some of the other software I'm using to try to encourage you to use it too.\n",
    "\n",
    "<a href = \"http://ipython.org/\"> <img src=\"http://ipython.org/_images/ipy_0.13.png\" alt = \"IPython image\" Title=\"IPython.org\"  style=\"max-width:200px; max-height:200px; border:1px solid blue; float:left; margin-right:10px;\"/></a>\n",
    "Firstly the lectures were all written using [IPython](http://ipython.org/).  IPython (also known as the [Jupyter](https://jupyter.org/) project) is a programming/communications application that lets you do computation, graphing (including in 3D), all while including any rich content or documentation that can be embedded in a web page.  If you are familiar with programming, it is a superset of the language [Python](https://www.python.org/).  Python is, in my opinion, the easiest programming language to learn.  In addition to being extremely powerful, it is also open-source.  This means for you it is free to download and use.  It also has free additional downloads  which extend it's capabilities to include manipulation of symbolic math as in [Algebra](http://www.sympygamma.com/input/?i=root%28x%2C+7%29+**+2), [Calculus](http://docs.sympy.org/latest/modules/integrals/integrals.html), [Statistics](http://docs.sympy.org/latest/modules/stats.html), and [more](http://www.sympygamma.com/input/?i=root%28x%2C+7%29+**+2), and [more](http://www.sympy.org/en/features.html), and other downloads that do [even more](http://www.scipy.org/).  With IPython and Python you could write a short program that would be able to do every assignment you had to do in your algebra course.  That being said I am not telling you to use it to cheat in math or physics class.  However, you can use it to check your work, or make a record of how to do the problems you covered in those classes.\n",
    "\n",
    "We will not be doing many calculations in this course, so the utility of IPython will be limited but I do think it is worth you knowing about.  At some point in the future I may be teaching the all the structures courses in building construction and if I do I will be having my students do their assignments using IPython.  If you are interested in learning more about IPython you can either email me, stop by my office, or just come up and talk to me at some time.  If you just want to look at it and play around you can go to [try.jupyter.org](https://try.jupyter.org/); click on the \"Welcome to Python.ipynb\" file to use the Python version.\n",
    "\n",
    "Alright I'll step down off my soapbox and we can get on with the course now.\n"
   ]
  },
  {
   "cell_type": "markdown",
   "metadata": {
    "slideshow": {
     "slide_type": "slide"
    }
   },
   "source": [
    "## Quiz Format"
   ]
  },
  {
   "cell_type": "markdown",
   "metadata": {},
   "source": [
    "\n",
    "<audio controls data-autoplay preload>\n",
    " <source src=\"https://github.com/damontallen/Construction-materials/raw/master/Lecture_Audio/Week_0/Course%20Introduction/Quiz_Format.mp3\"\n",
    "         type='audio/mp3'>\n",
    " <p>Your user agent does not support the HTML5 Audio element or the files is missing.</p>\n",
    "</audio>"
   ]
  },
  {
   "cell_type": "markdown",
   "metadata": {},
   "source": [
    "You will be taking the quizzes online on the Canvas site.  They will be available for you to take for a few days up until three days after the due date (a change from the first semester).  This means that you can fit them into your schedule whenever it is most convenient.  \n",
    "\n",
    "The questions will be a mixture of multiple choice, multiple answer, true-false, and fill in the blank.  Since you can take the quiz at your convenience I expect that you will have a textbook available during the quiz.  Additionally since the quizzes are online I expect that you will have access to the lectures.  This means I am adjusting the difficulty of the quizzes accordingly.\n",
    "\n",
    "The types of questions I'm going to ask in the quizzes are going to range from simple recitation of facts to interpretation of the course material.  These differing types of questions are designed to ensure that you must have actually had time to digest the material, both read and presented, otherwise you will not have enough time to complete the quiz.\n",
    "\n",
    "It is possible that a question may be inaccurately phrased or incorrectly marked in the initial release of the quiz.  If you feel that you answered a question correctly, and it was marked wrong, let either myself or the class teaching assistant (TA) know, and one of us will double check.  If a question is found to be in error then it will be invalidated and everyone will receive a point for it.  FYI this is much more likely to happen during Fall 2015 than later since these questions will be corrected as the errors are found.  "
   ]
  },
  {
   "cell_type": "markdown",
   "metadata": {
    "slideshow": {
     "slide_type": "slide"
    }
   },
   "source": [
    "## Syllabus Quiz"
   ]
  },
  {
   "cell_type": "markdown",
   "metadata": {},
   "source": [
    "\n",
    "<audio controls data-autoplay preload>\n",
    " <source src=\"https://github.com/damontallen/Construction-materials/raw/master/Lecture_Audio/Week_0/Course%20Introduction/Syllabus_Quiz.mp3\"\n",
    "         type='audio/mp3'>\n",
    " <p>Your user agent does not support the HTML5 Audio element or the files is missing.</p>\n",
    "</audio>"
   ]
  },
  {
   "cell_type": "markdown",
   "metadata": {},
   "source": [
    "The first quiz I want you to take is the Syllabus quiz.  As the name suggests the topics on the quiz cover information you will find by reading the course syllabus.  The purpose of this quiz is two fold.  It is there to encourage you to read the syllabus and it is designed get you familiar with the quiz procedure.  This quiz is the only one that is not timed due to the fact there may be a slight learning curve with the use of the mechanics of the quiz tools.  It is available from the first day of class and is due at the end of the first week.  \n",
    "\n",
    "It will not be scored, so if you have signed up late for class there will not be a penalty for missing the deadline.  However all future quizzes have a due date with penalties, so you should get in the habit of taking the quizzes a day or so early (if possible).  "
   ]
  },
  {
   "cell_type": "markdown",
   "metadata": {
    "slideshow": {
     "slide_type": "slide"
    }
   },
   "source": [
    "# References"
   ]
  },
  {
   "cell_type": "markdown",
   "metadata": {},
   "source": [
    "[UF Class website](https://ufl.instructure.com/courses/) \n",
    "\n",
    "[Github.io version of course website](http://damontallen.github.io/Construction-materials/) *(Do not use this link if you are taking this course in Summer A or B.)*\n",
    "\n",
    "\n",
    "[IPython.org](http://ipython.org/) *(IPython is the opensource software used in the development of much of this course.)*\n",
    "\n",
    "[Complete Software List](http://nbviewer.ipython.org/github/damontallen/Construction-materials/blob/master/Resources.ipynb)\n",
    "\n",
    "## Report any problems\n",
    "\n",
    "[Issues](https://github.com/damontallen/Construction-materials/issues) Please report any problems that occurred during the viewing of this or any other lecture.\n",
    "\n",
    "Alternative Reporting - Email <a href=\"mailto:damontallen@gmail.com?Subject=Construction%20Materials%20Lecture%20Problems\" target=\"_top\">damontallen@gmail.com</a>"
   ]
  }
 ],
 "metadata": {
  "celltoolbar": "Slideshow",
  "kernelspec": {
   "display_name": "Python 3",
   "language": "python",
   "name": "python3"
  },
  "language_info": {
   "codemirror_mode": {
    "name": "ipython",
    "version": 3
   },
   "file_extension": ".py",
   "mimetype": "text/x-python",
   "name": "python",
   "nbconvert_exporter": "python",
   "pygments_lexer": "ipython3",
   "version": "3.4.3"
  }
 },
 "nbformat": 4,
 "nbformat_minor": 0
}
