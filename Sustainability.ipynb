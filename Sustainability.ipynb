{
 "cells": [
  {
   "cell_type": "markdown",
   "metadata": {
    "slideshow": {
     "slide_type": "slide"
    }
   },
   "source": [
    "# Sustainability"
   ]
  },
  {
   "cell_type": "markdown",
   "metadata": {
    "slideshow": {
     "slide_type": "-"
    }
   },
   "source": [
    "<p><iframe width=\"420\" height=\"315\" src=\"//www.youtube.com/embed/5izDXeSC5ew\" frameborder=\"0\" allowfullscreen></iframe></p>"
   ]
  },
  {
   "cell_type": "markdown",
   "metadata": {
    "slideshow": {
     "slide_type": "slide"
    }
   },
   "source": [
    "## Introduction"
   ]
  },
  {
   "cell_type": "markdown",
   "metadata": {},
   "source": [
    "<audio controls data-autoplay preload>\n",
    " <source src=\"https://github.com/damontallen/Construction-materials/raw/master/Lecture_Audio/Week_1/Sustainability/Sustainability-Introduction.mp3\"\n",
    "         type='audio/mp3'>\n",
    " <p>Your user agent does not support the HTML5 Audio element or the files is missing.</p>\n",
    "</audio>"
   ]
  },
  {
   "cell_type": "markdown",
   "metadata": {},
   "source": [
    "\n",
    "<a href = \"http://en.wikipedia.org/wiki/Fire\"><img src=\"http://upload.wikimedia.org/wikipedia/en/thumb/d/db/ChineseCoalPower.jpg/1600px-ChineseCoalPower.jpg\" alt = \"Chinese Coal Power image\" Title=\"Coal Power\" style=\"max-width:200px; max-height:200px; border:1px solid blue; float:right; margin-left:10px;\"/></a>\n",
    "\n",
    "In a world where population is increasing and emerging third world economies are trying to industrialize we need to concern ourselves with sustainability.  Sustainability is defined as the ability to continue a behavior indefinitely.  To start with one of the big problems that need to be dealt with soon is CO<sub>2</sub> emissions.  In particular, according to the [U.S. Green Building Council](http://www.eesi.org/files/climate.pdf) buildings were responsible for 39% (2236 million metric tons) of total U.S. CO2 emissions in 2004 and they are projected to emit about 20% more this year than they did in 2004.  The main source of CO<sub>2</sub> emissions is energy consumption.  With respect to buildings these emissions come from extraction of raw materials, processing, manufacturing, transportation, construction, operation, repair, and finally the building's demolition.  Over the next generation the volume of the built space in the world is expected to double.  \n",
    "\n",
    "<a href = \"http://en.wikipedia.org/wiki/Energy_conservation_in_the_United_States\"><img src=\"http://upload.wikimedia.org/wikipedia/commons/4/4e/USEnFlow02-quads.gif\" alt = \"Energy flow diagram image\" Title=\"Energy Flow Trends\" style=\"max-width:200px; max-height:200px; border:1px solid blue; float:left; margin-right:10px;\"/></a>\n",
    "Over the a 50 year life cycle of a traditional building, 80% to 85% of the total energy it consumes is its operational energy.  However, as designs are becoming more and more energy efficient the energy that goes in the the creating of the building is becoming a greater portion of that total energy consumption.  This energy that make up that initial embodied energy includes the extraction of raw materials, processing, manufacturing, transportation, and its construction.  \n",
    "\n",
    "To reduce the embodied energy of a building several techniques are being employed.  These include the use recycled material, sourcing material locally, and making use of more energy efficient construction practices.  The first two of these are part of what is known as “resource-conscious design” and are central points to sustainable construction.  The general goal of sustainable construction is to minimize the natural resource consumption and the impact on ecological systems.  To do this products are selected that minimize solid, liquid and gaseous waste.  Additionally these products should be easily disassembled at the end of their life, as well as be capable and worth of being recycled.  <a href = \"http://en.wikipedia.org/wiki/Green_building\"><img src=\"http://upload.wikimedia.org/wikipedia/commons/thumb/1/13/El-v-01_ubt.jpeg/360px-El-v-01_ubt.jpeg\" alt = \"Wind turbines image\" Title=\"Green Energy\" style=\"max-width:200px; max-height:200px; border:1px solid blue; float:right; margin-left:10px;\"/></a>Finally the inevitable waste that results should be nontoxic to biological systems.\n",
    "\n",
    "This is a complicated subject and entire courses are taught on it at the graduate level.  Right now I am mainly introducing you to the nomenclature and the broad concepts.  For now let's move on to Environmental Product Declarations (EPDs)."
   ]
  },
  {
   "cell_type": "markdown",
   "metadata": {
    "slideshow": {
     "slide_type": "slide"
    }
   },
   "source": [
    "## Environmental Product Declarations (EPDs) and Life-Cycle Cost"
   ]
  },
  {
   "cell_type": "markdown",
   "metadata": {},
   "source": [
    "\n",
    "<audio controls data-autoplay preload>\n",
    " <source src=\"https://github.com/damontallen/Construction-materials/raw/master/Lecture_Audio/Week_1/Sustainability/Sustainability-Environmental%20Product%20Declarations%20(EPDs).mp3\"\n",
    "         type='audio/mp3'>\n",
    " <p>Your user agent does not support the HTML5 Audio element or the files is missing.</p>\n",
    "</audio>"
   ]
  },
  {
   "cell_type": "markdown",
   "metadata": {},
   "source": [
    ">An EPD® (Environmental Product Declaration) is an independently verified and registered document that communicates transparent and comparable information about the life-cycle environmental impact of products.\n",
    ">\n",
    ">Having an EPD® for a product does not imply that the declared product is environmentally superior to alternatives — it is simply a transparent declaration of the life-cycle environmental impact. (source: [EPD website](http://www.environdec.com/en/What-is-an-EPD/#.VXhcBbzL8c0))\n",
    "\n",
    "In other words EPD is an ecolabel based on life-cycle cost of a product.  Life-cycle cost is a way to use economic analysis to select between alternatives based on the cost of a product throughout its life.  That is a little circular so let me try again.  If you are picking between a car that costs \\$20,000 and one that costs \\$25,000 and you find out that the cheaper one has an expected annual fuel and maintenance cost of \\$7,000 while the \\$25,000 car only costs \\$4,000 annually, since it is a hybrid.  With a little quick thousand dollar math,\n",
    "\n",
    "$$1,000\\times\\left(\\$20 + \\frac{\\$7}{\\text{year}} \\times t \\right)= cost_A$$\n",
    "$$1,000\\times\\left(\\$25 + \\frac{\\$4}{\\text{year}} \\times t \\right)= cost_B$$\n",
    "\n",
    "The break even point $t$ (in years) occurs when $cost_A = cost_B$.\n",
    "$$1,000\\times\\left(\\$20 + \\frac{\\$7}{\\text{year}} \\times t \\right)= 1,000\\times\\left(\\$25 + \\frac{\\$4}{\\text{year}} \\times t\\right)$$\n",
    "\n",
    "Divide both sides by $1,000$...\n",
    "$$\\$20 + \\frac{\\$7}{\\text{year}} \\times t = \\$25 + \\frac{\\$4}{\\text{year}} \\times t$$\n",
    "\n",
    "Rearrange so like terms are on the same sides...\n",
    "$$\\frac{\\$7}{\\text{year}} \\times t -  \\frac{\\$4}{\\text{year}} \\times t = \\$25 - \\$20$$\n",
    "\n",
    "Simplify solve for t...\n",
    "$$\\left(\\frac{\\$7}{\\text{year}}  -  \\frac{\\$4}{\\text{year}}\\right) \\times t = \\frac{\\$3}{\\text{year}} \\times t = \\$5$$\n",
    "$$ t \\times \\frac{\\$3}{\\text{year}}  \\times \\frac{\\text{year}}{\\$3} = \\$5 \\times \\frac{\\text{year}}{\\$3}$$\n",
    "\n",
    "Cancel out like terms...\n",
    "$$t = \\frac{\\$5}{\\$3}\\times \\text{year} = \\frac{5 \\times \\$1}{3  \\times \\$1} \\text{years}$$\n",
    "$$t =\\frac{5}{3} \\text{years} = 1 \\frac{2}{3} \\text{ years} = 20 \\text{ months}$$\n",
    "\n",
    "You can see that if you own the car for more than 20 months you'll spend less money by owning the \\$25,000 car.  At the 2 year mark you would have spent $1,000\\times(\\$20+\\frac{\\$7}{\\text{year}}\\times 2 \\text{ years}) = \\$34,000$ on the $\\$20,000$ car and $1,000\\times\\left(\\$25 + \\frac{\\$4}{\\text{year}} \\times 2 \\text{ years} \\right)= \\$33,000$ on the $\\$25,000$ car, or about $\\$1,000$ less. \n",
    "\n",
    "This is a simplified example; I assumed the purchase price is the real cost of initial embodied energy.  EPD accounts for the impact of raw material extraction to final disposal, and everything in between that needs to be included.  Because of the complicated nature of determining this is relatively new in the United States.  It is fairly well established in Europe, but it was just in the Fall of 2014 that the [American Center for Life Cycle Assessment (ACLCA)](http://lcacenter.org/) was formed with the intent to provide EPDs in the United States.\n",
    "\n"
   ]
  },
  {
   "cell_type": "markdown",
   "metadata": {
    "slideshow": {
     "slide_type": "slide"
    }
   },
   "source": [
    "## Carbon Footprint Index (CFI)"
   ]
  },
  {
   "cell_type": "markdown",
   "metadata": {},
   "source": [
    "\n",
    "<audio controls data-autoplay preload>\n",
    " <source src=\"https://github.com/damontallen/Construction-materials/raw/master/Lecture_Audio/Week_1/Sustainability/Sustainability-Carbon%20Footprint%20Index%20(CFI).mp3\"\n",
    "         type='audio/mp3'>\n",
    " <p>Your user agent does not support the HTML5 Audio element or the files is missing.</p>\n",
    "</audio>"
   ]
  },
  {
   "cell_type": "markdown",
   "metadata": {},
   "source": [
    ">CFI is an improvised approach which evaluates the performance of global warming effect for a given building project as a result or consequences of waste generation during construction phase. This analysis tool can be applied for future building projects in assessing environmental performance, thus, affecting waste management practice and improving awareness of waste minimization among construction players. (source: [Carbon Footprint Index: A Simplified Tool For Impact Assessment of Construction Waste Generation](http://www.google.com/url?sa=t&rct=j&q=&esrc=s&source=web&cd=1&cad=rja&uact=8&ved=0CB8QFjAAahUKEwj_p7rAvobGAhUWSowKHaNzDcA&url=http%3A%2F%2Fwww.jerad.org%2Fppapers%2Fdnload.php%3Fvl%3D7%26is%3D1A%26st%3D461&ei=M-R4Vb_CDZaUsQSj57WADA&usg=AFQjCNEIwOSb4i5LbtpFLPxjXG4VXJ3O4A&sig2=BE-NMUo0Tl7UIsFaJCOU1w&bvm=bv.95277229,d.cWc)) \n",
    "\n",
    "(<i>FYI that source's title is an excellent description of CFI.</i>)\n",
    "\n",
    "For a building the carbon footprint (*not the same as carbon footprint index*) is calculated based on two contributing sources, embodied carbon and operational carbon.  The embodied carbon comes from the carbon released from the initial embodied energy of the building, the carbon released from the energy required to do maintenance, the disassembly of the building, and the carbon release from decomposition of the waste.  The operational carbon only comes from the carbon released due to the energy of operation of the building.\n",
    "\n",
    "The carbon footprint was developed as a way to estimate the Greenhouse Gas (GHG) emissions due to any manufactured product or activity.  It doesn't account for any other toxins like heavy metal contamination or any other regular pollution.\n",
    "\n",
    "Carbon Footprint Index evaluates the global warming effect for a given building project as a result of waste generation during the construction phase.  In this regard it has a much, much, smaller scope than the overall carbon footprint.  To calculate the CFI you first need to know the carbon foot print of the construction waste.\n",
    "\n",
    "$$CF = W \\times GWP$$\n",
    "\n",
    "where:\n",
    "\n",
    "* $CF$ - Carbon footprint ($kg \\text{ (of CO}_2\\text{)}/ \\text{metric ton} $)\n",
    "* $W$ - Wastage in metric tons ($tonne$)\n",
    "* $GWP$ - Global Warming Potential ($kg$  of CO$_2$) found in a Life Cycle Inventory (LCI)\n",
    "\n",
    "$$CFI = \\frac{CF}{GFA}$$\n",
    "\n",
    "* $CFI$ - Carbon footprint index ($kg \\text{ (of CO}_2\\text{)}/ m^2$ )\n",
    "* $GFA$ - Gross Floor Area ($m^2$)\n",
    "\n",
    "The typical values for conventional projects CFI range between $21 – 26 kg \\text{ (of CO}_2\\text{)} /m^2$.  The main contributing factors to the CFI of a project are the construction method, waste management and building design.  The types of project that score low using CFI are ones that rely heavily on prefabrication in off-site, controlled environments, and then simple assembled the building from the components.  An example of this type of technology is prestressed concrete.\n",
    "\n",
    "I won't be asking you to do these calculations in this course but you should be aware of them for future courses.  "
   ]
  },
  {
   "cell_type": "markdown",
   "metadata": {
    "slideshow": {
     "slide_type": "slide"
    }
   },
   "source": [
    "## Volatile Organic Compound (VOC)"
   ]
  },
  {
   "cell_type": "markdown",
   "metadata": {},
   "source": [
    "\n",
    "<audio controls data-autoplay preload>\n",
    " <source src=\"https://github.com/damontallen/Construction-materials/raw/master/Lecture_Audio/Week_1/Sustainability/Sustainability-Volatile%20Organic%20Compound%20(VOC).mp3\"\n",
    "         type='audio/mp3'>\n",
    " <p>Your user agent does not support the HTML5 Audio element or the files is missing.</p>\n",
    "</audio>"
   ]
  },
  {
   "cell_type": "markdown",
   "metadata": {},
   "source": [
    "\n",
    "\n",
    "<a href = \"http://en.wikipedia.org/wiki/Environmental_impact_of_pesticides\"><img src=\"http://upload.wikimedia.org/wikipedia/commons/thumb/d/df/Health_effects_of_pollution.png/700px-Health_effects_of_pollution.png\" alt = \"Health effects of pollution image\" Title=\"Health effects of pollution\" style=\"max-width:300px; max-height:300px; border:1px solid blue; float:right; margin-left:10px;\"/></a>\n",
    "\n",
    "Volatile organic compounds (VOCs) are [organic chemicals](https://en.wikipedia.org/wiki/Organic_chemistry) that evaporate at room temperature from any material containing them.  Some sources include paint, glues, solvents, wood preservatives, aerosol sprays, cleaners and refrigerants.  VOCs are numerous and include both human-made and naturally occurring chemical compounds. In building construction many VOCs tend to be dangerous to human health or harmful to the environment. These are regulated by law since concentrations can build up indoors.  Harmful VOCs are generally not lethal in low concentrations, but long-term exposure can lead to adverse health effects.  \n",
    "\n",
    "One commonly used example of a VOC is [formaldehyde](https://en.wikipedia.org/wiki/Formaldehyde).  Formaldehyde can be quite toxic in high concentrations.  Because of this, the inclusion of it in building materials is closely regulated.  You may have even heard of problems with laminated flooring from China that was sold by [Lumber Liquidators](http://www.cbsnews.com/news/lumber-liquidator-customers-still-testing-laminate-floors-formaldehyde/) that emitted too much formaldehyde."
   ]
  },
  {
   "cell_type": "markdown",
   "metadata": {
    "slideshow": {
     "slide_type": "slide"
    }
   },
   "source": [
    "## LEED"
   ]
  },
  {
   "cell_type": "markdown",
   "metadata": {},
   "source": [
    "\n",
    "<audio controls data-autoplay preload>\n",
    " <source src=\"https://github.com/damontallen/Construction-materials/raw/master/Lecture_Audio/Week_1/Sustainability/Sustainability-LEED.mp3\"\n",
    "         type='audio/mp3'>\n",
    " <p>Your user agent does not support the HTML5 Audio element or the files is missing.</p>\n",
    "</audio>"
   ]
  },
  {
   "cell_type": "markdown",
   "metadata": {},
   "source": [
    "<a href = \"http://commons.wikimedia.org/wiki/File:LEED_platinum_grey.jpg\"><img src=\"http://upload.wikimedia.org/wikipedia/commons/6/6a/LEED_platinum_grey.jpg\" alt = \"LEED platinum image\" Title=\"LEED-Platinum certification form the USGBC\" style=\"max-width:200px; max-height:200px; border:1px solid blue; float:right; margin-left:10px;\"/></a>\n",
    "\n",
    "Leadership in Energy & Environmental Design (LEED), is a green building certification program.  However LEED is a design tool and not a a tool to measure performance.  Although it contains elements of climate-specific aspects it is not solely based on low environmental impact.  This has lead to some builders and designers gaming the rating system to achieve LEED certification which in turn increases the economic gains from a building's sale or rental.  Since energy conservation is expensive, in the past builders have minimized the points from those categories and maximize points from categories like Sustainable Sites, Location and Transportation, Materials and Resources, and Indoor Environmental Quality.  Because of this, LEED designs can be less than the most site- or climate-appropriate choice available. To address these concerns the U.S. Green Building Council has made modifications to the LEED requirements to curb this behavior.  \n",
    "\n",
    "Now LEED is one of the more popular certification programs in the U.S. with around 80,000 projects world wide that have either been registered or certified.\n",
    "\n",
    ">In fact, 88 of the Fortune 100 companies are already using LEED. (source: [This is LEED](http://leed.usgbc.org/leed.html))\n",
    "\n",
    "\n",
    "As a side note Rinker Hall is the first building in the state university system to using LEED.\n"
   ]
  },
  {
   "cell_type": "markdown",
   "metadata": {
    "slideshow": {
     "slide_type": "slide"
    }
   },
   "source": [
    "## Cradle to Gate (CTG)"
   ]
  },
  {
   "cell_type": "markdown",
   "metadata": {},
   "source": [
    "\n",
    "<audio controls data-autoplay preload>\n",
    " <source src=\"https://github.com/damontallen/Construction-materials/raw/master/Lecture_Audio/Week_1/Sustainability/Sustainability-Cradle%20to%20Gate%20(CTG).mp3\"\n",
    "         type='audio/mp3'>\n",
    " <p>Your user agent does not support the HTML5 Audio element or the files is missing.</p>\n",
    "</audio>"
   ]
  },
  {
   "cell_type": "markdown",
   "metadata": {},
   "source": [
    "Cradle to Gate is another life cycle assessment process.  It focuses on just the first parts of the the life cycle, particularly the material extraction and transportation to manufacturing facilities. In the U.S. about [6%](http://www.architecture2030.org/files/2030products_cp.pdf) of energy consumed goes to the embodied energy of buildings.  This includes energy use by equipment to extract raw materials, energy used to ship the raw materials to the manufacturing facilities and the manufacturing process itself.  By designers specifying construction materials with low CTG the total energy consumed by a building is reduced.  The information about CTG values is sometimes found on the environmental product declarations (EPD) or business-to-business EDPs.\n"
   ]
  },
  {
   "cell_type": "markdown",
   "metadata": {
    "slideshow": {
     "slide_type": "slide"
    }
   },
   "source": [
    "## Summary"
   ]
  },
  {
   "cell_type": "markdown",
   "metadata": {},
   "source": [
    "\n",
    "<audio controls data-autoplay preload>\n",
    " <source src=\"https://github.com/damontallen/Construction-materials/raw/master/Lecture_Audio/Week_1/Sustainability/Sustainability-Summary.mp3\"\n",
    "         type='audio/mp3'>\n",
    " <p>Your user agent does not support the HTML5 Audio element or the files is missing.</p>\n",
    "</audio>"
   ]
  },
  {
   "cell_type": "markdown",
   "metadata": {},
   "source": [
    "\n",
    "\n",
    "<a href = \"https://www.flickr.com/photos/buckaroobay/3721809183\"><img src=\"http://farm4.staticflickr.com/3469/3721809183_847a705f0c.jpg\" alt = \"Future road sign image\" Title=\"The Future\" style=\"max-width:200px; max-height:200px; border:1px solid blue; float:right; margin-left:10px;\"/></a>\n",
    "\n",
    "Again, sustainability is a large topic with whole courses dedicated to it.  This should give you a taste of what is out there and maybe some thoughts on what is to come in the future in the building industry.  As consumers have started to demand more energy efficiency from buildings and energy prices have rose, there has been an increasing demand for sustainable structures.  Since these structures have both real and perceived value, the market for them has been able to demand a higher premium.  With climate change in the news more and more, this is only going to become an increasing trend.  It is both a good market to be in, and in the long term, a good investment to own.\n",
    "\n",
    "You need to be aware of new innovations that are going to become more popular as the prices fall: solar panels, for instance.  The reported average cost of solar panels in 1977 was \\$76.67/watt and in 2014 it is just \\$0.613/watt ([source](http://pvinsights.com/)) with some people forecasting another [40% price drop](http://cleantechnica.com/2015/01/29/solar-costs-will-fall-40-next-2-years-heres/) over the next two years.\n",
    "\n",
    "Along with water shortages, innovations in water usage are also on the rise.  Recycling [grey water](http://greywateraction.org/contentabout-greywater-reuse/) for sewage duty will require changes in the design of buildings.  Necessitating capture, storage, and potentially treatment in buildings.  These will add to initial costs, but could lead to long term savings, and will certainly provide new opportunities in the construction market."
   ]
  },
  {
   "cell_type": "markdown",
   "metadata": {
    "slideshow": {
     "slide_type": "slide"
    }
   },
   "source": [
    "# References"
   ]
  },
  {
   "cell_type": "markdown",
   "metadata": {},
   "source": [
    "[UF Class website](https://ufl.instructure.com/courses/) \n",
    "\n",
    "[Github.io version of course website](http://damontallen.github.io/Construction-materials/) *(Do not use this link if you are taking this course in Summer A or B.)*\n",
    "\n",
    "\n",
    "[IPython.org](http://ipython.org/) *(IPython is the opensource software used in the development of much of this course.)*\n",
    "\n",
    "[Complete Software List](http://nbviewer.ipython.org/github/damontallen/Construction-materials/blob/master/Resources.ipynb)\n",
    "\n",
    "## Report any problems\n",
    "\n",
    "[Issues](https://github.com/damontallen/Construction-materials/issues) Please report any problems that occurred during the viewing of this or any other lecture.\n",
    "\n",
    "Alternative Reporting - Email <a href=\"mailto:damontallen@gmail.com?Subject=Construction%20Materials%20Lecture%20Problems\" target=\"_top\">damontallen@gmail.com</a>"
   ]
  }
 ],
 "metadata": {
  "celltoolbar": "Slideshow",
  "kernelspec": {
   "display_name": "Python 3",
   "language": "python",
   "name": "python3"
  },
  "language_info": {
   "codemirror_mode": {
    "name": "ipython",
    "version": 3
   },
   "file_extension": ".py",
   "mimetype": "text/x-python",
   "name": "python",
   "nbconvert_exporter": "python",
   "pygments_lexer": "ipython3",
   "version": "3.4.3"
  }
 },
 "nbformat": 4,
 "nbformat_minor": 0
}
