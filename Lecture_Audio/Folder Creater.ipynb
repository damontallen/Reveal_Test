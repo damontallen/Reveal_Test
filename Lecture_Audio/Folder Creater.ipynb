{
 "cells": [
  {
   "cell_type": "markdown",
   "metadata": {},
   "source": [
    "#Folder Creater"
   ]
  },
  {
   "cell_type": "code",
   "execution_count": 1,
   "metadata": {
    "collapsed": false
   },
   "outputs": [
    {
     "name": "stdout",
     "output_type": "stream",
     "text": [
      "Creating 'Week_1' directory\n",
      "Creating 'Week_2' directory\n",
      "Creating 'Week_3' directory\n",
      "Creating 'Week_4' directory\n",
      "Creating 'Week_5' directory\n",
      "Creating 'Week_6' directory\n",
      "Creating 'Week_7' directory\n",
      "Creating 'Week_8' directory\n",
      "Creating 'Week_9' directory\n",
      "Creating 'Week_10' directory\n",
      "Creating 'Week_11' directory\n",
      "Creating 'Week_12' directory\n"
     ]
    }
   ],
   "source": [
    "import os\n",
    "for i in range(1,13):\n",
    "    txt = \"Week_%d\"%i\n",
    "    print(\"Creating '%s' directory\"%txt)\n",
    "    os.mkdir(txt)"
   ]
  },
  {
   "cell_type": "code",
   "execution_count": null,
   "metadata": {
    "collapsed": true
   },
   "outputs": [],
   "source": []
  }
 ],
 "metadata": {
  "kernelspec": {
   "display_name": "Python 3",
   "language": "python",
   "name": "python3"
  },
  "language_info": {
   "codemirror_mode": {
    "name": "ipython",
    "version": 3
   },
   "file_extension": ".py",
   "mimetype": "text/x-python",
   "name": "python",
   "nbconvert_exporter": "python",
   "pygments_lexer": "ipython3",
   "version": "3.4.0"
  }
 },
 "nbformat": 4,
 "nbformat_minor": 0
}
