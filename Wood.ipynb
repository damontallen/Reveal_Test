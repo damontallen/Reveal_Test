{
 "cells": [
  {
   "cell_type": "markdown",
   "metadata": {
    "slideshow": {
     "slide_type": "slide"
    }
   },
   "source": [
    "# Wood"
   ]
  },
  {
   "cell_type": "markdown",
   "metadata": {
    "slideshow": {
     "slide_type": "-"
    }
   },
   "source": [
    "<p><iframe width=\"420\" height=\"315\" src=\"//www.youtube.com/embed/wAp6mqdZFGU\" frameborder=\"0\" allowfullscreen></iframe></p>"
   ]
  },
  {
   "cell_type": "markdown",
   "metadata": {
    "slideshow": {
     "slide_type": "slide"
    }
   },
   "source": [
    "## Introduction"
   ]
  },
  {
   "cell_type": "markdown",
   "metadata": {},
   "source": [
    "<audio controls data-autoplay preload>\n",
    " <source src=\"https://github.com/damontallen/Construction-materials/raw/master/Lecture_Audio/Week_3/Wood/Wood-Introduction.mp3\"\n",
    "         type='audio/mp3'>\n",
    " <p>Your user agent does not support the HTML5 Audio element or the files is missing.</p>\n",
    "</audio>\n"
   ]
  },
  {
   "cell_type": "markdown",
   "metadata": {
    "slideshow": {
     "slide_type": "-"
    }
   },
   "source": [
    "The organization that is responsible for producing the portion of the building code that deals with wood is the [American Wood Council](http://www.awc.org/).  In the United Stated they, along with the [American Plywood Association](http://www.apawood.org/), produce the source material that is adopted by every state to regulate timber construction.  This includes everything from flooring and roof decks to framing, form work, and more.  \n",
    "\n",
    "Before getting into the details about wood there are a couple things I need to clear up.\n",
    "\n",
    "### Timber - Hard Wood vs Soft Wood\n",
    "* Not necessarily a description of the physical properties of the wood.\n",
    "* Hard woods- broad leafed, <a href=\"http://pixabay.com/static/uploads/photo/2013/07/18/10/58/green-163638_640.jpg?i\">deciduous (image)</a>\n",
    "* Soft woods - narrow, needle like leaves, generally <a href=\"http://pixabay.com/static/uploads/photo/2010/12/13/10/01/branch-2133_640.jpg?i\">evergreen (image)</a>, conifers\n",
    "* Majority of structural lumber comes from the softwood category\n",
    "* Douglas Fir and Southern Pine are widely used\n",
    "    * Softwoods\n",
    "    * Relatively dense\n",
    "    * Structural properties exceed many hardwoods\n",
    "    \n",
    "### Structural Panels\n",
    "\n",
    "In addition to general descriptions about wood I would like to briefly introduce the concept of composite material.  An example of this would be plywood \n",
    " or oriented strand board (OSB).\n",
    "\n",
    "* <a href = \"https://en.wikipedia.org/wiki/Plywood\"> <img src=\"https://upload.wikimedia.org/wikipedia/commons/thumb/f/fe/Spruce_plywood.JPG/795px-Spruce_plywood.JPG\" alt = \"Plywood edge image\" Title=\"Veneer Layers of Plywood\"  style=\"max-width:20px; max-height:20px; border:1px solid blue; float:left; margin-right:10px;\"/></a> - Plywood\n",
    "* <a href = \"https://en.wikipedia.org/wiki/Oriented_strand_board\"> <img src=\"https://upload.wikimedia.org/wikipedia/commons/b/b6/OSB-Platte.jpg\" alt = \"OSB edge image\" Title=\"OSB Compressed Flakes\"  style=\"max-width:20px; max-height:20px; border:1px solid blue; float:left; margin-right:10px;\"/></a> - OSB \n",
    "\n",
    "Both of these products are made from wood components glued and compressed to form flat sheets.  This is analogous to an alloy in metal in that the final result is not made from a pure substance.  However, glue is not just a different type of wood.  Because of this, great care must be taken to try to maintain as much compatibility between material properties as possible.  With one of the biggest potential problems being the effects of moisture.  I'll leave that topic for later exploration.\n",
    "\n",
    "### Manufacturing\n",
    "\n",
    "It should be noted, if you have not already heard the term, that \"[sawmills](https://en.wikipedia.org/wiki/Sawmill)\" are where logs are cut into lumber.  So, unlike steel from steel mills, wood does not come from a wood mill (though a lumber mill is a synonym for sawmill).  The lumber that comes from the mill may be of a few varieties based on the level of surface finish.  \n",
    "\n",
    "* S4S - Surfaced four sides.  This is the most finished lumber that you can buy. Fours sides are smooth.\n",
    "* S3S - Surfaced three sides. Three out of the four major surfaces of the lumber are smooth.\n",
    "* S2S - Surfaced two sides.  This refers to the front and back surfaces being smooth.\n",
    "* S1S - Surfaced one side. Only the face of the lumber is smooth.\n",
    "* S1S1E - Surfaced one side and one edge. Edging refers to the placing of a smooth surface at a right angle to the face.\n",
    "* S1S2E - Surfaced one side and two edges. Like before with one more edge.\n",
    "* S1E - Surfaced one edge. Only one edge has to be smoothed.\n",
    "* S2E - Surfaced two edges. Two edges have been smoothed.\n",
    "* Rough Sawn - No surfacing and the saw marks will be present.\n",
    "\n",
    "Where:\n",
    "<a href = \"https://en.wikipedia.org/wiki/Lumber\"> <img src=\"http://i.imgur.com/NDlIXkj.jpg\" alt = \"Image of a 2x4\" Title=\"Board\"  style=\"max-width:200px; max-height:200px; border:1px solid blue; float:right; margin-left:10px;\"/></a>\n",
    "* <strong style=\"color:blue\">Length</strong> is the largest dimension of a board (blue line in image).\n",
    "* <strong style=\"color:black\">Width</strong> is the next largest dimension of a board (black line).\n",
    "* <strong style=\"color:red\">Thickness</strong> is the smallest dimension of a board (red line).\n",
    "* Edge (in terms of surfacing) - A side which is measured by <strong style=\"color:blue\">length</strong> and <strong style=\"color:red\">thickness</strong> (long and narrow).\n",
    "* Surface - If only one or two are indicated, then it refers to a side which is measured by <strong style=\"color:blue\">length</strong> and <strong style=\"color:black\">width</strong> (long and wide).\n",
    "* End - The sides that are measured by <strong style=\"color:red\">thickness</strong> and <strong style=\"color:black\">width</strong> (short and narrow).\n",
    "\n",
    "\n",
    "*(Image source sites:[Hard wood](http://pixabay.com/en/green-leaf-leaves-deciduous-tree-163638/), [Soft wood](http://pixabay.com/en/branch-cone-conifer-coniferous-2133/))*"
   ]
  },
  {
   "cell_type": "markdown",
   "metadata": {
    "slideshow": {
     "slide_type": "slide"
    }
   },
   "source": [
    "## Sustainability"
   ]
  },
  {
   "cell_type": "markdown",
   "metadata": {},
   "source": [
    "\n",
    "<audio controls data-autoplay preload>\n",
    " <source src=\"https://github.com/damontallen/Construction-materials/raw/master/Lecture_Audio/Week_3/Wood/Wood-Sustainability.mp3\"\n",
    "         type='audio/mp3'>\n",
    " <p>Your user agent does not support the HTML5 Audio element or the files is missing.</p>\n",
    "</audio>"
   ]
  },
  {
   "cell_type": "markdown",
   "metadata": {},
   "source": [
    "All that is needed to make wood sustainability is plant a tree for every one that is cut down. \n",
    "\n",
    ">The United States and Canada share a demonstrated \n",
    "commitment to forest sustainability. During the last 50 years, less \n",
    "than 2 percent of the standing tree inventory in the U.S. was \n",
    "harvested each year while net tree growth was close to 3 \n",
    "percent.\n",
    ">\n",
    ">In Canada, less than 1 percent of the managed forest is \n",
    "harvested annually and the law requires regeneration.  \n",
    "(Source: [American Wood Council](https://www.apawood.org/Data/Sites/1/documents/green/awc_woodgreenbuilding_naforestsmay11.pdf))\n",
    "\n",
    "In addition to that, wood has the potential to sequester more carbon than its use produces.  An example of an application demonstrating the versatile nature of wood is the [35 story wooden carbon neutral skyscraper](http://greenbuildingelements.com/2015/06/04/35-story-carbon-neutral-wood-skyscraper-proposed-for-paris/) that is being proposed for construction in Paris.  It is using a newer variety of wood product known as <a href=\"https://www.youtube.com/watch?v=0S91l66B198\" title=\"Video: Cross Laminated Timber Code Change Proposals\">Cross Laminated Timber</a> (CLT).  You can think of CLT as a beefed up version of plywood where the layers are made from much thicker material.  Currently in the US the [International Building Code](http://publicecodes.cyberregs.com/icod/ibc/) (IBC) only provides for structures of up to nine stories though. \n",
    "\n",
    "* <a href = \"https://www.flickr.com/photos/oregondepartmentofforestry/14329312300/\"> <img src=\"https://farm4.staticflickr.com/3885/14329312300_47546d6bba_o.jpg\" alt = \"CLT edge image\" Title=\"CLT Timber Components\"  style=\"max-width:20px; max-height:20px; border:1px solid blue; float:left; margin-right:10px;\"/></a> - CLT\n",
    "\n",
    "*[Sustainable Cities Collective link](http://sustainablecitiescollective.com/grmeyers/1079651/35-story-carbon-neutral-wood-skyscraper-proposed-paris) to wood skyscraper article.*"
   ]
  },
  {
   "cell_type": "markdown",
   "metadata": {
    "slideshow": {
     "slide_type": "slide"
    }
   },
   "source": [
    "## Toxicity and the Environment"
   ]
  },
  {
   "cell_type": "markdown",
   "metadata": {},
   "source": [
    "\n",
    "<audio controls data-autoplay preload>\n",
    " <source src=\"https://github.com/damontallen/Construction-materials/raw/master/Lecture_Audio/Week_3/Wood/Wood-Toxicity%20and%20the%20Environment.mp3\"\n",
    "         type='audio/mp3'>\n",
    " <p>Your user agent does not support the HTML5 Audio element or the files is missing.</p>\n",
    "</audio>"
   ]
  },
  {
   "cell_type": "markdown",
   "metadata": {},
   "source": [
    "Wood being a natural material is not toxic when it is first milled, and unless it is treated with a toxin, it remains that way.  Why would wood be treated with a toxin?  The treatment of wood is generally done for one of two reasons.  The first reason. and one most common in Florida, is for insect, and rot resistance.  This is also referred to as pressure treating, though, technically, most chemical treatment of wood is done via pressurization.  The chemicals currently being used for rot resistance are based on copper compounds.  These are believed to be least dangerous for the environment.  In the past much more toxic chemicals like [arsenic](https://en.wikipedia.org/?title=Arsenic), and [creosote](https://en.wikipedia.org/?title=Creosote) were used.  Creosote is actually a well known carcinogen, and arsenic is a deadly poison.  However, these chemicals were highly effective as preservatives.\n",
    "\n",
    "The second reason wood is likely to be treated is for fire resistance.  This is not as common as it once was due to previous versions of fire treatment actually weakening the wood over time by chemically attacking it.  \n",
    "\n",
    "Other coating, such as lead paint, can cause wood to become toxic, but again, if no toxic chemicals are added, wood is inherently nontoxic to the environment.  It should be noted that there are some species of wood that do contain natural toxins that affect some people.  Species like some varieties of cypress, mahogany, and oak contain toxins though the vast majority of lumber used in the construction industry has low, or no toxic effects.\n",
    "\n",
    "*[Toxic Wood](http://www.wood-database.com/wood-articles/wood-allergies-and-toxicity/) database.*"
   ]
  },
  {
   "cell_type": "markdown",
   "metadata": {
    "slideshow": {
     "slide_type": "slide"
    }
   },
   "source": [
    "## Recycling and Reuse"
   ]
  },
  {
   "cell_type": "markdown",
   "metadata": {},
   "source": [
    "\n",
    "<audio controls data-autoplay preload>\n",
    " <source src=\"https://github.com/damontallen/Construction-materials/raw/master/Lecture_Audio/Week_3/Wood/Wood-Recycling.mp3\"\n",
    "         type='audio/mp3'>\n",
    " <p>Your user agent does not support the HTML5 Audio element or the files is missing.</p>\n",
    "</audio>"
   ]
  },
  {
   "cell_type": "markdown",
   "metadata": {},
   "source": [
    "<a href = \"https://en.wikipedia.org/wiki/Timber_recycling\"> <img src=\"https://upload.wikimedia.org/wikipedia/commons/a/a1/Finished_recycled_product.jpg\" alt = \"Recycled lumber image\" Title=\"Reused Lumber Display\"  style=\"max-width:200px; max-height:200px; border:1px solid blue; float:right; margin-left:10px;\"/></a>Wood can be recycled by making mulch or fuel pellets out of it.  It is more green though if wood can be reused. Lumber can easily be reused if it has not been damaged.  Even damaged parts can be cut out of larger pieces leaving the smaller parts available for reuse.  There is actually even a rather healthy market for older lumber being reused.  Particularly if it is cut down and resurfaced.  Since wood is a natural material and some species of trees are no longer available, rare lumber is highly sought after.  If a board made out of rare wood can be reclaimed, it can often be sold for three times more than its modern equivalent, or even higher."
   ]
  },
  {
   "cell_type": "markdown",
   "metadata": {
    "slideshow": {
     "slide_type": "slide"
    }
   },
   "source": [
    "## Material Properties"
   ]
  },
  {
   "cell_type": "markdown",
   "metadata": {},
   "source": [
    "\n",
    "<audio controls data-autoplay preload>\n",
    " <source src=\"https://github.com/damontallen/Construction-materials/raw/master/Lecture_Audio/Week_3/Wood/Wood-Material%20Properties.mp3\"\n",
    "         type='audio/mp3'>\n",
    " <p>Your user agent does not support the HTML5 Audio element or the files is missing.</p>\n",
    "</audio>"
   ]
  },
  {
   "cell_type": "markdown",
   "metadata": {},
   "source": [
    "<a href=\"http://imgur.com/9wu86XJ\"><img src=\"http://i.imgur.com/9wu86XJ.png\" title=\"Tree Slice\" alt=\"Image of parts of a log\" style=\"max-width:300px; max-height:300px; border:1px solid blue; float:right; margin-left:10px;\"/></a>\n",
    "\n",
    "* Heartwood - dead cells, supply strength and support\n",
    "* Sapwood - living\n",
    "* No strength difference, but the heartwood is more decay resistant, and sapwood accepts penetration by preservatives better.\n",
    "\n",
    "Rings are made up of elongated round, or rectangular tube like cells, essentially parallel to the length of the tree.  The cells are primarily made of cellulose glued together by lignin (like a bundle of straws)\n",
    "\n",
    "<a href=\"http://cwc.ca/education/teaching-learning-resources/\"><img src=\"http://www.arch.mcgill.ca/prof/friedman/arch240/winter1998/lecture3/Wood11.jpg\" alt=\"Micro Wood Rings\" style=\"max-width:300px; max-height:300px; border:1px solid blue; float:left; margin-right:3px;\"></a>\n",
    "\n",
    "<a href=\"http://cwc.ca/education/teaching-learning-resources/\"><img src=\"http://www.arch.mcgill.ca/prof/friedman/arch240/winter1998/lecture3/Wood12.jpg\" alt=\"Macro Wood Rings\" style=\"max-width:300px; max-height:300px; border:1px solid blue; float:left; margin-right:15px;\"></a>"
   ]
  },
  {
   "cell_type": "markdown",
   "metadata": {},
   "source": [
    "* Early wood (spring wood) rapid growth, not as dense\n",
    "* Late wood (summer wood) dense, stronger\n",
    "\n",
    "\n",
    "The relative amounts of early and late wood are used in visual grading."
   ]
  },
  {
   "cell_type": "markdown",
   "metadata": {},
   "source": [
    "<a></a>\n",
    "\n",
    "<a href=\"http://cwc.ca/education/teaching-learning-resources/\"><img src=\"http://www.arch.mcgill.ca/prof/friedman/arch240/winter1998/lecture3/Wood17.jpg\" alt = \"Image of lumber shrinkage\" title=\"Board Shrinkage\" style=\"max-width:300px; max-height:300px; border:1px solid blue; float:left; margin-right:3px;\"></a>\n",
    "\n",
    "<a href=\"http://cwc.ca/education/teaching-learning-resources/\"><img src=\"http://www.arch.mcgill.ca/prof/friedman/arch240/winter1998/lecture3/Wood26b.jpg\" alt = \"Image of shrinkage effects on parts of log\" title=\"Shrinkage Effects on Cuts of Wood\" style=\"max-width:300px; max-height:300px; border:1px solid blue; float:right; margin-left:3px;\"></a>"
   ]
  },
  {
   "cell_type": "markdown",
   "metadata": {},
   "source": [
    "The shrinkage tangential to the grain, typically ranges from 6.5% to 9.5% when going from Fiber Saturation Point (FSP) to oven dry.  However, the shrinkage radially will only range from 2% to 5.5%.  Because of this lumber's shape will distort as it drys.  The shrinkage along the gain is practically non-existent since the cell walls are almost completely continuous in that direction.  \n",
    "\n",
    "When estimating the change in size in lumber over a particular change in moisture content (MC) it is usually safe to assume that the change will be proportional to the maximum possible change due to shrinkage. \n",
    "\n",
    "$$\\text{Shrinkage} = \\frac{\\text{Maximum Shrinkage}}{\\text{FSP}} \\times (\\text{Final MC} - \\text{Current MC})$$\n",
    "\n",
    "For instance if you are going from a MC of 19% to a MC of 9.2% and your lumber has a maximum tangential shrinkage of 9.5% and a FSP of %30 you would expect potentially a 3.2% change in width.\n",
    "\n",
    "$$\\text{Shrinkage} = \\frac{9.5\\%}{30\\%} \\times (9.2\\% - 19.2\\%) = -3.16\\%$$\n",
    "\n",
    "[Equilibrium Moisture Content (EMC)](http://en.wikipedia.org/wiki/Equilibrium_moisture_content) is the percentage of moisture that is in wood when it is no longer gaining or losing moisture.  In other words the size is stable.  \n",
    "\n",
    "The value for EMC is dependent on both the temperature and relative humidity of the environment. "
   ]
  },
  {
   "cell_type": "markdown",
   "metadata": {
    "slideshow": {
     "slide_type": "subslide"
    }
   },
   "source": [
    "### Air Drying vs Kiln Drying"
   ]
  },
  {
   "cell_type": "markdown",
   "metadata": {},
   "source": [
    "<audio controls data-autoplay preload>\n",
    " <source src=\"https://github.com/damontallen/Construction-materials/raw/master/Lecture_Audio/Week_3/Wood/Wood-Air%20Drying%20vs%20Kiln%20Drying.mp3\"\n",
    "         type='audio/mp3'>\n",
    " <p>Your user agent does not support the HTML5 Audio element or the files is missing.</p>\n",
    "</audio>"
   ]
  },
  {
   "cell_type": "markdown",
   "metadata": {},
   "source": [
    "<a href = \"https://en.wikipedia.org/wiki/Wood_drying\"> <img src=\"https://upload.wikimedia.org/wikipedia/commons/thumb/a/a4/Neat_organized_wood_drying_rack_%283947424419%29.jpg/330px-Neat_organized_wood_drying_rack_%283947424419%29.jpg\" alt = \"Wood drying rack image\" Title=\"Wood Drying Rack\"  style=\"max-width:200px; max-height:200px; border:1px solid blue; float:right; margin-left:10px;\"/></a>Green wood is very wet and cannot be used until it has dried.  There are two ways to dry lumber, natural drying or air drying, and artificial drying.  Artificial drying generally involves a kiln of some sort.  The kiln is a <a href = \"https://en.wikipedia.org/wiki/Wood_drying\"> <img src=\"https://upload.wikimedia.org/wikipedia/commons/thumb/1/1e/Wood_Drying_Room.JPG/330px-Wood_Drying_Room.JPG\" alt = \"Wood kiln image\" Title=\"Wood Kiln\"  style=\"max-width:200px; max-height:200px; border:1px solid blue; float:left; margin-right:10px;\"/></a>container or building that houses stacks of lumber in an environment with either elevated temperature ($\\approx$ 120-140$^\\circ$F), lowered humidity, or some combination of the two.  There are a few less common methods that involve heating the water in the lumber with a high frequency electric field or lowering the boiling temperature with the use of an applied vacuum but all artificial methods involve using energy to remove the water.  The gain is a reduced drying time and greater control over the drying rate.  Because of this most commercially available lumber is kiln dried.\n",
    "\n",
    "The air drying process, also known as seasoning, only requires keeping the lumber from getting wet.  Again the lumber is stacked with room for air to circulate but no forced circulation occurs.  Because of this air drying costs less to accomplish but since the main ingredient in this process is time it requires a greater storage space to match the volume of output of artificial drying.  Though drying times will vary based on temperature, relative humidity, initial moisture content and desired MC, the rule of thumb is for every one inch of lumber thickness an additional year of drying time is required.\n"
   ]
  },
  {
   "cell_type": "markdown",
   "metadata": {
    "slideshow": {
     "slide_type": "slide"
    }
   },
   "source": [
    "## Strength"
   ]
  },
  {
   "cell_type": "markdown",
   "metadata": {},
   "source": [
    "\n",
    "<audio controls data-autoplay preload>\n",
    " <source src=\"https://github.com/damontallen/Construction-materials/raw/master/Lecture_Audio/Week_3/Wood/Wood-Strength.mp3\"\n",
    "         type='audio/mp3'>\n",
    " <p>Your user agent does not support the HTML5 Audio element or the files is missing.</p>\n",
    "</audio>"
   ]
  },
  {
   "cell_type": "markdown",
   "metadata": {},
   "source": [
    "Wood is an anisotropic material; it has different properties depending on the direction it is tested in.  Wood is very strong in the direction of the grain but weak when loaded perpendicular to grain.  In the timber code this is accounted for by having different allowable stresses based on the type of loading an element is expected to experience.\n",
    "\n",
    "* $F_b$ - Bending allowable stress\n",
    "* $F_t$ - Tension allowable stress\n",
    "* $F_v$ - Shear allowable stress\n",
    "* $F_c$ - Compression allowable stress\n",
    "* $F_{c\\perp}$ - Compression perpendicular to grain allowable stress\n",
    "\n",
    "Each species of wood has a different set of values for each allowable stress.  Additionally there are alternative values for each grade (level of quality) of material for each species.  This would be very difficult to remember if it were not for the well laid out tables in the [timber code](http://www.awc.org/codes-standards/publications/nds-2015).  In my opinion the timber code is the simplest, and clearest written material code, but I may be biased by my fondness of wood and experiences working as a carpenter.  There is one additional item of note, it is the only material code that is free for on-line viewing that I'm aware of.  The state and International Building Codes are available on-line for free, but they often stop short of providing information about material design, and instead simply reference the relevant documents that need to be purchased separately.\n",
    "\n",
    "If we focus on elastic modulus, and limit ourselves to common species like Southern Pine, we can begin to compare other materials like steel and aluminum to wood.  For steel we have a modulus of elasticity of 29,000 ksi, aluminum has a value of 10,000 ksi, and a piece of Southern Pine with a grade of Dense Select Structural has a modulus of elasticity of 1,900 ksi.  Since wood is a natural material the modulus of elasticity will vary base on both the grade and species.  For instance, a piece of Northern White Cedar, with a grade of \"No. 3\", has a modulus of elasticity of 600 ksi, while the Select Structural grade is 800 ksi.\n",
    "\n",
    "There actually further modifications that come into play when looking at the elastic modulus for wood.  Like with metal, the temperature effects the elastic modulus, but moisture also plays a role.  There is another modification that comes into play, if the wood was pressure treated using an injection technique.  This seems complicated, and it gets even more complicated if we start looking at allowable tension stress, or even bending, but again the code is actually quite easy to follow, and the modifications to the capacities are simple to apply.  Furthermore, the reason wood is such a common building material is that it is relatively easy to work with, and can be less expensive than other material.\n",
    "\n",
    "Lets get back to the strength example.  If we have a Southern Pine 2x4 as part of the inside of a building, with a grade of \"No. 2\" (which is very common for structural design) loaded in tension, it would have a capacity of 675 psi.  Note that is *psi* and not ksi.  That means it could carry a maximum load of 3,540 lbs.  This may be less than you would expect.  Since size designations of lumber are not the same as actual lumber sizes, a 2x4 is not 2\"x4\", but rather 1.5\"x3.5\".  If this load was carried by a piece of A36 steel, it could be less than 0.5\"x0.5\".  However, you would need to use welding equipment to connect such a small member."
   ]
  },
  {
   "cell_type": "markdown",
   "metadata": {
    "slideshow": {
     "slide_type": "slide"
    }
   },
   "source": [
    "## Structural Failure Modes"
   ]
  },
  {
   "cell_type": "markdown",
   "metadata": {},
   "source": [
    "\n",
    "<audio controls data-autoplay preload>\n",
    " <source src=\"https://github.com/damontallen/Construction-materials/raw/master/Lecture_Audio/Week_3/Wood/Wood-Structural%20Failure%20Modes.mp3\"\n",
    "         type='audio/mp3'>\n",
    " <p>Your user agent does not support the HTML5 Audio element or the files is missing.</p>\n",
    "</audio>"
   ]
  },
  {
   "cell_type": "markdown",
   "metadata": {},
   "source": [
    "The failure mode of wood is generally cracking.  This is due to either the overloading of the lignin, or the cellulose that makes up the walls of the wood cells.  The result is the physical separation of the internal structure.  Failure will initiate at internal weak points in the wood.  These defects are used as a basis for establishing the grade of the material.  Higher grade wood has fewer defects, and is in turn stronger than lower grade material."
   ]
  },
  {
   "cell_type": "markdown",
   "metadata": {},
   "source": [
    "<a> </a>\n",
    "\n",
    "<a href=\"http://imgur.com/sQuYTSA\"><img src=\"http://i.imgur.com/sQuYTSA.png\" alt = \"Defects due to tree growth image\" title=\"Defects Due to Growth\" style=\"max-width:300px; max-height:300px; border:1px solid blue; float:right; margin-left:10px;\" /></a>\n",
    "\n",
    "<a href=\"http://imgur.com/NFh88cK\"><img src=\"http://i.imgur.com/NFh88cK.png\" alt = \"Shrinkage induced defects image\" title=\"Defects Due to Shrinkage\" style=\"max-width:300px; max-height:300px; border:1px solid blue; float:right; margin-left:3px;\"/></a>Types of defects used to grade wood\n",
    "\n",
    "* Knots\n",
    "    * Number and size in the wide face\n",
    "    * Number and size in narrow face\n",
    "* Slope of grain\n",
    "* Checks\n",
    "* Shakes\n",
    "* Splits\n",
    "\n",
    "\n"
   ]
  },
  {
   "cell_type": "markdown",
   "metadata": {},
   "source": [
    "Since wood is anisotropic the direction and type of loading strongly effects the strength and failure mode."
   ]
  },
  {
   "cell_type": "markdown",
   "metadata": {},
   "source": [
    "<a></a>\n",
    "\n",
    "<a href=\"http://cwc.ca/education/teaching-learning-resources/\"><img src=\"http://www.arch.mcgill.ca/prof/friedman/arch240/winter1998/lecture3/Wood13.jpg\" alt=\"Tension image\" title=\"Tension Parallel to Grain\" style=\"max-width:300px; max-height:300px; border:1px solid blue; float:left; margin-right:3px;\"></a>\n",
    "\n",
    "<a href=\"http://cwc.ca/education/teaching-learning-resources/\"><img src=\"http://www.arch.mcgill.ca/prof/friedman/arch240/winter1998/lecture3/wood14.jpg\" alt=\"Compression image\" title=\"Compression Parallel to Grain\" style=\"max-width:300px; max-height:300px; border:1px solid blue; float:left; margin-right:3px;\"></a>\n",
    "\n",
    "<a href=\"http://cwc.ca/education/teaching-learning-resources/\"><img src=\"http://www.arch.mcgill.ca/prof/friedman/arch240/winter1998/lecture3/Wood15.jpg\" alt=\"Crushing image\" title=\"Crushing Perpendicular to Grain\" style=\"max-width:300px; max-height:300px; border:1px solid blue; float:left; margin-right:3px;\"></a>\n",
    "\n",
    "* Tension parallel to grain - $F_t$ - Strong but can't really achieve complete failure of cross section, failure occurs at the connections\n",
    "* Tension perpendicular to grain - No good! Very weak, avoid loading in this direction since it leads to ligin separation \n",
    "* Compression parallel to grain - $F_c$ - Columns are loaded this way, slenderness effects must be considered unless very short.  Again, due to the effect of Poisson's ratio, in short elements loading this way can lead to tension perpendicular to grain at the bulge.\n",
    "* Compression perpendicular to grain (crushing) - $F_{c \\perp}$ - Not as strong as compression parallel to grain, but overload only causes local crushing of timber and not collapse.  In fact, the allowable stress is really based on a deformation limit."
   ]
  },
  {
   "cell_type": "markdown",
   "metadata": {},
   "source": [
    "<a></a>\n",
    "\n",
    "<a href=\"http://imgur.com/beanCAN\"><img src=\"http://i.imgur.com/beanCAN.png\" alt=\"Image of shear parallel to grain\" title=\"Shear Parallel to Grain\" style=\"max-width:300px; max-height:300px; border:1px solid blue; float:left; margin-right:3px;\"/></a>\n",
    "\n",
    "<a href=\"http://imgur.com/3WPHP1G\"><img src=\"http://i.imgur.com/3WPHP1G.png\" alt=\"Image of shear perpendicular to grain\" title=\"Shear Perpendicular to Grain\" style=\"max-width:300px; max-height:300px; border:1px solid blue; float:right; margin-left:3px;\"/></a>"
   ]
  },
  {
   "cell_type": "markdown",
   "metadata": {},
   "source": [
    "Shearing parallel to grain results in ligin separation, but since the bonds would all have to fail at once, wood is still fairly strong in this direction (though the strength must be checked).  Shearing perpendicular to grain does not lead to failure.  Rather the loading you see above and to the right would actually lead to shear parallel to grain, as the part extending upward began to rotate due to the loading.  \n"
   ]
  },
  {
   "cell_type": "markdown",
   "metadata": {
    "slideshow": {
     "slide_type": "slide"
    }
   },
   "source": [
    "## Environment Induced Failure Modes"
   ]
  },
  {
   "cell_type": "markdown",
   "metadata": {},
   "source": [
    "\n",
    "<audio controls data-autoplay preload>\n",
    " <source src=\"https://github.com/damontallen/Construction-materials/raw/master/Lecture_Audio/Week_3/Wood/Wood-Environment%20Induced%20Failure%20Modes.mp3\"\n",
    "         type='audio/mp3'>\n",
    " <p>Your user agent does not support the HTML5 Audio element or the files is missing.</p>\n",
    "</audio>"
   ]
  },
  {
   "cell_type": "markdown",
   "metadata": {},
   "source": [
    "<a href = \"https://en.wikipedia.org/wiki/Wood-decay_fungus\"> <img src=\"https://upload.wikimedia.org/wikipedia/commons/thumb/1/14/Braunfaeule_Holz_FI20070208.jpg/440px-Braunfaeule_Holz_FI20070208.jpg\" alt = \"Rotted wood image\" Title=\"Brown Rot\"  style=\"max-width:200px; max-height:200px; border:1px solid blue; float:right; margin-left:10px;\"/></a>Wood can be damaged by repeated exposure to water, which can lead to rot.  Wood can also fail due to excessive heat, weakening the chemical bond that make it up.  Insects may also attack wood members.  All of these are potential environmentally induced failure modes.  The easiest way to prevent these types of failures is to prevent exposure to the sources of damage.  \n",
    "\n",
    "Paint is commonly use to prevent most materials from being exposed to water, however wood is also often chemically treated to mitigate this type of damage.  Alternatively, using different materials in the design to shield wood from water is also effective at preventing damage.\n",
    "\n",
    "<a href = \"https://commons.wikimedia.org/wiki/File:CSIRO_ScienceImage_1204_Insect_Damaged_Softwood.jpg\"> <img src=\"https://upload.wikimedia.org/wikipedia/commons/thumb/8/86/CSIRO_ScienceImage_1204_Insect_Damaged_Softwood.jpg/800px-CSIRO_ScienceImage_1204_Insect_Damaged_Softwood.jpg\" alt = \"Insect damaged wood image\" Title=\"Insect Damage\"  style=\"max-width:200px; max-height:200px; border:1px solid blue; float:left; margin-right:10px;\"/></a>Repeated exposure to excessive heat (greater than 100$^{\\circ}F$) for extended periods of time (~8 hrs) can cause weakening in the chemical bonds that make up wood.  To allow for this a larger cross section needs to be used to carry the loading.  Alternatively, providing insulation to protect the wood from the excessive heat will also work.  \n",
    "\n",
    "Insects are more difficult to protect against, however toxic coatings do help prevent damage.  Over the long term, insects are more of a maintenance issue. The required of monitoring the structure for damage is usually done by pest control companies.  Either way, in the end, excessive damage of any sort can only be dealt with by replacing the effected members."
   ]
  },
  {
   "cell_type": "markdown",
   "metadata": {
    "slideshow": {
     "slide_type": "slide"
    }
   },
   "source": [
    "## Chemical Weaknesses"
   ]
  },
  {
   "cell_type": "markdown",
   "metadata": {},
   "source": [
    "\n",
    "<audio controls data-autoplay preload>\n",
    " <source src=\"https://github.com/damontallen/Construction-materials/raw/master/Lecture_Audio/Week_3/Wood/Wood-Chemical%20Weaknesses.mp3\"\n",
    "         type='audio/mp3'>\n",
    " <p>Your user agent does not support the HTML5 Audio element or the files is missing.</p>\n",
    "</audio>"
   ]
  },
  {
   "cell_type": "markdown",
   "metadata": {},
   "source": [
    "Fire is one type of chemical reaction that you need to avoid when using wood.  The rapid oxidation converts the structural elements to gases.  The damage done by fire is generally prevented by design elements like sprinklers, and fire rated wall assemblies.  Over all wood is not considered particularly resistant to chemical attack.  This means it is almost never left exposed to any substance (like strong acids, bases, or oxidizers) that will damage it in the long term.  "
   ]
  },
  {
   "cell_type": "markdown",
   "metadata": {
    "slideshow": {
     "slide_type": "slide"
    }
   },
   "source": [
    "## Safe Operating Temperatures"
   ]
  },
  {
   "cell_type": "markdown",
   "metadata": {},
   "source": [
    "\n",
    "<audio controls data-autoplay preload>\n",
    " <source src=\"https://github.com/damontallen/Construction-materials/raw/master/Lecture_Audio/Week_3/Wood/Wood-Safe%20Operating%20Temperatures.mp3\"\n",
    "         type='audio/mp3'>\n",
    " <p>Your user agent does not support the HTML5 Audio element or the files is missing.</p>\n",
    "</audio>"
   ]
  },
  {
   "cell_type": "markdown",
   "metadata": {},
   "source": [
    "Wood should only be used in temperatures below 150 $^\\circ F$, and needs to have special consideration if used in temperatures above 100 $^\\circ F$.  Since wood is combustible, it must be protected from heat above its ignition temperature.  As the code has changed due to better understanding of potential risks, elements of building design have also changed.  One example of additional protection being added is that modern chimneys are required to be lined with incombustible material.  This step was not previously required in wood structures.  Hot gasses that escaped from leaking chimneys have been responsible for the destruction of many buildings, and now retrofitting of liners in older buildings during renovations is a requirement in some municipalities.  That being said, wood can actually be used as part of a fire rated assembly if it is designed for it.  This is because as wood burns it builds up a layer of charcoal that serves to insulate the material below the surface.  As long at the fire can be extinguished withing the rated time limit, the structural capacity of the wood element will still be sufficient."
   ]
  },
  {
   "cell_type": "markdown",
   "metadata": {
    "slideshow": {
     "slide_type": "slide"
    }
   },
   "source": [
    "## Material Tests"
   ]
  },
  {
   "cell_type": "markdown",
   "metadata": {},
   "source": [
    "\n",
    "<audio controls data-autoplay preload>\n",
    " <source src=\"https://github.com/damontallen/Construction-materials/raw/master/Lecture_Audio/Week_3/Wood/Wood-Material%20Tests.mp3\"\n",
    "         type='audio/mp3'>\n",
    " <p>Your user agent does not support the HTML5 Audio element or the files is missing.</p>\n",
    "</audio>"
   ]
  },
  {
   "cell_type": "markdown",
   "metadata": {},
   "source": [
    "The main material tests that are relevant to wood are bending, shear, and compression, though, like with other materials, many other tests are conducted during certification.  There are methods of grading wood by using these tests, but once the general properties of a species have been established, it is common to simply grade pieces by visual inspection.  This can be done be trained individuals, but it is often done by computer software, and cameras backed up by people.  Again, the grading has to do with the number, and size of the defects which can be detected with relative ease by software now days.  \n",
    "\n",
    "This is different than the mechanically graded lumber, whose capacity is determined by nondestructive testing.  In these tests, boards are mechanically bent as they pass though the equipment, and their reactions are recorded.  From the results the material properties can be calculated.  Some processes use ultrasonic sound to determine the properties of the lumber.  Lumber graded this way has more consistent quality, and you will pay a premium for it.  However, due to the consistent quality, lumber graded this way, generally has higher allowable capacities.  So if you need the strength and/or reduced weight, it is one approach to take."
   ]
  },
  {
   "cell_type": "markdown",
   "metadata": {
    "slideshow": {
     "slide_type": "slide"
    }
   },
   "source": [
    "## Quality Levels"
   ]
  },
  {
   "cell_type": "markdown",
   "metadata": {},
   "source": [
    "\n",
    "<audio controls data-autoplay preload>\n",
    " <source src=\"https://github.com/damontallen/Construction-materials/raw/master/Lecture_Audio/Week_3/Wood/Wood-Quality%20Levels.mp3\"\n",
    "         type='audio/mp3'>\n",
    " <p>Your user agent does not support the HTML5 Audio element or the files is missing.</p>\n",
    "</audio>"
   ]
  },
  {
   "cell_type": "markdown",
   "metadata": {},
   "source": [
    "The common grades of visually graded lumber are listed below in descending quality.  Bare in mind that this is not an exhaustive list.\n",
    "\n",
    "* Select Structural\n",
    "* No. 1\n",
    "* No. 2\n",
    "* No. 3\n",
    "* Stud\n",
    "* Construction\n",
    "* Standard\n",
    "* Utility\n",
    "\n",
    "No. 2 is used a lot in general construction but many others can be specified.  One thing to remember is that being a natural material not all grades are available all the time.  Be sure to check with local suppliers for availability.  You should also know that the grades that you will typically find in stock in a home supply store are only \"Standard\" and \"Stud\".\n",
    "\n",
    "<a href = \"https://en.wikipedia.org/wiki/Wood_warping\"> <img src=\"https://upload.wikimedia.org/wikipedia/commons/thumb/c/cd/Wood_warping.png/600px-Wood_warping.png\" alt = \"Warped wood images\" Title=\"Other Defects\"  style=\"max-width:150px; max-height:150px; border:1px solid blue; float:right; margin-left:10px;\"/></a>Additionally, there are other defects that appear in lumber that do not affect the grade or the price but do affect the usability."
   ]
  },
  {
   "cell_type": "markdown",
   "metadata": {
    "slideshow": {
     "slide_type": "slide"
    }
   },
   "source": [
    "## Residential Applications"
   ]
  },
  {
   "cell_type": "markdown",
   "metadata": {},
   "source": [
    "\n",
    "<audio controls data-autoplay preload>\n",
    " <source src=\"https://github.com/damontallen/Construction-materials/raw/master/Lecture_Audio/Week_3/Wood/Wood-Residential%20Applications.mp3\"\n",
    "         type='audio/mp3'>\n",
    " <p>Your user agent does not support the HTML5 Audio element or the files is missing.</p>\n",
    "</audio>"
   ]
  },
  {
   "cell_type": "markdown",
   "metadata": {},
   "source": [
    "<a href = \"https://en.wikipedia.org/wiki/Framing_%28construction%29\"> <img src=\"https://upload.wikimedia.org/wikipedia/commons/thumb/5/50/Wood-framed_house.jpg/560px-Wood-framed_house.jpg\" alt = \"Residential framing image\" Title=\"Wood Framing\"  style=\"max-width:300px; max-height:300px; border:1px solid blue; float:left; margin-right:10px;\"/></a>Wood is used in residential arena in panel form as sheathing for roof decking, and [subflooring](https://en.wikipedia.org/?title=Floor#Subfloor_construction) or underlayment.  It is also used for the framing members that make up the structural supports of homes.  These supports include studs (wall supports), floor and ceiling joist (horizontal beams), and roof components like rafters (beams placed at an angle supporting the roof deck).  \n",
    "\n",
    "In older structures additional components such as supporting beams known as sills were made of large timbers."
   ]
  },
  {
   "cell_type": "markdown",
   "metadata": {
    "slideshow": {
     "slide_type": "slide"
    }
   },
   "source": [
    "## Commercial Applications"
   ]
  },
  {
   "cell_type": "markdown",
   "metadata": {},
   "source": [
    "\n",
    "<audio controls data-autoplay preload>\n",
    " <source src=\"https://github.com/damontallen/Construction-materials/raw/master/Lecture_Audio/Week_3/Wood/Wood-Commercial%20Applications.mp3\"\n",
    "         type='audio/mp3'>\n",
    " <p>Your user agent does not support the HTML5 Audio element or the files is missing.</p>\n",
    "</audio>"
   ]
  },
  {
   "cell_type": "markdown",
   "metadata": {},
   "source": [
    "Timber is less used in commercial buildings at the moment due to the added cost of fire protection, and building height restrictions based on \"stick framing\".  An example of stick framing was seen in the residential applications slide.  It is characterized by the use of smaller pieces of lumber assembled as a framework supporting the larger surface components of a structure.  However, the frequency of wood use in commercial structures may increase if Cross Laminated Timber (CLT) becomes more popular, due to the reduction in height restrictions."
   ]
  },
  {
   "cell_type": "markdown",
   "metadata": {
    "slideshow": {
     "slide_type": "slide"
    }
   },
   "source": [
    "## Industrial Applications"
   ]
  },
  {
   "cell_type": "markdown",
   "metadata": {},
   "source": [
    "\n",
    "<audio controls data-autoplay preload>\n",
    " <source src=\"https://github.com/damontallen/Construction-materials/raw/master/Lecture_Audio/Week_3/Wood/Wood-Industrial%20Applications.mp3\"\n",
    "         type='audio/mp3'>\n",
    " <p>Your user agent does not support the HTML5 Audio element or the files is missing.</p>\n",
    "</audio>"
   ]
  },
  {
   "cell_type": "markdown",
   "metadata": {},
   "source": [
    "<a href = \"https://en.wikipedia.org/wiki/Formwork\"> <img src=\"https://upload.wikimedia.org/wikipedia/en/5/53/Formwork.jpg\" alt = \"Wall form work image\" Title=\"Concrete Forms\"  style=\"max-width:200px; max-height:200px; border:1px solid blue; float:right; margin-left:10px;\"/></a>Wood is actually used a fair amount in the industrial setting as part of concrete form work.  Concrete (which we will discuss later) is a liquid when it is first placed, and in that liquid state it needs to be held in the correct shape.  Form work provides a way to hold the concrete in the desired shape until it hardens.  Once it has hardened the forms can be removed, and reused as new concrete forms."
   ]
  },
  {
   "cell_type": "markdown",
   "metadata": {
    "slideshow": {
     "slide_type": "slide"
    }
   },
   "source": [
    "## Cost Examples"
   ]
  },
  {
   "cell_type": "markdown",
   "metadata": {},
   "source": [
    "\n",
    "<audio controls data-autoplay preload>\n",
    " <source src=\"https://github.com/damontallen/Construction-materials/raw/master/Lecture_Audio/Week_3/Wood/Wood-Cost%20Examples.mp3\"\n",
    "         type='audio/mp3'>\n",
    " <p>Your user agent does not support the HTML5 Audio element or the files is missing.</p>\n",
    "</audio>"
   ]
  },
  {
   "cell_type": "markdown",
   "metadata": {},
   "source": [
    "Lumber now days is generally sold by the piece, though some sawmills may still sell it by the [board-foot](https://en.wikipedia.org/wiki/Board_foot).  A board-foot is a volume measurement of 12\"x12\"x1\", though any material less than an inch thick will be calculated as one inch thick, i.e. a piece 12\"x12\"x0.75\" is also one board-foot.  Standard S4S lumber sizes range from 0.75\" to 5.5\" in thickness, and from 3.5\" to 11.25\" in width.  These are not referred to by their actual sizes but rather the nominal dimensions, or dimensions of the part of the log they were cut from.  As I mentioned previously, a 2x4 is actually 1.5\"x3.5\".  The discrepancy is due to material lost from the process of cutting, to make it rough sawn, and further material lost during the surfacing process.  Below I list some examples of nominal dimensions vs. actual sizes.\n",
    "\n",
    "<table>\n",
    "    <caption>Nominal vs. Actual Dimensions</caption>\n",
    "    <tr>\n",
    "        <th>Nominal</th><th>Actual</th>\n",
    "    </tr>\n",
    "    <tr>\n",
    "        <td>1x4</td><td>0.75\"x3.5\"</td>\n",
    "    </tr>\n",
    "    <tr>\n",
    "        <td>2x6</td><td>1.5\"x5.5\"</td>\n",
    "    </tr>\n",
    "    <tr>\n",
    "        <td>2x8</td><td>1.5\"x7.25\"</td>\n",
    "    </tr>\n",
    "    <tr>\n",
    "        <td>4x4</td><td>3.5\"x3.5\"</td>\n",
    "    </tr>\n",
    "    <tr>\n",
    "        <td>6x10</td><td>5.5\"x9.5\"</td>\n",
    "    </tr>\n",
    "</table>\n",
    "\n",
    "There are rules about the sizes but I'm not going to cover them in this class.  Just so you are aware there are standard lengths as well as standard nominal dimensions.\n",
    "\n",
    "Since I'm supposed to be discussing price example here, as of June 25, 2015 the following prices were accurate.\n",
    "\n",
    "* 2x4 10' long, Spruce-Pine-Fir, Standard grade - \\$4.27 each\n",
    "* 2x4 10' long, Southern Pine, No. 2 grade - \\$3.68 each\n",
    "* 2x10 16' long, Southern Pine, No. 2 grade - \\$16.17 each"
   ]
  },
  {
   "cell_type": "markdown",
   "metadata": {
    "slideshow": {
     "slide_type": "slide"
    }
   },
   "source": [
    "## Material Sources"
   ]
  },
  {
   "cell_type": "markdown",
   "metadata": {},
   "source": [
    "\n",
    "<audio controls data-autoplay preload>\n",
    " <source src=\"https://github.com/damontallen/Construction-materials/raw/master/Lecture_Audio/Week_3/Wood/Wood-Material%20Sources.mp3\"\n",
    "         type='audio/mp3'>\n",
    " <p>Your user agent does not support the HTML5 Audio element or the files is missing.</p>\n",
    "</audio>"
   ]
  },
  {
   "cell_type": "markdown",
   "metadata": {},
   "source": [
    "If you are purchasing almost any quantity of lumber for a professional construction project, you will need to purchase it from a supplier that deals directly will a sawmill.  For locally grown species, you may be able to purchase directly from a smaller mill.  Either way, you are likely not to be able to find the grades you are looking for at the home supply store, without ordering ahead of time.  It is possible that you could purchase some grades of structural panels from there, but you would probably have to go in person to verify the grades and quality available."
   ]
  },
  {
   "cell_type": "markdown",
   "metadata": {
    "slideshow": {
     "slide_type": "slide"
    }
   },
   "source": [
    "## Examples of Installation Tools"
   ]
  },
  {
   "cell_type": "markdown",
   "metadata": {},
   "source": [
    "\n",
    "<audio controls data-autoplay preload>\n",
    " <source src=\"https://github.com/damontallen/Construction-materials/raw/master/Lecture_Audio/Week_3/Wood/Wood-Examples%20of%20Installation%20Tools.mp3\"\n",
    "         type='audio/mp3'>\n",
    " <p>Your user agent does not support the HTML5 Audio element or the files is missing.</p>\n",
    "</audio>"
   ]
  },
  {
   "cell_type": "markdown",
   "metadata": {},
   "source": [
    "<a href = \"https://en.wikipedia.org/wiki/Hammer\"> <img src=\"https://upload.wikimedia.org/wikipedia/commons/thumb/8/84/Claw-hammer.jpg/440px-Claw-hammer.jpg\" alt = \"Hammer image\" Title=\"Claw Hammer\"  style=\"max-width:200px; max-height:200px; border:1px solid blue; float:right; margin-left:10px;\"/></a>The tools to install lumber are fairly common since it's been around for so long.  You could use as little as a hand saw, a hammer, and some nails to complete a small project.  However, for a real construction project, there will likely be a couple types of circular saws, air powered nail guns, and even cranes if it's necessary to set [trusses](https://en.wikipedia.org/wiki/Truss).  For panel material, there will likely be a need to use a [chalk box](https://en.wikipedia.org/wiki/Chalk_line).  Overall once you are familiar with the tools, the installation process is quick and easy to master."
   ]
  },
  {
   "cell_type": "markdown",
   "metadata": {
    "slideshow": {
     "slide_type": "slide"
    }
   },
   "source": [
    "## Famous Failures"
   ]
  },
  {
   "cell_type": "markdown",
   "metadata": {},
   "source": [
    "\n",
    "<audio controls data-autoplay preload>\n",
    " <source src=\"https://github.com/damontallen/Construction-materials/raw/master/Lecture_Audio/Week_3/Wood/Wood-Famous%20Failures.mp3\"\n",
    "         type='audio/mp3'>\n",
    " <p>Your user agent does not support the HTML5 Audio element or the files is missing.</p>\n",
    "</audio>"
   ]
  },
  {
   "cell_type": "markdown",
   "metadata": {},
   "source": [
    "There aren't many famous wood structural failures.  This is not to say that there aren't many failures of wooden structures.  It's just that due to the size limitations of wooden structures, the failures are not particularly spectacular.  One of the more common types of wood structural failures has less to do with the material, and more to do with the construction process, truss collapse.  These collapses generally have to do with inadequate bracing, and typically take place before the structure is finished.\n",
    "\n",
    "\n",
    "As one final note wood is listed under division 6 of the Master-Format.\n",
    "\n",
    "Division 6 - Wood and Plastics\n",
    "* 06050 Basic Wood and Plastic Materials and Methods\n",
    "* 06100 Rough Carpentry\n",
    "* 06200 Finish Carpentry\n",
    "* 06400 Architectural Woodwork\n",
    "* 06500 Structural Plastics\n",
    "* 06600 Plastic Fabrications\n",
    "* 06900 Wood and Plastic Restoration and Cleaning"
   ]
  },
  {
   "cell_type": "markdown",
   "metadata": {
    "slideshow": {
     "slide_type": "slide"
    }
   },
   "source": [
    "# References"
   ]
  },
  {
   "cell_type": "markdown",
   "metadata": {},
   "source": [
    "[UF Class website](https://ufl.instructure.com/courses/) \n",
    "\n",
    "[Github.io version of course website](http://damontallen.github.io/Construction-materials/) *(Do not use this link if you are taking this course in Summer A or B.)*\n",
    "\n",
    "\n",
    "[IPython.org](http://ipython.org/) *(IPython is the opensource software used in the development of much of this course.)*\n",
    "\n",
    "[Complete Software List](http://nbviewer.ipython.org/github/damontallen/Construction-materials/blob/master/Resources.ipynb)\n",
    "\n",
    "## Report any problems\n",
    "\n",
    "[Issues](https://github.com/damontallen/Construction-materials/issues) Please report any problems that occurred during the viewing of this or any other lecture.\n",
    "\n",
    "Alternative Reporting - Email <a href=\"mailto:damontallen@gmail.com?Subject=Construction%20Materials%20Lecture%20Problems\" target=\"_top\">damontallen@gmail.com</a>"
   ]
  }
 ],
 "metadata": {
  "celltoolbar": "Slideshow",
  "kernelspec": {
   "display_name": "Python 3",
   "language": "python",
   "name": "python3"
  },
  "language_info": {
   "codemirror_mode": {
    "name": "ipython",
    "version": 3
   },
   "file_extension": ".py",
   "mimetype": "text/x-python",
   "name": "python",
   "nbconvert_exporter": "python",
   "pygments_lexer": "ipython3",
   "version": "3.4.3+"
  }
 },
 "nbformat": 4,
 "nbformat_minor": 0
}
