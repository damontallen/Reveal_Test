{
 "cells": [
  {
   "cell_type": "markdown",
   "metadata": {
    "slideshow": {
     "slide_type": "slide"
    }
   },
   "source": [
    "# Glass"
   ]
  },
  {
   "cell_type": "markdown",
   "metadata": {
    "slideshow": {
     "slide_type": "-"
    }
   },
   "source": [
    "<p><iframe width=\"420\" height=\"315\" src=\"//www.youtube.com/embed/vf7Ehqbgtw8\" frameborder=\"0\" allowfullscreen></iframe></p>"
   ]
  },
  {
   "cell_type": "markdown",
   "metadata": {
    "slideshow": {
     "slide_type": "slide"
    }
   },
   "source": [
    "## Introduction"
   ]
  },
  {
   "cell_type": "markdown",
   "metadata": {
    "slideshow": {
     "slide_type": "-"
    }
   },
   "source": [
    "\n",
    "<audio controls data-autoplay preload>\n",
    " <source src=\"https://github.com/damontallen/Construction-materials/raw/master/Lecture_Audio/Week_12/Glass/Glass-Introduction.mp3\"\n",
    "         type='audio/mp3'>\n",
    " <p>Your user agent does not support the HTML5 Audio element or the files is missing.</p>\n",
    "</audio>"
   ]
  },
  {
   "cell_type": "markdown",
   "metadata": {
    "slideshow": {
     "slide_type": "-"
    }
   },
   "source": [
    "[Videos from Corning](https://www.youtube.com/watch?v=12OSBJwogFc&list=PLPyDedUeJZL58O8OM2PyWKeQXc6vIlQb4&index=4)\n",
    "\n",
    "The videos from corning form a really good introduction to the topic of glass so I strongly encourage you to watch them.  One more thing, the Glass Association of North America ([GANA](http://www.glasswebsite.com/)) is the glass equivalent to ACI for concrete.  GANA publishes the manuals that contain the mechanical properties for glass.\n",
    "\n",
    "[3D glass printing](http://www.technologyreview.com/news/540926/3-d-printing-breaks-the-glass-barrier/)"
   ]
  },
  {
   "cell_type": "markdown",
   "metadata": {
    "slideshow": {
     "slide_type": "slide"
    }
   },
   "source": [
    "## Sustainability"
   ]
  },
  {
   "cell_type": "markdown",
   "metadata": {},
   "source": [
    "\n",
    "<audio controls data-autoplay preload>\n",
    " <source src=\"https://github.com/damontallen/Construction-materials/raw/master/Lecture_Audio/Week_12/Glass/Glass-Sustainability.mp3\"\n",
    "         type='audio/mp3'>\n",
    " <p>Your user agent does not support the HTML5 Audio element or the files is missing.</p>\n",
    "</audio>"
   ]
  },
  {
   "cell_type": "markdown",
   "metadata": {},
   "source": [
    "<a href = \"https://en.wikipedia.org/wiki/Insulated_glazing\"> <img src=\"https://upload.wikimedia.org/wikipedia/commons/thumb/5/5a/Double_Glazed_Fixed_Window_Diagram.png/338px-Double_Glazed_Fixed_Window_Diagram.png\" alt = \"Insulated window cross section image\" Title=\"Insulated Window Profile\"  style=\"max-width:300px; max-height:300px; border:1px solid blue; float:right; margin-left:10px;\"/></a>\n",
    "In order to make glass sustainability all that needs to be done is to recycle it.  Many advances have come along in the glass industry have increased the popularity of [insulated](https://en.wikipedia.org/wiki/Insulated_glazing) and [low-e](https://en.wikipedia.org/wiki/Low_emissivity) windows.  Insulated windows have been around since before the 1930s in one form or another, though they did not start becoming popular until around the 1950s.  The way these windows work is that there are two layers of glass (or lights) separated by a layer of gas.  Since the internal gas is confined between the two panes it moves very slowly, if at all.  This greatly reduces the heat transfer from one pane to the other by convection.  Gases are made up of widely spaced atoms which reduces the ability of heat to be transfered via conduction.  This means that heat transfer by radiation becomes a mush more dominant form of loss.  This is where low-e glass comes in.\n",
    "\n",
    "Low-e stands for low emissivity, which means the glass radiates energy less.  Emissivity is measured relative to a [blackbody](https://en.wikipedia.org/wiki/Black_body) (a perfect emitter).  The reason for this is that a the amount of radiation energy an object will emit is identical to the amount of energy that an object will absorb at a particular temperature and wavelength.  Just think about walking on hot asphalt in the summer and you'll get the idea.\n",
    "<table style=\"float:right; margin-left:10px;\">\n",
    "<tr><td> 1-4</td><td> Glass Surfaces</td></tr>\n",
    "<tr><td> 5</td><td> Window Frame</td></tr>\n",
    "<tr><td> 6</td><td> Spacer</td></tr>\n",
    "<tr><td> 7</td><td> Seals</td></tr>\n",
    "<tr><td> 8</td><td> Reveal (Interior Windowsill)</td></tr>\n",
    "<tr><td> 9</td><td> Windowsill</td></tr>\n",
    "</table>\n",
    "\n",
    "How low-e glass is made is that the glass is coated with a thin reflective coating that prevents radiation from passing through the window.  Some of these coatings are fragile and can only be used if they are protected by being in the inside of insulated windows.\n",
    "\n",
    "In recent years there has been work done on a absorbing radiation rather than letting it pass through glass.  This is being done by collecting non-visible wavelengths and channeling them to solar cells that border the glass.  This is known as a [transparent luminescent solar concentrator](http://msutoday.msu.edu/news/2014/solar-energy-that-doesnt-block-the-view/) or just [luminescent solar concentrator](https://en.wikipedia.org/wiki/Luminescent_solar_concentrator) (LSC).  The idea is it use some of the radiation to make electricity rather than just have it heat up the building.\n",
    "\n",
    "As for the recycling of glass, for every ton of glass recycled it reduces the need for raw materials, like sand by about 1,300 lbs, soda ash by 400 lbs, limestone by 400 lbs, and feldspar by 150 lbs.  It also reduces the amount of electricity needed by 42 kWh, and the amount of pollution by 7.5 pounds (not including the ton of glass not thrown away). ([source](https://utahrecycles.org/get-the-facts/the-facts-glass/)).\n"
   ]
  },
  {
   "cell_type": "markdown",
   "metadata": {
    "slideshow": {
     "slide_type": "slide"
    }
   },
   "source": [
    "## Toxicity and the Environment"
   ]
  },
  {
   "cell_type": "markdown",
   "metadata": {},
   "source": [
    "\n",
    "<audio controls data-autoplay preload>\n",
    " <source src=\"https://github.com/damontallen/Construction-materials/raw/master/Lecture_Audio/Week_12/Glass/Glass-Toxicity-and-the-Environment.mp3\"\n",
    "         type='audio/mp3'>\n",
    " <p>Your user agent does not support the HTML5 Audio element or the files is missing.</p>\n",
    "</audio>"
   ]
  },
  {
   "cell_type": "markdown",
   "metadata": {},
   "source": [
    "Glass is not toxic though in a fibrous form it can be an irritant ([source](http://nj.gov/health/eoh/rtkweb/documents/fs/0933.pdf)).  It is very long lived in the environment with some estimates indicating that \"[glass takes 1,000,000 years to fully degrade in a landfill](https://utahrecycles.org/get-the-facts/the-facts-glass/)\".  The main hazard from glass is just from lacerations.\n",
    "\n",
    "*Click for [missing grotesque laceration image](http://www.dezinfo.net/images4/image/07.2012/glass_through_arm/glass_through_arm_01.jpg)*"
   ]
  },
  {
   "cell_type": "markdown",
   "metadata": {
    "slideshow": {
     "slide_type": "slide"
    }
   },
   "source": [
    "## Reuse"
   ]
  },
  {
   "cell_type": "markdown",
   "metadata": {},
   "source": [
    "\n",
    "<audio controls data-autoplay preload>\n",
    " <source src=\"https://github.com/damontallen/Construction-materials/raw/master/Lecture_Audio/Week_12/Glass/Glass-Reuse.mp3\"\n",
    "         type='audio/mp3'>\n",
    " <p>Your user agent does not support the HTML5 Audio element or the files is missing.</p>\n",
    "</audio>"
   ]
  },
  {
   "cell_type": "markdown",
   "metadata": {},
   "source": [
    "Since glass is so durable, glass products can be reused; this is even true for windows.  However, insulated windows do have a limited lifetime due to moisture infiltration.  Some of the longer window warranties only cover 10 years on the seals of the insulated windows.  This is one area where [storm windows](https://en.wikipedia.org/wiki/Storm_window) ([alt](https://en.wikipedia.org/wiki/Insulated_glazing#Double-hung_and_storm_windows)) do have an advantage over insulated windows.  They are a much older technology, but as such they are designed to be maintained, and do have some of the same insulating effects.  "
   ]
  },
  {
   "cell_type": "markdown",
   "metadata": {
    "slideshow": {
     "slide_type": "slide"
    }
   },
   "source": [
    "## Material Properties"
   ]
  },
  {
   "cell_type": "markdown",
   "metadata": {},
   "source": [
    "\n",
    "<audio controls data-autoplay preload>\n",
    " <source src=\"https://github.com/damontallen/Construction-materials/raw/master/Lecture_Audio/Week_12/Glass/Glass-Material-Properties.mp3\"\n",
    "         type='audio/mp3'>\n",
    " <p>Your user agent does not support the HTML5 Audio element or the files is missing.</p>\n",
    "</audio>"
   ]
  },
  {
   "cell_type": "markdown",
   "metadata": {},
   "source": [
    "<a href = \"https://commons.wikimedia.org/wiki/File:Ostankino_glass_floor.JPG\"> <img src=\"https://upload.wikimedia.org/wikipedia/commons/thumb/2/2a/Ostankino_glass_floor.JPG/399px-Ostankino_glass_floor.JPG\" alt = \"Glass floor image\" Title=\"Glass Floor\"  style=\"max-width:300px; max-height:300px; border:1px solid blue; float:right; margin-left:10px;\"/></a>\n",
    "Soda-lime-silica glass, window glass, has a Young's modulus of 10,000 ksi (72 GPa) and a shear modulus of 4,322 ksi (29.8 GPa).  Being a brittle material whose ultimate strength is strongly dependent on surface imperfections, it is important to always maintain a factor of safety with design values around 1,000 psi.  This has not stopped it from being used as a structural material.  The [Grand Canyon Skywalk](http://grandcanyon.com/planning/west-planning/grand-canyon-skywalk-at-grand-canyon-west/) provides a view straight down due to the glass floor.\n",
    "\n",
    "<a href = \"https://en.wikipedia.org/wiki/Glass_cutter\"> <img src=\"https://upload.wikimedia.org/wikipedia/commons/thumb/0/00/Glass_cutter.jpg/450px-Glass_cutter.jpg\" alt = \"Glass cutter image\" Title=\"Glass Cutter\"  style=\"max-width:200px; max-height:200px; border:1px solid blue; float:left; margin-right:10px;\"/></a>Glass is an amorphous solid that is made from silica, sodium oxide, lime, magnesia, and some alumina.  Unlike a crystalline material, the atoms are arranged in a random pattern.  This means that small defects can cause great concentrations of stresses.  This fact is taken advantage of when cutting glass.  Glass is cut by making a small groove (a score) in the surface, which causes an increase in localized stress, and when the glass is bent, it will break at that groove.\n",
    "\n",
    "Glass can be made chemically inert, with the exception of [hydrofluoric acid](https://en.wikipedia.org/wiki/Hydrofluoric_acid).  However, even regular glass typically has low reactivity with its environment; which is the reason for its durability.\n",
    "\n",
    "In order to make modern glass sheets, molten glass is poured on a pool of molten tin.  Because both materials are liquid, and the tin is much heavier than the glass, the glass forms a flat uniform thickness layer floating on top.  Historicly glass was either drawn, or blown, which would leave ripples in the surface of the glass, and depending on the process, it was necessary to polish the surface prior to use."
   ]
  },
  {
   "cell_type": "markdown",
   "metadata": {
    "slideshow": {
     "slide_type": "slide"
    }
   },
   "source": [
    "## Temperature Considerations"
   ]
  },
  {
   "cell_type": "markdown",
   "metadata": {},
   "source": [
    "\n",
    "<audio controls data-autoplay preload>\n",
    " <source src=\"https://github.com/damontallen/Construction-materials/raw/master/Lecture_Audio/Week_12/Glass/Glass-Temperature-Considerations.mp3\"\n",
    "         type='audio/mp3'>\n",
    " <p>Your user agent does not support the HTML5 Audio element or the files is missing.</p>\n",
    "</audio>"
   ]
  },
  {
   "cell_type": "markdown",
   "metadata": {},
   "source": [
    "Soda lime glass melts at 1,000 $^\\circ$F, but like metals, will loose strength as the temperature approaches melting.  High temperature applications will require different types of glass, like quartz glass, which melts above 3,000 $^\\circ$F.  \n",
    "\n",
    "The bigger issue with temperature is generally not melting, but rather not having enough room to expand when heated.  Plate glass will expand $5 \\times 10^{-6} \\frac{in}{in ^\\circ F}$ when heated (this number is known as a thermal expansion coefficient $\\alpha$).  As a demonstration of its use, if a 10 ft wide window is installed at 40 $^\\circ$F, and over the year the temperature rises to 130 $^\\circ$F, the window will expand almost $\\frac{1}{16}^\"$.  If the glass does not have any where to expand, this is equivalent to compressing the glass with a stress of 4,500 psi.\n",
    "\n",
    "$$\\sigma =\\varepsilon \\times E = (\\alpha \\times \\Delta T) \\times E$$\n",
    "\n",
    "$$\\sigma = \\left(5 \\times 10^{-6} \\frac{in}{in ^\\circ F} \\times (130 ^\\circ F - 40 ^\\circ F)\\right) \\times 10,000 ksi$$\n",
    "\n",
    "$$\\sigma = \\left(5 \\times 10^{-6} \\frac{in}{in ^\\circ F} \\times 90 ^\\circ F \\right) \\times 10,000 ksi$$\n",
    "\n",
    "$$\\sigma = 4.5 \\times 10^{-5} \\frac{in}{in} \\times 10,000 ksi$$\n",
    "\n",
    "$$\\sigma = 4.5 ksi = 4,500 psi$$"
   ]
  },
  {
   "cell_type": "markdown",
   "metadata": {
    "slideshow": {
     "slide_type": "slide"
    }
   },
   "source": [
    "## Rest in Reading"
   ]
  },
  {
   "cell_type": "markdown",
   "metadata": {},
   "source": [
    "\n",
    "<audio controls data-autoplay preload>\n",
    " <source src=\"https://github.com/damontallen/Construction-materials/raw/master/Lecture_Audio/Week_12/Glass/Glass-Rest-in-Reading.mp3\"\n",
    "         type='audio/mp3'>\n",
    " <p>Your user agent does not support the HTML5 Audio element or the files is missing.</p>\n",
    "</audio>"
   ]
  },
  {
   "cell_type": "markdown",
   "metadata": {},
   "source": [
    "The rest of the details about glass are covered in your reading.\n",
    "\n",
    "(Enjoy your break!)"
   ]
  },
  {
   "cell_type": "markdown",
   "metadata": {
    "slideshow": {
     "slide_type": "slide"
    }
   },
   "source": [
    "# References"
   ]
  },
  {
   "cell_type": "markdown",
   "metadata": {},
   "source": [
    "[UF Class website](https://ufl.instructure.com/courses/) \n",
    "\n",
    "[Github.io version of course website](http://damontallen.github.io/Construction-materials/) *(Do not use this link if you are taking this course in Summer A or B.)*\n",
    "\n",
    "\n",
    "[IPython.org](http://ipython.org/) *(IPython is the opensource software used in the development of much of this course.)*\n",
    "\n",
    "[Complete Software List](http://nbviewer.ipython.org/github/damontallen/Construction-materials/blob/master/Resources.ipynb)\n",
    "\n",
    "## Report any problems\n",
    "\n",
    "[Issues](https://github.com/damontallen/Construction-materials/issues) Please report any problems that occurred during the viewing of this or any other lecture.\n",
    "\n",
    "Alternative Reporting - Email <a href=\"mailto:damontallen@gmail.com?Subject=Construction%20Materials%20Lecture%20Problems\" target=\"_top\">damontallen@gmail.com</a>"
   ]
  },
  {
   "cell_type": "markdown",
   "metadata": {
    "slideshow": {
     "slide_type": "skip"
    }
   },
   "source": [
    "## Additional References\n",
    "\n",
    "### Wikipedia\n",
    "\n",
    "* [Glass Recycling](https://en.wikipedia.org/wiki/Glass_recycling)\n",
    "* [Glass](https://en.wikipedia.org/wiki/Glass)\n",
    "* [Glass Production](https://en.wikipedia.org/wiki/Glass_production)\n",
    "\n",
    "### Other Sources\n",
    "\n",
    "* [RecyclingAcrossAmerica.org](http://recycleacrossamerica.org/recycling-facts)\n",
    "* [Glass Packaging Institute](http://www.gpi.org/recycling/glass-recycling-facts)\n",
    "* [Recycling Coalition of Utah](https://utahrecycles.org/get-the-facts/the-facts-glass/)\n",
    "* [EPA](http://www.epa.gov/osw/conserve/materials/glass.htm)\n",
    "* [Institute of Scrap Recycling Industries](http://www.isri.org/recycling-industry/commodities-specifications/recycled-glass#.VbqusZPL-PQ)\n",
    "* [EngineeringToolbox](http://www.engineeringtoolbox.com/linear-expansion-coefficients-d_95.html)"
   ]
  }
 ],
 "metadata": {
  "celltoolbar": "Slideshow",
  "kernelspec": {
   "display_name": "Python 3",
   "language": "python",
   "name": "python3"
  },
  "language_info": {
   "codemirror_mode": {
    "name": "ipython",
    "version": 3
   },
   "file_extension": ".py",
   "mimetype": "text/x-python",
   "name": "python",
   "nbconvert_exporter": "python",
   "pygments_lexer": "ipython3",
   "version": "3.4.3"
  }
 },
 "nbformat": 4,
 "nbformat_minor": 0
}
