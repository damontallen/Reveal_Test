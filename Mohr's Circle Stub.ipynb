{
 "cells": [
  {
   "cell_type": "markdown",
   "metadata": {},
   "source": [
    "# The Illusion of Shear Stress and Why It's Useful\n"
   ]
  },
  {
   "cell_type": "markdown",
   "metadata": {},
   "source": [
    "Alright, I just finished telling you about shear failures in timber beams and now I'm saying it's a lie.  What gives?  Well if you get down to a small enough scale there *is* only push and pull forces. It's our perception of behaviour that leads us to the impression of shear.  It's the microscopic ridges and bumps that push and interlock that effectively create shear.  Down at the atomic level atoms can only bond to another atom in one direction.  \n",
    "\n",
    "That is all well and good you say but in the everyday world we don't deal with atoms, we deal with big stuff and if you put your hand on the table and try to slide it you feal a shear force, right?  Yes, that is right but it is not quite that simple once that force is inside of the surface.  That is where it starts to matter.\n"
   ]
  },
  {
   "cell_type": "markdown",
   "metadata": {},
   "source": []
  }
 ],
 "metadata": {
  "kernelspec": {
   "display_name": "Python 3",
   "language": "python",
   "name": "python3"
  },
  "language_info": {
   "codemirror_mode": {
    "name": "ipython",
    "version": 3
   },
   "file_extension": ".py",
   "mimetype": "text/x-python",
   "name": "python",
   "nbconvert_exporter": "python",
   "pygments_lexer": "ipython3",
   "version": "3.4.3"
  }
 },
 "nbformat": 4,
 "nbformat_minor": 0
}
