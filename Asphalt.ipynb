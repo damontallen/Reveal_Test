{
 "cells": [
  {
   "cell_type": "markdown",
   "metadata": {
    "slideshow": {
     "slide_type": "slide"
    }
   },
   "source": [
    "# Asphalt"
   ]
  },
  {
   "cell_type": "markdown",
   "metadata": {
    "slideshow": {
     "slide_type": "-"
    }
   },
   "source": [
    "<p><iframe width=\"420\" height=\"315\" src=\"//www.youtube.com/embed/T1hoKw82HVo\" frameborder=\"0\" allowfullscreen></iframe></p>"
   ]
  },
  {
   "cell_type": "markdown",
   "metadata": {
    "slideshow": {
     "slide_type": "slide"
    }
   },
   "source": [
    "## Sustainability"
   ]
  },
  {
   "cell_type": "markdown",
   "metadata": {},
   "source": [
    "\n",
    "<audio controls data-autoplay preload>\n",
    " <source src=\"https://github.com/damontallen/Construction-materials/raw/master/Lecture_Audio/Week_4/Asphalt/Asphalt-Sustainability.mp3\"\n",
    "         type='audio/mp3'>\n",
    " <p>Your user agent does not support the HTML5 Audio element or the files is missing.</p>\n",
    "</audio>"
   ]
  },
  {
   "cell_type": "markdown",
   "metadata": {},
   "source": [
    "<a href = \"https://en.wikipedia.org/wiki/Road\"> <img src=\"https://upload.wikimedia.org/wikipedia/commons/thumb/c/c2/PavementStratum.JPG/675px-PavementStratum.JPG\" alt = \"Pavement cross section image\" Title=\"Asphalt Pavement\"  style=\"max-width:300px; max-height:300px; border:1px solid blue; float:right; margin-left:10px;\"/></a>Since asphalt comes for fossil fuels directly you might not think sustainability could apply.  However, the National Asphalt Pavement Association (NAPA) is currently working on making asphalt greener.  The most traditional approach is recycling. Reclaimed asphalt pavement (RAP) has been around for about 35 years, and more than 100 million tons of asphalt is reclaimed annually.  Most of this reclaimed asphalt is then recycled back into pavement.  In addition to this, recycled material from other industries like roofing shingles, and rubber from used tires is also incorporated into asphalt pavement.\n",
    "\n",
    "According to the [Asphalt Sustainability Report](https://www.asphaltpavement.org/index.php?option=com_content&view=article&id=493&Itemid=1058) that NAPA put out in 2009, if RAP usage is increased to 25 percent of the average mix design, it will reduce total life-cycle greenhouse gas emissions by 10 percent ($\\approx$ 2,000,000 tons annually).  It should be noted that asphalt pavement is actually only 5 percent asphalt, and the rest is aggregates (stone, sand, and gravel).  This means that very little asphalt actually makes up pavement.\n",
    "\n",
    "Like with other materials, the majority of the greenhouse gases come from the processing of asphalt.  However, unlike other materials we have covered so far, there are other environmental impacts caused from the use of asphalt.  Some of these include heat retention (also known as the heat island effect), stormwater runoff due to impermeable surfaces, and emissions of other pollutants created during the processing of asphalt.  \n",
    "\n",
    "The asphalt industry is either conducting research on, or actively trying to reduce the impacts of these problems on the environment.\n",
    "\n",
    "(*[Video about Pavement Mix Design Testing](https://www.youtube.com/watch?v=1l1RRETevxk)*)"
   ]
  },
  {
   "cell_type": "markdown",
   "metadata": {
    "slideshow": {
     "slide_type": "slide"
    }
   },
   "source": [
    "## Toxicity and the Environment"
   ]
  },
  {
   "cell_type": "markdown",
   "metadata": {},
   "source": [
    "\n",
    "<audio controls data-autoplay preload>\n",
    " <source src=\"https://github.com/damontallen/Construction-materials/raw/master/Lecture_Audio/Week_4/Asphalt/Asphalt-Toxicity%20and%20the%20Environment.mp3\"\n",
    "         type='audio/mp3'>\n",
    " <p>Your user agent does not support the HTML5 Audio element or the files is missing.</p>\n",
    "</audio>"
   ]
  },
  {
   "cell_type": "markdown",
   "metadata": {},
   "source": [
    "Asphalt is pavement is not considered a toxic substance per se.  It is basically an inert solid.  However, there are some health risks in its application due to the fact that it needs to be a liquid.  The majority of asphalt is applied hot, rather than mixed with a solvent (\"cutback\" mixes).  This means that it needs to be between 212 - 320$^\\circ$F to be applied.  At that temperature it's a burn hazard, but it also can produce hydrogen sulfide (H$_2$S).  Hydrogen sulfide, which smells like rotten eggs, is like carbon monoxide in that it displaces oxygen, and can be toxic if in high enough concentrations. It is also mildly acidic, which means it can irritate the eyes and lungs.  It will react with iron to product iron sulfide, which is flammable at 130$^\\circ$F.  The quote below comes from an asphalt material safety data sheet (MSDS).\n",
    "\n",
    ">Hot (*asphalt*) material can cause severe eye and skin burns on contact.  Hydrogen sulfide from heated material can accumulate in vapor space of tanks and containers.  Contact between heated material and water can cause a violent eruption.  Fumes from heated material can cause irritation to the eyes, skin, and respiratory system, and can increase susceptibility to sunburn. \n",
    "<p>...</p>\n",
    "\n",
    ">This product, Asphalt (CAS-No.: 8052-42-4), may contain trace amounts of benzene a chemical known to cause cancer. [Source: MSDS](http://www.montmech.com/hasp/MISC/MSDS/MSDS%20files%5C12007%20Asphalt.pdf)"
   ]
  },
  {
   "cell_type": "markdown",
   "metadata": {
    "slideshow": {
     "slide_type": "slide"
    }
   },
   "source": [
    "## Recycling and Reuse"
   ]
  },
  {
   "cell_type": "markdown",
   "metadata": {},
   "source": [
    "\n",
    "<audio controls data-autoplay preload>\n",
    " <source src=\"https://github.com/damontallen/Construction-materials/raw/master/Lecture_Audio/Week_4/Asphalt/Asphalt-Recycling%20and%20Reuse.mp3\"\n",
    "         type='audio/mp3'>\n",
    " <p>Your user agent does not support the HTML5 Audio element or the files is missing.</p>\n",
    "</audio>"
   ]
  },
  {
   "cell_type": "markdown",
   "metadata": {},
   "source": [
    "Asphalt can be recycled if the layer of pavement is removed, and mixed with fresh asphalt.  This reduces the greenhouse gas emissions, and the process can be repeated indefinitely.  Over time asphalt combines with oxygen\\*, and becomes more brittle.  This in turn makes the pavement more susceptible to damage from heavy vehicles.  Asphalt pavement is basically gravel with asphalt as a binder.  If the asphalt breaks because it is too brittle to deflect, then the pavement begins to revert back to gravel.  By recombining the old asphalt with new, it regains the needed ductility to maintain cohesion.\n",
    "\n",
    "\\*[Oxidation Pathways for Asphalt](https://web.anl.gov/PCS/acsfuel/preprint%20archive/Files/37_3_WASHINGTON%20DC_08-92_1367.pdf)"
   ]
  },
  {
   "cell_type": "markdown",
   "metadata": {
    "slideshow": {
     "slide_type": "slide"
    }
   },
   "source": [
    "## Material Properties"
   ]
  },
  {
   "cell_type": "markdown",
   "metadata": {},
   "source": [
    "\n",
    "<audio controls data-autoplay preload>\n",
    " <source src=\"https://github.com/damontallen/Construction-materials/raw/master/Lecture_Audio/Week_4/Asphalt/Asphalt-Material%20Properties.mp3\"\n",
    "         type='audio/mp3'>\n",
    " <p>Your user agent does not support the HTML5 Audio element or the files is missing.</p>\n",
    "</audio>"
   ]
  },
  {
   "cell_type": "markdown",
   "metadata": {},
   "source": [
    "\n",
    "<a href = \"https://en.wikipedia.org/wiki/Soil_gradation\"><img src=\"http://i.imgur.com/xfLGFkS.jpg\" alt = \"Well graded aggregate image\" Title=\"Well Graded Aggregate\"  style=\"max-width:300px; max-height:300px; border:1px solid blue; float:right; margin-left:10px;\"/></a>The strength of asphalt pavement does not come from the asphalt as much as the aggregate that make it up.  If the aggregate have a good distribution in size (well graded) where the voids between larger pieces are filled with smaller ones, then the stability, and strength can be quite high in compression.  <img src=\"http://i.imgur.com/BUeNZat.jpg\" alt = \"Subgrade pressure distribution image\" Title=\"Pavement Pressure Distribution\"  style=\"max-width:200px; max-height:200px; border:1px solid blue; float:left; margin-right:10px;\"/> One key aspect of the aggregate in asphalt concrete is that the the aggregate needs to be irregular, and angular, so that they will interlock when load is applied.  If smooth aggregate is used the particles will slide past each other when loaded.\n",
    "\n",
    "Asphalt pavement in tension a can have strength that ranges from 600 - 1,500 psi.  But the load on pavement is only in tension due to Poisson's ratio. \n",
    "\n",
    "Unless porous pavement is used asphalt is impermeable.  This is why roadways are slanted instead of level, so water does not pool up on them.  Water that is shed needs to be collected by storm run off systems, and retained, so it does not lead to erosion and pollution in the local water shed.  Additionally, over time, heavy vehicle traffic leads to rutting on roads, which allows water to collect.  This becomes a driving hazard due to the potential of hydroplaning, and loss of control.  For these reasons a version of asphalt pavement has been developed, that is porous, and if placed over a stone recharge bed will allow for water to enter the ground without the need for retention ponds.\n",
    "\n"
   ]
  },
  {
   "cell_type": "markdown",
   "metadata": {
    "slideshow": {
     "slide_type": "slide"
    }
   },
   "source": [
    "## Structural Failure Modes"
   ]
  },
  {
   "cell_type": "markdown",
   "metadata": {},
   "source": [
    "\n",
    "<audio controls data-autoplay preload>\n",
    " <source src=\"https://github.com/damontallen/Construction-materials/raw/master/Lecture_Audio/Week_4/Asphalt/Asphalt-Structural%20Failure%20Modes.mp3\"\n",
    "         type='audio/mp3'>\n",
    " <p>Your user agent does not support the HTML5 Audio element or the files is missing.</p>\n",
    "</audio>"
   ]
  },
  {
   "cell_type": "markdown",
   "metadata": {},
   "source": [
    "<a href = \"https://en.wikipedia.org/wiki/Federal_Bridge_Gross_Weight_Formula\"> <img src=\"https://upload.wikimedia.org/wikipedia/commons/thumb/9/96/Bridgeweight.svg/340px-Bridgeweight.svg.png\" alt = \"Bridge load limit sign image\" Title=\"Load Limit Sign\"  style=\"max-width:200px; max-height:200px; border:1px solid blue; float:right; margin-left:10px;\"/></a>Asphalt pavement will fail if it is subjected to loads in excess of the roadway design.  It would take 10,000 cars travelling down a road to cause the same damage done as one large truck.  These trucks can overload the road base, and subbase prematurely, causing ruts, if the top pavement layer is still flexible.  Otherwise, the pavement can crack, allowing water to penetrate the base which can then be washed out.  <a href = \"https://en.wikipedia.org/wiki/Crocodile_cracking\"> <img src=\"https://upload.wikimedia.org/wikipedia/commons/thumb/7/75/Asphalt_deterioration.jpg/440px-Asphalt_deterioration.jpg\" alt = \"Crocodile cracking image\" Title=\"Fatigued Pavement\"  style=\"max-width:200px; max-height:200px; border:1px solid blue; float:left; margin-right:10px;\"/></a>As more traffic passes over the saturated base, water is pumped back and forth through the base, forcing the fine particulates to the surface where they are washed away.<a href = \"https://en.wikipedia.org/wiki/Pothole\"> <img src=\"https://upload.wikimedia.org/wikipedia/commons/8/8d/Factors_leading_to_pothole_failure_by_fatigue.png\" alt = \"Pothole formation image\" Title=\"Northern Climate Pothole\"  style=\"max-width:200px; max-height:200px; border:1px solid blue; float:right; margin-left:10px;\"/></a>\n",
    "\n",
    "\n",
    "This process of pumping can lead to a hole in the supporting base, which in turn leads to pot holes.  In northern climates the process can be accelerated with a freeze-thaw cycle.  This is where water penetrates the base, freezes, and expands.  This causes more cracking, and displacement of surrounding base material.  Once the frozen water thaws, it shrinks, and flows away leaving an unsupported section in the road that collapses into a pothole."
   ]
  },
  {
   "cell_type": "markdown",
   "metadata": {
    "slideshow": {
     "slide_type": "slide"
    }
   },
   "source": [
    "## Environment Induced Failure Modes"
   ]
  },
  {
   "cell_type": "markdown",
   "metadata": {},
   "source": [
    "\n",
    "<audio controls data-autoplay preload>\n",
    " <source src=\"https://github.com/damontallen/Construction-materials/raw/master/Lecture_Audio/Week_4/Asphalt/Asphalt-Environment%20Induced%20Failure%20Modes.mp3\"\n",
    "         type='audio/mp3'>\n",
    " <p>Your user agent does not support the HTML5 Audio element or the files is missing.</p>\n",
    "</audio>"
   ]
  },
  {
   "cell_type": "markdown",
   "metadata": {},
   "source": [
    "Asphalt can be damaged when exposure to freezing temperatures. This causes the asphalt binder to become brittle and shrink.  This makes the asphalt much more likely to crack.  Once the pavement becomes cracked, it can allow water to flow in, and create a pothole."
   ]
  },
  {
   "cell_type": "markdown",
   "metadata": {
    "slideshow": {
     "slide_type": "slide"
    }
   },
   "source": [
    "## Chemical Weaknesses"
   ]
  },
  {
   "cell_type": "markdown",
   "metadata": {},
   "source": [
    "\n",
    "<audio controls data-autoplay preload>\n",
    " <source src=\"https://github.com/damontallen/Construction-materials/raw/master/Lecture_Audio/Week_4/Asphalt/Asphalt-Chemical%20Weaknesses.mp3\"\n",
    "         type='audio/mp3'>\n",
    " <p>Your user agent does not support the HTML5 Audio element or the files is missing.</p>\n",
    "</audio>"
   ]
  },
  {
   "cell_type": "markdown",
   "metadata": {},
   "source": [
    "Oil is one of the compounds that you must avoid having asphalt exposed to.  It will weaken, and dissolve asphalt.  In addition to oil, asphalt can be damaged by diesel fuel, and gasoline.  You can see the damage caused by oil leaks when looking around in older parking lots.  Asphalt can be damaged by any lightweight hydrocarbons.  These same hydrocarbons are used as solvents in cutback mixes of asphalt.  They can break apart the [van der Waals bonds](https://en.wikipedia.org/wiki/Van_der_Waals_force) between the long chains that make up asphalt.  The light weight liquid acts as a lubricant, allowing the heavy molecules that make up asphalt to move, and flow away."
   ]
  },
  {
   "cell_type": "markdown",
   "metadata": {
    "slideshow": {
     "slide_type": "slide"
    }
   },
   "source": [
    "## Material Tests"
   ]
  },
  {
   "cell_type": "markdown",
   "metadata": {},
   "source": [
    "\n",
    "<audio controls data-autoplay preload>\n",
    " <source src=\"https://github.com/damontallen/Construction-materials/raw/master/Lecture_Audio/Week_4/Asphalt/Asphalt-Material%20Tests.mp3\"\n",
    "         type='audio/mp3'>\n",
    " <p>Your user agent does not support the HTML5 Audio element or the files is missing.</p>\n",
    "</audio>"
   ]
  },
  {
   "cell_type": "markdown",
   "metadata": {},
   "source": [
    "The main material tests that are relevant to asphalt mixes are listed here.\n",
    "\n",
    "* Wear Durability Related\n",
    "    * Penetration - Relates to the hardness of the solid sample.\n",
    "    * Viscosity - Relates to the coating capability during mixing, also relates to cracking and rutting susceptibility.\n",
    "    * Ductility - Relates to the flexibility, and the likelihood of rutting in the final pavement.\n",
    "* Flash Point - This is used to determine the temperature at which the mix will ignite. Some cutback mixes have a flash point as low as 80$^\\circ$F.\n",
    "* Solubility - A sample of asphalt is dissolved to determine the amount of contaminates it contains.\n",
    "* Kinematic Viscosity - This is only used for cutback mixes to determine the grade of the mixture.\n",
    "* Distillation - This is used to verify the amount of solvents used in a cutback mix. \n",
    "* Water - Used to determine if there is any water contamination.\n",
    "\n",
    "Other tests apply just to asphalt mixes that are emulsions made with water acting as the solvent.  The details of each of these tests would be covered in a pavement design class.\n",
    "\n"
   ]
  },
  {
   "cell_type": "markdown",
   "metadata": {
    "slideshow": {
     "slide_type": "slide"
    }
   },
   "source": [
    "## Cost Examples"
   ]
  },
  {
   "cell_type": "markdown",
   "metadata": {},
   "source": [
    "\n",
    "<audio controls data-autoplay preload>\n",
    " <source src=\"https://github.com/damontallen/Construction-materials/raw/master/Lecture_Audio/Week_4/Asphalt/Asphalt-Cost%20Examples.mp3\"\n",
    "         type='audio/mp3'>\n",
    " <p>Your user agent does not support the HTML5 Audio element or the files is missing.</p>\n",
    "</audio>"
   ]
  },
  {
   "cell_type": "markdown",
   "metadata": {},
   "source": [
    "Asphalt paving is very complicated, and generally only placed by contractors.  The price of pave is determined based on the complexity of the job, and is either submitted as a fixed bid, or per unit length.  Some examples of costs per mile from the [American Road and Transportation Builders Association](http://www.artba.org/about/transportation-faqs/#20) are listed below.\n",
    "\n",
    "\n",
    ">* Construct a new 2-lane undivided road – about \\$2-\\$3 million per mile in rural areas, about \\$3-\\$5 million in urban areas.\n",
    ">* Construct a new 4-lane highway — \\$4-\\$6 million per mile in rural and suburban areas, \\$8-\\$10 million per mile in urban areas.\n",
    ">* Construct a new 6-lane Interstate highway – about \\$7 million per mile in rural areas, \\$11 million or more per mile in urban areas.\n",
    ">* Mill and resurface a 4-lane road – about \\$1.25 million per mile.\n",
    ">* Expand an Interstate Highway from 4 lanes to 6 lanes – about \\$4 million per mile.\n",
    "\n",
    "There are also some [Generic Cost Per Mile Models](ftp://ftp.dot.state.fl.us/LTS/CO/Estimates/CPM/summary.pdf) put out by the Florida Department of Transportation (FDOT) that list some more precise example costs."
   ]
  },
  {
   "cell_type": "markdown",
   "metadata": {
    "slideshow": {
     "slide_type": "slide"
    }
   },
   "source": [
    "## Material Sources"
   ]
  },
  {
   "cell_type": "markdown",
   "metadata": {},
   "source": [
    "\n",
    "<audio controls data-autoplay preload>\n",
    " <source src=\"https://github.com/damontallen/Construction-materials/raw/master/Lecture_Audio/Week_4/Asphalt/Asphalt-Material%20Sources.mp3\"\n",
    "         type='audio/mp3'>\n",
    " <p>Your user agent does not support the HTML5 Audio element or the files is missing.</p>\n",
    "</audio>"
   ]
  },
  {
   "cell_type": "markdown",
   "metadata": {},
   "source": [
    "<a href = \"https://en.wikipedia.org/wiki/Asphalt_plant\"> <img src=\"https://upload.wikimedia.org/wikipedia/commons/thumb/1/1f/Lb-asphalt-plant-structure.jpg/760px-Lb-asphalt-plant-structure.jpg\" alt = \"Asphalt plant image\" Title=\"Asphalt Plant\"  style=\"max-width:200px; max-height:200px; border:1px solid blue; float:right; margin-left:10px;\"/></a>Asphalt is provided by suppliers at asphalt batch plants.  This is where they combine the asphalt left over from crude oil distillation with aggregate.  To do that they first need to liquify the asphalt.  It is either done by heating the asphalt, dissolving the asphalt with a solvent, or emulsifying it with water.  Once the asphalt is liquid, the aggregate is mixed in.  It is then trucked to the road construction site.\n",
    "\n",
    "*([Simple video](https://www.youtube.com/watch?v=jopbWAAi2ik) about asphalt paving by How it is Made.  I cannot say anything for their camera work.)"
   ]
  },
  {
   "cell_type": "markdown",
   "metadata": {
    "slideshow": {
     "slide_type": "slide"
    }
   },
   "source": [
    "## Examples of Installation Tools"
   ]
  },
  {
   "cell_type": "markdown",
   "metadata": {},
   "source": [
    "\n",
    "<audio controls data-autoplay preload>\n",
    " <source src=\"https://github.com/damontallen/Construction-materials/raw/master/Lecture_Audio/Week_4/Asphalt/Asphalt-Examples%20of%20Installation%20Tools.mp3\"\n",
    "         type='audio/mp3'>\n",
    " <p>Your user agent does not support the HTML5 Audio element or the files is missing.</p>\n",
    "</audio>"
   ]
  },
  {
   "cell_type": "markdown",
   "metadata": {},
   "source": [
    "<a href = \"https://en.wikipedia.org/wiki/Paver_%28vehicle%29\"> <img src=\"https://upload.wikimedia.org/wikipedia/commons/thumb/7/76/AF-asphalt-laying-machine.jpg/500px-AF-asphalt-laying-machine.jpg\" alt = \"Asphalt paver image\" Title=\"Asphalt Paver\"  style=\"max-width:200px; max-height:200px; border:1px solid blue; float:left; margin-right:10px;\"/></a><a href = \"https://en.wikipedia.org/wiki/Road\"> <img src=\"https://upload.wikimedia.org/wikipedia/commons/thumb/4/4d/Road_building-Hungary-1.jpg/440px-Road_building-Hungary-1.jpg\" alt = \"Road roller image\" Title=\"Road Roller\"  style=\"max-width:200px; max-height:200px; border:1px solid blue; float:left; margin-right:10px;\"/></a><a href = \"https://en.wikipedia.org/wiki/Road\"> <img src=\"https://upload.wikimedia.org/wikipedia/en/thumb/1/19/Motorway_construction_in_Ireland.JPG/440px-Motorway_construction_in_Ireland.JPG\" alt = \"Road paving construction image\" Title=\"Road Construction\"  style=\"max-width:200px; max-height:200px; border:1px solid blue; float:left; margin-right:10px;\"/></a>\n",
    "Though you are unlikely to be installing any asphalt pavement personally, if you did, you are likely to need a way to spread it, and a way to compact it.  There is also extensive work necessary in the preparation of the surface below the top layer.  This is not something you can really do without a contractor if the paving is going support vehicular traffic.\n",
    "\n",
    "Finally the CSI number for pavement in the MasterFormat is in division 2 and starts at [02700](http://www.constructionnotebook.com/ipin2/MFDivisions.asp?Start=02700&End=02800).\n"
   ]
  },
  {
   "cell_type": "markdown",
   "metadata": {},
   "source": [
    "### Update\n",
    "\n",
    "<a href = \"http://www.gizmag.com/addibot-3d-printer-roads/41425/\"> <img src=\"http://img.gizmag.com/addibot-1.jpg?auto=format&ch=Width%2CDPR&fit=crop&h=394&q=60&rect=0%2C420%2C959%2C540&w=700&s=9b8828e2719f1f1b482d3b578203f359\" alt = \"Addibot image\" Title=\"Addibot\"  style=\"max-width:200px; max-height:200px; border:1px solid blue; float:left; margin-right:10px;\"/></a>\n",
    "A new robot / mobile 3D printer is being developed to autonomously drive around repairing the roads while the damage is still minor. [Addibot](http://www.addibots.com/products) is definitely a robot that could save money, since repairing small defects is far cheaper than waiting until they have become large problems.  There is an optimum time in the life-cycle of a road when maintenance would be cheapest.  However it is typically when the road does not seems to need work and if DOT was repairing roads then people would say they are wasting money.  This is unfortunate since it would actually cost less in the long term.  A robot like this could do small repairs, at the optimum time, and not be expensive to operate late at night when there isn't much traffic.  There is a lot of promise here."
   ]
  },
  {
   "cell_type": "markdown",
   "metadata": {
    "slideshow": {
     "slide_type": "slide"
    }
   },
   "source": [
    "# References"
   ]
  },
  {
   "cell_type": "markdown",
   "metadata": {},
   "source": [
    "[UF Class website](https://ufl.instructure.com/courses/) \n",
    "\n",
    "[Github.io version of course website](http://damontallen.github.io/Construction-materials/) *(Do not use this link if you are taking this course in Summer A or B.)*\n",
    "\n",
    "\n",
    "[IPython.org](http://ipython.org/) *(IPython is the opensource software used in the development of much of this course.)*\n",
    "\n",
    "[Complete Software List](http://nbviewer.ipython.org/github/damontallen/Construction-materials/blob/master/Resources.ipynb)\n",
    "\n",
    "## Report any problems\n",
    "\n",
    "[Issues](https://github.com/damontallen/Construction-materials/issues) Please report any problems that occurred during the viewing of this or any other lecture.\n",
    "\n",
    "Alternative Reporting - Email <a href=\"mailto:damontallen@gmail.com?Subject=Construction%20Materials%20Lecture%20Problems\" target=\"_top\">damontallen@gmail.com</a>"
   ]
  }
 ],
 "metadata": {
  "celltoolbar": "Slideshow",
  "kernelspec": {
   "display_name": "Python 3",
   "language": "python",
   "name": "python3"
  },
  "language_info": {
   "codemirror_mode": {
    "name": "ipython",
    "version": 3
   },
   "file_extension": ".py",
   "mimetype": "text/x-python",
   "name": "python",
   "nbconvert_exporter": "python",
   "pygments_lexer": "ipython3",
   "version": "3.4.3+"
  }
 },
 "nbformat": 4,
 "nbformat_minor": 0
}
