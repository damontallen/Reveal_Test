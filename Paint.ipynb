{
 "cells": [
  {
   "cell_type": "markdown",
   "metadata": {
    "slideshow": {
     "slide_type": "slide"
    }
   },
   "source": [
    "# Paint"
   ]
  },
  {
   "cell_type": "markdown",
   "metadata": {
    "slideshow": {
     "slide_type": "-"
    }
   },
   "source": [
    "<p><iframe width=\"420\" height=\"315\" src=\"//www.youtube.com/embed/l8q5ceY9MKo\" frameborder=\"0\" allowfullscreen></iframe></p>"
   ]
  },
  {
   "cell_type": "markdown",
   "metadata": {
    "slideshow": {
     "slide_type": "slide"
    }
   },
   "source": [
    "## Introduction"
   ]
  },
  {
   "cell_type": "markdown",
   "metadata": {},
   "source": [
    "\n",
    "<audio controls data-autoplay preload>\n",
    " <source src=\"https://github.com/damontallen/Construction-materials/raw/master/Lecture_Audio/Week_11/Paint/Paint-Introduction.mp3\"\n",
    "         type='audio/mp3'>\n",
    " <p>Your user agent does not support the HTML5 Audio element or the files is missing.</p>\n",
    "</audio>"
   ]
  },
  {
   "cell_type": "markdown",
   "metadata": {},
   "source": [
    "The order of this lecture is based on the order of your thought process when deciding to [paint](https://en.wikipedia.org/wiki/Paint).  Thinking about painting is backward from actually painting since you have to have the final product in mind first, and then investigate what is needed to accomplish it.  \n",
    "\n",
    "There is evidence that humans have been using paint for at least 100,000 years.  I could go into the history a little, but with the changes that have occurred since the industrial revolution, and later, most of what I would cover would be irrelevant.  For instance, before writing this, I reviewed “1995 Paint Questions Answered” &copy; 1919 (1995 in this case refers to the number of questions and not the year) and was somewhat surprised just how much is not done today.  I'm not saying, “Paint for Banner Work (#811)” might not be useful, but I don't think there's much of a call for painting on silk anymore.  I admit I am not really up to date on banner painting, but I'm sticking with my gut on this one.\n",
    "\n",
    "I will point out that if you are working on a historic project, it is useful to have an old references text for matching techniques, and appearance but beyond that… Paint has come a very long way, including the recent elimination of the use of lead from most paints and additives as an ultraviolet protection.  Anyway let's get started."
   ]
  },
  {
   "cell_type": "markdown",
   "metadata": {
    "slideshow": {
     "slide_type": "slide"
    }
   },
   "source": [
    "## Finish Types"
   ]
  },
  {
   "cell_type": "markdown",
   "metadata": {},
   "source": [
    "\n",
    "<audio controls data-autoplay preload>\n",
    " <source src=\"https://github.com/damontallen/Construction-materials/raw/master/Lecture_Audio/Week_11/Paint/Paint-Finish-Types.mp3\"\n",
    "         type='audio/mp3'>\n",
    " <p>Your user agent does not support the HTML5 Audio element or the files is missing.</p>\n",
    "</audio>"
   ]
  },
  {
   "cell_type": "markdown",
   "metadata": {},
   "source": [
    "<a href = \"https://en.wikipedia.org/wiki/Paint\"> <img src=\"https://upload.wikimedia.org/wikipedia/commons/thumb/b/bd/EWM_paint_2007.jpg/300px-EWM_paint_2007.jpg\" alt = \"Paints image\" Title=\"Paint\"  style=\"max-width:300px; max-height:300px; border:1px solid blue; float:right; margin-left:10px;\"/></a>\n",
    "There are three or four (depending on how you count) types of finishes you can achieve with paint.  These include a flat or matte finish, semi-gloss also sometimes called eggshell, gloss, and transparent.  The last of these is often not considered a painted finish, but due to the similarity of application, and purpose, it is going to be included here.\n",
    "\n",
    "Flat finishes are excellent for creating even lighting conditions in a space.  Unlike all the other finishes a flat finish will not reflect a light source so they reduce glare.  Flat finishes create soft lighting conditions which are pleasing to the eye.  \n",
    "\n",
    "The drawback of flat paints is that the painted surface is generally less durable than a gloss, or semi-gloss finish, and is more prone to accumulating dirt.  For this reason flat finishes should be limited to light-duty areas such as small private offices, living rooms, or adult bedrooms.\n",
    "\n",
    "Semi-gloss is as you might expect, somewhere between gloss and flat finishes.  It is more durable than flat finishes, but still not durable enough to be applied on horizontal surfaces below the ceiling.  When applying this finish, it may not look right initially; it may be too glossy.  This has to do with some versions of the semi-gloss paints' drying processes, and should be given at least a few days before making a determination on whether, or not, the surface needs to have a different finish.\n",
    "\n",
    "Because of the increased durability of semi-gloss it can be cleaned more easily.  This means it can be used in higher traffic areas such as private corridors, larger offices, entry ways, and children's rooms.  It will have some glare caused by reflected light, so if that is a problem, it should only be used in areas where furnishings can be used to block direct glare.\n",
    "\n",
    "Gloss finishes are the most durable, and as such, horizontal surfaces will generally by glossy.  Floors that are painted will typically be glossy due to the resistance to cleaners, and abrasion.  Not every glossy paint will satisfy these requirements, but the paints that do will be glossy.  \n",
    "\n",
    "Due to the need for regular cleaning, areas that have high amounts of moisture, grease, or other airborne contaminants, are considered heavy-duty conditions for a paint, and should have gloss finishes (or at least semi-gloss).  Areas like kitchens, bathrooms, recreation rooms, public corridors, apartments or other public spaces should be considered to be heavy-duty for painted surfaces.\n",
    "\n",
    "Transparent finishes can fall into any of the previous categories.  Depending on the material used, a transparent finish can be used for a floor finish, or a finish around windows and doors.  Even though transparent finishes are generally used over wood, they can be used over stone, and I have even heard of a thick layer of clear epoxy being used as a primary wear surface over river rock gravel in a decorative floor.\n",
    "\n",
    "If a transparent finish is used over wood, it can be built up from multiple layers.  A top clear layer and a color or stain layer beneath, or the finish can consist of a blend of color and clear, or it can just be a couple clear layers over wood.  There are more details to what makes up transparent finishes over wood, but that is all you need to know for now.\n"
   ]
  },
  {
   "cell_type": "markdown",
   "metadata": {
    "slideshow": {
     "slide_type": "slide"
    }
   },
   "source": [
    "## Paint Types"
   ]
  },
  {
   "cell_type": "markdown",
   "metadata": {},
   "source": [
    "\n",
    "<audio controls data-autoplay preload>\n",
    " <source src=\"https://github.com/damontallen/Construction-materials/raw/master/Lecture_Audio/Week_11/Paint/Paint-Paint-Types.mp3\"\n",
    "         type='audio/mp3'>\n",
    " <p>Your user agent does not support the HTML5 Audio element or the files is missing.</p>\n",
    "</audio>"
   ]
  },
  {
   "cell_type": "markdown",
   "metadata": {},
   "source": [
    "When talking about paint types, you need to specify to the type of binder used in the paint.  The most common types of binders are oil-based, acrylic, latex, and epoxies.  These are by no means the only binders the can be used, but they are the most common in construction.  Oil-based paints consist of a pigment suspended in a drying oil like [linseed oil](https://en.wikipedia.org/wiki/Linseed_oil).  Drying oils are a type of oil that forms cross-link bonds when exposed to air.  This is not the same as drying, and does not have to do with the evaporation of any solvent present.  That being said, it is important to have adequate ventilation when using oil-based paints.  This type of paint is slow to dry and it is important to only apply it when the environmental conditions are going to be conducive to the drying process.  The advantage of oil paint is that it is generally very durable, and it leaves a smooth finish.  One additional problem with oil paint is that it can crack with age.\n",
    "\n",
    "Acrylic paint uses water for the solvent, which means you only need soap and water to clean up.  When the water evaporates the acrylic particles bind together in a polymerization process.  The drying process is much quicker than with oil paint, and in recent years the formulation of acrylic paint has improved leading to a durability that approaches that of oil without the risk of cracking.\n",
    "\n",
    "Latex paint is actually a misnomer; there is no latex in latex paint.  The term used in the United States to refers to any paint that is water based.  That means the acrylic paint will often be called latex-acrylic.  Another type of paint that is referred to as latex uses vinyl as a binder.  Vinyl is more susceptible to damage from ultraviolet light, and generally results in a weaker finish.  However vinyl is cheaper than acrylic, and that is why it is still fairly common.\n",
    "\n",
    "Epoxy paint is a two part system that is mixed together right before application.  Epoxy paints are very durable, and cure into cross-linked polymer films.  They provide excellent chemical resistance, good solvent resistance, good acid resistance, and very good abrasion resistance.  On the down side, they are difficult to clean up, and can be very expensive.  Additionally, they can be brittle, and are susceptible to ultraviolet damage.  \n",
    "\n",
    "There is another type of binder known as urethane (as in polyurethane).  It is also very durable, but more generally used in painting metal surfaces.  It is common in high wear areas like handrails, but it is not the only type of paint used on handrails."
   ]
  },
  {
   "cell_type": "markdown",
   "metadata": {
    "slideshow": {
     "slide_type": "slide"
    }
   },
   "source": [
    "## Surface Considerations"
   ]
  },
  {
   "cell_type": "markdown",
   "metadata": {},
   "source": [
    "\n",
    "<audio controls data-autoplay preload>\n",
    " <source src=\"https://github.com/damontallen/Construction-materials/raw/master/Lecture_Audio/Week_11/Paint/Paint-Surface-Considerations.mp3\"\n",
    "         type='audio/mp3'>\n",
    " <p>Your user agent does not support the HTML5 Audio element or the files is missing.</p>\n",
    "</audio>"
   ]
  },
  {
   "cell_type": "markdown",
   "metadata": {},
   "source": [
    "For interior surfaces like walls, and ceilings, your are likely to be painting over one of three surfaces, paper, plaster, or masonry.  Both plaster, and masonry, are going to chemically similar to concrete, so on the off chance that you are painting a concrete wall, or ceiling you can just use the same material.  That is not to say that there can't be differences.  For instance if the concrete is below grade, and you have moisture issues, but if that is the case, then consider using simular material as that used with floors.  \n",
    "\n",
    "Now, you are may be wondering what I meant when I said paper.  In this case I am referring to the paper covering of drywall, and not wallpaper which is now commonly a vinyl product.  In any case, when we are considering surface conditions, we are really are considering what type of primer is needed.  Primer is a type of paint that serves as a bonding agent between the surface material, and the top layer of paint.  The type of primer used will also depend on whether the surface is interior, or exterior.  That is to say, will the final painted surface be regularly exposed to ultraviolet, rain, and cold, or will it likely be exposed to cleaners, and abrasion regularly?  \n",
    "\n",
    "For plaster, and paper in the interior of a building the you are more likely going to be looking at a water based primer, though if your topcoat is going to be oil-based then there are some primers that are oil based that will work.  However, some modern formulations of water based primers will support a oil based topcoat.  One concern that should be addressed is that masonry walls can be very porous, and it may be necessary to use a block filler, or cement grout to fill the voids prior to priming.\n",
    "\n",
    "The trim that surrounds the openings in the interior of a building is likely to be either wood, or metal.  Both of these surfaces are likely to need a primer that is not water based.  Water will raise the grain of wood making it rough, and water can also cause damage to metal.  Once the primer is dry, an acrylic topcoat can be used, but it may be better, for the metal at least, to go with an oil topcoat.  The reason for this is trim is more likely to get cleaned on a regular basis, and thus it will need added durability.  \n",
    "\n",
    "As for floors we at only really need to consider concrete, and wood.  Metal floors do exist, but then there are likely additional considerations that need to be accounted for, like chemical exposure, and extreme wear.  Both of these may necessitate the use of special treatment.  For a concrete floor that is going to have regular exposure to water, you do not want to use a water based paint.  This has also been true for wood floors.  However, again in resent years there have been improvements in water based paints, and some have proven adequate for the job.  The topcoat that is currently most common is called [enamel](https://en.wikipedia.org/wiki/Enamel_paint) paint.  These paints are [alkyd](https://en.wikipedia.org/wiki/Alkyd) based (a type of oil paint), and are generally glossy.\n",
    "\n",
    "As an alternative to enamel on wood floors, you may end up using a transparent finish like polyurethane.  If that is the case then, depending on the desired final result, you may be applying a stain to the floor first.  It is also likely that some preparation will need to be done to the floor in the way of filling small holes, and defects.  Any filler used will need to have time to dry, and then be sanded smooth prior to additional finishing.  Some fillers may need to be applied after the stain, and first coat of polyurethane, is applied.  The reason for this is that some fillers will not absorb stain to the same degree as wood, and it will likely that a slightly different formulation of stain to achieve a similar appearance.  \n",
    "\n",
    "[Stain](https://en.wikipedia.org/wiki/Wood_stain) is generally a solvent (not water) based product that contains a color that is not opaque.  If the wood is not [sealed](https://en.wikipedia.org/wiki/Sealant#Types_of_sealants) prior to applying the stain, the stain may not absorb evenly and the final product may end up with a blotchy finish (test a few samples prior to settling on the final procedure).\n",
    "\n"
   ]
  },
  {
   "cell_type": "markdown",
   "metadata": {
    "slideshow": {
     "slide_type": "slide"
    }
   },
   "source": [
    "## Exterior"
   ]
  },
  {
   "cell_type": "markdown",
   "metadata": {},
   "source": [
    "\n",
    "<audio controls data-autoplay preload>\n",
    " <source src=\"https://github.com/damontallen/Construction-materials/raw/master/Lecture_Audio/Week_11/Paint/Paint-Exterior.mp3\"\n",
    "         type='audio/mp3'>\n",
    " <p>Your user agent does not support the HTML5 Audio element or the files is missing.</p>\n",
    "</audio>"
   ]
  },
  {
   "cell_type": "markdown",
   "metadata": {},
   "source": [
    "Paints on exterior walls, and roofs, are going to have different demands placed on them than the paints, and coatings that are not exposed to sun, and rain.  The differences can be seen in both the surface preparations, and final coat.  For instance a metal roof may require specialty paint that includes metal particulates.  It also may need to be treated with an acid instead of a regular primer.  However, you are just as likely to be looking at an oil-base primer, and paint.  \n",
    "\n",
    "If you are working on wooden exterior wall surfaces, you are also likely going to be using an oil-based primer.  Though, again, this has become less of a certainty in recent years with advances in water based paints.  However, you will likely need an oil-based finish if knots or stains are present on the surface of the wood.\n",
    "\n",
    "For masonry, and concrete, you could be using almost anything, but the more water that needs to be resisted, the more durable the paint coating will need to be.  There are even special coatings that may need to be used if the concrete, or masonry, is going to be below grade.  Not all concrete, or masonry, surfaces below grade need to be coated, only the ones that need to have have a moisture retarder applied.\n",
    "\n",
    "With that you should be be ready to start reading.  One last thing that is not covered in your text; [shellac](https://en.wikipedia.org/wiki/Shellac), it is a natural product that comes from an insect.  It is not used in construction much anymore, but it may be needed in a historic project in order to match an existing interior wood finish.  The solvent used with shellac is denatured alcohol ([video covering mixing](https://www.youtube.com/watch?v=1PC2m-ul5AE))."
   ]
  },
  {
   "cell_type": "markdown",
   "metadata": {
    "slideshow": {
     "slide_type": "slide"
    }
   },
   "source": [
    "# References"
   ]
  },
  {
   "cell_type": "markdown",
   "metadata": {},
   "source": [
    "[UF Class website](https://ufl.instructure.com/courses/) \n",
    "\n",
    "[Github.io version of course website](http://damontallen.github.io/Construction-materials/) *(Do not use this link if you are taking this course in Summer A or B.)*\n",
    "\n",
    "\n",
    "[IPython.org](http://ipython.org/) *(IPython is the opensource software used in the development of much of this course.)*\n",
    "\n",
    "[Complete Software List](http://nbviewer.ipython.org/github/damontallen/Construction-materials/blob/master/Resources.ipynb)\n",
    "\n",
    "## Report any problems\n",
    "\n",
    "[Issues](https://github.com/damontallen/Construction-materials/issues) Please report any problems that occurred during the viewing of this or any other lecture.\n",
    "\n",
    "Alternative Reporting - Email <a href=\"mailto:damontallen@gmail.com?Subject=Construction%20Materials%20Lecture%20Problems\" target=\"_top\">damontallen@gmail.com</a>"
   ]
  },
  {
   "cell_type": "markdown",
   "metadata": {
    "slideshow": {
     "slide_type": "skip"
    }
   },
   "source": [
    "## Additional References"
   ]
  },
  {
   "cell_type": "markdown",
   "metadata": {
    "slideshow": {
     "slide_type": "skip"
    }
   },
   "source": [
    "Wikipedia:\n",
    "\n",
    "* [Oil Paint](https://en.wikipedia.org/wiki/Oil_paint)\n",
    "* [Drying Oil](https://en.wikipedia.org/wiki/Drying_oil)\n",
    "* [Acrylic Paint](https://en.wikipedia.org/wiki/Acrylic_paint)\n",
    "* [Emulsion Polymerization](https://en.wikipedia.org/wiki/Emulsion_polymerization)\n",
    "\n",
    "Other Sources:\n",
    "\n",
    "* [DIY Stackexchange](http://diy.stackexchange.com/questions/4669/whats-the-practical-difference-between-latex-and-acrylic-water-dispersion-p)\n",
    "* [Home Depot](http://www.homedepot.com/c/exterior_paint_buying_guide_HT_BG_PA)\n"
   ]
  }
 ],
 "metadata": {
  "celltoolbar": "Slideshow",
  "kernelspec": {
   "display_name": "Python 3",
   "language": "python",
   "name": "python3"
  },
  "language_info": {
   "codemirror_mode": {
    "name": "ipython",
    "version": 3
   },
   "file_extension": ".py",
   "mimetype": "text/x-python",
   "name": "python",
   "nbconvert_exporter": "python",
   "pygments_lexer": "ipython3",
   "version": "3.4.3"
  }
 },
 "nbformat": 4,
 "nbformat_minor": 0
}
